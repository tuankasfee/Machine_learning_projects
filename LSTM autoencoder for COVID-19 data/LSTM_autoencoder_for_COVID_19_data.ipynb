{
  "cells": [
    {
      "cell_type": "markdown",
      "source": [
        "# LSTM autoencoder for COVID-19 data in UK"
      ],
      "metadata": {
        "id": "U2ZIGnZpjNNv"
      }
    },
    {
      "cell_type": "code",
      "execution_count": 1,
      "metadata": {
        "id": "DfexF3Xf2ut4"
      },
      "outputs": [],
      "source": [
        "# lstm autoencoder to recreate a timeseries\n",
        "import numpy as np\n",
        "from tensorflow.keras.models import Sequential, Model \n",
        "from tensorflow.keras.layers import LSTM\n",
        "from tensorflow.keras.layers import Dense\n",
        "from tensorflow.keras.layers import RepeatVector\n",
        "from tensorflow.keras.layers import TimeDistributed\n",
        "'''\n",
        "A UDF to convert input data into 3-D\n",
        "array as required for LSTM network.\n",
        "'''"
      ]
    },
    {
      "cell_type": "code",
      "execution_count": 2,
      "metadata": {
        "id": "bkaC4TpmxLn5"
      },
      "outputs": [],
      "source": [
        "import pandas as pd\n",
        "data = pd.read_csv('data.csv')"
      ]
    },
    {
      "cell_type": "code",
      "execution_count": 3,
      "metadata": {
        "colab": {
          "base_uri": "https://localhost:8080/"
        },
        "id": "ZfYNroWUxb2J",
        "outputId": "351dedd0-1bc7-4bfc-e7a1-53c0881bcabe"
      },
      "outputs": [
        {
          "output_type": "execute_result",
          "data": {
            "text/plain": [
              "array([[11.25544923,  3.17805383],\n",
              "       [11.13996143,  4.12713439],\n",
              "       [10.87981921,  4.41884061],\n",
              "       ...,\n",
              "       [ 3.49650756,  0.        ],\n",
              "       [ 2.48490665,  1.09861229],\n",
              "       [ 1.60943791,  0.69314718]])"
            ]
          },
          "metadata": {},
          "execution_count": 3
        }
      ],
      "source": [
        "# define input timeseries\n",
        "timeseries = np.log(data.values +1)\n",
        "\n",
        "timesteps = timeseries.shape[0]\n",
        "n_features = timeseries.shape[1]\n",
        "timeseries"
      ]
    },
    {
      "cell_type": "code",
      "source": [
        "# create temporal dataset\n",
        "def temporalize(X, y, lookback):\n",
        "    output_X = []\n",
        "    output_y = []\n",
        "    for i in range(len(X)-lookback-1):\n",
        "        t = []\n",
        "        for j in range(1,lookback+1):\n",
        "            # Gather past records upto the lookback period\n",
        "            t.append(X[[(i+j+1)], :])\n",
        "        output_X.append(t)\n",
        "        output_y.append(y[i+lookback+1])\n",
        "    return output_X, output_y"
      ],
      "metadata": {
        "id": "cpEkzEUDjaXd"
      },
      "execution_count": null,
      "outputs": []
    },
    {
      "cell_type": "code",
      "execution_count": 44,
      "metadata": {
        "colab": {
          "base_uri": "https://localhost:8080/"
        },
        "id": "u9jmUPlDCCrC",
        "outputId": "d248b69f-2bcb-45eb-e94a-b1fbfbf8eacf"
      },
      "outputs": [
        {
          "output_type": "execute_result",
          "data": {
            "text/plain": [
              "array([[[10.87981921,  4.41884061],\n",
              "        [10.71290551,  4.29045944],\n",
              "        [10.61432729,  4.49980967],\n",
              "        ...,\n",
              "        [10.79771671,  4.35670883],\n",
              "        [10.68168794,  4.55387689],\n",
              "        [10.69239936,  4.46590812]],\n",
              "\n",
              "       [[10.71290551,  4.29045944],\n",
              "        [10.61432729,  4.49980967],\n",
              "        [10.79016408,  4.30406509],\n",
              "        ...,\n",
              "        [10.68168794,  4.55387689],\n",
              "        [10.69239936,  4.46590812],\n",
              "        [10.56790084,  4.52178858]],\n",
              "\n",
              "       [[10.61432729,  4.49980967],\n",
              "        [10.79016408,  4.30406509],\n",
              "        [10.79771671,  4.35670883],\n",
              "        ...,\n",
              "        [10.69239936,  4.46590812],\n",
              "        [10.56790084,  4.52178858],\n",
              "        [10.63407502,  4.66343909]],\n",
              "\n",
              "       ...,\n",
              "\n",
              "       [[ 3.8501476 ,  1.38629436],\n",
              "        [ 3.71357207,  1.79175947],\n",
              "        [ 4.07753744,  1.38629436],\n",
              "        ...,\n",
              "        [ 3.68887945,  0.        ],\n",
              "        [ 3.25809654,  1.38629436],\n",
              "        [ 3.49650756,  0.        ]],\n",
              "\n",
              "       [[ 3.71357207,  1.79175947],\n",
              "        [ 4.07753744,  1.38629436],\n",
              "        [ 3.68887945,  0.        ],\n",
              "        ...,\n",
              "        [ 3.25809654,  1.38629436],\n",
              "        [ 3.49650756,  0.        ],\n",
              "        [ 2.48490665,  1.09861229]],\n",
              "\n",
              "       [[ 4.07753744,  1.38629436],\n",
              "        [ 3.68887945,  0.        ],\n",
              "        [ 3.68887945,  0.        ],\n",
              "        ...,\n",
              "        [ 3.49650756,  0.        ],\n",
              "        [ 2.48490665,  1.09861229],\n",
              "        [ 1.60943791,  0.69314718]]])"
            ]
          },
          "metadata": {},
          "execution_count": 44
        }
      ],
      "source": [
        "timesteps = 7\n",
        "X, y = temporalize(X = timeseries, y = np.zeros(len(timeseries)), lookback = timesteps)\n",
        "\n",
        "n_features = 2\n",
        "X = np.array(X)\n",
        "X = X.reshape(X.shape[0], timesteps, n_features)\n",
        "\n",
        "X"
      ]
    },
    {
      "cell_type": "code",
      "execution_count": 35,
      "metadata": {
        "colab": {
          "base_uri": "https://localhost:8080/"
        },
        "id": "R1SmPirj-hjh",
        "outputId": "5b473953-0092-47ed-8654-0bdcd833c313"
      },
      "outputs": [
        {
          "output_type": "stream",
          "name": "stdout",
          "text": [
            "Model: \"sequential_1\"\n",
            "_________________________________________________________________\n",
            " Layer (type)                Output Shape              Param #   \n",
            "=================================================================\n",
            " lstm_6 (LSTM)               (None, 7, 256)            265216    \n",
            "                                                                 \n",
            " lstm_7 (LSTM)               (None, 7, 128)            197120    \n",
            "                                                                 \n",
            " lstm_8 (LSTM)               (None, 7, 64)             49408     \n",
            "                                                                 \n",
            " lstm_9 (LSTM)               (None, 32)                12416     \n",
            "                                                                 \n",
            " repeat_vector_1 (RepeatVect  (None, 7, 32)            0         \n",
            " or)                                                             \n",
            "                                                                 \n",
            " lstm_10 (LSTM)              (None, 7, 32)             8320      \n",
            "                                                                 \n",
            " lstm_11 (LSTM)              (None, 7, 64)             24832     \n",
            "                                                                 \n",
            " lstm_12 (LSTM)              (None, 7, 128)            98816     \n",
            "                                                                 \n",
            " lstm_13 (LSTM)              (None, 7, 256)            394240    \n",
            "                                                                 \n",
            " time_distributed_1 (TimeDis  (None, 7, 2)             514       \n",
            " tributed)                                                       \n",
            "                                                                 \n",
            "=================================================================\n",
            "Total params: 1,050,882\n",
            "Trainable params: 1,050,882\n",
            "Non-trainable params: 0\n",
            "_________________________________________________________________\n"
          ]
        }
      ],
      "source": [
        "# define model\n",
        "model = Sequential()\n",
        "model.add(LSTM(256, activation='relu', input_shape=(timesteps,n_features), return_sequences=True))\n",
        "model.add(LSTM(128, activation='relu', return_sequences=True))\n",
        "model.add(LSTM(64, activation='relu', return_sequences=True))\n",
        "model.add(LSTM(32, activation='relu', return_sequences=False))\n",
        "model.add(RepeatVector(timesteps))\n",
        "model.add(LSTM(32, activation='relu', return_sequences=True))\n",
        "model.add(LSTM(64, activation='relu', return_sequences=True))\n",
        "model.add(LSTM(128, activation='relu', return_sequences=True))\n",
        "model.add(LSTM(256, activation='relu', return_sequences=True))\n",
        "model.add(TimeDistributed(Dense(n_features)))\n",
        "model.compile(optimizer='adam', loss='mse')\n",
        "model.summary()"
      ]
    },
    {
      "cell_type": "code",
      "execution_count": 46,
      "metadata": {
        "colab": {
          "base_uri": "https://localhost:8080/"
        },
        "id": "x8kyJZD-9FgH",
        "outputId": "186bc03f-241e-49f1-b95d-17c27722c60c"
      },
      "outputs": [
        {
          "output_type": "stream",
          "name": "stdout",
          "text": [
            "Epoch 1/100\n",
            "41/41 [==============================] - 6s 154ms/step - loss: 0.0445\n",
            "Epoch 2/100\n",
            "41/41 [==============================] - 4s 104ms/step - loss: 0.0566\n",
            "Epoch 3/100\n",
            "41/41 [==============================] - 4s 89ms/step - loss: 0.0552\n",
            "Epoch 4/100\n",
            "41/41 [==============================] - 4s 88ms/step - loss: 0.0464\n",
            "Epoch 5/100\n",
            "41/41 [==============================] - 4s 88ms/step - loss: 0.0504\n",
            "Epoch 6/100\n",
            "41/41 [==============================] - 4s 90ms/step - loss: 0.0511\n",
            "Epoch 7/100\n",
            "41/41 [==============================] - 4s 88ms/step - loss: 0.0639\n",
            "Epoch 8/100\n",
            "41/41 [==============================] - 4s 89ms/step - loss: 0.0511\n",
            "Epoch 9/100\n",
            "41/41 [==============================] - 4s 89ms/step - loss: 0.0430\n",
            "Epoch 10/100\n",
            "41/41 [==============================] - 4s 88ms/step - loss: 0.0497\n",
            "Epoch 11/100\n",
            "41/41 [==============================] - 4s 88ms/step - loss: 0.0527\n",
            "Epoch 12/100\n",
            "41/41 [==============================] - 4s 89ms/step - loss: 0.0500\n",
            "Epoch 13/100\n",
            "41/41 [==============================] - 4s 89ms/step - loss: 0.0419\n",
            "Epoch 14/100\n",
            "41/41 [==============================] - 4s 89ms/step - loss: 0.0448\n",
            "Epoch 15/100\n",
            "41/41 [==============================] - 4s 87ms/step - loss: 0.0512\n",
            "Epoch 16/100\n",
            "41/41 [==============================] - 4s 109ms/step - loss: 0.0453\n",
            "Epoch 17/100\n",
            "41/41 [==============================] - 4s 89ms/step - loss: 0.0496\n",
            "Epoch 18/100\n",
            "41/41 [==============================] - 4s 90ms/step - loss: 0.0442\n",
            "Epoch 19/100\n",
            "41/41 [==============================] - 4s 89ms/step - loss: 0.0473\n",
            "Epoch 20/100\n",
            "41/41 [==============================] - 4s 90ms/step - loss: 0.0508\n",
            "Epoch 21/100\n",
            "41/41 [==============================] - 4s 89ms/step - loss: 0.0443\n",
            "Epoch 22/100\n",
            "41/41 [==============================] - 4s 91ms/step - loss: 0.0443\n",
            "Epoch 23/100\n",
            "41/41 [==============================] - 4s 91ms/step - loss: 0.0437\n",
            "Epoch 24/100\n",
            "41/41 [==============================] - 4s 92ms/step - loss: 0.0442\n",
            "Epoch 25/100\n",
            "41/41 [==============================] - 4s 91ms/step - loss: 0.0612\n",
            "Epoch 26/100\n",
            "41/41 [==============================] - 4s 90ms/step - loss: 0.0694\n",
            "Epoch 27/100\n",
            "41/41 [==============================] - 4s 90ms/step - loss: 0.0575\n",
            "Epoch 28/100\n",
            "41/41 [==============================] - 4s 90ms/step - loss: 0.0448\n",
            "Epoch 29/100\n",
            "41/41 [==============================] - 4s 90ms/step - loss: 0.0457\n",
            "Epoch 30/100\n",
            "41/41 [==============================] - 4s 91ms/step - loss: 0.0434\n",
            "Epoch 31/100\n",
            "41/41 [==============================] - 4s 90ms/step - loss: 0.0487\n",
            "Epoch 32/100\n",
            "41/41 [==============================] - 4s 90ms/step - loss: 0.0445\n",
            "Epoch 33/100\n",
            "41/41 [==============================] - 4s 91ms/step - loss: 0.0519\n",
            "Epoch 34/100\n",
            "41/41 [==============================] - 4s 90ms/step - loss: 0.0447\n",
            "Epoch 35/100\n",
            "41/41 [==============================] - 4s 90ms/step - loss: 0.0504\n",
            "Epoch 36/100\n",
            "41/41 [==============================] - 4s 92ms/step - loss: 0.0459\n",
            "Epoch 37/100\n",
            "41/41 [==============================] - 4s 91ms/step - loss: 0.0425\n",
            "Epoch 38/100\n",
            "41/41 [==============================] - 4s 91ms/step - loss: 0.0422\n",
            "Epoch 39/100\n",
            "41/41 [==============================] - 4s 90ms/step - loss: 0.0466\n",
            "Epoch 40/100\n",
            "41/41 [==============================] - 4s 90ms/step - loss: 0.0572\n",
            "Epoch 41/100\n",
            "41/41 [==============================] - 4s 89ms/step - loss: 0.0893\n",
            "Epoch 42/100\n",
            "41/41 [==============================] - 4s 88ms/step - loss: 0.0564\n",
            "Epoch 43/100\n",
            "41/41 [==============================] - 4s 89ms/step - loss: 0.0487\n",
            "Epoch 44/100\n",
            "41/41 [==============================] - 5s 111ms/step - loss: 0.0431\n",
            "Epoch 45/100\n",
            "41/41 [==============================] - 4s 109ms/step - loss: 0.0488\n",
            "Epoch 46/100\n",
            "41/41 [==============================] - 4s 90ms/step - loss: 0.0574\n",
            "Epoch 47/100\n",
            "41/41 [==============================] - 4s 90ms/step - loss: 0.0474\n",
            "Epoch 48/100\n",
            "41/41 [==============================] - 4s 91ms/step - loss: 0.0462\n",
            "Epoch 49/100\n",
            "41/41 [==============================] - 4s 91ms/step - loss: 0.0404\n",
            "Epoch 50/100\n",
            "41/41 [==============================] - 4s 91ms/step - loss: 0.0468\n",
            "Epoch 51/100\n",
            "41/41 [==============================] - 4s 91ms/step - loss: 0.0445\n",
            "Epoch 52/100\n",
            "41/41 [==============================] - 4s 90ms/step - loss: 0.0420\n",
            "Epoch 53/100\n",
            "41/41 [==============================] - 4s 92ms/step - loss: 0.0426\n",
            "Epoch 54/100\n",
            "41/41 [==============================] - 4s 92ms/step - loss: 0.0413\n",
            "Epoch 55/100\n",
            "41/41 [==============================] - 4s 91ms/step - loss: 0.0398\n",
            "Epoch 56/100\n",
            "41/41 [==============================] - 4s 94ms/step - loss: 0.0448\n",
            "Epoch 57/100\n",
            "41/41 [==============================] - 4s 93ms/step - loss: 0.0422\n",
            "Epoch 58/100\n",
            "41/41 [==============================] - 4s 95ms/step - loss: 0.0423\n",
            "Epoch 59/100\n",
            "41/41 [==============================] - 4s 93ms/step - loss: 0.0408\n",
            "Epoch 60/100\n",
            "41/41 [==============================] - 4s 92ms/step - loss: 0.0417\n",
            "Epoch 61/100\n",
            "41/41 [==============================] - 4s 91ms/step - loss: 0.0443\n",
            "Epoch 62/100\n",
            "41/41 [==============================] - 4s 91ms/step - loss: 0.0478\n",
            "Epoch 63/100\n",
            "41/41 [==============================] - 4s 91ms/step - loss: 0.0415\n",
            "Epoch 64/100\n",
            "41/41 [==============================] - 4s 92ms/step - loss: 0.0421\n",
            "Epoch 65/100\n",
            "41/41 [==============================] - 4s 90ms/step - loss: 0.0533\n",
            "Epoch 66/100\n",
            "41/41 [==============================] - 4s 90ms/step - loss: 0.0442\n",
            "Epoch 67/100\n",
            "41/41 [==============================] - 4s 91ms/step - loss: 0.0460\n",
            "Epoch 68/100\n",
            "41/41 [==============================] - 4s 92ms/step - loss: 0.0528\n",
            "Epoch 69/100\n",
            "41/41 [==============================] - 4s 92ms/step - loss: 0.0451\n",
            "Epoch 70/100\n",
            "41/41 [==============================] - 4s 91ms/step - loss: 0.0457\n",
            "Epoch 71/100\n",
            "41/41 [==============================] - 4s 91ms/step - loss: 0.0424\n",
            "Epoch 72/100\n",
            "41/41 [==============================] - 4s 91ms/step - loss: 0.0401\n",
            "Epoch 73/100\n",
            "41/41 [==============================] - 4s 90ms/step - loss: 0.0392\n",
            "Epoch 74/100\n",
            "41/41 [==============================] - 4s 90ms/step - loss: 0.0446\n",
            "Epoch 75/100\n",
            "41/41 [==============================] - 4s 90ms/step - loss: 0.0413\n",
            "Epoch 76/100\n",
            "41/41 [==============================] - 4s 91ms/step - loss: 0.0423\n",
            "Epoch 77/100\n",
            "41/41 [==============================] - 4s 90ms/step - loss: 0.0474\n",
            "Epoch 78/100\n",
            "41/41 [==============================] - 4s 92ms/step - loss: 0.0423\n",
            "Epoch 79/100\n",
            "41/41 [==============================] - 4s 91ms/step - loss: 0.0422\n",
            "Epoch 80/100\n",
            "41/41 [==============================] - 4s 92ms/step - loss: 0.0496\n",
            "Epoch 81/100\n",
            "41/41 [==============================] - 4s 92ms/step - loss: 0.0557\n",
            "Epoch 82/100\n",
            "41/41 [==============================] - 4s 91ms/step - loss: 0.0583\n",
            "Epoch 83/100\n",
            "41/41 [==============================] - 4s 92ms/step - loss: 0.0480\n",
            "Epoch 84/100\n",
            "41/41 [==============================] - 4s 91ms/step - loss: 0.0413\n",
            "Epoch 85/100\n",
            "41/41 [==============================] - 4s 90ms/step - loss: 0.0467\n",
            "Epoch 86/100\n",
            "41/41 [==============================] - 4s 92ms/step - loss: 0.0421\n",
            "Epoch 87/100\n",
            "41/41 [==============================] - 4s 90ms/step - loss: 0.0391\n",
            "Epoch 88/100\n",
            "41/41 [==============================] - 4s 91ms/step - loss: 0.0430\n",
            "Epoch 89/100\n",
            "41/41 [==============================] - 4s 90ms/step - loss: 0.0390\n",
            "Epoch 90/100\n",
            "41/41 [==============================] - 4s 92ms/step - loss: 0.0390\n",
            "Epoch 91/100\n",
            "41/41 [==============================] - 4s 93ms/step - loss: 0.0399\n",
            "Epoch 92/100\n",
            "41/41 [==============================] - 4s 92ms/step - loss: 0.0389\n",
            "Epoch 93/100\n",
            "41/41 [==============================] - 4s 94ms/step - loss: 0.0455\n",
            "Epoch 94/100\n",
            "41/41 [==============================] - 4s 93ms/step - loss: 0.0463\n",
            "Epoch 95/100\n",
            "41/41 [==============================] - 4s 91ms/step - loss: 0.0453\n",
            "Epoch 96/100\n",
            "41/41 [==============================] - 4s 91ms/step - loss: 0.0418\n",
            "Epoch 97/100\n",
            "41/41 [==============================] - 4s 90ms/step - loss: 0.0418\n",
            "Epoch 98/100\n",
            "41/41 [==============================] - 4s 90ms/step - loss: 0.0435\n",
            "Epoch 99/100\n",
            "41/41 [==============================] - 4s 90ms/step - loss: 0.0437\n",
            "Epoch 100/100\n",
            "41/41 [==============================] - 4s 91ms/step - loss: 0.0411\n"
          ]
        },
        {
          "output_type": "execute_result",
          "data": {
            "text/plain": [
              "<keras.callbacks.History at 0x7f7291710310>"
            ]
          },
          "metadata": {},
          "execution_count": 46
        }
      ],
      "source": [
        "# fit model\n",
        "model.fit(X, X, epochs=100, batch_size=16, verbose=1)"
      ]
    },
    {
      "cell_type": "code",
      "execution_count": 47,
      "metadata": {
        "colab": {
          "base_uri": "https://localhost:8080/"
        },
        "id": "FfQ-Eow92Mtr",
        "outputId": "2897f5f4-cc0f-43c0-d0fe-3083d294d5ab"
      },
      "outputs": [
        {
          "output_type": "stream",
          "name": "stdout",
          "text": [
            "---Predicted---\n",
            "[[[10.856  4.513]\n",
            "  [10.797  4.539]\n",
            "  [10.781  4.516]\n",
            "  ...\n",
            "  [10.797  4.571]\n",
            "  [10.793  4.589]\n",
            "  [10.809  4.599]]\n",
            "\n",
            " [[10.804  4.513]\n",
            "  [10.741  4.536]\n",
            "  [10.738  4.519]\n",
            "  ...\n",
            "  [10.767  4.577]\n",
            "  [10.757  4.591]\n",
            "  [10.77   4.598]]\n",
            "\n",
            " [[10.807  4.552]\n",
            "  [10.745  4.574]\n",
            "  [10.738  4.558]\n",
            "  ...\n",
            "  [10.768  4.612]\n",
            "  [10.756  4.626]\n",
            "  [10.768  4.632]]\n",
            "\n",
            " ...\n",
            "\n",
            " [[ 4.17   1.941]\n",
            "  [ 3.868  1.788]\n",
            "  [ 3.717  1.588]\n",
            "  ...\n",
            "  [ 3.562  0.846]\n",
            "  [ 3.684 -0.034]\n",
            "  [ 3.418 -0.058]]\n",
            "\n",
            " [[ 4.015  1.78 ]\n",
            "  [ 3.714  1.642]\n",
            "  [ 3.604  1.437]\n",
            "  ...\n",
            "  [ 3.602  0.394]\n",
            "  [ 3.556 -0.237]\n",
            "  [ 3.226  0.487]]\n",
            "\n",
            " [[ 3.791  1.582]\n",
            "  [ 3.57   1.418]\n",
            "  [ 3.522  1.144]\n",
            "  ...\n",
            "  [ 3.535 -0.142]\n",
            "  [ 3.25   0.225]\n",
            "  [ 3.088  1.167]]]\n",
            "---Actual---\n",
            "[[[10.88   4.419]\n",
            "  [10.713  4.29 ]\n",
            "  [10.614  4.5  ]\n",
            "  ...\n",
            "  [10.798  4.357]\n",
            "  [10.682  4.554]\n",
            "  [10.692  4.466]]\n",
            "\n",
            " [[10.713  4.29 ]\n",
            "  [10.614  4.5  ]\n",
            "  [10.79   4.304]\n",
            "  ...\n",
            "  [10.682  4.554]\n",
            "  [10.692  4.466]\n",
            "  [10.568  4.522]]\n",
            "\n",
            " [[10.614  4.5  ]\n",
            "  [10.79   4.304]\n",
            "  [10.798  4.357]\n",
            "  ...\n",
            "  [10.692  4.466]\n",
            "  [10.568  4.522]\n",
            "  [10.634  4.663]]\n",
            "\n",
            " ...\n",
            "\n",
            " [[ 3.85   1.386]\n",
            "  [ 3.714  1.792]\n",
            "  [ 4.078  1.386]\n",
            "  ...\n",
            "  [ 3.689  0.   ]\n",
            "  [ 3.258  1.386]\n",
            "  [ 3.497  0.   ]]\n",
            "\n",
            " [[ 3.714  1.792]\n",
            "  [ 4.078  1.386]\n",
            "  [ 3.689  0.   ]\n",
            "  ...\n",
            "  [ 3.258  1.386]\n",
            "  [ 3.497  0.   ]\n",
            "  [ 2.485  1.099]]\n",
            "\n",
            " [[ 4.078  1.386]\n",
            "  [ 3.689  0.   ]\n",
            "  [ 3.689  0.   ]\n",
            "  ...\n",
            "  [ 3.497  0.   ]\n",
            "  [ 2.485  1.099]\n",
            "  [ 1.609  0.693]]]\n"
          ]
        }
      ],
      "source": [
        "# demonstrate reconstruction\n",
        "yhat = model.predict(X, verbose=0)\n",
        "print('---Predicted---')\n",
        "print(np.round(yhat,3))\n",
        "print('---Actual---')\n",
        "print(np.round(X, 3))"
      ]
    },
    {
      "cell_type": "code",
      "source": [
        "np.exp(yhat[50])+1"
      ],
      "metadata": {
        "colab": {
          "base_uri": "https://localhost:8080/"
        },
        "id": "Bi14uRi5dkBd",
        "outputId": "855cc85c-ea58-4fc6-a9dd-c5962663c16d"
      },
      "execution_count": 48,
      "outputs": [
        {
          "output_type": "execute_result",
          "data": {
            "text/plain": [
              "array([[41244.066  ,   129.87068],\n",
              "       [38290.785  ,   130.26025],\n",
              "       [38425.438  ,   130.00404],\n",
              "       [39072.133  ,   130.03923],\n",
              "       [41369.098  ,   130.0028 ],\n",
              "       [41018.406  ,   131.87883],\n",
              "       [41535.44   ,   133.46997]], dtype=float32)"
            ]
          },
          "metadata": {},
          "execution_count": 48
        }
      ]
    },
    {
      "cell_type": "code",
      "source": [
        "np.exp(X[50])+1"
      ],
      "metadata": {
        "colab": {
          "base_uri": "https://localhost:8080/"
        },
        "id": "kNjExrk9d1Cq",
        "outputId": "003fca8d-9714-422b-fd68-62f0c936663d"
      },
      "execution_count": 49,
      "outputs": [
        {
          "output_type": "execute_result",
          "data": {
            "text/plain": [
              "array([[33311.,   115.],\n",
              "       [33223.,   122.],\n",
              "       [41261.,   132.],\n",
              "       [41747.,   104.],\n",
              "       [44365.,   112.],\n",
              "       [41500.,   120.],\n",
              "       [36714.,   105.]])"
            ]
          },
          "metadata": {},
          "execution_count": 49
        }
      ]
    },
    {
      "cell_type": "code",
      "execution_count": 54,
      "metadata": {
        "id": "EtnzBB2yo_Fp",
        "colab": {
          "base_uri": "https://localhost:8080/"
        },
        "outputId": "57b66033-f7cd-4dfc-955c-1d6ea9fc6099"
      },
      "outputs": [
        {
          "output_type": "stream",
          "name": "stdout",
          "text": [
            "Model: \"model_2\"\n",
            "_________________________________________________________________\n",
            " Layer (type)                Output Shape              Param #   \n",
            "=================================================================\n",
            " lstm_6_input (InputLayer)   [(None, 7, 2)]            0         \n",
            "                                                                 \n",
            " lstm_6 (LSTM)               (None, 7, 256)            265216    \n",
            "                                                                 \n",
            " lstm_7 (LSTM)               (None, 7, 128)            197120    \n",
            "                                                                 \n",
            " lstm_8 (LSTM)               (None, 7, 64)             49408     \n",
            "                                                                 \n",
            " lstm_9 (LSTM)               (None, 32)                12416     \n",
            "                                                                 \n",
            "=================================================================\n",
            "Total params: 524,160\n",
            "Trainable params: 524,160\n",
            "Non-trainable params: 0\n",
            "_________________________________________________________________\n"
          ]
        }
      ],
      "source": [
        "layer_name = 'lstm_9'\n",
        "encoder = Model(inputs=model.input, outputs=model.get_layer(layer_name).output)\n",
        "encoder.summary()"
      ]
    },
    {
      "cell_type": "code",
      "execution_count": 60,
      "metadata": {
        "id": "k5IWamOMp9oP"
      },
      "outputs": [],
      "source": [
        "encode_data = encoder.predict(X[:1])"
      ]
    },
    {
      "cell_type": "code",
      "source": [
        "encode_data"
      ],
      "metadata": {
        "colab": {
          "base_uri": "https://localhost:8080/"
        },
        "id": "CW7uIDmIxg8d",
        "outputId": "88b1aa57-c46f-4167-ad60-a0c74c78de83"
      },
      "execution_count": 61,
      "outputs": [
        {
          "output_type": "execute_result",
          "data": {
            "text/plain": [
              "array([[1.8673999e+02, 5.6607903e+01, 0.0000000e+00, 0.0000000e+00,\n",
              "        6.3717782e-01, 6.8303711e+01, 1.1847310e-15, 6.8894774e-01,\n",
              "        0.0000000e+00, 0.0000000e+00, 1.0257182e-03, 8.2866745e+01,\n",
              "        0.0000000e+00, 3.4815879e-18, 0.0000000e+00, 0.0000000e+00,\n",
              "        0.0000000e+00, 1.4630777e-29, 0.0000000e+00, 2.2294853e+01,\n",
              "        4.4203594e+01, 0.0000000e+00, 0.0000000e+00, 0.0000000e+00,\n",
              "        0.0000000e+00, 0.0000000e+00, 0.0000000e+00, 0.0000000e+00,\n",
              "        0.0000000e+00, 3.5062007e-19, 0.0000000e+00, 0.0000000e+00]],\n",
              "      dtype=float32)"
            ]
          },
          "metadata": {},
          "execution_count": 61
        }
      ]
    },
    {
      "cell_type": "code",
      "source": [
        ""
      ],
      "metadata": {
        "id": "Z7s486EUxp_E"
      },
      "execution_count": null,
      "outputs": []
    }
  ],
  "metadata": {
    "colab": {
      "collapsed_sections": [],
      "name": "LSTM autoencoder for COVID-19 data.ipynb",
      "provenance": []
    },
    "kernelspec": {
      "display_name": "Python 3",
      "name": "python3"
    }
  },
  "nbformat": 4,
  "nbformat_minor": 0
}