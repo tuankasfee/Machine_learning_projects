{
  "nbformat": 4,
  "nbformat_minor": 0,
  "metadata": {
    "kernelspec": {
      "display_name": "Python 3",
      "language": "python",
      "name": "python3"
    },
    "language_info": {
      "codemirror_mode": {
        "name": "ipython",
        "version": 3
      },
      "file_extension": ".py",
      "mimetype": "text/x-python",
      "name": "python",
      "nbconvert_exporter": "python",
      "pygments_lexer": "ipython3",
      "version": "3.8.1"
    },
    "colab": {
      "name": "RNA_mutation.ipynb",
      "provenance": [],
      "collapsed_sections": []
    }
  },
  "cells": [
    {
      "cell_type": "code",
      "metadata": {
        "_cell_guid": "b1076dfc-b9ad-4769-8c92-a6c4dae69d19",
        "_uuid": "8f2839f25d086af736a60e9eeb907d3b93b6e0e5",
        "id": "Gw-yP26j0kdL"
      },
      "source": [
        "import numpy as np \n",
        "import pandas as pd \n",
        "import matplotlib.pyplot as plt\n",
        "\n",
        "from sklearn.preprocessing import LabelEncoder \n",
        "from sklearn.preprocessing import StandardScaler\n",
        "from sklearn.model_selection import train_test_split\n",
        "from sklearn.model_selection import KFold\n",
        "from sklearn.model_selection import cross_val_score\n",
        "from sklearn.metrics import classification_report, confusion_matrix\n",
        "\n",
        "from sklearn.linear_model import LogisticRegression\n",
        "from sklearn.neighbors import KNeighborsClassifier\n",
        "from sklearn.svm import SVC\n",
        "from sklearn.tree import DecisionTreeClassifier\n",
        "from sklearn.naive_bayes import GaussianNB\n",
        "\n",
        "from sklearn.pipeline import Pipeline\n",
        "\n",
        "from sklearn.decomposition import PCA\n",
        "\n",
        "import tensorflow as tf\n",
        "\n",
        "from sklearn.metrics import accuracy_score, precision_score, recall_score\n",
        "from sklearn.model_selection import train_test_split\n",
        "from tensorflow.keras import layers, losses\n",
        "from tensorflow.keras.datasets import fashion_mnist\n",
        "from tensorflow.keras.models import Model"
      ],
      "execution_count": 1,
      "outputs": []
    },
    {
      "cell_type": "markdown",
      "metadata": {
        "id": "xUBZ8mzx0kdQ"
      },
      "source": [
        "# Import Dataset"
      ]
    },
    {
      "cell_type": "code",
      "metadata": {
        "_cell_guid": "",
        "_uuid": "",
        "colab": {
          "base_uri": "https://localhost:8080/"
        },
        "id": "kcYu4KKV0kdR",
        "outputId": "f47bc538-737b-43a2-971a-267e10c5846e"
      },
      "source": [
        "dataset = pd.read_csv(\"METABRIC_RNA_Mutation.csv\")"
      ],
      "execution_count": 2,
      "outputs": [
        {
          "output_type": "stream",
          "name": "stderr",
          "text": [
            "/usr/local/lib/python3.7/dist-packages/IPython/core/interactiveshell.py:2718: DtypeWarning: Columns (179,189,191,193) have mixed types.Specify dtype option on import or set low_memory=False.\n",
            "  interactivity=interactivity, compiler=compiler, result=result)\n"
          ]
        }
      ]
    },
    {
      "cell_type": "markdown",
      "metadata": {
        "id": "zBVsenUX0kdS"
      },
      "source": [
        "# Describing Dataset"
      ]
    },
    {
      "cell_type": "code",
      "metadata": {
        "colab": {
          "base_uri": "https://localhost:8080/",
          "height": 359
        },
        "id": "QwVh9Mxp0kdS",
        "outputId": "ba90859a-7800-486d-a771-70d7c069fe18"
      },
      "source": [
        "dataset.head()"
      ],
      "execution_count": 3,
      "outputs": [
        {
          "output_type": "execute_result",
          "data": {
            "text/html": [
              "<div>\n",
              "<style scoped>\n",
              "    .dataframe tbody tr th:only-of-type {\n",
              "        vertical-align: middle;\n",
              "    }\n",
              "\n",
              "    .dataframe tbody tr th {\n",
              "        vertical-align: top;\n",
              "    }\n",
              "\n",
              "    .dataframe thead th {\n",
              "        text-align: right;\n",
              "    }\n",
              "</style>\n",
              "<table border=\"1\" class=\"dataframe\">\n",
              "  <thead>\n",
              "    <tr style=\"text-align: right;\">\n",
              "      <th></th>\n",
              "      <th>type_of_breast_surgery</th>\n",
              "      <th>cancer_type</th>\n",
              "      <th>cancer_type_detailed</th>\n",
              "      <th>cellularity</th>\n",
              "      <th>pam50_+_claudin-low_subtype</th>\n",
              "      <th>er_status_measured_by_ihc</th>\n",
              "      <th>er_status</th>\n",
              "      <th>neoplasm_histologic_grade</th>\n",
              "      <th>her2_status_measured_by_snp6</th>\n",
              "      <th>her2_status</th>\n",
              "      <th>tumor_other_histologic_subtype</th>\n",
              "      <th>hormone_therapy</th>\n",
              "      <th>inferred_menopausal_state</th>\n",
              "      <th>integrative_cluster</th>\n",
              "      <th>primary_tumor_laterality</th>\n",
              "      <th>oncotree_code</th>\n",
              "      <th>overall_survival</th>\n",
              "      <th>pr_status</th>\n",
              "      <th>radio_therapy</th>\n",
              "      <th>3-gene_classifier_subtype</th>\n",
              "      <th>tumor_stage</th>\n",
              "      <th>pik3ca_mut</th>\n",
              "      <th>tp53_mut</th>\n",
              "      <th>muc16_mut</th>\n",
              "      <th>ahnak2_mut</th>\n",
              "      <th>kmt2c_mut</th>\n",
              "      <th>syne1_mut</th>\n",
              "      <th>gata3_mut</th>\n",
              "      <th>map3k1_mut</th>\n",
              "      <th>ahnak_mut</th>\n",
              "      <th>dnah11_mut</th>\n",
              "      <th>cdh1_mut</th>\n",
              "      <th>dnah2_mut</th>\n",
              "      <th>kmt2d_mut</th>\n",
              "      <th>ush2a_mut</th>\n",
              "      <th>ryr2_mut</th>\n",
              "      <th>dnah5_mut</th>\n",
              "      <th>herc2_mut</th>\n",
              "      <th>pde4dip_mut</th>\n",
              "      <th>akap9_mut</th>\n",
              "      <th>...</th>\n",
              "      <th>hsd17b1</th>\n",
              "      <th>hsd17b10</th>\n",
              "      <th>hsd17b11</th>\n",
              "      <th>hsd17b12</th>\n",
              "      <th>hsd17b13</th>\n",
              "      <th>hsd17b14</th>\n",
              "      <th>hsd17b2</th>\n",
              "      <th>hsd17b3</th>\n",
              "      <th>hsd17b4</th>\n",
              "      <th>hsd17b6</th>\n",
              "      <th>hsd17b7</th>\n",
              "      <th>hsd17b8</th>\n",
              "      <th>hsd3b1</th>\n",
              "      <th>hsd3b2</th>\n",
              "      <th>hsd3b7</th>\n",
              "      <th>mecom</th>\n",
              "      <th>met</th>\n",
              "      <th>ncoa2</th>\n",
              "      <th>nrip1</th>\n",
              "      <th>pik3r3</th>\n",
              "      <th>prkci</th>\n",
              "      <th>prkd1</th>\n",
              "      <th>ran</th>\n",
              "      <th>rdh5</th>\n",
              "      <th>sdc4</th>\n",
              "      <th>serpini1</th>\n",
              "      <th>shbg</th>\n",
              "      <th>slc29a1</th>\n",
              "      <th>sox9</th>\n",
              "      <th>spry2</th>\n",
              "      <th>srd5a1</th>\n",
              "      <th>srd5a2</th>\n",
              "      <th>srd5a3</th>\n",
              "      <th>st7</th>\n",
              "      <th>star</th>\n",
              "      <th>tnk2</th>\n",
              "      <th>tulp4</th>\n",
              "      <th>ugt2b15</th>\n",
              "      <th>ugt2b17</th>\n",
              "      <th>ugt2b7</th>\n",
              "    </tr>\n",
              "  </thead>\n",
              "  <tbody>\n",
              "    <tr>\n",
              "      <th>0</th>\n",
              "      <td>MASTECTOMY</td>\n",
              "      <td>Breast Cancer</td>\n",
              "      <td>Breast Invasive Ductal Carcinoma</td>\n",
              "      <td>NaN</td>\n",
              "      <td>claudin-low</td>\n",
              "      <td>Positve</td>\n",
              "      <td>Positive</td>\n",
              "      <td>3.0</td>\n",
              "      <td>NEUTRAL</td>\n",
              "      <td>Negative</td>\n",
              "      <td>Ductal/NST</td>\n",
              "      <td>1</td>\n",
              "      <td>Post</td>\n",
              "      <td>4ER+</td>\n",
              "      <td>Right</td>\n",
              "      <td>IDC</td>\n",
              "      <td>1</td>\n",
              "      <td>Negative</td>\n",
              "      <td>1</td>\n",
              "      <td>ER-/HER2-</td>\n",
              "      <td>2.0</td>\n",
              "      <td>0</td>\n",
              "      <td>0</td>\n",
              "      <td>0</td>\n",
              "      <td>0</td>\n",
              "      <td>0</td>\n",
              "      <td>0</td>\n",
              "      <td>0</td>\n",
              "      <td>0</td>\n",
              "      <td>0</td>\n",
              "      <td>0</td>\n",
              "      <td>0</td>\n",
              "      <td>0</td>\n",
              "      <td>0</td>\n",
              "      <td>0</td>\n",
              "      <td>0</td>\n",
              "      <td>0</td>\n",
              "      <td>0</td>\n",
              "      <td>0</td>\n",
              "      <td>0</td>\n",
              "      <td>...</td>\n",
              "      <td>0.2581</td>\n",
              "      <td>-0.0487</td>\n",
              "      <td>1.6822</td>\n",
              "      <td>1.7409</td>\n",
              "      <td>8.8731</td>\n",
              "      <td>-0.6494</td>\n",
              "      <td>0.4931</td>\n",
              "      <td>1.0860</td>\n",
              "      <td>0.2650</td>\n",
              "      <td>-1.8717</td>\n",
              "      <td>-1.7598</td>\n",
              "      <td>0.5445</td>\n",
              "      <td>0.5018</td>\n",
              "      <td>0.7345</td>\n",
              "      <td>-0.9899</td>\n",
              "      <td>1.1211</td>\n",
              "      <td>0.1674</td>\n",
              "      <td>-0.3421</td>\n",
              "      <td>0.4076</td>\n",
              "      <td>-0.6199</td>\n",
              "      <td>-1.2582</td>\n",
              "      <td>1.8407</td>\n",
              "      <td>0.6630</td>\n",
              "      <td>5.0109</td>\n",
              "      <td>0.5008</td>\n",
              "      <td>0.0052</td>\n",
              "      <td>-0.4357</td>\n",
              "      <td>0.9859</td>\n",
              "      <td>1.2386</td>\n",
              "      <td>2.8796</td>\n",
              "      <td>-1.1877</td>\n",
              "      <td>-0.0194</td>\n",
              "      <td>-1.6345</td>\n",
              "      <td>-0.2142</td>\n",
              "      <td>-0.5698</td>\n",
              "      <td>-1.1741</td>\n",
              "      <td>-1.4779</td>\n",
              "      <td>-0.5954</td>\n",
              "      <td>-0.8847</td>\n",
              "      <td>-0.3354</td>\n",
              "    </tr>\n",
              "    <tr>\n",
              "      <th>1</th>\n",
              "      <td>BREAST CONSERVING</td>\n",
              "      <td>Breast Cancer</td>\n",
              "      <td>Breast Invasive Ductal Carcinoma</td>\n",
              "      <td>High</td>\n",
              "      <td>LumA</td>\n",
              "      <td>Positve</td>\n",
              "      <td>Positive</td>\n",
              "      <td>3.0</td>\n",
              "      <td>NEUTRAL</td>\n",
              "      <td>Negative</td>\n",
              "      <td>Ductal/NST</td>\n",
              "      <td>1</td>\n",
              "      <td>Pre</td>\n",
              "      <td>4ER+</td>\n",
              "      <td>Right</td>\n",
              "      <td>IDC</td>\n",
              "      <td>1</td>\n",
              "      <td>Positive</td>\n",
              "      <td>1</td>\n",
              "      <td>ER+/HER2- High Prolif</td>\n",
              "      <td>1.0</td>\n",
              "      <td>0</td>\n",
              "      <td>H178P</td>\n",
              "      <td>0</td>\n",
              "      <td>0</td>\n",
              "      <td>0</td>\n",
              "      <td>0</td>\n",
              "      <td>0</td>\n",
              "      <td>0</td>\n",
              "      <td>0</td>\n",
              "      <td>0</td>\n",
              "      <td>0</td>\n",
              "      <td>0</td>\n",
              "      <td>0</td>\n",
              "      <td>0</td>\n",
              "      <td>0</td>\n",
              "      <td>0</td>\n",
              "      <td>0</td>\n",
              "      <td>0</td>\n",
              "      <td>0</td>\n",
              "      <td>...</td>\n",
              "      <td>-0.4467</td>\n",
              "      <td>-0.0693</td>\n",
              "      <td>-0.7837</td>\n",
              "      <td>0.0117</td>\n",
              "      <td>1.5355</td>\n",
              "      <td>0.7590</td>\n",
              "      <td>-0.5652</td>\n",
              "      <td>0.0623</td>\n",
              "      <td>-1.2693</td>\n",
              "      <td>1.0729</td>\n",
              "      <td>1.1973</td>\n",
              "      <td>-2.9847</td>\n",
              "      <td>-1.9199</td>\n",
              "      <td>0.6433</td>\n",
              "      <td>-0.4801</td>\n",
              "      <td>-1.8732</td>\n",
              "      <td>-1.0840</td>\n",
              "      <td>-0.7220</td>\n",
              "      <td>-0.1878</td>\n",
              "      <td>-1.0623</td>\n",
              "      <td>1.7653</td>\n",
              "      <td>0.3500</td>\n",
              "      <td>-0.2505</td>\n",
              "      <td>-0.6337</td>\n",
              "      <td>-0.1047</td>\n",
              "      <td>0.0222</td>\n",
              "      <td>-0.2938</td>\n",
              "      <td>-1.0821</td>\n",
              "      <td>-1.3206</td>\n",
              "      <td>0.2446</td>\n",
              "      <td>-0.4412</td>\n",
              "      <td>0.4534</td>\n",
              "      <td>0.4068</td>\n",
              "      <td>0.7634</td>\n",
              "      <td>0.0231</td>\n",
              "      <td>0.9121</td>\n",
              "      <td>-0.9538</td>\n",
              "      <td>-0.2264</td>\n",
              "      <td>0.5398</td>\n",
              "      <td>-0.8920</td>\n",
              "    </tr>\n",
              "    <tr>\n",
              "      <th>2</th>\n",
              "      <td>MASTECTOMY</td>\n",
              "      <td>Breast Cancer</td>\n",
              "      <td>Breast Invasive Ductal Carcinoma</td>\n",
              "      <td>High</td>\n",
              "      <td>LumB</td>\n",
              "      <td>Positve</td>\n",
              "      <td>Positive</td>\n",
              "      <td>2.0</td>\n",
              "      <td>NEUTRAL</td>\n",
              "      <td>Negative</td>\n",
              "      <td>Ductal/NST</td>\n",
              "      <td>1</td>\n",
              "      <td>Pre</td>\n",
              "      <td>3</td>\n",
              "      <td>Right</td>\n",
              "      <td>IDC</td>\n",
              "      <td>0</td>\n",
              "      <td>Positive</td>\n",
              "      <td>0</td>\n",
              "      <td>NaN</td>\n",
              "      <td>2.0</td>\n",
              "      <td>H1047R</td>\n",
              "      <td>0</td>\n",
              "      <td>0</td>\n",
              "      <td>0</td>\n",
              "      <td>0</td>\n",
              "      <td>0</td>\n",
              "      <td>0</td>\n",
              "      <td>0</td>\n",
              "      <td>0</td>\n",
              "      <td>0</td>\n",
              "      <td>0</td>\n",
              "      <td>0</td>\n",
              "      <td>0</td>\n",
              "      <td>0</td>\n",
              "      <td>0</td>\n",
              "      <td>0</td>\n",
              "      <td>0</td>\n",
              "      <td>0</td>\n",
              "      <td>0</td>\n",
              "      <td>...</td>\n",
              "      <td>-0.6253</td>\n",
              "      <td>0.0082</td>\n",
              "      <td>1.6822</td>\n",
              "      <td>0.8981</td>\n",
              "      <td>-0.0943</td>\n",
              "      <td>1.1599</td>\n",
              "      <td>0.1442</td>\n",
              "      <td>0.1493</td>\n",
              "      <td>0.1117</td>\n",
              "      <td>1.6262</td>\n",
              "      <td>2.2685</td>\n",
              "      <td>-0.9910</td>\n",
              "      <td>0.1767</td>\n",
              "      <td>-0.9128</td>\n",
              "      <td>-0.0006</td>\n",
              "      <td>0.7079</td>\n",
              "      <td>-0.7401</td>\n",
              "      <td>1.2279</td>\n",
              "      <td>-0.2882</td>\n",
              "      <td>-0.1727</td>\n",
              "      <td>1.1257</td>\n",
              "      <td>0.8306</td>\n",
              "      <td>0.2707</td>\n",
              "      <td>-0.7554</td>\n",
              "      <td>-0.3559</td>\n",
              "      <td>-0.7735</td>\n",
              "      <td>-0.1387</td>\n",
              "      <td>-0.9122</td>\n",
              "      <td>1.2552</td>\n",
              "      <td>0.4593</td>\n",
              "      <td>-0.5381</td>\n",
              "      <td>0.0668</td>\n",
              "      <td>0.8344</td>\n",
              "      <td>1.7227</td>\n",
              "      <td>0.4024</td>\n",
              "      <td>-3.7172</td>\n",
              "      <td>-1.5538</td>\n",
              "      <td>1.3701</td>\n",
              "      <td>-0.1078</td>\n",
              "      <td>0.3655</td>\n",
              "    </tr>\n",
              "    <tr>\n",
              "      <th>3</th>\n",
              "      <td>MASTECTOMY</td>\n",
              "      <td>Breast Cancer</td>\n",
              "      <td>Breast Mixed Ductal and Lobular Carcinoma</td>\n",
              "      <td>Moderate</td>\n",
              "      <td>LumB</td>\n",
              "      <td>Positve</td>\n",
              "      <td>Positive</td>\n",
              "      <td>2.0</td>\n",
              "      <td>NEUTRAL</td>\n",
              "      <td>Negative</td>\n",
              "      <td>Mixed</td>\n",
              "      <td>1</td>\n",
              "      <td>Pre</td>\n",
              "      <td>9</td>\n",
              "      <td>Right</td>\n",
              "      <td>MDLC</td>\n",
              "      <td>1</td>\n",
              "      <td>Positive</td>\n",
              "      <td>1</td>\n",
              "      <td>NaN</td>\n",
              "      <td>2.0</td>\n",
              "      <td>E542K</td>\n",
              "      <td>0</td>\n",
              "      <td>0</td>\n",
              "      <td>0</td>\n",
              "      <td>0</td>\n",
              "      <td>0</td>\n",
              "      <td>0</td>\n",
              "      <td>0</td>\n",
              "      <td>0</td>\n",
              "      <td>0</td>\n",
              "      <td>0</td>\n",
              "      <td>0</td>\n",
              "      <td>0</td>\n",
              "      <td>0</td>\n",
              "      <td>0</td>\n",
              "      <td>0</td>\n",
              "      <td>0</td>\n",
              "      <td>0</td>\n",
              "      <td>0</td>\n",
              "      <td>...</td>\n",
              "      <td>4.8189</td>\n",
              "      <td>0.0960</td>\n",
              "      <td>1.4099</td>\n",
              "      <td>-0.6707</td>\n",
              "      <td>-0.3589</td>\n",
              "      <td>-0.8998</td>\n",
              "      <td>-0.5063</td>\n",
              "      <td>0.2546</td>\n",
              "      <td>-0.6586</td>\n",
              "      <td>1.7024</td>\n",
              "      <td>0.1617</td>\n",
              "      <td>1.4208</td>\n",
              "      <td>0.1320</td>\n",
              "      <td>1.8754</td>\n",
              "      <td>-1.8850</td>\n",
              "      <td>0.1474</td>\n",
              "      <td>0.5097</td>\n",
              "      <td>-0.0393</td>\n",
              "      <td>-0.2049</td>\n",
              "      <td>-0.3290</td>\n",
              "      <td>3.2140</td>\n",
              "      <td>2.4162</td>\n",
              "      <td>1.7962</td>\n",
              "      <td>-1.2505</td>\n",
              "      <td>-0.1742</td>\n",
              "      <td>-0.2858</td>\n",
              "      <td>-0.7305</td>\n",
              "      <td>-1.0178</td>\n",
              "      <td>-0.7887</td>\n",
              "      <td>1.3361</td>\n",
              "      <td>-0.5630</td>\n",
              "      <td>-0.7078</td>\n",
              "      <td>0.8228</td>\n",
              "      <td>0.6819</td>\n",
              "      <td>-0.1948</td>\n",
              "      <td>-2.3286</td>\n",
              "      <td>-0.9924</td>\n",
              "      <td>-0.3154</td>\n",
              "      <td>0.2320</td>\n",
              "      <td>-0.4828</td>\n",
              "    </tr>\n",
              "    <tr>\n",
              "      <th>4</th>\n",
              "      <td>MASTECTOMY</td>\n",
              "      <td>Breast Cancer</td>\n",
              "      <td>Breast Mixed Ductal and Lobular Carcinoma</td>\n",
              "      <td>High</td>\n",
              "      <td>LumB</td>\n",
              "      <td>Positve</td>\n",
              "      <td>Positive</td>\n",
              "      <td>3.0</td>\n",
              "      <td>NEUTRAL</td>\n",
              "      <td>Negative</td>\n",
              "      <td>Mixed</td>\n",
              "      <td>1</td>\n",
              "      <td>Post</td>\n",
              "      <td>9</td>\n",
              "      <td>Right</td>\n",
              "      <td>MDLC</td>\n",
              "      <td>0</td>\n",
              "      <td>Positive</td>\n",
              "      <td>1</td>\n",
              "      <td>ER+/HER2- High Prolif</td>\n",
              "      <td>2.0</td>\n",
              "      <td>0</td>\n",
              "      <td>S241F</td>\n",
              "      <td>0</td>\n",
              "      <td>0</td>\n",
              "      <td>0</td>\n",
              "      <td>0</td>\n",
              "      <td>0</td>\n",
              "      <td>0</td>\n",
              "      <td>0</td>\n",
              "      <td>0</td>\n",
              "      <td>0</td>\n",
              "      <td>0</td>\n",
              "      <td>0</td>\n",
              "      <td>0</td>\n",
              "      <td>0</td>\n",
              "      <td>0</td>\n",
              "      <td>0</td>\n",
              "      <td>0</td>\n",
              "      <td>0</td>\n",
              "      <td>...</td>\n",
              "      <td>-0.0590</td>\n",
              "      <td>0.2796</td>\n",
              "      <td>0.0493</td>\n",
              "      <td>-0.7074</td>\n",
              "      <td>0.0696</td>\n",
              "      <td>-0.4491</td>\n",
              "      <td>-0.5634</td>\n",
              "      <td>-0.7627</td>\n",
              "      <td>-0.7051</td>\n",
              "      <td>0.6065</td>\n",
              "      <td>-0.0141</td>\n",
              "      <td>0.7040</td>\n",
              "      <td>-2.0938</td>\n",
              "      <td>-0.1260</td>\n",
              "      <td>-0.6658</td>\n",
              "      <td>0.6451</td>\n",
              "      <td>0.5497</td>\n",
              "      <td>4.1999</td>\n",
              "      <td>0.2832</td>\n",
              "      <td>0.4018</td>\n",
              "      <td>0.1308</td>\n",
              "      <td>-0.5351</td>\n",
              "      <td>1.2930</td>\n",
              "      <td>1.2971</td>\n",
              "      <td>-0.8885</td>\n",
              "      <td>-0.5545</td>\n",
              "      <td>0.0266</td>\n",
              "      <td>0.5328</td>\n",
              "      <td>0.1858</td>\n",
              "      <td>-0.3201</td>\n",
              "      <td>-0.5845</td>\n",
              "      <td>-0.3544</td>\n",
              "      <td>-1.0150</td>\n",
              "      <td>2.2961</td>\n",
              "      <td>0.1817</td>\n",
              "      <td>-0.1572</td>\n",
              "      <td>0.0427</td>\n",
              "      <td>5.0048</td>\n",
              "      <td>3.8476</td>\n",
              "      <td>1.3223</td>\n",
              "    </tr>\n",
              "  </tbody>\n",
              "</table>\n",
              "<p>5 rows × 688 columns</p>\n",
              "</div>"
            ],
            "text/plain": [
              "  type_of_breast_surgery    cancer_type  ... ugt2b17  ugt2b7\n",
              "0             MASTECTOMY  Breast Cancer  ... -0.8847 -0.3354\n",
              "1      BREAST CONSERVING  Breast Cancer  ...  0.5398 -0.8920\n",
              "2             MASTECTOMY  Breast Cancer  ... -0.1078  0.3655\n",
              "3             MASTECTOMY  Breast Cancer  ...  0.2320 -0.4828\n",
              "4             MASTECTOMY  Breast Cancer  ...  3.8476  1.3223\n",
              "\n",
              "[5 rows x 688 columns]"
            ]
          },
          "metadata": {},
          "execution_count": 3
        }
      ]
    },
    {
      "cell_type": "code",
      "metadata": {
        "colab": {
          "base_uri": "https://localhost:8080/"
        },
        "id": "6JKPH-Xc0kdT",
        "outputId": "94e01a54-5983-497e-8301-fde07190e553"
      },
      "source": [
        "print(dataset.shape)\n",
        "dataset.dtypes"
      ],
      "execution_count": 4,
      "outputs": [
        {
          "output_type": "stream",
          "name": "stdout",
          "text": [
            "(1904, 688)\n"
          ]
        },
        {
          "output_type": "execute_result",
          "data": {
            "text/plain": [
              "type_of_breast_surgery          object\n",
              "cancer_type                     object\n",
              "cancer_type_detailed            object\n",
              "cellularity                     object\n",
              "pam50_+_claudin-low_subtype     object\n",
              "                                ...   \n",
              "tnk2                           float64\n",
              "tulp4                          float64\n",
              "ugt2b15                        float64\n",
              "ugt2b17                        float64\n",
              "ugt2b7                         float64\n",
              "Length: 688, dtype: object"
            ]
          },
          "metadata": {},
          "execution_count": 4
        }
      ]
    },
    {
      "cell_type": "markdown",
      "metadata": {
        "id": "88Yz1z-xWCnj"
      },
      "source": [
        "# Check missing value"
      ]
    },
    {
      "cell_type": "code",
      "metadata": {
        "colab": {
          "base_uri": "https://localhost:8080/"
        },
        "id": "0bD4t9whSa56",
        "outputId": "ca80c509-aefd-4d10-a66e-4f9678d889df"
      },
      "source": [
        "miss_value = {}\n",
        "for column in dataset.columns:\n",
        "  count = dataset[column].isnull().sum()\n",
        "  if count >0:\n",
        "    miss_value[column] = count\n",
        "\n",
        "print(miss_value)"
      ],
      "execution_count": 5,
      "outputs": [
        {
          "output_type": "stream",
          "name": "stdout",
          "text": [
            "{'type_of_breast_surgery': 22, 'cancer_type_detailed': 15, 'cellularity': 54, 'er_status_measured_by_ihc': 30, 'neoplasm_histologic_grade': 72, 'tumor_other_histologic_subtype': 15, 'primary_tumor_laterality': 106, 'oncotree_code': 15, '3-gene_classifier_subtype': 204, 'tumor_stage': 501, 'mutation_count': 45, 'tumor_size': 20}\n"
          ]
        }
      ]
    },
    {
      "cell_type": "markdown",
      "metadata": {
        "id": "sVqEL8sQ5Mz5"
      },
      "source": [
        "# Drop missing value"
      ]
    },
    {
      "cell_type": "code",
      "metadata": {
        "id": "HqV5cY-iE9IJ",
        "colab": {
          "base_uri": "https://localhost:8080/"
        },
        "outputId": "e0f534eb-0ffc-46b0-fcc8-350a5c306144"
      },
      "source": [
        "dataset = dataset.drop(['3-gene_classifier_subtype','tumor_stage','primary_tumor_laterality'],axis='columns')\n",
        "dataset.shape"
      ],
      "execution_count": 6,
      "outputs": [
        {
          "output_type": "execute_result",
          "data": {
            "text/plain": [
              "(1904, 685)"
            ]
          },
          "metadata": {},
          "execution_count": 6
        }
      ]
    },
    {
      "cell_type": "code",
      "metadata": {
        "id": "hIXc-Jl90kdU",
        "colab": {
          "base_uri": "https://localhost:8080/"
        },
        "outputId": "5e9f9f1b-ad59-40dc-95a2-a71098888f05"
      },
      "source": [
        "dataset = dataset.dropna(axis='rows')\n",
        "dataset.shape"
      ],
      "execution_count": 7,
      "outputs": [
        {
          "output_type": "execute_result",
          "data": {
            "text/plain": [
              "(1677, 685)"
            ]
          },
          "metadata": {},
          "execution_count": 7
        }
      ]
    },
    {
      "cell_type": "markdown",
      "metadata": {
        "id": "cal0JcGyWXs0"
      },
      "source": [
        "# Create target variable"
      ]
    },
    {
      "cell_type": "code",
      "metadata": {
        "id": "bZmBC2F8Rtij"
      },
      "source": [
        "y = dataset['overall_survival']\n",
        "dataset = dataset.drop('overall_survival', axis ='columns')"
      ],
      "execution_count": 8,
      "outputs": []
    },
    {
      "cell_type": "markdown",
      "metadata": {
        "id": "ui7tG2im5WdH"
      },
      "source": [
        "# Check type of value"
      ]
    },
    {
      "cell_type": "code",
      "metadata": {
        "colab": {
          "base_uri": "https://localhost:8080/"
        },
        "id": "OoGXzZBi1b-c",
        "outputId": "aa7f4d62-f2f3-418b-d3e1-bea357580377"
      },
      "source": [
        "dataset['smarcb1_mut'].value_counts()"
      ],
      "execution_count": 9,
      "outputs": [
        {
          "output_type": "execute_result",
          "data": {
            "text/plain": [
              "0       878\n",
              "0       798\n",
              "I28L      1\n",
              "Name: smarcb1_mut, dtype: int64"
            ]
          },
          "metadata": {},
          "execution_count": 9
        }
      ]
    },
    {
      "cell_type": "code",
      "metadata": {
        "id": "yDYr01S30kdV"
      },
      "source": [
        "list_cat = []\n",
        "for column in dataset.columns:\n",
        "    if column == 'age_at_diagnosis':\n",
        "      break\n",
        "    else:\n",
        "      list_cat.append(column)"
      ],
      "execution_count": 10,
      "outputs": []
    },
    {
      "cell_type": "code",
      "metadata": {
        "id": "1shoIDbK0kdV"
      },
      "source": [
        "for column in list_cat:\n",
        "    dataset[column] = dataset[column].replace([0],'0')"
      ],
      "execution_count": 11,
      "outputs": []
    },
    {
      "cell_type": "code",
      "metadata": {
        "id": "STPpoZP4WweF",
        "colab": {
          "base_uri": "https://localhost:8080/"
        },
        "outputId": "b50b68d0-47c1-457b-98bf-1990be89845e"
      },
      "source": [
        "dataset['smarcb1_mut'].value_counts()"
      ],
      "execution_count": 12,
      "outputs": [
        {
          "output_type": "execute_result",
          "data": {
            "text/plain": [
              "0       1676\n",
              "I28L       1\n",
              "Name: smarcb1_mut, dtype: int64"
            ]
          },
          "metadata": {},
          "execution_count": 12
        }
      ]
    },
    {
      "cell_type": "markdown",
      "metadata": {
        "id": "gnpoBkKp5gLD"
      },
      "source": [
        "# Create clean dataset"
      ]
    },
    {
      "cell_type": "code",
      "metadata": {
        "id": "v3OziE6R0kdW",
        "colab": {
          "base_uri": "https://localhost:8080/"
        },
        "outputId": "1895cee2-3560-44df-9924-53efbf2d4f2d"
      },
      "source": [
        "dataset_new = pd.get_dummies(dataset,columns=list_cat)\n",
        "dataset_new.shape"
      ],
      "execution_count": 13,
      "outputs": [
        {
          "output_type": "execute_result",
          "data": {
            "text/plain": [
              "(1677, 7761)"
            ]
          },
          "metadata": {},
          "execution_count": 13
        }
      ]
    },
    {
      "cell_type": "code",
      "metadata": {
        "id": "xea-2oGC0kdX"
      },
      "source": [
        "dataset_new = dataset_new.astype(np.float16)"
      ],
      "execution_count": 14,
      "outputs": []
    },
    {
      "cell_type": "markdown",
      "metadata": {
        "id": "MeQzUyVi2JBg"
      },
      "source": [
        "# Create feature and label"
      ]
    },
    {
      "cell_type": "code",
      "metadata": {
        "colab": {
          "base_uri": "https://localhost:8080/"
        },
        "id": "CTqQdBnb0kdY",
        "outputId": "2ec249fc-9df6-4914-9973-7e2ccdcc0e07"
      },
      "source": [
        "x = dataset_new.values\n",
        "x.shape"
      ],
      "execution_count": 15,
      "outputs": [
        {
          "output_type": "execute_result",
          "data": {
            "text/plain": [
              "(1677, 7761)"
            ]
          },
          "metadata": {},
          "execution_count": 15
        }
      ]
    },
    {
      "cell_type": "code",
      "metadata": {
        "colab": {
          "base_uri": "https://localhost:8080/"
        },
        "id": "yEIUYaAp0kdZ",
        "outputId": "1174733f-aba3-41f3-d4d8-821b62ff60a9"
      },
      "source": [
        "labelencoder= LabelEncoder()\n",
        "y = labelencoder.fit_transform(y)\n",
        "y.shape"
      ],
      "execution_count": 16,
      "outputs": [
        {
          "output_type": "execute_result",
          "data": {
            "text/plain": [
              "(1677,)"
            ]
          },
          "metadata": {},
          "execution_count": 16
        }
      ]
    },
    {
      "cell_type": "markdown",
      "metadata": {
        "id": "sZ3ibAI82ad-"
      },
      "source": [
        "# Split train and test dataset"
      ]
    },
    {
      "cell_type": "code",
      "metadata": {
        "id": "uYKv4mZF0kdZ"
      },
      "source": [
        "X_train, X_test, y_train, y_test = train_test_split(x, y, test_size = 0.20)"
      ],
      "execution_count": 17,
      "outputs": []
    },
    {
      "cell_type": "markdown",
      "metadata": {
        "id": "NoXyO6pnYhVm"
      },
      "source": [
        "# Train model"
      ]
    },
    {
      "cell_type": "code",
      "metadata": {
        "colab": {
          "base_uri": "https://localhost:8080/"
        },
        "id": "V2l9Q9Gb0kdZ",
        "outputId": "5648f77d-cc26-4206-e880-5008a4053d5c"
      },
      "source": [
        "svclassifier = SVC(kernel='rbf')\n",
        "svclassifier.fit(X_train, y_train)"
      ],
      "execution_count": 18,
      "outputs": [
        {
          "output_type": "execute_result",
          "data": {
            "text/plain": [
              "SVC(C=1.0, break_ties=False, cache_size=200, class_weight=None, coef0=0.0,\n",
              "    decision_function_shape='ovr', degree=3, gamma='scale', kernel='rbf',\n",
              "    max_iter=-1, probability=False, random_state=None, shrinking=True,\n",
              "    tol=0.001, verbose=False)"
            ]
          },
          "metadata": {},
          "execution_count": 18
        }
      ]
    },
    {
      "cell_type": "code",
      "metadata": {
        "id": "Wfjr2xnQ0kda",
        "colab": {
          "base_uri": "https://localhost:8080/"
        },
        "outputId": "f41d161b-c387-42aa-d94a-d6e5ac98e982"
      },
      "source": [
        "y_pred = svclassifier.predict(X_test)\n",
        "\n",
        "print(confusion_matrix(y_test,y_pred))\n",
        "print(classification_report(y_test,y_pred))"
      ],
      "execution_count": 19,
      "outputs": [
        {
          "output_type": "stream",
          "name": "stdout",
          "text": [
            "[[155  41]\n",
            " [ 61  79]]\n",
            "              precision    recall  f1-score   support\n",
            "\n",
            "           0       0.72      0.79      0.75       196\n",
            "           1       0.66      0.56      0.61       140\n",
            "\n",
            "    accuracy                           0.70       336\n",
            "   macro avg       0.69      0.68      0.68       336\n",
            "weighted avg       0.69      0.70      0.69       336\n",
            "\n"
          ]
        }
      ]
    },
    {
      "cell_type": "markdown",
      "metadata": {
        "id": "x0h2fREQZg87"
      },
      "source": [
        "# Experiment 1: without scaling"
      ]
    },
    {
      "cell_type": "code",
      "metadata": {
        "colab": {
          "base_uri": "https://localhost:8080/",
          "height": 1000
        },
        "id": "Jl82MB880kdd",
        "outputId": "11f61133-906e-4868-dbe3-5bc607fbf506"
      },
      "source": [
        "# keeping all models in one list\n",
        "models=[]\n",
        "models.append(('LogisticRegression',LogisticRegression()))\n",
        "models.append(('knn',KNeighborsClassifier(n_neighbors=5)))\n",
        "models.append(('SVC',SVC()))\n",
        "models.append((\"decision_tree\",DecisionTreeClassifier()))\n",
        "models.append(('Naive Bayes',GaussianNB()))\n",
        "\n",
        "# Evaluating Each model\n",
        "predictions=[]\n",
        "experiment_1 = {}\n",
        "error='accuracy'\n",
        "for name,model in models:\n",
        "    fold=KFold(n_splits=10)\n",
        "    result=cross_val_score(model,x,y,cv=fold,scoring=error)\n",
        "    predictions.append(result)\n",
        "    experiment_1[name] = result.mean()\n",
        "\n",
        "# Visualizing the Model accuracy\n",
        "fig=plt.figure()\n",
        "fig.suptitle(\"Comparing Algorithms\")\n",
        "plt.boxplot(predictions)\n",
        "plt.show()"
      ],
      "execution_count": 20,
      "outputs": [
        {
          "output_type": "stream",
          "name": "stderr",
          "text": [
            "/usr/local/lib/python3.7/dist-packages/sklearn/linear_model/_logistic.py:940: ConvergenceWarning: lbfgs failed to converge (status=1):\n",
            "STOP: TOTAL NO. of ITERATIONS REACHED LIMIT.\n",
            "\n",
            "Increase the number of iterations (max_iter) or scale the data as shown in:\n",
            "    https://scikit-learn.org/stable/modules/preprocessing.html\n",
            "Please also refer to the documentation for alternative solver options:\n",
            "    https://scikit-learn.org/stable/modules/linear_model.html#logistic-regression\n",
            "  extra_warning_msg=_LOGISTIC_SOLVER_CONVERGENCE_MSG)\n",
            "/usr/local/lib/python3.7/dist-packages/sklearn/linear_model/_logistic.py:940: ConvergenceWarning: lbfgs failed to converge (status=1):\n",
            "STOP: TOTAL NO. of ITERATIONS REACHED LIMIT.\n",
            "\n",
            "Increase the number of iterations (max_iter) or scale the data as shown in:\n",
            "    https://scikit-learn.org/stable/modules/preprocessing.html\n",
            "Please also refer to the documentation for alternative solver options:\n",
            "    https://scikit-learn.org/stable/modules/linear_model.html#logistic-regression\n",
            "  extra_warning_msg=_LOGISTIC_SOLVER_CONVERGENCE_MSG)\n",
            "/usr/local/lib/python3.7/dist-packages/sklearn/linear_model/_logistic.py:940: ConvergenceWarning: lbfgs failed to converge (status=1):\n",
            "STOP: TOTAL NO. of ITERATIONS REACHED LIMIT.\n",
            "\n",
            "Increase the number of iterations (max_iter) or scale the data as shown in:\n",
            "    https://scikit-learn.org/stable/modules/preprocessing.html\n",
            "Please also refer to the documentation for alternative solver options:\n",
            "    https://scikit-learn.org/stable/modules/linear_model.html#logistic-regression\n",
            "  extra_warning_msg=_LOGISTIC_SOLVER_CONVERGENCE_MSG)\n",
            "/usr/local/lib/python3.7/dist-packages/sklearn/linear_model/_logistic.py:940: ConvergenceWarning: lbfgs failed to converge (status=1):\n",
            "STOP: TOTAL NO. of ITERATIONS REACHED LIMIT.\n",
            "\n",
            "Increase the number of iterations (max_iter) or scale the data as shown in:\n",
            "    https://scikit-learn.org/stable/modules/preprocessing.html\n",
            "Please also refer to the documentation for alternative solver options:\n",
            "    https://scikit-learn.org/stable/modules/linear_model.html#logistic-regression\n",
            "  extra_warning_msg=_LOGISTIC_SOLVER_CONVERGENCE_MSG)\n",
            "/usr/local/lib/python3.7/dist-packages/sklearn/linear_model/_logistic.py:940: ConvergenceWarning: lbfgs failed to converge (status=1):\n",
            "STOP: TOTAL NO. of ITERATIONS REACHED LIMIT.\n",
            "\n",
            "Increase the number of iterations (max_iter) or scale the data as shown in:\n",
            "    https://scikit-learn.org/stable/modules/preprocessing.html\n",
            "Please also refer to the documentation for alternative solver options:\n",
            "    https://scikit-learn.org/stable/modules/linear_model.html#logistic-regression\n",
            "  extra_warning_msg=_LOGISTIC_SOLVER_CONVERGENCE_MSG)\n",
            "/usr/local/lib/python3.7/dist-packages/sklearn/linear_model/_logistic.py:940: ConvergenceWarning: lbfgs failed to converge (status=1):\n",
            "STOP: TOTAL NO. of ITERATIONS REACHED LIMIT.\n",
            "\n",
            "Increase the number of iterations (max_iter) or scale the data as shown in:\n",
            "    https://scikit-learn.org/stable/modules/preprocessing.html\n",
            "Please also refer to the documentation for alternative solver options:\n",
            "    https://scikit-learn.org/stable/modules/linear_model.html#logistic-regression\n",
            "  extra_warning_msg=_LOGISTIC_SOLVER_CONVERGENCE_MSG)\n",
            "/usr/local/lib/python3.7/dist-packages/sklearn/linear_model/_logistic.py:940: ConvergenceWarning: lbfgs failed to converge (status=1):\n",
            "STOP: TOTAL NO. of ITERATIONS REACHED LIMIT.\n",
            "\n",
            "Increase the number of iterations (max_iter) or scale the data as shown in:\n",
            "    https://scikit-learn.org/stable/modules/preprocessing.html\n",
            "Please also refer to the documentation for alternative solver options:\n",
            "    https://scikit-learn.org/stable/modules/linear_model.html#logistic-regression\n",
            "  extra_warning_msg=_LOGISTIC_SOLVER_CONVERGENCE_MSG)\n",
            "/usr/local/lib/python3.7/dist-packages/sklearn/linear_model/_logistic.py:940: ConvergenceWarning: lbfgs failed to converge (status=1):\n",
            "STOP: TOTAL NO. of ITERATIONS REACHED LIMIT.\n",
            "\n",
            "Increase the number of iterations (max_iter) or scale the data as shown in:\n",
            "    https://scikit-learn.org/stable/modules/preprocessing.html\n",
            "Please also refer to the documentation for alternative solver options:\n",
            "    https://scikit-learn.org/stable/modules/linear_model.html#logistic-regression\n",
            "  extra_warning_msg=_LOGISTIC_SOLVER_CONVERGENCE_MSG)\n",
            "/usr/local/lib/python3.7/dist-packages/sklearn/linear_model/_logistic.py:940: ConvergenceWarning: lbfgs failed to converge (status=1):\n",
            "STOP: TOTAL NO. of ITERATIONS REACHED LIMIT.\n",
            "\n",
            "Increase the number of iterations (max_iter) or scale the data as shown in:\n",
            "    https://scikit-learn.org/stable/modules/preprocessing.html\n",
            "Please also refer to the documentation for alternative solver options:\n",
            "    https://scikit-learn.org/stable/modules/linear_model.html#logistic-regression\n",
            "  extra_warning_msg=_LOGISTIC_SOLVER_CONVERGENCE_MSG)\n",
            "/usr/local/lib/python3.7/dist-packages/sklearn/linear_model/_logistic.py:940: ConvergenceWarning: lbfgs failed to converge (status=1):\n",
            "STOP: TOTAL NO. of ITERATIONS REACHED LIMIT.\n",
            "\n",
            "Increase the number of iterations (max_iter) or scale the data as shown in:\n",
            "    https://scikit-learn.org/stable/modules/preprocessing.html\n",
            "Please also refer to the documentation for alternative solver options:\n",
            "    https://scikit-learn.org/stable/modules/linear_model.html#logistic-regression\n",
            "  extra_warning_msg=_LOGISTIC_SOLVER_CONVERGENCE_MSG)\n",
            "/usr/local/lib/python3.7/dist-packages/numpy/core/_methods.py:192: RuntimeWarning: overflow encountered in reduce\n",
            "  arrmean = umr_sum(arr, axis, dtype, keepdims=True)\n",
            "/usr/local/lib/python3.7/dist-packages/numpy/core/_methods.py:216: RuntimeWarning: overflow encountered in reduce\n",
            "  ret = umr_sum(x, axis, dtype, out, keepdims)\n",
            "/usr/local/lib/python3.7/dist-packages/numpy/core/_methods.py:192: RuntimeWarning: overflow encountered in reduce\n",
            "  arrmean = umr_sum(arr, axis, dtype, keepdims=True)\n",
            "/usr/local/lib/python3.7/dist-packages/numpy/core/_methods.py:216: RuntimeWarning: overflow encountered in reduce\n",
            "  ret = umr_sum(x, axis, dtype, out, keepdims)\n",
            "/usr/local/lib/python3.7/dist-packages/numpy/core/_methods.py:192: RuntimeWarning: overflow encountered in reduce\n",
            "  arrmean = umr_sum(arr, axis, dtype, keepdims=True)\n",
            "/usr/local/lib/python3.7/dist-packages/numpy/core/_methods.py:216: RuntimeWarning: overflow encountered in reduce\n",
            "  ret = umr_sum(x, axis, dtype, out, keepdims)\n",
            "/usr/local/lib/python3.7/dist-packages/numpy/core/_methods.py:192: RuntimeWarning: overflow encountered in reduce\n",
            "  arrmean = umr_sum(arr, axis, dtype, keepdims=True)\n",
            "/usr/local/lib/python3.7/dist-packages/numpy/core/_methods.py:216: RuntimeWarning: overflow encountered in reduce\n",
            "  ret = umr_sum(x, axis, dtype, out, keepdims)\n",
            "/usr/local/lib/python3.7/dist-packages/numpy/core/_methods.py:192: RuntimeWarning: overflow encountered in reduce\n",
            "  arrmean = umr_sum(arr, axis, dtype, keepdims=True)\n",
            "/usr/local/lib/python3.7/dist-packages/numpy/core/_methods.py:216: RuntimeWarning: overflow encountered in reduce\n",
            "  ret = umr_sum(x, axis, dtype, out, keepdims)\n",
            "/usr/local/lib/python3.7/dist-packages/numpy/core/_methods.py:192: RuntimeWarning: overflow encountered in reduce\n",
            "  arrmean = umr_sum(arr, axis, dtype, keepdims=True)\n",
            "/usr/local/lib/python3.7/dist-packages/numpy/core/_methods.py:216: RuntimeWarning: overflow encountered in reduce\n",
            "  ret = umr_sum(x, axis, dtype, out, keepdims)\n",
            "/usr/local/lib/python3.7/dist-packages/numpy/core/_methods.py:192: RuntimeWarning: overflow encountered in reduce\n",
            "  arrmean = umr_sum(arr, axis, dtype, keepdims=True)\n",
            "/usr/local/lib/python3.7/dist-packages/numpy/core/_methods.py:216: RuntimeWarning: overflow encountered in reduce\n",
            "  ret = umr_sum(x, axis, dtype, out, keepdims)\n",
            "/usr/local/lib/python3.7/dist-packages/numpy/core/_methods.py:192: RuntimeWarning: overflow encountered in reduce\n",
            "  arrmean = umr_sum(arr, axis, dtype, keepdims=True)\n",
            "/usr/local/lib/python3.7/dist-packages/numpy/core/_methods.py:216: RuntimeWarning: overflow encountered in reduce\n",
            "  ret = umr_sum(x, axis, dtype, out, keepdims)\n",
            "/usr/local/lib/python3.7/dist-packages/numpy/core/_methods.py:192: RuntimeWarning: overflow encountered in reduce\n",
            "  arrmean = umr_sum(arr, axis, dtype, keepdims=True)\n",
            "/usr/local/lib/python3.7/dist-packages/numpy/core/_methods.py:216: RuntimeWarning: overflow encountered in reduce\n",
            "  ret = umr_sum(x, axis, dtype, out, keepdims)\n",
            "/usr/local/lib/python3.7/dist-packages/numpy/core/_methods.py:192: RuntimeWarning: overflow encountered in reduce\n",
            "  arrmean = umr_sum(arr, axis, dtype, keepdims=True)\n",
            "/usr/local/lib/python3.7/dist-packages/numpy/core/_methods.py:216: RuntimeWarning: overflow encountered in reduce\n",
            "  ret = umr_sum(x, axis, dtype, out, keepdims)\n"
          ]
        },
        {
          "output_type": "display_data",
          "data": {
            "image/png": "[encoded data removed]",
            "text/plain": [
              "<Figure size 432x288 with 1 Axes>"
            ]
          },
          "metadata": {
            "needs_background": "light"
          }
        }
      ]
    },
    {
      "cell_type": "code",
      "metadata": {
        "colab": {
          "base_uri": "https://localhost:8080/",
          "height": 81
        },
        "id": "asvdn2mln3pa",
        "outputId": "e843a6d5-b697-4ab6-c468-228443ae774f"
      },
      "source": [
        "\n",
        "pd.DataFrame([experiment_1])"
      ],
      "execution_count": 22,
      "outputs": [
        {
          "output_type": "execute_result",
          "data": {
            "text/html": [
              "<div>\n",
              "<style scoped>\n",
              "    .dataframe tbody tr th:only-of-type {\n",
              "        vertical-align: middle;\n",
              "    }\n",
              "\n",
              "    .dataframe tbody tr th {\n",
              "        vertical-align: top;\n",
              "    }\n",
              "\n",
              "    .dataframe thead th {\n",
              "        text-align: right;\n",
              "    }\n",
              "</style>\n",
              "<table border=\"1\" class=\"dataframe\">\n",
              "  <thead>\n",
              "    <tr style=\"text-align: right;\">\n",
              "      <th></th>\n",
              "      <th>LogisticRegression</th>\n",
              "      <th>knn</th>\n",
              "      <th>SVC</th>\n",
              "      <th>decision_tree</th>\n",
              "      <th>Naive Bayes</th>\n",
              "    </tr>\n",
              "  </thead>\n",
              "  <tbody>\n",
              "    <tr>\n",
              "      <th>0</th>\n",
              "      <td>0.642212</td>\n",
              "      <td>0.66841</td>\n",
              "      <td>0.69403</td>\n",
              "      <td>0.596339</td>\n",
              "      <td>0.582007</td>\n",
              "    </tr>\n",
              "  </tbody>\n",
              "</table>\n",
              "</div>"
            ],
            "text/plain": [
              "   LogisticRegression      knn      SVC  decision_tree  Naive Bayes\n",
              "0            0.642212  0.66841  0.69403       0.596339     0.582007"
            ]
          },
          "metadata": {},
          "execution_count": 22
        }
      ]
    },
    {
      "cell_type": "markdown",
      "metadata": {
        "id": "1ZiJO1E70kde"
      },
      "source": [
        "# Experiment 2: with scaling"
      ]
    },
    {
      "cell_type": "code",
      "metadata": {
        "colab": {
          "base_uri": "https://localhost:8080/",
          "height": 1000
        },
        "id": "diflib2H0kde",
        "outputId": "798f24c0-f1cb-45d5-e109-98e6951c0a50"
      },
      "source": [
        "# Spot Checking and Comparing Algorithms With StandardScaler Scaler\n",
        "pipelines=[]\n",
        "pipelines.append(('scaled Logisitic Regression',Pipeline([('scaler',StandardScaler()),('LogisticRegression',LogisticRegression())])))\n",
        "pipelines.append(('scaled KNN',Pipeline([('scaler',StandardScaler()),('KNN',KNeighborsClassifier(n_neighbors=5))])))\n",
        "pipelines.append(('scaled SVC',Pipeline([('scaler',StandardScaler()),('SVC',SVC())])))\n",
        "pipelines.append(('scaled DecisionTree',Pipeline([('scaler',StandardScaler()),('decision',DecisionTreeClassifier())])))\n",
        "pipelines.append(('scaled naive bayes',Pipeline([('scaler',StandardScaler()),('scaled Naive Bayes',GaussianNB())])))\n",
        "\n",
        "# Evaluating Each model\n",
        "predictions=[]\n",
        "experiment_2 = {}\n",
        "for name,model in models:\n",
        "    fold=KFold(n_splits=10)\n",
        "    result=cross_val_score(model,x,y,cv=fold,scoring=error)\n",
        "    predictions.append(result)\n",
        "    experiment_2[name] = result.mean()\n",
        "\n",
        "# Visualizing the Model accuracy\n",
        "fig=plt.figure()\n",
        "fig.suptitle(\"Comparing Algorithms\")\n",
        "plt.boxplot(predictions)\n",
        "plt.show()"
      ],
      "execution_count": 24,
      "outputs": [
        {
          "output_type": "stream",
          "name": "stderr",
          "text": [
            "/usr/local/lib/python3.7/dist-packages/sklearn/linear_model/_logistic.py:940: ConvergenceWarning: lbfgs failed to converge (status=1):\n",
            "STOP: TOTAL NO. of ITERATIONS REACHED LIMIT.\n",
            "\n",
            "Increase the number of iterations (max_iter) or scale the data as shown in:\n",
            "    https://scikit-learn.org/stable/modules/preprocessing.html\n",
            "Please also refer to the documentation for alternative solver options:\n",
            "    https://scikit-learn.org/stable/modules/linear_model.html#logistic-regression\n",
            "  extra_warning_msg=_LOGISTIC_SOLVER_CONVERGENCE_MSG)\n",
            "/usr/local/lib/python3.7/dist-packages/sklearn/linear_model/_logistic.py:940: ConvergenceWarning: lbfgs failed to converge (status=1):\n",
            "STOP: TOTAL NO. of ITERATIONS REACHED LIMIT.\n",
            "\n",
            "Increase the number of iterations (max_iter) or scale the data as shown in:\n",
            "    https://scikit-learn.org/stable/modules/preprocessing.html\n",
            "Please also refer to the documentation for alternative solver options:\n",
            "    https://scikit-learn.org/stable/modules/linear_model.html#logistic-regression\n",
            "  extra_warning_msg=_LOGISTIC_SOLVER_CONVERGENCE_MSG)\n",
            "/usr/local/lib/python3.7/dist-packages/sklearn/linear_model/_logistic.py:940: ConvergenceWarning: lbfgs failed to converge (status=1):\n",
            "STOP: TOTAL NO. of ITERATIONS REACHED LIMIT.\n",
            "\n",
            "Increase the number of iterations (max_iter) or scale the data as shown in:\n",
            "    https://scikit-learn.org/stable/modules/preprocessing.html\n",
            "Please also refer to the documentation for alternative solver options:\n",
            "    https://scikit-learn.org/stable/modules/linear_model.html#logistic-regression\n",
            "  extra_warning_msg=_LOGISTIC_SOLVER_CONVERGENCE_MSG)\n",
            "/usr/local/lib/python3.7/dist-packages/sklearn/linear_model/_logistic.py:940: ConvergenceWarning: lbfgs failed to converge (status=1):\n",
            "STOP: TOTAL NO. of ITERATIONS REACHED LIMIT.\n",
            "\n",
            "Increase the number of iterations (max_iter) or scale the data as shown in:\n",
            "    https://scikit-learn.org/stable/modules/preprocessing.html\n",
            "Please also refer to the documentation for alternative solver options:\n",
            "    https://scikit-learn.org/stable/modules/linear_model.html#logistic-regression\n",
            "  extra_warning_msg=_LOGISTIC_SOLVER_CONVERGENCE_MSG)\n",
            "/usr/local/lib/python3.7/dist-packages/sklearn/linear_model/_logistic.py:940: ConvergenceWarning: lbfgs failed to converge (status=1):\n",
            "STOP: TOTAL NO. of ITERATIONS REACHED LIMIT.\n",
            "\n",
            "Increase the number of iterations (max_iter) or scale the data as shown in:\n",
            "    https://scikit-learn.org/stable/modules/preprocessing.html\n",
            "Please also refer to the documentation for alternative solver options:\n",
            "    https://scikit-learn.org/stable/modules/linear_model.html#logistic-regression\n",
            "  extra_warning_msg=_LOGISTIC_SOLVER_CONVERGENCE_MSG)\n",
            "/usr/local/lib/python3.7/dist-packages/sklearn/linear_model/_logistic.py:940: ConvergenceWarning: lbfgs failed to converge (status=1):\n",
            "STOP: TOTAL NO. of ITERATIONS REACHED LIMIT.\n",
            "\n",
            "Increase the number of iterations (max_iter) or scale the data as shown in:\n",
            "    https://scikit-learn.org/stable/modules/preprocessing.html\n",
            "Please also refer to the documentation for alternative solver options:\n",
            "    https://scikit-learn.org/stable/modules/linear_model.html#logistic-regression\n",
            "  extra_warning_msg=_LOGISTIC_SOLVER_CONVERGENCE_MSG)\n",
            "/usr/local/lib/python3.7/dist-packages/sklearn/linear_model/_logistic.py:940: ConvergenceWarning: lbfgs failed to converge (status=1):\n",
            "STOP: TOTAL NO. of ITERATIONS REACHED LIMIT.\n",
            "\n",
            "Increase the number of iterations (max_iter) or scale the data as shown in:\n",
            "    https://scikit-learn.org/stable/modules/preprocessing.html\n",
            "Please also refer to the documentation for alternative solver options:\n",
            "    https://scikit-learn.org/stable/modules/linear_model.html#logistic-regression\n",
            "  extra_warning_msg=_LOGISTIC_SOLVER_CONVERGENCE_MSG)\n",
            "/usr/local/lib/python3.7/dist-packages/sklearn/linear_model/_logistic.py:940: ConvergenceWarning: lbfgs failed to converge (status=1):\n",
            "STOP: TOTAL NO. of ITERATIONS REACHED LIMIT.\n",
            "\n",
            "Increase the number of iterations (max_iter) or scale the data as shown in:\n",
            "    https://scikit-learn.org/stable/modules/preprocessing.html\n",
            "Please also refer to the documentation for alternative solver options:\n",
            "    https://scikit-learn.org/stable/modules/linear_model.html#logistic-regression\n",
            "  extra_warning_msg=_LOGISTIC_SOLVER_CONVERGENCE_MSG)\n",
            "/usr/local/lib/python3.7/dist-packages/sklearn/linear_model/_logistic.py:940: ConvergenceWarning: lbfgs failed to converge (status=1):\n",
            "STOP: TOTAL NO. of ITERATIONS REACHED LIMIT.\n",
            "\n",
            "Increase the number of iterations (max_iter) or scale the data as shown in:\n",
            "    https://scikit-learn.org/stable/modules/preprocessing.html\n",
            "Please also refer to the documentation for alternative solver options:\n",
            "    https://scikit-learn.org/stable/modules/linear_model.html#logistic-regression\n",
            "  extra_warning_msg=_LOGISTIC_SOLVER_CONVERGENCE_MSG)\n",
            "/usr/local/lib/python3.7/dist-packages/sklearn/linear_model/_logistic.py:940: ConvergenceWarning: lbfgs failed to converge (status=1):\n",
            "STOP: TOTAL NO. of ITERATIONS REACHED LIMIT.\n",
            "\n",
            "Increase the number of iterations (max_iter) or scale the data as shown in:\n",
            "    https://scikit-learn.org/stable/modules/preprocessing.html\n",
            "Please also refer to the documentation for alternative solver options:\n",
            "    https://scikit-learn.org/stable/modules/linear_model.html#logistic-regression\n",
            "  extra_warning_msg=_LOGISTIC_SOLVER_CONVERGENCE_MSG)\n",
            "/usr/local/lib/python3.7/dist-packages/numpy/core/_methods.py:192: RuntimeWarning: overflow encountered in reduce\n",
            "  arrmean = umr_sum(arr, axis, dtype, keepdims=True)\n",
            "/usr/local/lib/python3.7/dist-packages/numpy/core/_methods.py:216: RuntimeWarning: overflow encountered in reduce\n",
            "  ret = umr_sum(x, axis, dtype, out, keepdims)\n",
            "/usr/local/lib/python3.7/dist-packages/numpy/core/_methods.py:192: RuntimeWarning: overflow encountered in reduce\n",
            "  arrmean = umr_sum(arr, axis, dtype, keepdims=True)\n",
            "/usr/local/lib/python3.7/dist-packages/numpy/core/_methods.py:216: RuntimeWarning: overflow encountered in reduce\n",
            "  ret = umr_sum(x, axis, dtype, out, keepdims)\n",
            "/usr/local/lib/python3.7/dist-packages/numpy/core/_methods.py:192: RuntimeWarning: overflow encountered in reduce\n",
            "  arrmean = umr_sum(arr, axis, dtype, keepdims=True)\n",
            "/usr/local/lib/python3.7/dist-packages/numpy/core/_methods.py:216: RuntimeWarning: overflow encountered in reduce\n",
            "  ret = umr_sum(x, axis, dtype, out, keepdims)\n",
            "/usr/local/lib/python3.7/dist-packages/numpy/core/_methods.py:192: RuntimeWarning: overflow encountered in reduce\n",
            "  arrmean = umr_sum(arr, axis, dtype, keepdims=True)\n",
            "/usr/local/lib/python3.7/dist-packages/numpy/core/_methods.py:216: RuntimeWarning: overflow encountered in reduce\n",
            "  ret = umr_sum(x, axis, dtype, out, keepdims)\n",
            "/usr/local/lib/python3.7/dist-packages/numpy/core/_methods.py:192: RuntimeWarning: overflow encountered in reduce\n",
            "  arrmean = umr_sum(arr, axis, dtype, keepdims=True)\n",
            "/usr/local/lib/python3.7/dist-packages/numpy/core/_methods.py:216: RuntimeWarning: overflow encountered in reduce\n",
            "  ret = umr_sum(x, axis, dtype, out, keepdims)\n",
            "/usr/local/lib/python3.7/dist-packages/numpy/core/_methods.py:192: RuntimeWarning: overflow encountered in reduce\n",
            "  arrmean = umr_sum(arr, axis, dtype, keepdims=True)\n",
            "/usr/local/lib/python3.7/dist-packages/numpy/core/_methods.py:216: RuntimeWarning: overflow encountered in reduce\n",
            "  ret = umr_sum(x, axis, dtype, out, keepdims)\n",
            "/usr/local/lib/python3.7/dist-packages/numpy/core/_methods.py:192: RuntimeWarning: overflow encountered in reduce\n",
            "  arrmean = umr_sum(arr, axis, dtype, keepdims=True)\n",
            "/usr/local/lib/python3.7/dist-packages/numpy/core/_methods.py:216: RuntimeWarning: overflow encountered in reduce\n",
            "  ret = umr_sum(x, axis, dtype, out, keepdims)\n",
            "/usr/local/lib/python3.7/dist-packages/numpy/core/_methods.py:192: RuntimeWarning: overflow encountered in reduce\n",
            "  arrmean = umr_sum(arr, axis, dtype, keepdims=True)\n",
            "/usr/local/lib/python3.7/dist-packages/numpy/core/_methods.py:216: RuntimeWarning: overflow encountered in reduce\n",
            "  ret = umr_sum(x, axis, dtype, out, keepdims)\n",
            "/usr/local/lib/python3.7/dist-packages/numpy/core/_methods.py:192: RuntimeWarning: overflow encountered in reduce\n",
            "  arrmean = umr_sum(arr, axis, dtype, keepdims=True)\n",
            "/usr/local/lib/python3.7/dist-packages/numpy/core/_methods.py:216: RuntimeWarning: overflow encountered in reduce\n",
            "  ret = umr_sum(x, axis, dtype, out, keepdims)\n",
            "/usr/local/lib/python3.7/dist-packages/numpy/core/_methods.py:192: RuntimeWarning: overflow encountered in reduce\n",
            "  arrmean = umr_sum(arr, axis, dtype, keepdims=True)\n",
            "/usr/local/lib/python3.7/dist-packages/numpy/core/_methods.py:216: RuntimeWarning: overflow encountered in reduce\n",
            "  ret = umr_sum(x, axis, dtype, out, keepdims)\n"
          ]
        },
        {
          "output_type": "display_data",
          "data": {
            "image/png": "[encoded data removed]",
            "text/plain": [
              "<Figure size 432x288 with 1 Axes>"
            ]
          },
          "metadata": {
            "needs_background": "light"
          }
        }
      ]
    },
    {
      "cell_type": "code",
      "metadata": {
        "colab": {
          "base_uri": "https://localhost:8080/",
          "height": 112
        },
        "id": "gkCGWd3ZqbU5",
        "outputId": "95c682eb-422b-4c27-a589-3cb78f6e23eb"
      },
      "source": [
        "pd.DataFrame([experiment_1, experiment_2])"
      ],
      "execution_count": 25,
      "outputs": [
        {
          "output_type": "execute_result",
          "data": {
            "text/html": [
              "<div>\n",
              "<style scoped>\n",
              "    .dataframe tbody tr th:only-of-type {\n",
              "        vertical-align: middle;\n",
              "    }\n",
              "\n",
              "    .dataframe tbody tr th {\n",
              "        vertical-align: top;\n",
              "    }\n",
              "\n",
              "    .dataframe thead th {\n",
              "        text-align: right;\n",
              "    }\n",
              "</style>\n",
              "<table border=\"1\" class=\"dataframe\">\n",
              "  <thead>\n",
              "    <tr style=\"text-align: right;\">\n",
              "      <th></th>\n",
              "      <th>LogisticRegression</th>\n",
              "      <th>knn</th>\n",
              "      <th>SVC</th>\n",
              "      <th>decision_tree</th>\n",
              "      <th>Naive Bayes</th>\n",
              "    </tr>\n",
              "  </thead>\n",
              "  <tbody>\n",
              "    <tr>\n",
              "      <th>0</th>\n",
              "      <td>0.642212</td>\n",
              "      <td>0.66841</td>\n",
              "      <td>0.69403</td>\n",
              "      <td>0.596339</td>\n",
              "      <td>0.582007</td>\n",
              "    </tr>\n",
              "    <tr>\n",
              "      <th>1</th>\n",
              "      <td>0.642212</td>\n",
              "      <td>0.66841</td>\n",
              "      <td>0.69403</td>\n",
              "      <td>0.591574</td>\n",
              "      <td>0.582007</td>\n",
              "    </tr>\n",
              "  </tbody>\n",
              "</table>\n",
              "</div>"
            ],
            "text/plain": [
              "   LogisticRegression      knn      SVC  decision_tree  Naive Bayes\n",
              "0            0.642212  0.66841  0.69403       0.596339     0.582007\n",
              "1            0.642212  0.66841  0.69403       0.591574     0.582007"
            ]
          },
          "metadata": {},
          "execution_count": 25
        }
      ]
    },
    {
      "cell_type": "markdown",
      "metadata": {
        "id": "U648U3U8ZwTX"
      },
      "source": [
        "# Experiment 3: dimensional reduction"
      ]
    },
    {
      "cell_type": "code",
      "metadata": {
        "id": "sMqwHqwy-mOg"
      },
      "source": [
        "pca = PCA(n_components=500)\n",
        "new_x = pca.fit_transform(x)"
      ],
      "execution_count": 26,
      "outputs": []
    },
    {
      "cell_type": "code",
      "metadata": {
        "colab": {
          "base_uri": "https://localhost:8080/"
        },
        "id": "abEcyz7K-0M-",
        "outputId": "4d39a627-91e0-47ad-a53e-4a173c76dccf"
      },
      "source": [
        "sum = 0\n",
        "for i in pca.explained_variance_ratio_:\n",
        "  sum = sum +i\n",
        "\n",
        "print(\"Overall variation :\", sum)"
      ],
      "execution_count": 27,
      "outputs": [
        {
          "output_type": "stream",
          "name": "stdout",
          "text": [
            "Overall variation : 0.992588985266454\n"
          ]
        }
      ]
    },
    {
      "cell_type": "code",
      "metadata": {
        "colab": {
          "base_uri": "https://localhost:8080/"
        },
        "id": "wW0P9EyD_DV9",
        "outputId": "4d777d88-0414-4488-8a73-d0815b070d97"
      },
      "source": [
        "new_x.shape"
      ],
      "execution_count": 28,
      "outputs": [
        {
          "output_type": "execute_result",
          "data": {
            "text/plain": [
              "(1677, 500)"
            ]
          },
          "metadata": {},
          "execution_count": 28
        }
      ]
    },
    {
      "cell_type": "code",
      "metadata": {
        "colab": {
          "base_uri": "https://localhost:8080/",
          "height": 1000
        },
        "id": "Cd-YKQEg_tV2",
        "outputId": "e84c1de1-ef67-4617-88fa-5d04cc6746e6"
      },
      "source": [
        "# Spotcheck and compare algorithms with out applying feature scale.......\n",
        "n_neighbors=5\n",
        "\n",
        "# keeping all models in one list\n",
        "models=[]\n",
        "models.append(('LogisticRegression',LogisticRegression()))\n",
        "models.append(('knn',KNeighborsClassifier(n_neighbors=n_neighbors)))\n",
        "models.append(('SVC',SVC()))\n",
        "models.append((\"decision_tree\",DecisionTreeClassifier()))\n",
        "models.append(('Naive Bayes',GaussianNB()))\n",
        "\n",
        "# Evaluating Each model\n",
        "predictions=[]\n",
        "error='accuracy'\n",
        "experiment_3 = {}\n",
        "for name,model in models:\n",
        "    fold=KFold(n_splits=10)\n",
        "    result=cross_val_score(model,new_x,y,cv=fold,scoring=error)\n",
        "    predictions.append(result)\n",
        "    experiment_3[name] = result.mean()\n",
        "\n",
        "# Visualizing the Model accuracy\n",
        "fig=plt.figure()\n",
        "fig.suptitle(\"Comparing Algorithms\")\n",
        "plt.boxplot(predictions)\n",
        "plt.show()"
      ],
      "execution_count": 29,
      "outputs": [
        {
          "output_type": "stream",
          "name": "stderr",
          "text": [
            "/usr/local/lib/python3.7/dist-packages/sklearn/linear_model/_logistic.py:940: ConvergenceWarning: lbfgs failed to converge (status=1):\n",
            "STOP: TOTAL NO. of ITERATIONS REACHED LIMIT.\n",
            "\n",
            "Increase the number of iterations (max_iter) or scale the data as shown in:\n",
            "    https://scikit-learn.org/stable/modules/preprocessing.html\n",
            "Please also refer to the documentation for alternative solver options:\n",
            "    https://scikit-learn.org/stable/modules/linear_model.html#logistic-regression\n",
            "  extra_warning_msg=_LOGISTIC_SOLVER_CONVERGENCE_MSG)\n",
            "/usr/local/lib/python3.7/dist-packages/sklearn/linear_model/_logistic.py:940: ConvergenceWarning: lbfgs failed to converge (status=1):\n",
            "STOP: TOTAL NO. of ITERATIONS REACHED LIMIT.\n",
            "\n",
            "Increase the number of iterations (max_iter) or scale the data as shown in:\n",
            "    https://scikit-learn.org/stable/modules/preprocessing.html\n",
            "Please also refer to the documentation for alternative solver options:\n",
            "    https://scikit-learn.org/stable/modules/linear_model.html#logistic-regression\n",
            "  extra_warning_msg=_LOGISTIC_SOLVER_CONVERGENCE_MSG)\n",
            "/usr/local/lib/python3.7/dist-packages/sklearn/linear_model/_logistic.py:940: ConvergenceWarning: lbfgs failed to converge (status=1):\n",
            "STOP: TOTAL NO. of ITERATIONS REACHED LIMIT.\n",
            "\n",
            "Increase the number of iterations (max_iter) or scale the data as shown in:\n",
            "    https://scikit-learn.org/stable/modules/preprocessing.html\n",
            "Please also refer to the documentation for alternative solver options:\n",
            "    https://scikit-learn.org/stable/modules/linear_model.html#logistic-regression\n",
            "  extra_warning_msg=_LOGISTIC_SOLVER_CONVERGENCE_MSG)\n",
            "/usr/local/lib/python3.7/dist-packages/sklearn/linear_model/_logistic.py:940: ConvergenceWarning: lbfgs failed to converge (status=1):\n",
            "STOP: TOTAL NO. of ITERATIONS REACHED LIMIT.\n",
            "\n",
            "Increase the number of iterations (max_iter) or scale the data as shown in:\n",
            "    https://scikit-learn.org/stable/modules/preprocessing.html\n",
            "Please also refer to the documentation for alternative solver options:\n",
            "    https://scikit-learn.org/stable/modules/linear_model.html#logistic-regression\n",
            "  extra_warning_msg=_LOGISTIC_SOLVER_CONVERGENCE_MSG)\n",
            "/usr/local/lib/python3.7/dist-packages/sklearn/linear_model/_logistic.py:940: ConvergenceWarning: lbfgs failed to converge (status=1):\n",
            "STOP: TOTAL NO. of ITERATIONS REACHED LIMIT.\n",
            "\n",
            "Increase the number of iterations (max_iter) or scale the data as shown in:\n",
            "    https://scikit-learn.org/stable/modules/preprocessing.html\n",
            "Please also refer to the documentation for alternative solver options:\n",
            "    https://scikit-learn.org/stable/modules/linear_model.html#logistic-regression\n",
            "  extra_warning_msg=_LOGISTIC_SOLVER_CONVERGENCE_MSG)\n",
            "/usr/local/lib/python3.7/dist-packages/sklearn/linear_model/_logistic.py:940: ConvergenceWarning: lbfgs failed to converge (status=1):\n",
            "STOP: TOTAL NO. of ITERATIONS REACHED LIMIT.\n",
            "\n",
            "Increase the number of iterations (max_iter) or scale the data as shown in:\n",
            "    https://scikit-learn.org/stable/modules/preprocessing.html\n",
            "Please also refer to the documentation for alternative solver options:\n",
            "    https://scikit-learn.org/stable/modules/linear_model.html#logistic-regression\n",
            "  extra_warning_msg=_LOGISTIC_SOLVER_CONVERGENCE_MSG)\n",
            "/usr/local/lib/python3.7/dist-packages/sklearn/linear_model/_logistic.py:940: ConvergenceWarning: lbfgs failed to converge (status=1):\n",
            "STOP: TOTAL NO. of ITERATIONS REACHED LIMIT.\n",
            "\n",
            "Increase the number of iterations (max_iter) or scale the data as shown in:\n",
            "    https://scikit-learn.org/stable/modules/preprocessing.html\n",
            "Please also refer to the documentation for alternative solver options:\n",
            "    https://scikit-learn.org/stable/modules/linear_model.html#logistic-regression\n",
            "  extra_warning_msg=_LOGISTIC_SOLVER_CONVERGENCE_MSG)\n",
            "/usr/local/lib/python3.7/dist-packages/sklearn/linear_model/_logistic.py:940: ConvergenceWarning: lbfgs failed to converge (status=1):\n",
            "STOP: TOTAL NO. of ITERATIONS REACHED LIMIT.\n",
            "\n",
            "Increase the number of iterations (max_iter) or scale the data as shown in:\n",
            "    https://scikit-learn.org/stable/modules/preprocessing.html\n",
            "Please also refer to the documentation for alternative solver options:\n",
            "    https://scikit-learn.org/stable/modules/linear_model.html#logistic-regression\n",
            "  extra_warning_msg=_LOGISTIC_SOLVER_CONVERGENCE_MSG)\n",
            "/usr/local/lib/python3.7/dist-packages/sklearn/linear_model/_logistic.py:940: ConvergenceWarning: lbfgs failed to converge (status=1):\n",
            "STOP: TOTAL NO. of ITERATIONS REACHED LIMIT.\n",
            "\n",
            "Increase the number of iterations (max_iter) or scale the data as shown in:\n",
            "    https://scikit-learn.org/stable/modules/preprocessing.html\n",
            "Please also refer to the documentation for alternative solver options:\n",
            "    https://scikit-learn.org/stable/modules/linear_model.html#logistic-regression\n",
            "  extra_warning_msg=_LOGISTIC_SOLVER_CONVERGENCE_MSG)\n",
            "/usr/local/lib/python3.7/dist-packages/sklearn/linear_model/_logistic.py:940: ConvergenceWarning: lbfgs failed to converge (status=1):\n",
            "STOP: TOTAL NO. of ITERATIONS REACHED LIMIT.\n",
            "\n",
            "Increase the number of iterations (max_iter) or scale the data as shown in:\n",
            "    https://scikit-learn.org/stable/modules/preprocessing.html\n",
            "Please also refer to the documentation for alternative solver options:\n",
            "    https://scikit-learn.org/stable/modules/linear_model.html#logistic-regression\n",
            "  extra_warning_msg=_LOGISTIC_SOLVER_CONVERGENCE_MSG)\n"
          ]
        },
        {
          "output_type": "display_data",
          "data": {
            "image/png": "[encoded data removed]",
            "text/plain": [
              "<Figure size 432x288 with 1 Axes>"
            ]
          },
          "metadata": {
            "needs_background": "light"
          }
        }
      ]
    },
    {
      "cell_type": "code",
      "metadata": {
        "colab": {
          "base_uri": "https://localhost:8080/",
          "height": 143
        },
        "id": "9QUvzIeNr0HR",
        "outputId": "aedb5363-a3db-4a49-c512-d160ce187057"
      },
      "source": [
        "pd.DataFrame([experiment_1, experiment_2, experiment_3])"
      ],
      "execution_count": 30,
      "outputs": [
        {
          "output_type": "execute_result",
          "data": {
            "text/html": [
              "<div>\n",
              "<style scoped>\n",
              "    .dataframe tbody tr th:only-of-type {\n",
              "        vertical-align: middle;\n",
              "    }\n",
              "\n",
              "    .dataframe tbody tr th {\n",
              "        vertical-align: top;\n",
              "    }\n",
              "\n",
              "    .dataframe thead th {\n",
              "        text-align: right;\n",
              "    }\n",
              "</style>\n",
              "<table border=\"1\" class=\"dataframe\">\n",
              "  <thead>\n",
              "    <tr style=\"text-align: right;\">\n",
              "      <th></th>\n",
              "      <th>LogisticRegression</th>\n",
              "      <th>knn</th>\n",
              "      <th>SVC</th>\n",
              "      <th>decision_tree</th>\n",
              "      <th>Naive Bayes</th>\n",
              "    </tr>\n",
              "  </thead>\n",
              "  <tbody>\n",
              "    <tr>\n",
              "      <th>0</th>\n",
              "      <td>0.642212</td>\n",
              "      <td>0.66841</td>\n",
              "      <td>0.69403</td>\n",
              "      <td>0.596339</td>\n",
              "      <td>0.582007</td>\n",
              "    </tr>\n",
              "    <tr>\n",
              "      <th>1</th>\n",
              "      <td>0.642212</td>\n",
              "      <td>0.66841</td>\n",
              "      <td>0.69403</td>\n",
              "      <td>0.591574</td>\n",
              "      <td>0.582007</td>\n",
              "    </tr>\n",
              "    <tr>\n",
              "      <th>2</th>\n",
              "      <td>0.634456</td>\n",
              "      <td>0.66960</td>\n",
              "      <td>0.70119</td>\n",
              "      <td>0.581975</td>\n",
              "      <td>0.587272</td>\n",
              "    </tr>\n",
              "  </tbody>\n",
              "</table>\n",
              "</div>"
            ],
            "text/plain": [
              "   LogisticRegression      knn      SVC  decision_tree  Naive Bayes\n",
              "0            0.642212  0.66841  0.69403       0.596339     0.582007\n",
              "1            0.642212  0.66841  0.69403       0.591574     0.582007\n",
              "2            0.634456  0.66960  0.70119       0.581975     0.587272"
            ]
          },
          "metadata": {},
          "execution_count": 30
        }
      ]
    },
    {
      "cell_type": "markdown",
      "metadata": {
        "id": "VtJpfLblfN2F"
      },
      "source": [
        "# Experiment 4: Autoencoder"
      ]
    },
    {
      "cell_type": "code",
      "metadata": {
        "id": "KhDwtYrIfI9X"
      },
      "source": [
        "latent_dim = 500 \n",
        "\n",
        "class Autoencoder(Model):\n",
        "  def __init__(self, latent_dim):\n",
        "    super(Autoencoder, self).__init__()\n",
        "    self.latent_dim = latent_dim   \n",
        "    self.encoder = tf.keras.Sequential([\n",
        "      layers.Dense(4000, activation='relu',input_shape=(7761,)),\n",
        "      layers.BatchNormalization(),\n",
        "      layers.Dense(2000, activation='relu'),\n",
        "      layers.BatchNormalization(),\n",
        "      layers.Dense(1000, activation='relu'),\n",
        "      layers.BatchNormalization(),\n",
        "      layers.Dense(latent_dim, activation='relu'),\n",
        "    ])\n",
        "    self.decoder = tf.keras.Sequential([\n",
        "      layers.Dense(1000, activation='relu',input_shape=(latent_dim,)),\n",
        "      layers.BatchNormalization(),\n",
        "      layers.Dense(2000, activation='relu'), \n",
        "      layers.BatchNormalization(), \n",
        "      layers.Dense(4000, activation='relu'), \n",
        "      layers.BatchNormalization(),                                       \n",
        "      layers.Dense(7761 , activation='tanh'),\n",
        "    ])\n",
        "\n",
        "  def call(self, x):\n",
        "    encoded = self.encoder(x)\n",
        "    decoded = self.decoder(encoded)\n",
        "    return decoded"
      ],
      "execution_count": 32,
      "outputs": []
    },
    {
      "cell_type": "code",
      "metadata": {
        "id": "_K5mfjOTgYuK"
      },
      "source": [
        "autoencoder = Autoencoder(latent_dim)"
      ],
      "execution_count": 33,
      "outputs": []
    },
    {
      "cell_type": "code",
      "metadata": {
        "id": "JmBsyycKi1GU"
      },
      "source": [
        "from keras import metrics, Input\n",
        "metrics = [\n",
        "    metrics.RootMeanSquaredError(name='rms'),\n",
        "    metrics.MeanAbsoluteError(name='mae')\n",
        "]"
      ],
      "execution_count": 34,
      "outputs": []
    },
    {
      "cell_type": "code",
      "metadata": {
        "id": "yRXPCifggZH2"
      },
      "source": [
        "autoencoder.compile(optimizer='RMSprop', loss='mean_squared_error', metrics=[metrics])"
      ],
      "execution_count": 35,
      "outputs": []
    },
    {
      "cell_type": "code",
      "metadata": {
        "colab": {
          "base_uri": "https://localhost:8080/"
        },
        "id": "5iqUY2NRgdbe",
        "outputId": "ccc2ae7c-fed4-4686-a289-7fa64e2bab9d"
      },
      "source": [
        "autoencoder.fit(X_train, X_train,\n",
        "                epochs=20,\n",
        "                shuffle=True,\n",
        "                validation_data=(X_test, X_test))"
      ],
      "execution_count": 36,
      "outputs": [
        {
          "output_type": "stream",
          "name": "stdout",
          "text": [
            "Epoch 1/20\n",
            "42/42 [==============================] - 47s 1s/step - loss: 1.0365 - rms: 1.0181 - mae: 0.5501 - val_loss: 1.7110 - val_rms: 1.3080 - val_mae: 0.9979\n",
            "Epoch 2/20\n",
            "42/42 [==============================] - 45s 1s/step - loss: 0.8344 - rms: 0.9135 - mae: 0.3502 - val_loss: 1.0292 - val_rms: 1.0145 - val_mae: 0.4902\n",
            "Epoch 3/20\n",
            "42/42 [==============================] - 43s 1s/step - loss: 0.8037 - rms: 0.8965 - mae: 0.2962 - val_loss: 1.3377 - val_rms: 1.1566 - val_mae: 0.6909\n",
            "Epoch 4/20\n",
            "42/42 [==============================] - 43s 1s/step - loss: 0.7461 - rms: 0.8638 - mae: 0.2192 - val_loss: 0.8683 - val_rms: 0.9318 - val_mae: 0.3742\n",
            "Epoch 5/20\n",
            "42/42 [==============================] - 45s 1s/step - loss: 0.7397 - rms: 0.8601 - mae: 0.2065 - val_loss: 1.1398 - val_rms: 1.0676 - val_mae: 0.5194\n",
            "Epoch 6/20\n",
            "42/42 [==============================] - 42s 994ms/step - loss: 0.7218 - rms: 0.8496 - mae: 0.1671 - val_loss: 1.4333 - val_rms: 1.1972 - val_mae: 0.7647\n",
            "Epoch 7/20\n",
            "42/42 [==============================] - 40s 939ms/step - loss: 0.7028 - rms: 0.8383 - mae: 0.1324 - val_loss: 1.3393 - val_rms: 1.1573 - val_mae: 0.7005\n",
            "Epoch 8/20\n",
            "42/42 [==============================] - 42s 986ms/step - loss: 0.7197 - rms: 0.8483 - mae: 0.1541 - val_loss: 1.1351 - val_rms: 1.0654 - val_mae: 0.5476\n",
            "Epoch 9/20\n",
            "42/42 [==============================] - 42s 1s/step - loss: 0.7165 - rms: 0.8465 - mae: 0.1576 - val_loss: 0.8004 - val_rms: 0.8946 - val_mae: 0.2448\n",
            "Epoch 10/20\n",
            "42/42 [==============================] - 41s 982ms/step - loss: 0.7332 - rms: 0.8563 - mae: 0.1774 - val_loss: 0.9404 - val_rms: 0.9697 - val_mae: 0.3712\n",
            "Epoch 11/20\n",
            "42/42 [==============================] - 41s 980ms/step - loss: 0.7035 - rms: 0.8388 - mae: 0.1322 - val_loss: 0.6827 - val_rms: 0.8263 - val_mae: 0.1079\n",
            "Epoch 12/20\n",
            "42/42 [==============================] - 43s 1s/step - loss: 0.6995 - rms: 0.8363 - mae: 0.1228 - val_loss: 0.6881 - val_rms: 0.8295 - val_mae: 0.1320\n",
            "Epoch 13/20\n",
            "42/42 [==============================] - 42s 991ms/step - loss: 0.7065 - rms: 0.8406 - mae: 0.1484 - val_loss: 0.6886 - val_rms: 0.8298 - val_mae: 0.1337\n",
            "Epoch 14/20\n",
            "42/42 [==============================] - 42s 1s/step - loss: 0.7245 - rms: 0.8512 - mae: 0.1791 - val_loss: 0.9248 - val_rms: 0.9617 - val_mae: 0.4364\n",
            "Epoch 15/20\n",
            "42/42 [==============================] - 42s 1s/step - loss: 0.7250 - rms: 0.8515 - mae: 0.1826 - val_loss: 1.1172 - val_rms: 1.0570 - val_mae: 0.5300\n",
            "Epoch 16/20\n",
            "42/42 [==============================] - 42s 999ms/step - loss: 0.7076 - rms: 0.8412 - mae: 0.1537 - val_loss: 1.0536 - val_rms: 1.0264 - val_mae: 0.5211\n",
            "Epoch 17/20\n",
            "42/42 [==============================] - 41s 981ms/step - loss: 0.6972 - rms: 0.8350 - mae: 0.1293 - val_loss: 1.0612 - val_rms: 1.0302 - val_mae: 0.5204\n",
            "Epoch 18/20\n",
            "42/42 [==============================] - 41s 973ms/step - loss: 0.7127 - rms: 0.8442 - mae: 0.1438 - val_loss: 0.8490 - val_rms: 0.9214 - val_mae: 0.3098\n",
            "Epoch 19/20\n",
            "42/42 [==============================] - 41s 970ms/step - loss: 0.7063 - rms: 0.8404 - mae: 0.1305 - val_loss: 0.6943 - val_rms: 0.8332 - val_mae: 0.1211\n",
            "Epoch 20/20\n",
            "42/42 [==============================] - 40s 962ms/step - loss: 0.6943 - rms: 0.8333 - mae: 0.1119 - val_loss: 0.6864 - val_rms: 0.8285 - val_mae: 0.1599\n"
          ]
        },
        {
          "output_type": "execute_result",
          "data": {
            "text/plain": [
              "<keras.callbacks.History at 0x7f2002882810>"
            ]
          },
          "metadata": {},
          "execution_count": 36
        }
      ]
    },
    {
      "cell_type": "code",
      "metadata": {
        "id": "Mja2HRfFEkfA"
      },
      "source": [
        "x_encoded_data = autoencoder.encoder(x).numpy()"
      ],
      "execution_count": 37,
      "outputs": []
    },
    {
      "cell_type": "code",
      "metadata": {
        "colab": {
          "base_uri": "https://localhost:8080/"
        },
        "id": "eVspL5BJF3-t",
        "outputId": "bb678d80-2e84-485f-f348-7c22b3cffbd6"
      },
      "source": [
        "x_encoded_data.shape"
      ],
      "execution_count": 38,
      "outputs": [
        {
          "output_type": "execute_result",
          "data": {
            "text/plain": [
              "(1677, 500)"
            ]
          },
          "metadata": {},
          "execution_count": 38
        }
      ]
    },
    {
      "cell_type": "code",
      "metadata": {
        "colab": {
          "base_uri": "https://localhost:8080/",
          "height": 1000
        },
        "id": "5fD7DDdbGJJn",
        "outputId": "6680c9cc-0af3-4419-be1d-d491dbb4b82a"
      },
      "source": [
        "# Spotcheck and compare algorithms with out applying feature scale.......\n",
        "n_neighbors=5\n",
        "\n",
        "# keeping all models in one list\n",
        "models=[]\n",
        "models.append(('LogisticRegression',LogisticRegression()))\n",
        "models.append(('knn',KNeighborsClassifier(n_neighbors=n_neighbors)))\n",
        "models.append(('SVC',SVC()))\n",
        "models.append((\"decision_tree\",DecisionTreeClassifier()))\n",
        "models.append(('Naive Bayes',GaussianNB()))\n",
        "\n",
        "# Evaluating Each model\n",
        "predictions=[]\n",
        "error='accuracy'\n",
        "experiment_4 = {}\n",
        "for name,model in models:\n",
        "    fold=KFold(n_splits=10)\n",
        "    result=cross_val_score(model,x_encoded_data,y,cv=fold,scoring=error)\n",
        "    predictions.append(result)\n",
        "    experiment_4[name] = result.mean()\n",
        "    \n",
        "# Visualizing the Model accuracy\n",
        "fig=plt.figure()\n",
        "fig.suptitle(\"Comparing Algorithms\")\n",
        "plt.boxplot(predictions)\n",
        "plt.show()"
      ],
      "execution_count": 39,
      "outputs": [
        {
          "output_type": "stream",
          "name": "stderr",
          "text": [
            "/usr/local/lib/python3.7/dist-packages/sklearn/linear_model/_logistic.py:940: ConvergenceWarning: lbfgs failed to converge (status=1):\n",
            "STOP: TOTAL NO. of ITERATIONS REACHED LIMIT.\n",
            "\n",
            "Increase the number of iterations (max_iter) or scale the data as shown in:\n",
            "    https://scikit-learn.org/stable/modules/preprocessing.html\n",
            "Please also refer to the documentation for alternative solver options:\n",
            "    https://scikit-learn.org/stable/modules/linear_model.html#logistic-regression\n",
            "  extra_warning_msg=_LOGISTIC_SOLVER_CONVERGENCE_MSG)\n",
            "/usr/local/lib/python3.7/dist-packages/sklearn/linear_model/_logistic.py:940: ConvergenceWarning: lbfgs failed to converge (status=1):\n",
            "STOP: TOTAL NO. of ITERATIONS REACHED LIMIT.\n",
            "\n",
            "Increase the number of iterations (max_iter) or scale the data as shown in:\n",
            "    https://scikit-learn.org/stable/modules/preprocessing.html\n",
            "Please also refer to the documentation for alternative solver options:\n",
            "    https://scikit-learn.org/stable/modules/linear_model.html#logistic-regression\n",
            "  extra_warning_msg=_LOGISTIC_SOLVER_CONVERGENCE_MSG)\n",
            "/usr/local/lib/python3.7/dist-packages/sklearn/linear_model/_logistic.py:940: ConvergenceWarning: lbfgs failed to converge (status=1):\n",
            "STOP: TOTAL NO. of ITERATIONS REACHED LIMIT.\n",
            "\n",
            "Increase the number of iterations (max_iter) or scale the data as shown in:\n",
            "    https://scikit-learn.org/stable/modules/preprocessing.html\n",
            "Please also refer to the documentation for alternative solver options:\n",
            "    https://scikit-learn.org/stable/modules/linear_model.html#logistic-regression\n",
            "  extra_warning_msg=_LOGISTIC_SOLVER_CONVERGENCE_MSG)\n",
            "/usr/local/lib/python3.7/dist-packages/sklearn/linear_model/_logistic.py:940: ConvergenceWarning: lbfgs failed to converge (status=1):\n",
            "STOP: TOTAL NO. of ITERATIONS REACHED LIMIT.\n",
            "\n",
            "Increase the number of iterations (max_iter) or scale the data as shown in:\n",
            "    https://scikit-learn.org/stable/modules/preprocessing.html\n",
            "Please also refer to the documentation for alternative solver options:\n",
            "    https://scikit-learn.org/stable/modules/linear_model.html#logistic-regression\n",
            "  extra_warning_msg=_LOGISTIC_SOLVER_CONVERGENCE_MSG)\n",
            "/usr/local/lib/python3.7/dist-packages/sklearn/linear_model/_logistic.py:940: ConvergenceWarning: lbfgs failed to converge (status=1):\n",
            "STOP: TOTAL NO. of ITERATIONS REACHED LIMIT.\n",
            "\n",
            "Increase the number of iterations (max_iter) or scale the data as shown in:\n",
            "    https://scikit-learn.org/stable/modules/preprocessing.html\n",
            "Please also refer to the documentation for alternative solver options:\n",
            "    https://scikit-learn.org/stable/modules/linear_model.html#logistic-regression\n",
            "  extra_warning_msg=_LOGISTIC_SOLVER_CONVERGENCE_MSG)\n",
            "/usr/local/lib/python3.7/dist-packages/sklearn/linear_model/_logistic.py:940: ConvergenceWarning: lbfgs failed to converge (status=1):\n",
            "STOP: TOTAL NO. of ITERATIONS REACHED LIMIT.\n",
            "\n",
            "Increase the number of iterations (max_iter) or scale the data as shown in:\n",
            "    https://scikit-learn.org/stable/modules/preprocessing.html\n",
            "Please also refer to the documentation for alternative solver options:\n",
            "    https://scikit-learn.org/stable/modules/linear_model.html#logistic-regression\n",
            "  extra_warning_msg=_LOGISTIC_SOLVER_CONVERGENCE_MSG)\n",
            "/usr/local/lib/python3.7/dist-packages/sklearn/linear_model/_logistic.py:940: ConvergenceWarning: lbfgs failed to converge (status=1):\n",
            "STOP: TOTAL NO. of ITERATIONS REACHED LIMIT.\n",
            "\n",
            "Increase the number of iterations (max_iter) or scale the data as shown in:\n",
            "    https://scikit-learn.org/stable/modules/preprocessing.html\n",
            "Please also refer to the documentation for alternative solver options:\n",
            "    https://scikit-learn.org/stable/modules/linear_model.html#logistic-regression\n",
            "  extra_warning_msg=_LOGISTIC_SOLVER_CONVERGENCE_MSG)\n",
            "/usr/local/lib/python3.7/dist-packages/sklearn/linear_model/_logistic.py:940: ConvergenceWarning: lbfgs failed to converge (status=1):\n",
            "STOP: TOTAL NO. of ITERATIONS REACHED LIMIT.\n",
            "\n",
            "Increase the number of iterations (max_iter) or scale the data as shown in:\n",
            "    https://scikit-learn.org/stable/modules/preprocessing.html\n",
            "Please also refer to the documentation for alternative solver options:\n",
            "    https://scikit-learn.org/stable/modules/linear_model.html#logistic-regression\n",
            "  extra_warning_msg=_LOGISTIC_SOLVER_CONVERGENCE_MSG)\n",
            "/usr/local/lib/python3.7/dist-packages/sklearn/linear_model/_logistic.py:940: ConvergenceWarning: lbfgs failed to converge (status=1):\n",
            "STOP: TOTAL NO. of ITERATIONS REACHED LIMIT.\n",
            "\n",
            "Increase the number of iterations (max_iter) or scale the data as shown in:\n",
            "    https://scikit-learn.org/stable/modules/preprocessing.html\n",
            "Please also refer to the documentation for alternative solver options:\n",
            "    https://scikit-learn.org/stable/modules/linear_model.html#logistic-regression\n",
            "  extra_warning_msg=_LOGISTIC_SOLVER_CONVERGENCE_MSG)\n",
            "/usr/local/lib/python3.7/dist-packages/sklearn/linear_model/_logistic.py:940: ConvergenceWarning: lbfgs failed to converge (status=1):\n",
            "STOP: TOTAL NO. of ITERATIONS REACHED LIMIT.\n",
            "\n",
            "Increase the number of iterations (max_iter) or scale the data as shown in:\n",
            "    https://scikit-learn.org/stable/modules/preprocessing.html\n",
            "Please also refer to the documentation for alternative solver options:\n",
            "    https://scikit-learn.org/stable/modules/linear_model.html#logistic-regression\n",
            "  extra_warning_msg=_LOGISTIC_SOLVER_CONVERGENCE_MSG)\n"
          ]
        },
        {
          "output_type": "display_data",
          "data": {
            "image/png": "[encoded data removed]",
            "text/plain": [
              "<Figure size 432x288 with 1 Axes>"
            ]
          },
          "metadata": {
            "needs_background": "light"
          }
        }
      ]
    },
    {
      "cell_type": "code",
      "metadata": {
        "colab": {
          "base_uri": "https://localhost:8080/",
          "height": 175
        },
        "id": "HVUKUzD_ww69",
        "outputId": "ea70e8ab-b632-443c-d331-087ae8942edd"
      },
      "source": [
        "pd.DataFrame([experiment_1, experiment_2, experiment_3, experiment_4])"
      ],
      "execution_count": 40,
      "outputs": [
        {
          "output_type": "execute_result",
          "data": {
            "text/html": [
              "<div>\n",
              "<style scoped>\n",
              "    .dataframe tbody tr th:only-of-type {\n",
              "        vertical-align: middle;\n",
              "    }\n",
              "\n",
              "    .dataframe tbody tr th {\n",
              "        vertical-align: top;\n",
              "    }\n",
              "\n",
              "    .dataframe thead th {\n",
              "        text-align: right;\n",
              "    }\n",
              "</style>\n",
              "<table border=\"1\" class=\"dataframe\">\n",
              "  <thead>\n",
              "    <tr style=\"text-align: right;\">\n",
              "      <th></th>\n",
              "      <th>LogisticRegression</th>\n",
              "      <th>knn</th>\n",
              "      <th>SVC</th>\n",
              "      <th>decision_tree</th>\n",
              "      <th>Naive Bayes</th>\n",
              "    </tr>\n",
              "  </thead>\n",
              "  <tbody>\n",
              "    <tr>\n",
              "      <th>0</th>\n",
              "      <td>0.642212</td>\n",
              "      <td>0.668410</td>\n",
              "      <td>0.694030</td>\n",
              "      <td>0.596339</td>\n",
              "      <td>0.582007</td>\n",
              "    </tr>\n",
              "    <tr>\n",
              "      <th>1</th>\n",
              "      <td>0.642212</td>\n",
              "      <td>0.668410</td>\n",
              "      <td>0.694030</td>\n",
              "      <td>0.591574</td>\n",
              "      <td>0.582007</td>\n",
              "    </tr>\n",
              "    <tr>\n",
              "      <th>2</th>\n",
              "      <td>0.634456</td>\n",
              "      <td>0.669600</td>\n",
              "      <td>0.701190</td>\n",
              "      <td>0.581975</td>\n",
              "      <td>0.587272</td>\n",
              "    </tr>\n",
              "    <tr>\n",
              "      <th>3</th>\n",
              "      <td>0.605774</td>\n",
              "      <td>0.565868</td>\n",
              "      <td>0.582004</td>\n",
              "      <td>0.553924</td>\n",
              "      <td>0.554477</td>\n",
              "    </tr>\n",
              "  </tbody>\n",
              "</table>\n",
              "</div>"
            ],
            "text/plain": [
              "   LogisticRegression       knn       SVC  decision_tree  Naive Bayes\n",
              "0            0.642212  0.668410  0.694030       0.596339     0.582007\n",
              "1            0.642212  0.668410  0.694030       0.591574     0.582007\n",
              "2            0.634456  0.669600  0.701190       0.581975     0.587272\n",
              "3            0.605774  0.565868  0.582004       0.553924     0.554477"
            ]
          },
          "metadata": {},
          "execution_count": 40
        }
      ]
    }
  ]
}