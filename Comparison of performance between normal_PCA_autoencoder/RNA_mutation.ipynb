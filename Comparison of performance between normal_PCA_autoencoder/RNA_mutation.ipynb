{
  "nbformat": 4,
  "nbformat_minor": 0,
  "metadata": {
    "kernelspec": {
      "display_name": "Python 3",
      "language": "python",
      "name": "python3"
    },
    "language_info": {
      "codemirror_mode": {
        "name": "ipython",
        "version": 3
      },
      "file_extension": ".py",
      "mimetype": "text/x-python",
      "name": "python",
      "nbconvert_exporter": "python",
      "pygments_lexer": "ipython3",
      "version": "3.8.1"
    },
    "colab": {
      "name": "RNA_mutation.ipynb",
      "provenance": [],
      "collapsed_sections": []
    }
  },
  "cells": [
    {
      "cell_type": "code",
      "metadata": {
        "_cell_guid": "b1076dfc-b9ad-4769-8c92-a6c4dae69d19",
        "_uuid": "8f2839f25d086af736a60e9eeb907d3b93b6e0e5",
        "id": "Gw-yP26j0kdL"
      },
      "source": [
        "import numpy as np \n",
        "import pandas as pd \n",
        "import matplotlib.pyplot as plt\n",
        "\n",
        "from sklearn.preprocessing import LabelEncoder \n",
        "from sklearn.preprocessing import StandardScaler\n",
        "from sklearn.model_selection import train_test_split\n",
        "from sklearn.model_selection import KFold\n",
        "from sklearn.model_selection import cross_val_score\n",
        "from sklearn.metrics import classification_report, confusion_matrix\n",
        "\n",
        "from sklearn.linear_model import LogisticRegression\n",
        "from sklearn.neighbors import KNeighborsClassifier\n",
        "from sklearn.svm import SVC\n",
        "from sklearn.tree import DecisionTreeClassifier\n",
        "from sklearn.naive_bayes import GaussianNB\n",
        "\n",
        "from sklearn.pipeline import Pipeline\n",
        "\n",
        "from sklearn.decomposition import PCA\n",
        "\n",
        "import tensorflow as tf\n",
        "\n",
        "from sklearn.metrics import accuracy_score, precision_score, recall_score\n",
        "from sklearn.model_selection import train_test_split\n",
        "from tensorflow.keras import layers, losses\n",
        "from tensorflow.keras.datasets import fashion_mnist\n",
        "from tensorflow.keras.models import Model"
      ],
      "execution_count": 41,
      "outputs": []
    },
    {
      "cell_type": "markdown",
      "metadata": {
        "id": "xUBZ8mzx0kdQ"
      },
      "source": [
        "# Import Dataset"
      ]
    },
    {
      "cell_type": "code",
      "metadata": {
        "_cell_guid": "",
        "_uuid": "",
        "colab": {
          "base_uri": "https://localhost:8080/"
        },
        "id": "kcYu4KKV0kdR",
        "outputId": "f47bc538-737b-43a2-971a-267e10c5846e"
      },
      "source": [
        "dataset = pd.read_csv(\"METABRIC_RNA_Mutation.csv\")"
      ],
      "execution_count": null,
      "outputs": [
        {
          "output_type": "stream",
          "name": "stderr",
          "text": [
            "/usr/local/lib/python3.7/dist-packages/IPython/core/interactiveshell.py:2718: DtypeWarning: Columns (179,189,191,193) have mixed types.Specify dtype option on import or set low_memory=False.\n",
            "  interactivity=interactivity, compiler=compiler, result=result)\n"
          ]
        }
      ]
    },
    {
      "cell_type": "markdown",
      "metadata": {
        "id": "zBVsenUX0kdS"
      },
      "source": [
        "# Describing Dataset"
      ]
    },
    {
      "cell_type": "code",
      "metadata": {
        "colab": {
          "base_uri": "https://localhost:8080/",
          "height": 359
        },
        "id": "QwVh9Mxp0kdS",
        "outputId": "2c44de01-ad85-4054-e142-134556adffb3"
      },
      "source": [
        "dataset.head()"
      ],
      "execution_count": 42,
      "outputs": [
        {
          "output_type": "execute_result",
          "data": {
            "text/html": [
              "<div>\n",
              "<style scoped>\n",
              "    .dataframe tbody tr th:only-of-type {\n",
              "        vertical-align: middle;\n",
              "    }\n",
              "\n",
              "    .dataframe tbody tr th {\n",
              "        vertical-align: top;\n",
              "    }\n",
              "\n",
              "    .dataframe thead th {\n",
              "        text-align: right;\n",
              "    }\n",
              "</style>\n",
              "<table border=\"1\" class=\"dataframe\">\n",
              "  <thead>\n",
              "    <tr style=\"text-align: right;\">\n",
              "      <th></th>\n",
              "      <th>type_of_breast_surgery</th>\n",
              "      <th>cancer_type</th>\n",
              "      <th>cancer_type_detailed</th>\n",
              "      <th>cellularity</th>\n",
              "      <th>pam50_+_claudin-low_subtype</th>\n",
              "      <th>er_status_measured_by_ihc</th>\n",
              "      <th>er_status</th>\n",
              "      <th>neoplasm_histologic_grade</th>\n",
              "      <th>her2_status_measured_by_snp6</th>\n",
              "      <th>her2_status</th>\n",
              "      <th>tumor_other_histologic_subtype</th>\n",
              "      <th>hormone_therapy</th>\n",
              "      <th>inferred_menopausal_state</th>\n",
              "      <th>integrative_cluster</th>\n",
              "      <th>oncotree_code</th>\n",
              "      <th>pr_status</th>\n",
              "      <th>radio_therapy</th>\n",
              "      <th>pik3ca_mut</th>\n",
              "      <th>tp53_mut</th>\n",
              "      <th>muc16_mut</th>\n",
              "      <th>ahnak2_mut</th>\n",
              "      <th>kmt2c_mut</th>\n",
              "      <th>syne1_mut</th>\n",
              "      <th>gata3_mut</th>\n",
              "      <th>map3k1_mut</th>\n",
              "      <th>ahnak_mut</th>\n",
              "      <th>dnah11_mut</th>\n",
              "      <th>cdh1_mut</th>\n",
              "      <th>dnah2_mut</th>\n",
              "      <th>kmt2d_mut</th>\n",
              "      <th>ush2a_mut</th>\n",
              "      <th>ryr2_mut</th>\n",
              "      <th>dnah5_mut</th>\n",
              "      <th>herc2_mut</th>\n",
              "      <th>pde4dip_mut</th>\n",
              "      <th>akap9_mut</th>\n",
              "      <th>tg_mut</th>\n",
              "      <th>birc6_mut</th>\n",
              "      <th>utrn_mut</th>\n",
              "      <th>tbx3_mut</th>\n",
              "      <th>...</th>\n",
              "      <th>hsd17b1</th>\n",
              "      <th>hsd17b10</th>\n",
              "      <th>hsd17b11</th>\n",
              "      <th>hsd17b12</th>\n",
              "      <th>hsd17b13</th>\n",
              "      <th>hsd17b14</th>\n",
              "      <th>hsd17b2</th>\n",
              "      <th>hsd17b3</th>\n",
              "      <th>hsd17b4</th>\n",
              "      <th>hsd17b6</th>\n",
              "      <th>hsd17b7</th>\n",
              "      <th>hsd17b8</th>\n",
              "      <th>hsd3b1</th>\n",
              "      <th>hsd3b2</th>\n",
              "      <th>hsd3b7</th>\n",
              "      <th>mecom</th>\n",
              "      <th>met</th>\n",
              "      <th>ncoa2</th>\n",
              "      <th>nrip1</th>\n",
              "      <th>pik3r3</th>\n",
              "      <th>prkci</th>\n",
              "      <th>prkd1</th>\n",
              "      <th>ran</th>\n",
              "      <th>rdh5</th>\n",
              "      <th>sdc4</th>\n",
              "      <th>serpini1</th>\n",
              "      <th>shbg</th>\n",
              "      <th>slc29a1</th>\n",
              "      <th>sox9</th>\n",
              "      <th>spry2</th>\n",
              "      <th>srd5a1</th>\n",
              "      <th>srd5a2</th>\n",
              "      <th>srd5a3</th>\n",
              "      <th>st7</th>\n",
              "      <th>star</th>\n",
              "      <th>tnk2</th>\n",
              "      <th>tulp4</th>\n",
              "      <th>ugt2b15</th>\n",
              "      <th>ugt2b17</th>\n",
              "      <th>ugt2b7</th>\n",
              "    </tr>\n",
              "  </thead>\n",
              "  <tbody>\n",
              "    <tr>\n",
              "      <th>1</th>\n",
              "      <td>BREAST CONSERVING</td>\n",
              "      <td>Breast Cancer</td>\n",
              "      <td>Breast Invasive Ductal Carcinoma</td>\n",
              "      <td>High</td>\n",
              "      <td>LumA</td>\n",
              "      <td>Positve</td>\n",
              "      <td>Positive</td>\n",
              "      <td>3.0</td>\n",
              "      <td>NEUTRAL</td>\n",
              "      <td>Negative</td>\n",
              "      <td>Ductal/NST</td>\n",
              "      <td>1</td>\n",
              "      <td>Pre</td>\n",
              "      <td>4ER+</td>\n",
              "      <td>IDC</td>\n",
              "      <td>Positive</td>\n",
              "      <td>1</td>\n",
              "      <td>0</td>\n",
              "      <td>H178P</td>\n",
              "      <td>0</td>\n",
              "      <td>0</td>\n",
              "      <td>0</td>\n",
              "      <td>0</td>\n",
              "      <td>0</td>\n",
              "      <td>0</td>\n",
              "      <td>0</td>\n",
              "      <td>0</td>\n",
              "      <td>0</td>\n",
              "      <td>0</td>\n",
              "      <td>0</td>\n",
              "      <td>0</td>\n",
              "      <td>0</td>\n",
              "      <td>0</td>\n",
              "      <td>0</td>\n",
              "      <td>0</td>\n",
              "      <td>0</td>\n",
              "      <td>0</td>\n",
              "      <td>0</td>\n",
              "      <td>0</td>\n",
              "      <td>0</td>\n",
              "      <td>...</td>\n",
              "      <td>-0.4467</td>\n",
              "      <td>-0.0693</td>\n",
              "      <td>-0.7837</td>\n",
              "      <td>0.0117</td>\n",
              "      <td>1.5355</td>\n",
              "      <td>0.7590</td>\n",
              "      <td>-0.5652</td>\n",
              "      <td>0.0623</td>\n",
              "      <td>-1.2693</td>\n",
              "      <td>1.0729</td>\n",
              "      <td>1.1973</td>\n",
              "      <td>-2.9847</td>\n",
              "      <td>-1.9199</td>\n",
              "      <td>0.6433</td>\n",
              "      <td>-0.4801</td>\n",
              "      <td>-1.8732</td>\n",
              "      <td>-1.0840</td>\n",
              "      <td>-0.7220</td>\n",
              "      <td>-0.1878</td>\n",
              "      <td>-1.0623</td>\n",
              "      <td>1.7653</td>\n",
              "      <td>0.3500</td>\n",
              "      <td>-0.2505</td>\n",
              "      <td>-0.6337</td>\n",
              "      <td>-0.1047</td>\n",
              "      <td>0.0222</td>\n",
              "      <td>-0.2938</td>\n",
              "      <td>-1.0821</td>\n",
              "      <td>-1.3206</td>\n",
              "      <td>0.2446</td>\n",
              "      <td>-0.4412</td>\n",
              "      <td>0.4534</td>\n",
              "      <td>0.4068</td>\n",
              "      <td>0.7634</td>\n",
              "      <td>0.0231</td>\n",
              "      <td>0.9121</td>\n",
              "      <td>-0.9538</td>\n",
              "      <td>-0.2264</td>\n",
              "      <td>0.5398</td>\n",
              "      <td>-0.8920</td>\n",
              "    </tr>\n",
              "    <tr>\n",
              "      <th>2</th>\n",
              "      <td>MASTECTOMY</td>\n",
              "      <td>Breast Cancer</td>\n",
              "      <td>Breast Invasive Ductal Carcinoma</td>\n",
              "      <td>High</td>\n",
              "      <td>LumB</td>\n",
              "      <td>Positve</td>\n",
              "      <td>Positive</td>\n",
              "      <td>2.0</td>\n",
              "      <td>NEUTRAL</td>\n",
              "      <td>Negative</td>\n",
              "      <td>Ductal/NST</td>\n",
              "      <td>1</td>\n",
              "      <td>Pre</td>\n",
              "      <td>3</td>\n",
              "      <td>IDC</td>\n",
              "      <td>Positive</td>\n",
              "      <td>0</td>\n",
              "      <td>H1047R</td>\n",
              "      <td>0</td>\n",
              "      <td>0</td>\n",
              "      <td>0</td>\n",
              "      <td>0</td>\n",
              "      <td>0</td>\n",
              "      <td>0</td>\n",
              "      <td>0</td>\n",
              "      <td>0</td>\n",
              "      <td>0</td>\n",
              "      <td>0</td>\n",
              "      <td>0</td>\n",
              "      <td>0</td>\n",
              "      <td>0</td>\n",
              "      <td>0</td>\n",
              "      <td>0</td>\n",
              "      <td>0</td>\n",
              "      <td>0</td>\n",
              "      <td>0</td>\n",
              "      <td>0</td>\n",
              "      <td>0</td>\n",
              "      <td>0</td>\n",
              "      <td>0</td>\n",
              "      <td>...</td>\n",
              "      <td>-0.6253</td>\n",
              "      <td>0.0082</td>\n",
              "      <td>1.6822</td>\n",
              "      <td>0.8981</td>\n",
              "      <td>-0.0943</td>\n",
              "      <td>1.1599</td>\n",
              "      <td>0.1442</td>\n",
              "      <td>0.1493</td>\n",
              "      <td>0.1117</td>\n",
              "      <td>1.6262</td>\n",
              "      <td>2.2685</td>\n",
              "      <td>-0.9910</td>\n",
              "      <td>0.1767</td>\n",
              "      <td>-0.9128</td>\n",
              "      <td>-0.0006</td>\n",
              "      <td>0.7079</td>\n",
              "      <td>-0.7401</td>\n",
              "      <td>1.2279</td>\n",
              "      <td>-0.2882</td>\n",
              "      <td>-0.1727</td>\n",
              "      <td>1.1257</td>\n",
              "      <td>0.8306</td>\n",
              "      <td>0.2707</td>\n",
              "      <td>-0.7554</td>\n",
              "      <td>-0.3559</td>\n",
              "      <td>-0.7735</td>\n",
              "      <td>-0.1387</td>\n",
              "      <td>-0.9122</td>\n",
              "      <td>1.2552</td>\n",
              "      <td>0.4593</td>\n",
              "      <td>-0.5381</td>\n",
              "      <td>0.0668</td>\n",
              "      <td>0.8344</td>\n",
              "      <td>1.7227</td>\n",
              "      <td>0.4024</td>\n",
              "      <td>-3.7172</td>\n",
              "      <td>-1.5538</td>\n",
              "      <td>1.3701</td>\n",
              "      <td>-0.1078</td>\n",
              "      <td>0.3655</td>\n",
              "    </tr>\n",
              "    <tr>\n",
              "      <th>3</th>\n",
              "      <td>MASTECTOMY</td>\n",
              "      <td>Breast Cancer</td>\n",
              "      <td>Breast Mixed Ductal and Lobular Carcinoma</td>\n",
              "      <td>Moderate</td>\n",
              "      <td>LumB</td>\n",
              "      <td>Positve</td>\n",
              "      <td>Positive</td>\n",
              "      <td>2.0</td>\n",
              "      <td>NEUTRAL</td>\n",
              "      <td>Negative</td>\n",
              "      <td>Mixed</td>\n",
              "      <td>1</td>\n",
              "      <td>Pre</td>\n",
              "      <td>9</td>\n",
              "      <td>MDLC</td>\n",
              "      <td>Positive</td>\n",
              "      <td>1</td>\n",
              "      <td>E542K</td>\n",
              "      <td>0</td>\n",
              "      <td>0</td>\n",
              "      <td>0</td>\n",
              "      <td>0</td>\n",
              "      <td>0</td>\n",
              "      <td>0</td>\n",
              "      <td>0</td>\n",
              "      <td>0</td>\n",
              "      <td>0</td>\n",
              "      <td>0</td>\n",
              "      <td>0</td>\n",
              "      <td>0</td>\n",
              "      <td>0</td>\n",
              "      <td>0</td>\n",
              "      <td>0</td>\n",
              "      <td>0</td>\n",
              "      <td>0</td>\n",
              "      <td>0</td>\n",
              "      <td>0</td>\n",
              "      <td>0</td>\n",
              "      <td>0</td>\n",
              "      <td>0</td>\n",
              "      <td>...</td>\n",
              "      <td>4.8189</td>\n",
              "      <td>0.0960</td>\n",
              "      <td>1.4099</td>\n",
              "      <td>-0.6707</td>\n",
              "      <td>-0.3589</td>\n",
              "      <td>-0.8998</td>\n",
              "      <td>-0.5063</td>\n",
              "      <td>0.2546</td>\n",
              "      <td>-0.6586</td>\n",
              "      <td>1.7024</td>\n",
              "      <td>0.1617</td>\n",
              "      <td>1.4208</td>\n",
              "      <td>0.1320</td>\n",
              "      <td>1.8754</td>\n",
              "      <td>-1.8850</td>\n",
              "      <td>0.1474</td>\n",
              "      <td>0.5097</td>\n",
              "      <td>-0.0393</td>\n",
              "      <td>-0.2049</td>\n",
              "      <td>-0.3290</td>\n",
              "      <td>3.2140</td>\n",
              "      <td>2.4162</td>\n",
              "      <td>1.7962</td>\n",
              "      <td>-1.2505</td>\n",
              "      <td>-0.1742</td>\n",
              "      <td>-0.2858</td>\n",
              "      <td>-0.7305</td>\n",
              "      <td>-1.0178</td>\n",
              "      <td>-0.7887</td>\n",
              "      <td>1.3361</td>\n",
              "      <td>-0.5630</td>\n",
              "      <td>-0.7078</td>\n",
              "      <td>0.8228</td>\n",
              "      <td>0.6819</td>\n",
              "      <td>-0.1948</td>\n",
              "      <td>-2.3286</td>\n",
              "      <td>-0.9924</td>\n",
              "      <td>-0.3154</td>\n",
              "      <td>0.2320</td>\n",
              "      <td>-0.4828</td>\n",
              "    </tr>\n",
              "    <tr>\n",
              "      <th>4</th>\n",
              "      <td>MASTECTOMY</td>\n",
              "      <td>Breast Cancer</td>\n",
              "      <td>Breast Mixed Ductal and Lobular Carcinoma</td>\n",
              "      <td>High</td>\n",
              "      <td>LumB</td>\n",
              "      <td>Positve</td>\n",
              "      <td>Positive</td>\n",
              "      <td>3.0</td>\n",
              "      <td>NEUTRAL</td>\n",
              "      <td>Negative</td>\n",
              "      <td>Mixed</td>\n",
              "      <td>1</td>\n",
              "      <td>Post</td>\n",
              "      <td>9</td>\n",
              "      <td>MDLC</td>\n",
              "      <td>Positive</td>\n",
              "      <td>1</td>\n",
              "      <td>0</td>\n",
              "      <td>S241F</td>\n",
              "      <td>0</td>\n",
              "      <td>0</td>\n",
              "      <td>0</td>\n",
              "      <td>0</td>\n",
              "      <td>0</td>\n",
              "      <td>0</td>\n",
              "      <td>0</td>\n",
              "      <td>0</td>\n",
              "      <td>0</td>\n",
              "      <td>0</td>\n",
              "      <td>0</td>\n",
              "      <td>0</td>\n",
              "      <td>0</td>\n",
              "      <td>0</td>\n",
              "      <td>0</td>\n",
              "      <td>0</td>\n",
              "      <td>0</td>\n",
              "      <td>F2321Y</td>\n",
              "      <td>0</td>\n",
              "      <td>0</td>\n",
              "      <td>0</td>\n",
              "      <td>...</td>\n",
              "      <td>-0.0590</td>\n",
              "      <td>0.2796</td>\n",
              "      <td>0.0493</td>\n",
              "      <td>-0.7074</td>\n",
              "      <td>0.0696</td>\n",
              "      <td>-0.4491</td>\n",
              "      <td>-0.5634</td>\n",
              "      <td>-0.7627</td>\n",
              "      <td>-0.7051</td>\n",
              "      <td>0.6065</td>\n",
              "      <td>-0.0141</td>\n",
              "      <td>0.7040</td>\n",
              "      <td>-2.0938</td>\n",
              "      <td>-0.1260</td>\n",
              "      <td>-0.6658</td>\n",
              "      <td>0.6451</td>\n",
              "      <td>0.5497</td>\n",
              "      <td>4.1999</td>\n",
              "      <td>0.2832</td>\n",
              "      <td>0.4018</td>\n",
              "      <td>0.1308</td>\n",
              "      <td>-0.5351</td>\n",
              "      <td>1.2930</td>\n",
              "      <td>1.2971</td>\n",
              "      <td>-0.8885</td>\n",
              "      <td>-0.5545</td>\n",
              "      <td>0.0266</td>\n",
              "      <td>0.5328</td>\n",
              "      <td>0.1858</td>\n",
              "      <td>-0.3201</td>\n",
              "      <td>-0.5845</td>\n",
              "      <td>-0.3544</td>\n",
              "      <td>-1.0150</td>\n",
              "      <td>2.2961</td>\n",
              "      <td>0.1817</td>\n",
              "      <td>-0.1572</td>\n",
              "      <td>0.0427</td>\n",
              "      <td>5.0048</td>\n",
              "      <td>3.8476</td>\n",
              "      <td>1.3223</td>\n",
              "    </tr>\n",
              "    <tr>\n",
              "      <th>5</th>\n",
              "      <td>MASTECTOMY</td>\n",
              "      <td>Breast Cancer</td>\n",
              "      <td>Breast Invasive Ductal Carcinoma</td>\n",
              "      <td>Moderate</td>\n",
              "      <td>LumB</td>\n",
              "      <td>Positve</td>\n",
              "      <td>Positive</td>\n",
              "      <td>3.0</td>\n",
              "      <td>NEUTRAL</td>\n",
              "      <td>Negative</td>\n",
              "      <td>Ductal/NST</td>\n",
              "      <td>1</td>\n",
              "      <td>Post</td>\n",
              "      <td>7</td>\n",
              "      <td>IDC</td>\n",
              "      <td>Positive</td>\n",
              "      <td>1</td>\n",
              "      <td>H1047R</td>\n",
              "      <td>P67Qfs*56</td>\n",
              "      <td>0</td>\n",
              "      <td>0</td>\n",
              "      <td>0</td>\n",
              "      <td>0</td>\n",
              "      <td>A318T</td>\n",
              "      <td>0</td>\n",
              "      <td>0</td>\n",
              "      <td>0</td>\n",
              "      <td>0</td>\n",
              "      <td>0</td>\n",
              "      <td>0</td>\n",
              "      <td>0</td>\n",
              "      <td>0</td>\n",
              "      <td>0</td>\n",
              "      <td>0</td>\n",
              "      <td>0</td>\n",
              "      <td>0</td>\n",
              "      <td>0</td>\n",
              "      <td>0</td>\n",
              "      <td>0</td>\n",
              "      <td>0</td>\n",
              "      <td>...</td>\n",
              "      <td>-0.4705</td>\n",
              "      <td>0.0219</td>\n",
              "      <td>0.8457</td>\n",
              "      <td>0.2548</td>\n",
              "      <td>-0.4682</td>\n",
              "      <td>-0.7314</td>\n",
              "      <td>-0.3240</td>\n",
              "      <td>-0.3282</td>\n",
              "      <td>1.1360</td>\n",
              "      <td>1.5011</td>\n",
              "      <td>-0.4428</td>\n",
              "      <td>0.6873</td>\n",
              "      <td>0.1311</td>\n",
              "      <td>-0.4149</td>\n",
              "      <td>-0.9105</td>\n",
              "      <td>-0.8526</td>\n",
              "      <td>-0.7718</td>\n",
              "      <td>0.0466</td>\n",
              "      <td>-0.1657</td>\n",
              "      <td>1.0143</td>\n",
              "      <td>1.3033</td>\n",
              "      <td>1.3506</td>\n",
              "      <td>0.2875</td>\n",
              "      <td>-1.0378</td>\n",
              "      <td>1.1967</td>\n",
              "      <td>-0.3843</td>\n",
              "      <td>0.4306</td>\n",
              "      <td>0.0314</td>\n",
              "      <td>0.6884</td>\n",
              "      <td>-0.4448</td>\n",
              "      <td>-0.3910</td>\n",
              "      <td>0.0395</td>\n",
              "      <td>0.8191</td>\n",
              "      <td>0.1977</td>\n",
              "      <td>-0.2302</td>\n",
              "      <td>-0.5092</td>\n",
              "      <td>-0.3021</td>\n",
              "      <td>0.9357</td>\n",
              "      <td>-0.4217</td>\n",
              "      <td>0.5340</td>\n",
              "    </tr>\n",
              "  </tbody>\n",
              "</table>\n",
              "<p>5 rows × 684 columns</p>\n",
              "</div>"
            ],
            "text/plain": [
              "  type_of_breast_surgery    cancer_type  ... ugt2b17  ugt2b7\n",
              "1      BREAST CONSERVING  Breast Cancer  ...  0.5398 -0.8920\n",
              "2             MASTECTOMY  Breast Cancer  ... -0.1078  0.3655\n",
              "3             MASTECTOMY  Breast Cancer  ...  0.2320 -0.4828\n",
              "4             MASTECTOMY  Breast Cancer  ...  3.8476  1.3223\n",
              "5             MASTECTOMY  Breast Cancer  ... -0.4217  0.5340\n",
              "\n",
              "[5 rows x 684 columns]"
            ]
          },
          "metadata": {},
          "execution_count": 42
        }
      ]
    },
    {
      "cell_type": "code",
      "metadata": {
        "colab": {
          "base_uri": "https://localhost:8080/"
        },
        "id": "6JKPH-Xc0kdT",
        "outputId": "94e01a54-5983-497e-8301-fde07190e553"
      },
      "source": [
        "print(dataset.shape)\n",
        "dataset.dtypes"
      ],
      "execution_count": null,
      "outputs": [
        {
          "output_type": "stream",
          "name": "stdout",
          "text": [
            "(1904, 688)\n"
          ]
        },
        {
          "output_type": "execute_result",
          "data": {
            "text/plain": [
              "type_of_breast_surgery          object\n",
              "cancer_type                     object\n",
              "cancer_type_detailed            object\n",
              "cellularity                     object\n",
              "pam50_+_claudin-low_subtype     object\n",
              "                                ...   \n",
              "tnk2                           float64\n",
              "tulp4                          float64\n",
              "ugt2b15                        float64\n",
              "ugt2b17                        float64\n",
              "ugt2b7                         float64\n",
              "Length: 688, dtype: object"
            ]
          },
          "metadata": {},
          "execution_count": 4
        }
      ]
    },
    {
      "cell_type": "markdown",
      "metadata": {
        "id": "88Yz1z-xWCnj"
      },
      "source": [
        "# Check missing value"
      ]
    },
    {
      "cell_type": "code",
      "metadata": {
        "colab": {
          "base_uri": "https://localhost:8080/"
        },
        "id": "0bD4t9whSa56",
        "outputId": "ca80c509-aefd-4d10-a66e-4f9678d889df"
      },
      "source": [
        "miss_value = {}\n",
        "for column in dataset.columns:\n",
        "  count = dataset[column].isnull().sum()\n",
        "  if count >0:\n",
        "    miss_value[column] = count\n",
        "\n",
        "print(miss_value)"
      ],
      "execution_count": null,
      "outputs": [
        {
          "output_type": "stream",
          "name": "stdout",
          "text": [
            "{'type_of_breast_surgery': 22, 'cancer_type_detailed': 15, 'cellularity': 54, 'er_status_measured_by_ihc': 30, 'neoplasm_histologic_grade': 72, 'tumor_other_histologic_subtype': 15, 'primary_tumor_laterality': 106, 'oncotree_code': 15, '3-gene_classifier_subtype': 204, 'tumor_stage': 501, 'mutation_count': 45, 'tumor_size': 20}\n"
          ]
        }
      ]
    },
    {
      "cell_type": "markdown",
      "metadata": {
        "id": "sVqEL8sQ5Mz5"
      },
      "source": [
        "# Drop missing value"
      ]
    },
    {
      "cell_type": "code",
      "metadata": {
        "id": "HqV5cY-iE9IJ",
        "colab": {
          "base_uri": "https://localhost:8080/"
        },
        "outputId": "e0f534eb-0ffc-46b0-fcc8-350a5c306144"
      },
      "source": [
        "dataset = dataset.drop(['3-gene_classifier_subtype','tumor_stage','primary_tumor_laterality'],axis='columns')\n",
        "dataset.shape"
      ],
      "execution_count": null,
      "outputs": [
        {
          "output_type": "execute_result",
          "data": {
            "text/plain": [
              "(1904, 685)"
            ]
          },
          "metadata": {},
          "execution_count": 6
        }
      ]
    },
    {
      "cell_type": "code",
      "metadata": {
        "id": "hIXc-Jl90kdU",
        "colab": {
          "base_uri": "https://localhost:8080/"
        },
        "outputId": "5e9f9f1b-ad59-40dc-95a2-a71098888f05"
      },
      "source": [
        "dataset = dataset.dropna(axis='rows')\n",
        "dataset.shape"
      ],
      "execution_count": null,
      "outputs": [
        {
          "output_type": "execute_result",
          "data": {
            "text/plain": [
              "(1677, 685)"
            ]
          },
          "metadata": {},
          "execution_count": 7
        }
      ]
    },
    {
      "cell_type": "markdown",
      "metadata": {
        "id": "cal0JcGyWXs0"
      },
      "source": [
        "# Create target variable"
      ]
    },
    {
      "cell_type": "code",
      "metadata": {
        "id": "bZmBC2F8Rtij"
      },
      "source": [
        "y = dataset['overall_survival']\n",
        "dataset = dataset.drop('overall_survival', axis ='columns')"
      ],
      "execution_count": null,
      "outputs": []
    },
    {
      "cell_type": "markdown",
      "metadata": {
        "id": "ui7tG2im5WdH"
      },
      "source": [
        "# Check type of value"
      ]
    },
    {
      "cell_type": "code",
      "metadata": {
        "colab": {
          "base_uri": "https://localhost:8080/"
        },
        "id": "OoGXzZBi1b-c",
        "outputId": "aa7f4d62-f2f3-418b-d3e1-bea357580377"
      },
      "source": [
        "dataset['smarcb1_mut'].value_counts()"
      ],
      "execution_count": null,
      "outputs": [
        {
          "output_type": "execute_result",
          "data": {
            "text/plain": [
              "0       878\n",
              "0       798\n",
              "I28L      1\n",
              "Name: smarcb1_mut, dtype: int64"
            ]
          },
          "metadata": {},
          "execution_count": 9
        }
      ]
    },
    {
      "cell_type": "code",
      "metadata": {
        "id": "yDYr01S30kdV"
      },
      "source": [
        "list_cat = []\n",
        "for column in dataset.columns:\n",
        "    if column == 'age_at_diagnosis':\n",
        "      break\n",
        "    else:\n",
        "      list_cat.append(column)"
      ],
      "execution_count": null,
      "outputs": []
    },
    {
      "cell_type": "code",
      "metadata": {
        "id": "1shoIDbK0kdV"
      },
      "source": [
        "for column in list_cat:\n",
        "    dataset[column] = dataset[column].replace([0],'0')"
      ],
      "execution_count": null,
      "outputs": []
    },
    {
      "cell_type": "code",
      "metadata": {
        "id": "STPpoZP4WweF",
        "colab": {
          "base_uri": "https://localhost:8080/"
        },
        "outputId": "b50b68d0-47c1-457b-98bf-1990be89845e"
      },
      "source": [
        "dataset['smarcb1_mut'].value_counts()"
      ],
      "execution_count": null,
      "outputs": [
        {
          "output_type": "execute_result",
          "data": {
            "text/plain": [
              "0       1676\n",
              "I28L       1\n",
              "Name: smarcb1_mut, dtype: int64"
            ]
          },
          "metadata": {},
          "execution_count": 12
        }
      ]
    },
    {
      "cell_type": "markdown",
      "metadata": {
        "id": "gnpoBkKp5gLD"
      },
      "source": [
        "# Create clean dataset"
      ]
    },
    {
      "cell_type": "code",
      "metadata": {
        "id": "v3OziE6R0kdW",
        "colab": {
          "base_uri": "https://localhost:8080/"
        },
        "outputId": "1895cee2-3560-44df-9924-53efbf2d4f2d"
      },
      "source": [
        "dataset_new = pd.get_dummies(dataset,columns=list_cat)\n",
        "dataset_new.shape"
      ],
      "execution_count": null,
      "outputs": [
        {
          "output_type": "execute_result",
          "data": {
            "text/plain": [
              "(1677, 7761)"
            ]
          },
          "metadata": {},
          "execution_count": 13
        }
      ]
    },
    {
      "cell_type": "code",
      "metadata": {
        "id": "xea-2oGC0kdX"
      },
      "source": [
        "dataset_new = dataset_new.astype(np.float16)"
      ],
      "execution_count": null,
      "outputs": []
    },
    {
      "cell_type": "markdown",
      "metadata": {
        "id": "MeQzUyVi2JBg"
      },
      "source": [
        "# Create feature and label"
      ]
    },
    {
      "cell_type": "code",
      "metadata": {
        "colab": {
          "base_uri": "https://localhost:8080/"
        },
        "id": "CTqQdBnb0kdY",
        "outputId": "2ec249fc-9df6-4914-9973-7e2ccdcc0e07"
      },
      "source": [
        "x = dataset_new.values\n",
        "x.shape"
      ],
      "execution_count": null,
      "outputs": [
        {
          "output_type": "execute_result",
          "data": {
            "text/plain": [
              "(1677, 7761)"
            ]
          },
          "metadata": {},
          "execution_count": 15
        }
      ]
    },
    {
      "cell_type": "code",
      "metadata": {
        "colab": {
          "base_uri": "https://localhost:8080/"
        },
        "id": "yEIUYaAp0kdZ",
        "outputId": "1174733f-aba3-41f3-d4d8-821b62ff60a9"
      },
      "source": [
        "labelencoder= LabelEncoder()\n",
        "y = labelencoder.fit_transform(y)\n",
        "y.shape"
      ],
      "execution_count": null,
      "outputs": [
        {
          "output_type": "execute_result",
          "data": {
            "text/plain": [
              "(1677,)"
            ]
          },
          "metadata": {},
          "execution_count": 16
        }
      ]
    },
    {
      "cell_type": "markdown",
      "metadata": {
        "id": "sZ3ibAI82ad-"
      },
      "source": [
        "# Split train and test dataset"
      ]
    },
    {
      "cell_type": "code",
      "metadata": {
        "id": "uYKv4mZF0kdZ"
      },
      "source": [
        "X_train, X_test, y_train, y_test = train_test_split(x, y, test_size = 0.20)"
      ],
      "execution_count": null,
      "outputs": []
    },
    {
      "cell_type": "markdown",
      "metadata": {
        "id": "NoXyO6pnYhVm"
      },
      "source": [
        "# Train model"
      ]
    },
    {
      "cell_type": "code",
      "metadata": {
        "colab": {
          "base_uri": "https://localhost:8080/"
        },
        "id": "V2l9Q9Gb0kdZ",
        "outputId": "5648f77d-cc26-4206-e880-5008a4053d5c"
      },
      "source": [
        "svclassifier = SVC(kernel='rbf')\n",
        "svclassifier.fit(X_train, y_train)"
      ],
      "execution_count": null,
      "outputs": [
        {
          "output_type": "execute_result",
          "data": {
            "text/plain": [
              "SVC(C=1.0, break_ties=False, cache_size=200, class_weight=None, coef0=0.0,\n",
              "    decision_function_shape='ovr', degree=3, gamma='scale', kernel='rbf',\n",
              "    max_iter=-1, probability=False, random_state=None, shrinking=True,\n",
              "    tol=0.001, verbose=False)"
            ]
          },
          "metadata": {},
          "execution_count": 18
        }
      ]
    },
    {
      "cell_type": "code",
      "metadata": {
        "id": "Wfjr2xnQ0kda",
        "colab": {
          "base_uri": "https://localhost:8080/"
        },
        "outputId": "f41d161b-c387-42aa-d94a-d6e5ac98e982"
      },
      "source": [
        "y_pred = svclassifier.predict(X_test)\n",
        "\n",
        "print(confusion_matrix(y_test,y_pred))\n",
        "print(classification_report(y_test,y_pred))"
      ],
      "execution_count": null,
      "outputs": [
        {
          "output_type": "stream",
          "name": "stdout",
          "text": [
            "[[155  41]\n",
            " [ 61  79]]\n",
            "              precision    recall  f1-score   support\n",
            "\n",
            "           0       0.72      0.79      0.75       196\n",
            "           1       0.66      0.56      0.61       140\n",
            "\n",
            "    accuracy                           0.70       336\n",
            "   macro avg       0.69      0.68      0.68       336\n",
            "weighted avg       0.69      0.70      0.69       336\n",
            "\n"
          ]
        }
      ]
    },
    {
      "cell_type": "markdown",
      "metadata": {
        "id": "x0h2fREQZg87"
      },
      "source": [
        "# Experiment 1: without scaling"
      ]
    },
    {
      "cell_type": "code",
      "metadata": {
        "colab": {
          "base_uri": "https://localhost:8080/",
          "height": 1000
        },
        "id": "Jl82MB880kdd",
        "outputId": "11f61133-906e-4868-dbe3-5bc607fbf506"
      },
      "source": [
        "# keeping all models in one list\n",
        "models=[]\n",
        "models.append(('LogisticRegression',LogisticRegression()))\n",
        "models.append(('knn',KNeighborsClassifier(n_neighbors=5)))\n",
        "models.append(('SVC',SVC()))\n",
        "models.append((\"decision_tree\",DecisionTreeClassifier()))\n",
        "models.append(('Naive Bayes',GaussianNB()))\n",
        "\n",
        "# Evaluating Each model\n",
        "predictions=[]\n",
        "experiment_1 = {}\n",
        "error='accuracy'\n",
        "for name,model in models:\n",
        "    fold=KFold(n_splits=10)\n",
        "    result=cross_val_score(model,x,y,cv=fold,scoring=error)\n",
        "    predictions.append(result)\n",
        "    experiment_1[name] = result.mean()\n",
        "\n",
        "# Visualizing the Model accuracy\n",
        "fig=plt.figure()\n",
        "fig.suptitle(\"Comparing Algorithms\")\n",
        "plt.boxplot(predictions)\n",
        "plt.show()"
      ],
      "execution_count": null,
      "outputs": [
        {
          "output_type": "stream",
          "name": "stderr",
          "text": [
            "/usr/local/lib/python3.7/dist-packages/sklearn/linear_model/_logistic.py:940: ConvergenceWarning: lbfgs failed to converge (status=1):\n",
            "STOP: TOTAL NO. of ITERATIONS REACHED LIMIT.\n",
            "\n",
            "Increase the number of iterations (max_iter) or scale the data as shown in:\n",
            "    https://scikit-learn.org/stable/modules/preprocessing.html\n",
            "Please also refer to the documentation for alternative solver options:\n",
            "    https://scikit-learn.org/stable/modules/linear_model.html#logistic-regression\n",
            "  extra_warning_msg=_LOGISTIC_SOLVER_CONVERGENCE_MSG)\n",
            "/usr/local/lib/python3.7/dist-packages/sklearn/linear_model/_logistic.py:940: ConvergenceWarning: lbfgs failed to converge (status=1):\n",
            "STOP: TOTAL NO. of ITERATIONS REACHED LIMIT.\n",
            "\n",
            "Increase the number of iterations (max_iter) or scale the data as shown in:\n",
            "    https://scikit-learn.org/stable/modules/preprocessing.html\n",
            "Please also refer to the documentation for alternative solver options:\n",
            "    https://scikit-learn.org/stable/modules/linear_model.html#logistic-regression\n",
            "  extra_warning_msg=_LOGISTIC_SOLVER_CONVERGENCE_MSG)\n",
            "/usr/local/lib/python3.7/dist-packages/sklearn/linear_model/_logistic.py:940: ConvergenceWarning: lbfgs failed to converge (status=1):\n",
            "STOP: TOTAL NO. of ITERATIONS REACHED LIMIT.\n",
            "\n",
            "Increase the number of iterations (max_iter) or scale the data as shown in:\n",
            "    https://scikit-learn.org/stable/modules/preprocessing.html\n",
            "Please also refer to the documentation for alternative solver options:\n",
            "    https://scikit-learn.org/stable/modules/linear_model.html#logistic-regression\n",
            "  extra_warning_msg=_LOGISTIC_SOLVER_CONVERGENCE_MSG)\n",
            "/usr/local/lib/python3.7/dist-packages/sklearn/linear_model/_logistic.py:940: ConvergenceWarning: lbfgs failed to converge (status=1):\n",
            "STOP: TOTAL NO. of ITERATIONS REACHED LIMIT.\n",
            "\n",
            "Increase the number of iterations (max_iter) or scale the data as shown in:\n",
            "    https://scikit-learn.org/stable/modules/preprocessing.html\n",
            "Please also refer to the documentation for alternative solver options:\n",
            "    https://scikit-learn.org/stable/modules/linear_model.html#logistic-regression\n",
            "  extra_warning_msg=_LOGISTIC_SOLVER_CONVERGENCE_MSG)\n",
            "/usr/local/lib/python3.7/dist-packages/sklearn/linear_model/_logistic.py:940: ConvergenceWarning: lbfgs failed to converge (status=1):\n",
            "STOP: TOTAL NO. of ITERATIONS REACHED LIMIT.\n",
            "\n",
            "Increase the number of iterations (max_iter) or scale the data as shown in:\n",
            "    https://scikit-learn.org/stable/modules/preprocessing.html\n",
            "Please also refer to the documentation for alternative solver options:\n",
            "    https://scikit-learn.org/stable/modules/linear_model.html#logistic-regression\n",
            "  extra_warning_msg=_LOGISTIC_SOLVER_CONVERGENCE_MSG)\n",
            "/usr/local/lib/python3.7/dist-packages/sklearn/linear_model/_logistic.py:940: ConvergenceWarning: lbfgs failed to converge (status=1):\n",
            "STOP: TOTAL NO. of ITERATIONS REACHED LIMIT.\n",
            "\n",
            "Increase the number of iterations (max_iter) or scale the data as shown in:\n",
            "    https://scikit-learn.org/stable/modules/preprocessing.html\n",
            "Please also refer to the documentation for alternative solver options:\n",
            "    https://scikit-learn.org/stable/modules/linear_model.html#logistic-regression\n",
            "  extra_warning_msg=_LOGISTIC_SOLVER_CONVERGENCE_MSG)\n",
            "/usr/local/lib/python3.7/dist-packages/sklearn/linear_model/_logistic.py:940: ConvergenceWarning: lbfgs failed to converge (status=1):\n",
            "STOP: TOTAL NO. of ITERATIONS REACHED LIMIT.\n",
            "\n",
            "Increase the number of iterations (max_iter) or scale the data as shown in:\n",
            "    https://scikit-learn.org/stable/modules/preprocessing.html\n",
            "Please also refer to the documentation for alternative solver options:\n",
            "    https://scikit-learn.org/stable/modules/linear_model.html#logistic-regression\n",
            "  extra_warning_msg=_LOGISTIC_SOLVER_CONVERGENCE_MSG)\n",
            "/usr/local/lib/python3.7/dist-packages/sklearn/linear_model/_logistic.py:940: ConvergenceWarning: lbfgs failed to converge (status=1):\n",
            "STOP: TOTAL NO. of ITERATIONS REACHED LIMIT.\n",
            "\n",
            "Increase the number of iterations (max_iter) or scale the data as shown in:\n",
            "    https://scikit-learn.org/stable/modules/preprocessing.html\n",
            "Please also refer to the documentation for alternative solver options:\n",
            "    https://scikit-learn.org/stable/modules/linear_model.html#logistic-regression\n",
            "  extra_warning_msg=_LOGISTIC_SOLVER_CONVERGENCE_MSG)\n",
            "/usr/local/lib/python3.7/dist-packages/sklearn/linear_model/_logistic.py:940: ConvergenceWarning: lbfgs failed to converge (status=1):\n",
            "STOP: TOTAL NO. of ITERATIONS REACHED LIMIT.\n",
            "\n",
            "Increase the number of iterations (max_iter) or scale the data as shown in:\n",
            "    https://scikit-learn.org/stable/modules/preprocessing.html\n",
            "Please also refer to the documentation for alternative solver options:\n",
            "    https://scikit-learn.org/stable/modules/linear_model.html#logistic-regression\n",
            "  extra_warning_msg=_LOGISTIC_SOLVER_CONVERGENCE_MSG)\n",
            "/usr/local/lib/python3.7/dist-packages/sklearn/linear_model/_logistic.py:940: ConvergenceWarning: lbfgs failed to converge (status=1):\n",
            "STOP: TOTAL NO. of ITERATIONS REACHED LIMIT.\n",
            "\n",
            "Increase the number of iterations (max_iter) or scale the data as shown in:\n",
            "    https://scikit-learn.org/stable/modules/preprocessing.html\n",
            "Please also refer to the documentation for alternative solver options:\n",
            "    https://scikit-learn.org/stable/modules/linear_model.html#logistic-regression\n",
            "  extra_warning_msg=_LOGISTIC_SOLVER_CONVERGENCE_MSG)\n",
            "/usr/local/lib/python3.7/dist-packages/numpy/core/_methods.py:192: RuntimeWarning: overflow encountered in reduce\n",
            "  arrmean = umr_sum(arr, axis, dtype, keepdims=True)\n",
            "/usr/local/lib/python3.7/dist-packages/numpy/core/_methods.py:216: RuntimeWarning: overflow encountered in reduce\n",
            "  ret = umr_sum(x, axis, dtype, out, keepdims)\n",
            "/usr/local/lib/python3.7/dist-packages/numpy/core/_methods.py:192: RuntimeWarning: overflow encountered in reduce\n",
            "  arrmean = umr_sum(arr, axis, dtype, keepdims=True)\n",
            "/usr/local/lib/python3.7/dist-packages/numpy/core/_methods.py:216: RuntimeWarning: overflow encountered in reduce\n",
            "  ret = umr_sum(x, axis, dtype, out, keepdims)\n",
            "/usr/local/lib/python3.7/dist-packages/numpy/core/_methods.py:192: RuntimeWarning: overflow encountered in reduce\n",
            "  arrmean = umr_sum(arr, axis, dtype, keepdims=True)\n",
            "/usr/local/lib/python3.7/dist-packages/numpy/core/_methods.py:216: RuntimeWarning: overflow encountered in reduce\n",
            "  ret = umr_sum(x, axis, dtype, out, keepdims)\n",
            "/usr/local/lib/python3.7/dist-packages/numpy/core/_methods.py:192: RuntimeWarning: overflow encountered in reduce\n",
            "  arrmean = umr_sum(arr, axis, dtype, keepdims=True)\n",
            "/usr/local/lib/python3.7/dist-packages/numpy/core/_methods.py:216: RuntimeWarning: overflow encountered in reduce\n",
            "  ret = umr_sum(x, axis, dtype, out, keepdims)\n",
            "/usr/local/lib/python3.7/dist-packages/numpy/core/_methods.py:192: RuntimeWarning: overflow encountered in reduce\n",
            "  arrmean = umr_sum(arr, axis, dtype, keepdims=True)\n",
            "/usr/local/lib/python3.7/dist-packages/numpy/core/_methods.py:216: RuntimeWarning: overflow encountered in reduce\n",
            "  ret = umr_sum(x, axis, dtype, out, keepdims)\n",
            "/usr/local/lib/python3.7/dist-packages/numpy/core/_methods.py:192: RuntimeWarning: overflow encountered in reduce\n",
            "  arrmean = umr_sum(arr, axis, dtype, keepdims=True)\n",
            "/usr/local/lib/python3.7/dist-packages/numpy/core/_methods.py:216: RuntimeWarning: overflow encountered in reduce\n",
            "  ret = umr_sum(x, axis, dtype, out, keepdims)\n",
            "/usr/local/lib/python3.7/dist-packages/numpy/core/_methods.py:192: RuntimeWarning: overflow encountered in reduce\n",
            "  arrmean = umr_sum(arr, axis, dtype, keepdims=True)\n",
            "/usr/local/lib/python3.7/dist-packages/numpy/core/_methods.py:216: RuntimeWarning: overflow encountered in reduce\n",
            "  ret = umr_sum(x, axis, dtype, out, keepdims)\n",
            "/usr/local/lib/python3.7/dist-packages/numpy/core/_methods.py:192: RuntimeWarning: overflow encountered in reduce\n",
            "  arrmean = umr_sum(arr, axis, dtype, keepdims=True)\n",
            "/usr/local/lib/python3.7/dist-packages/numpy/core/_methods.py:216: RuntimeWarning: overflow encountered in reduce\n",
            "  ret = umr_sum(x, axis, dtype, out, keepdims)\n",
            "/usr/local/lib/python3.7/dist-packages/numpy/core/_methods.py:192: RuntimeWarning: overflow encountered in reduce\n",
            "  arrmean = umr_sum(arr, axis, dtype, keepdims=True)\n",
            "/usr/local/lib/python3.7/dist-packages/numpy/core/_methods.py:216: RuntimeWarning: overflow encountered in reduce\n",
            "  ret = umr_sum(x, axis, dtype, out, keepdims)\n",
            "/usr/local/lib/python3.7/dist-packages/numpy/core/_methods.py:192: RuntimeWarning: overflow encountered in reduce\n",
            "  arrmean = umr_sum(arr, axis, dtype, keepdims=True)\n",
            "/usr/local/lib/python3.7/dist-packages/numpy/core/_methods.py:216: RuntimeWarning: overflow encountered in reduce\n",
            "  ret = umr_sum(x, axis, dtype, out, keepdims)\n"
          ]
        },
        {
          "output_type": "display_data",
          "data": {
            "image/png": "[encoded data removed]",
            "text/plain": [
              "<Figure size 432x288 with 1 Axes>"
            ]
          },
          "metadata": {
            "needs_background": "light"
          }
        }
      ]
    },
    {
      "cell_type": "code",
      "metadata": {
        "colab": {
          "base_uri": "https://localhost:8080/",
          "height": 81
        },
        "id": "asvdn2mln3pa",
        "outputId": "e843a6d5-b697-4ab6-c468-228443ae774f"
      },
      "source": [
        "\n",
        "pd.DataFrame([experiment_1])"
      ],
      "execution_count": null,
      "outputs": [
        {
          "output_type": "execute_result",
          "data": {
            "text/html": [
              "<div>\n",
              "<style scoped>\n",
              "    .dataframe tbody tr th:only-of-type {\n",
              "        vertical-align: middle;\n",
              "    }\n",
              "\n",
              "    .dataframe tbody tr th {\n",
              "        vertical-align: top;\n",
              "    }\n",
              "\n",
              "    .dataframe thead th {\n",
              "        text-align: right;\n",
              "    }\n",
              "</style>\n",
              "<table border=\"1\" class=\"dataframe\">\n",
              "  <thead>\n",
              "    <tr style=\"text-align: right;\">\n",
              "      <th></th>\n",
              "      <th>LogisticRegression</th>\n",
              "      <th>knn</th>\n",
              "      <th>SVC</th>\n",
              "      <th>decision_tree</th>\n",
              "      <th>Naive Bayes</th>\n",
              "    </tr>\n",
              "  </thead>\n",
              "  <tbody>\n",
              "    <tr>\n",
              "      <th>0</th>\n",
              "      <td>0.642212</td>\n",
              "      <td>0.66841</td>\n",
              "      <td>0.69403</td>\n",
              "      <td>0.596339</td>\n",
              "      <td>0.582007</td>\n",
              "    </tr>\n",
              "  </tbody>\n",
              "</table>\n",
              "</div>"
            ],
            "text/plain": [
              "   LogisticRegression      knn      SVC  decision_tree  Naive Bayes\n",
              "0            0.642212  0.66841  0.69403       0.596339     0.582007"
            ]
          },
          "metadata": {},
          "execution_count": 22
        }
      ]
    },
    {
      "cell_type": "markdown",
      "metadata": {
        "id": "1ZiJO1E70kde"
      },
      "source": [
        "# Experiment 2: with scaling"
      ]
    },
    {
      "cell_type": "code",
      "metadata": {
        "colab": {
          "base_uri": "https://localhost:8080/",
          "height": 1000
        },
        "id": "diflib2H0kde",
        "outputId": "798f24c0-f1cb-45d5-e109-98e6951c0a50"
      },
      "source": [
        "# Spot Checking and Comparing Algorithms With StandardScaler Scaler\n",
        "pipelines=[]\n",
        "pipelines.append(('scaled Logisitic Regression',Pipeline([('scaler',StandardScaler()),('LogisticRegression',LogisticRegression())])))\n",
        "pipelines.append(('scaled KNN',Pipeline([('scaler',StandardScaler()),('KNN',KNeighborsClassifier(n_neighbors=5))])))\n",
        "pipelines.append(('scaled SVC',Pipeline([('scaler',StandardScaler()),('SVC',SVC())])))\n",
        "pipelines.append(('scaled DecisionTree',Pipeline([('scaler',StandardScaler()),('decision',DecisionTreeClassifier())])))\n",
        "pipelines.append(('scaled naive bayes',Pipeline([('scaler',StandardScaler()),('scaled Naive Bayes',GaussianNB())])))\n",
        "\n",
        "# Evaluating Each model\n",
        "predictions=[]\n",
        "experiment_2 = {}\n",
        "for name,model in models:\n",
        "    fold=KFold(n_splits=10)\n",
        "    result=cross_val_score(model,x,y,cv=fold,scoring=error)\n",
        "    predictions.append(result)\n",
        "    experiment_2[name] = result.mean()\n",
        "\n",
        "# Visualizing the Model accuracy\n",
        "fig=plt.figure()\n",
        "fig.suptitle(\"Comparing Algorithms\")\n",
        "plt.boxplot(predictions)\n",
        "plt.show()"
      ],
      "execution_count": null,
      "outputs": [
        {
          "output_type": "stream",
          "name": "stderr",
          "text": [
            "/usr/local/lib/python3.7/dist-packages/sklearn/linear_model/_logistic.py:940: ConvergenceWarning: lbfgs failed to converge (status=1):\n",
            "STOP: TOTAL NO. of ITERATIONS REACHED LIMIT.\n",
            "\n",
            "Increase the number of iterations (max_iter) or scale the data as shown in:\n",
            "    https://scikit-learn.org/stable/modules/preprocessing.html\n",
            "Please also refer to the documentation for alternative solver options:\n",
            "    https://scikit-learn.org/stable/modules/linear_model.html#logistic-regression\n",
            "  extra_warning_msg=_LOGISTIC_SOLVER_CONVERGENCE_MSG)\n",
            "/usr/local/lib/python3.7/dist-packages/sklearn/linear_model/_logistic.py:940: ConvergenceWarning: lbfgs failed to converge (status=1):\n",
            "STOP: TOTAL NO. of ITERATIONS REACHED LIMIT.\n",
            "\n",
            "Increase the number of iterations (max_iter) or scale the data as shown in:\n",
            "    https://scikit-learn.org/stable/modules/preprocessing.html\n",
            "Please also refer to the documentation for alternative solver options:\n",
            "    https://scikit-learn.org/stable/modules/linear_model.html#logistic-regression\n",
            "  extra_warning_msg=_LOGISTIC_SOLVER_CONVERGENCE_MSG)\n",
            "/usr/local/lib/python3.7/dist-packages/sklearn/linear_model/_logistic.py:940: ConvergenceWarning: lbfgs failed to converge (status=1):\n",
            "STOP: TOTAL NO. of ITERATIONS REACHED LIMIT.\n",
            "\n",
            "Increase the number of iterations (max_iter) or scale the data as shown in:\n",
            "    https://scikit-learn.org/stable/modules/preprocessing.html\n",
            "Please also refer to the documentation for alternative solver options:\n",
            "    https://scikit-learn.org/stable/modules/linear_model.html#logistic-regression\n",
            "  extra_warning_msg=_LOGISTIC_SOLVER_CONVERGENCE_MSG)\n",
            "/usr/local/lib/python3.7/dist-packages/sklearn/linear_model/_logistic.py:940: ConvergenceWarning: lbfgs failed to converge (status=1):\n",
            "STOP: TOTAL NO. of ITERATIONS REACHED LIMIT.\n",
            "\n",
            "Increase the number of iterations (max_iter) or scale the data as shown in:\n",
            "    https://scikit-learn.org/stable/modules/preprocessing.html\n",
            "Please also refer to the documentation for alternative solver options:\n",
            "    https://scikit-learn.org/stable/modules/linear_model.html#logistic-regression\n",
            "  extra_warning_msg=_LOGISTIC_SOLVER_CONVERGENCE_MSG)\n",
            "/usr/local/lib/python3.7/dist-packages/sklearn/linear_model/_logistic.py:940: ConvergenceWarning: lbfgs failed to converge (status=1):\n",
            "STOP: TOTAL NO. of ITERATIONS REACHED LIMIT.\n",
            "\n",
            "Increase the number of iterations (max_iter) or scale the data as shown in:\n",
            "    https://scikit-learn.org/stable/modules/preprocessing.html\n",
            "Please also refer to the documentation for alternative solver options:\n",
            "    https://scikit-learn.org/stable/modules/linear_model.html#logistic-regression\n",
            "  extra_warning_msg=_LOGISTIC_SOLVER_CONVERGENCE_MSG)\n",
            "/usr/local/lib/python3.7/dist-packages/sklearn/linear_model/_logistic.py:940: ConvergenceWarning: lbfgs failed to converge (status=1):\n",
            "STOP: TOTAL NO. of ITERATIONS REACHED LIMIT.\n",
            "\n",
            "Increase the number of iterations (max_iter) or scale the data as shown in:\n",
            "    https://scikit-learn.org/stable/modules/preprocessing.html\n",
            "Please also refer to the documentation for alternative solver options:\n",
            "    https://scikit-learn.org/stable/modules/linear_model.html#logistic-regression\n",
            "  extra_warning_msg=_LOGISTIC_SOLVER_CONVERGENCE_MSG)\n",
            "/usr/local/lib/python3.7/dist-packages/sklearn/linear_model/_logistic.py:940: ConvergenceWarning: lbfgs failed to converge (status=1):\n",
            "STOP: TOTAL NO. of ITERATIONS REACHED LIMIT.\n",
            "\n",
            "Increase the number of iterations (max_iter) or scale the data as shown in:\n",
            "    https://scikit-learn.org/stable/modules/preprocessing.html\n",
            "Please also refer to the documentation for alternative solver options:\n",
            "    https://scikit-learn.org/stable/modules/linear_model.html#logistic-regression\n",
            "  extra_warning_msg=_LOGISTIC_SOLVER_CONVERGENCE_MSG)\n",
            "/usr/local/lib/python3.7/dist-packages/sklearn/linear_model/_logistic.py:940: ConvergenceWarning: lbfgs failed to converge (status=1):\n",
            "STOP: TOTAL NO. of ITERATIONS REACHED LIMIT.\n",
            "\n",
            "Increase the number of iterations (max_iter) or scale the data as shown in:\n",
            "    https://scikit-learn.org/stable/modules/preprocessing.html\n",
            "Please also refer to the documentation for alternative solver options:\n",
            "    https://scikit-learn.org/stable/modules/linear_model.html#logistic-regression\n",
            "  extra_warning_msg=_LOGISTIC_SOLVER_CONVERGENCE_MSG)\n",
            "/usr/local/lib/python3.7/dist-packages/sklearn/linear_model/_logistic.py:940: ConvergenceWarning: lbfgs failed to converge (status=1):\n",
            "STOP: TOTAL NO. of ITERATIONS REACHED LIMIT.\n",
            "\n",
            "Increase the number of iterations (max_iter) or scale the data as shown in:\n",
            "    https://scikit-learn.org/stable/modules/preprocessing.html\n",
            "Please also refer to the documentation for alternative solver options:\n",
            "    https://scikit-learn.org/stable/modules/linear_model.html#logistic-regression\n",
            "  extra_warning_msg=_LOGISTIC_SOLVER_CONVERGENCE_MSG)\n",
            "/usr/local/lib/python3.7/dist-packages/sklearn/linear_model/_logistic.py:940: ConvergenceWarning: lbfgs failed to converge (status=1):\n",
            "STOP: TOTAL NO. of ITERATIONS REACHED LIMIT.\n",
            "\n",
            "Increase the number of iterations (max_iter) or scale the data as shown in:\n",
            "    https://scikit-learn.org/stable/modules/preprocessing.html\n",
            "Please also refer to the documentation for alternative solver options:\n",
            "    https://scikit-learn.org/stable/modules/linear_model.html#logistic-regression\n",
            "  extra_warning_msg=_LOGISTIC_SOLVER_CONVERGENCE_MSG)\n",
            "/usr/local/lib/python3.7/dist-packages/numpy/core/_methods.py:192: RuntimeWarning: overflow encountered in reduce\n",
            "  arrmean = umr_sum(arr, axis, dtype, keepdims=True)\n",
            "/usr/local/lib/python3.7/dist-packages/numpy/core/_methods.py:216: RuntimeWarning: overflow encountered in reduce\n",
            "  ret = umr_sum(x, axis, dtype, out, keepdims)\n",
            "/usr/local/lib/python3.7/dist-packages/numpy/core/_methods.py:192: RuntimeWarning: overflow encountered in reduce\n",
            "  arrmean = umr_sum(arr, axis, dtype, keepdims=True)\n",
            "/usr/local/lib/python3.7/dist-packages/numpy/core/_methods.py:216: RuntimeWarning: overflow encountered in reduce\n",
            "  ret = umr_sum(x, axis, dtype, out, keepdims)\n",
            "/usr/local/lib/python3.7/dist-packages/numpy/core/_methods.py:192: RuntimeWarning: overflow encountered in reduce\n",
            "  arrmean = umr_sum(arr, axis, dtype, keepdims=True)\n",
            "/usr/local/lib/python3.7/dist-packages/numpy/core/_methods.py:216: RuntimeWarning: overflow encountered in reduce\n",
            "  ret = umr_sum(x, axis, dtype, out, keepdims)\n",
            "/usr/local/lib/python3.7/dist-packages/numpy/core/_methods.py:192: RuntimeWarning: overflow encountered in reduce\n",
            "  arrmean = umr_sum(arr, axis, dtype, keepdims=True)\n",
            "/usr/local/lib/python3.7/dist-packages/numpy/core/_methods.py:216: RuntimeWarning: overflow encountered in reduce\n",
            "  ret = umr_sum(x, axis, dtype, out, keepdims)\n",
            "/usr/local/lib/python3.7/dist-packages/numpy/core/_methods.py:192: RuntimeWarning: overflow encountered in reduce\n",
            "  arrmean = umr_sum(arr, axis, dtype, keepdims=True)\n",
            "/usr/local/lib/python3.7/dist-packages/numpy/core/_methods.py:216: RuntimeWarning: overflow encountered in reduce\n",
            "  ret = umr_sum(x, axis, dtype, out, keepdims)\n",
            "/usr/local/lib/python3.7/dist-packages/numpy/core/_methods.py:192: RuntimeWarning: overflow encountered in reduce\n",
            "  arrmean = umr_sum(arr, axis, dtype, keepdims=True)\n",
            "/usr/local/lib/python3.7/dist-packages/numpy/core/_methods.py:216: RuntimeWarning: overflow encountered in reduce\n",
            "  ret = umr_sum(x, axis, dtype, out, keepdims)\n",
            "/usr/local/lib/python3.7/dist-packages/numpy/core/_methods.py:192: RuntimeWarning: overflow encountered in reduce\n",
            "  arrmean = umr_sum(arr, axis, dtype, keepdims=True)\n",
            "/usr/local/lib/python3.7/dist-packages/numpy/core/_methods.py:216: RuntimeWarning: overflow encountered in reduce\n",
            "  ret = umr_sum(x, axis, dtype, out, keepdims)\n",
            "/usr/local/lib/python3.7/dist-packages/numpy/core/_methods.py:192: RuntimeWarning: overflow encountered in reduce\n",
            "  arrmean = umr_sum(arr, axis, dtype, keepdims=True)\n",
            "/usr/local/lib/python3.7/dist-packages/numpy/core/_methods.py:216: RuntimeWarning: overflow encountered in reduce\n",
            "  ret = umr_sum(x, axis, dtype, out, keepdims)\n",
            "/usr/local/lib/python3.7/dist-packages/numpy/core/_methods.py:192: RuntimeWarning: overflow encountered in reduce\n",
            "  arrmean = umr_sum(arr, axis, dtype, keepdims=True)\n",
            "/usr/local/lib/python3.7/dist-packages/numpy/core/_methods.py:216: RuntimeWarning: overflow encountered in reduce\n",
            "  ret = umr_sum(x, axis, dtype, out, keepdims)\n",
            "/usr/local/lib/python3.7/dist-packages/numpy/core/_methods.py:192: RuntimeWarning: overflow encountered in reduce\n",
            "  arrmean = umr_sum(arr, axis, dtype, keepdims=True)\n",
            "/usr/local/lib/python3.7/dist-packages/numpy/core/_methods.py:216: RuntimeWarning: overflow encountered in reduce\n",
            "  ret = umr_sum(x, axis, dtype, out, keepdims)\n"
          ]
        },
        {
          "output_type": "display_data",
          "data": {
            "image/png": "[encoded data removed]",
            "text/plain": [
              "<Figure size 432x288 with 1 Axes>"
            ]
          },
          "metadata": {
            "needs_background": "light"
          }
        }
      ]
    },
    {
      "cell_type": "code",
      "metadata": {
        "colab": {
          "base_uri": "https://localhost:8080/",
          "height": 112
        },
        "id": "gkCGWd3ZqbU5",
        "outputId": "95c682eb-422b-4c27-a589-3cb78f6e23eb"
      },
      "source": [
        "pd.DataFrame([experiment_1, experiment_2])"
      ],
      "execution_count": null,
      "outputs": [
        {
          "output_type": "execute_result",
          "data": {
            "text/html": [
              "<div>\n",
              "<style scoped>\n",
              "    .dataframe tbody tr th:only-of-type {\n",
              "        vertical-align: middle;\n",
              "    }\n",
              "\n",
              "    .dataframe tbody tr th {\n",
              "        vertical-align: top;\n",
              "    }\n",
              "\n",
              "    .dataframe thead th {\n",
              "        text-align: right;\n",
              "    }\n",
              "</style>\n",
              "<table border=\"1\" class=\"dataframe\">\n",
              "  <thead>\n",
              "    <tr style=\"text-align: right;\">\n",
              "      <th></th>\n",
              "      <th>LogisticRegression</th>\n",
              "      <th>knn</th>\n",
              "      <th>SVC</th>\n",
              "      <th>decision_tree</th>\n",
              "      <th>Naive Bayes</th>\n",
              "    </tr>\n",
              "  </thead>\n",
              "  <tbody>\n",
              "    <tr>\n",
              "      <th>0</th>\n",
              "      <td>0.642212</td>\n",
              "      <td>0.66841</td>\n",
              "      <td>0.69403</td>\n",
              "      <td>0.596339</td>\n",
              "      <td>0.582007</td>\n",
              "    </tr>\n",
              "    <tr>\n",
              "      <th>1</th>\n",
              "      <td>0.642212</td>\n",
              "      <td>0.66841</td>\n",
              "      <td>0.69403</td>\n",
              "      <td>0.591574</td>\n",
              "      <td>0.582007</td>\n",
              "    </tr>\n",
              "  </tbody>\n",
              "</table>\n",
              "</div>"
            ],
            "text/plain": [
              "   LogisticRegression      knn      SVC  decision_tree  Naive Bayes\n",
              "0            0.642212  0.66841  0.69403       0.596339     0.582007\n",
              "1            0.642212  0.66841  0.69403       0.591574     0.582007"
            ]
          },
          "metadata": {},
          "execution_count": 25
        }
      ]
    },
    {
      "cell_type": "markdown",
      "metadata": {
        "id": "U648U3U8ZwTX"
      },
      "source": [
        "# Experiment 3: dimensional reduction"
      ]
    },
    {
      "cell_type": "code",
      "metadata": {
        "id": "sMqwHqwy-mOg"
      },
      "source": [
        "pca = PCA(n_components=500)\n",
        "new_x = pca.fit_transform(x)"
      ],
      "execution_count": null,
      "outputs": []
    },
    {
      "cell_type": "code",
      "metadata": {
        "colab": {
          "base_uri": "https://localhost:8080/"
        },
        "id": "abEcyz7K-0M-",
        "outputId": "4d39a627-91e0-47ad-a53e-4a173c76dccf"
      },
      "source": [
        "sum = 0\n",
        "for i in pca.explained_variance_ratio_:\n",
        "  sum = sum +i\n",
        "\n",
        "print(\"Overall variation :\", sum)"
      ],
      "execution_count": null,
      "outputs": [
        {
          "output_type": "stream",
          "name": "stdout",
          "text": [
            "Overall variation : 0.992588985266454\n"
          ]
        }
      ]
    },
    {
      "cell_type": "code",
      "metadata": {
        "colab": {
          "base_uri": "https://localhost:8080/"
        },
        "id": "wW0P9EyD_DV9",
        "outputId": "4d777d88-0414-4488-8a73-d0815b070d97"
      },
      "source": [
        "new_x.shape"
      ],
      "execution_count": null,
      "outputs": [
        {
          "output_type": "execute_result",
          "data": {
            "text/plain": [
              "(1677, 500)"
            ]
          },
          "metadata": {},
          "execution_count": 28
        }
      ]
    },
    {
      "cell_type": "code",
      "metadata": {
        "colab": {
          "base_uri": "https://localhost:8080/",
          "height": 1000
        },
        "id": "Cd-YKQEg_tV2",
        "outputId": "e84c1de1-ef67-4617-88fa-5d04cc6746e6"
      },
      "source": [
        "# Spotcheck and compare algorithms with out applying feature scale.......\n",
        "n_neighbors=5\n",
        "\n",
        "# keeping all models in one list\n",
        "models=[]\n",
        "models.append(('LogisticRegression',LogisticRegression()))\n",
        "models.append(('knn',KNeighborsClassifier(n_neighbors=n_neighbors)))\n",
        "models.append(('SVC',SVC()))\n",
        "models.append((\"decision_tree\",DecisionTreeClassifier()))\n",
        "models.append(('Naive Bayes',GaussianNB()))\n",
        "\n",
        "# Evaluating Each model\n",
        "predictions=[]\n",
        "error='accuracy'\n",
        "experiment_3 = {}\n",
        "for name,model in models:\n",
        "    fold=KFold(n_splits=10)\n",
        "    result=cross_val_score(model,new_x,y,cv=fold,scoring=error)\n",
        "    predictions.append(result)\n",
        "    experiment_3[name] = result.mean()\n",
        "\n",
        "# Visualizing the Model accuracy\n",
        "fig=plt.figure()\n",
        "fig.suptitle(\"Comparing Algorithms\")\n",
        "plt.boxplot(predictions)\n",
        "plt.show()"
      ],
      "execution_count": null,
      "outputs": [
        {
          "output_type": "stream",
          "name": "stderr",
          "text": [
            "/usr/local/lib/python3.7/dist-packages/sklearn/linear_model/_logistic.py:940: ConvergenceWarning: lbfgs failed to converge (status=1):\n",
            "STOP: TOTAL NO. of ITERATIONS REACHED LIMIT.\n",
            "\n",
            "Increase the number of iterations (max_iter) or scale the data as shown in:\n",
            "    https://scikit-learn.org/stable/modules/preprocessing.html\n",
            "Please also refer to the documentation for alternative solver options:\n",
            "    https://scikit-learn.org/stable/modules/linear_model.html#logistic-regression\n",
            "  extra_warning_msg=_LOGISTIC_SOLVER_CONVERGENCE_MSG)\n",
            "/usr/local/lib/python3.7/dist-packages/sklearn/linear_model/_logistic.py:940: ConvergenceWarning: lbfgs failed to converge (status=1):\n",
            "STOP: TOTAL NO. of ITERATIONS REACHED LIMIT.\n",
            "\n",
            "Increase the number of iterations (max_iter) or scale the data as shown in:\n",
            "    https://scikit-learn.org/stable/modules/preprocessing.html\n",
            "Please also refer to the documentation for alternative solver options:\n",
            "    https://scikit-learn.org/stable/modules/linear_model.html#logistic-regression\n",
            "  extra_warning_msg=_LOGISTIC_SOLVER_CONVERGENCE_MSG)\n",
            "/usr/local/lib/python3.7/dist-packages/sklearn/linear_model/_logistic.py:940: ConvergenceWarning: lbfgs failed to converge (status=1):\n",
            "STOP: TOTAL NO. of ITERATIONS REACHED LIMIT.\n",
            "\n",
            "Increase the number of iterations (max_iter) or scale the data as shown in:\n",
            "    https://scikit-learn.org/stable/modules/preprocessing.html\n",
            "Please also refer to the documentation for alternative solver options:\n",
            "    https://scikit-learn.org/stable/modules/linear_model.html#logistic-regression\n",
            "  extra_warning_msg=_LOGISTIC_SOLVER_CONVERGENCE_MSG)\n",
            "/usr/local/lib/python3.7/dist-packages/sklearn/linear_model/_logistic.py:940: ConvergenceWarning: lbfgs failed to converge (status=1):\n",
            "STOP: TOTAL NO. of ITERATIONS REACHED LIMIT.\n",
            "\n",
            "Increase the number of iterations (max_iter) or scale the data as shown in:\n",
            "    https://scikit-learn.org/stable/modules/preprocessing.html\n",
            "Please also refer to the documentation for alternative solver options:\n",
            "    https://scikit-learn.org/stable/modules/linear_model.html#logistic-regression\n",
            "  extra_warning_msg=_LOGISTIC_SOLVER_CONVERGENCE_MSG)\n",
            "/usr/local/lib/python3.7/dist-packages/sklearn/linear_model/_logistic.py:940: ConvergenceWarning: lbfgs failed to converge (status=1):\n",
            "STOP: TOTAL NO. of ITERATIONS REACHED LIMIT.\n",
            "\n",
            "Increase the number of iterations (max_iter) or scale the data as shown in:\n",
            "    https://scikit-learn.org/stable/modules/preprocessing.html\n",
            "Please also refer to the documentation for alternative solver options:\n",
            "    https://scikit-learn.org/stable/modules/linear_model.html#logistic-regression\n",
            "  extra_warning_msg=_LOGISTIC_SOLVER_CONVERGENCE_MSG)\n",
            "/usr/local/lib/python3.7/dist-packages/sklearn/linear_model/_logistic.py:940: ConvergenceWarning: lbfgs failed to converge (status=1):\n",
            "STOP: TOTAL NO. of ITERATIONS REACHED LIMIT.\n",
            "\n",
            "Increase the number of iterations (max_iter) or scale the data as shown in:\n",
            "    https://scikit-learn.org/stable/modules/preprocessing.html\n",
            "Please also refer to the documentation for alternative solver options:\n",
            "    https://scikit-learn.org/stable/modules/linear_model.html#logistic-regression\n",
            "  extra_warning_msg=_LOGISTIC_SOLVER_CONVERGENCE_MSG)\n",
            "/usr/local/lib/python3.7/dist-packages/sklearn/linear_model/_logistic.py:940: ConvergenceWarning: lbfgs failed to converge (status=1):\n",
            "STOP: TOTAL NO. of ITERATIONS REACHED LIMIT.\n",
            "\n",
            "Increase the number of iterations (max_iter) or scale the data as shown in:\n",
            "    https://scikit-learn.org/stable/modules/preprocessing.html\n",
            "Please also refer to the documentation for alternative solver options:\n",
            "    https://scikit-learn.org/stable/modules/linear_model.html#logistic-regression\n",
            "  extra_warning_msg=_LOGISTIC_SOLVER_CONVERGENCE_MSG)\n",
            "/usr/local/lib/python3.7/dist-packages/sklearn/linear_model/_logistic.py:940: ConvergenceWarning: lbfgs failed to converge (status=1):\n",
            "STOP: TOTAL NO. of ITERATIONS REACHED LIMIT.\n",
            "\n",
            "Increase the number of iterations (max_iter) or scale the data as shown in:\n",
            "    https://scikit-learn.org/stable/modules/preprocessing.html\n",
            "Please also refer to the documentation for alternative solver options:\n",
            "    https://scikit-learn.org/stable/modules/linear_model.html#logistic-regression\n",
            "  extra_warning_msg=_LOGISTIC_SOLVER_CONVERGENCE_MSG)\n",
            "/usr/local/lib/python3.7/dist-packages/sklearn/linear_model/_logistic.py:940: ConvergenceWarning: lbfgs failed to converge (status=1):\n",
            "STOP: TOTAL NO. of ITERATIONS REACHED LIMIT.\n",
            "\n",
            "Increase the number of iterations (max_iter) or scale the data as shown in:\n",
            "    https://scikit-learn.org/stable/modules/preprocessing.html\n",
            "Please also refer to the documentation for alternative solver options:\n",
            "    https://scikit-learn.org/stable/modules/linear_model.html#logistic-regression\n",
            "  extra_warning_msg=_LOGISTIC_SOLVER_CONVERGENCE_MSG)\n",
            "/usr/local/lib/python3.7/dist-packages/sklearn/linear_model/_logistic.py:940: ConvergenceWarning: lbfgs failed to converge (status=1):\n",
            "STOP: TOTAL NO. of ITERATIONS REACHED LIMIT.\n",
            "\n",
            "Increase the number of iterations (max_iter) or scale the data as shown in:\n",
            "    https://scikit-learn.org/stable/modules/preprocessing.html\n",
            "Please also refer to the documentation for alternative solver options:\n",
            "    https://scikit-learn.org/stable/modules/linear_model.html#logistic-regression\n",
            "  extra_warning_msg=_LOGISTIC_SOLVER_CONVERGENCE_MSG)\n"
          ]
        },
        {
          "output_type": "display_data",
          "data": {
            "image/png": "[encoded data removed]",
            "text/plain": [
              "<Figure size 432x288 with 1 Axes>"
            ]
          },
          "metadata": {
            "needs_background": "light"
          }
        }
      ]
    },
    {
      "cell_type": "code",
      "metadata": {
        "colab": {
          "base_uri": "https://localhost:8080/",
          "height": 143
        },
        "id": "9QUvzIeNr0HR",
        "outputId": "aedb5363-a3db-4a49-c512-d160ce187057"
      },
      "source": [
        "pd.DataFrame([experiment_1, experiment_2, experiment_3])"
      ],
      "execution_count": null,
      "outputs": [
        {
          "output_type": "execute_result",
          "data": {
            "text/html": [
              "<div>\n",
              "<style scoped>\n",
              "    .dataframe tbody tr th:only-of-type {\n",
              "        vertical-align: middle;\n",
              "    }\n",
              "\n",
              "    .dataframe tbody tr th {\n",
              "        vertical-align: top;\n",
              "    }\n",
              "\n",
              "    .dataframe thead th {\n",
              "        text-align: right;\n",
              "    }\n",
              "</style>\n",
              "<table border=\"1\" class=\"dataframe\">\n",
              "  <thead>\n",
              "    <tr style=\"text-align: right;\">\n",
              "      <th></th>\n",
              "      <th>LogisticRegression</th>\n",
              "      <th>knn</th>\n",
              "      <th>SVC</th>\n",
              "      <th>decision_tree</th>\n",
              "      <th>Naive Bayes</th>\n",
              "    </tr>\n",
              "  </thead>\n",
              "  <tbody>\n",
              "    <tr>\n",
              "      <th>0</th>\n",
              "      <td>0.642212</td>\n",
              "      <td>0.66841</td>\n",
              "      <td>0.69403</td>\n",
              "      <td>0.596339</td>\n",
              "      <td>0.582007</td>\n",
              "    </tr>\n",
              "    <tr>\n",
              "      <th>1</th>\n",
              "      <td>0.642212</td>\n",
              "      <td>0.66841</td>\n",
              "      <td>0.69403</td>\n",
              "      <td>0.591574</td>\n",
              "      <td>0.582007</td>\n",
              "    </tr>\n",
              "    <tr>\n",
              "      <th>2</th>\n",
              "      <td>0.634456</td>\n",
              "      <td>0.66960</td>\n",
              "      <td>0.70119</td>\n",
              "      <td>0.581975</td>\n",
              "      <td>0.587272</td>\n",
              "    </tr>\n",
              "  </tbody>\n",
              "</table>\n",
              "</div>"
            ],
            "text/plain": [
              "   LogisticRegression      knn      SVC  decision_tree  Naive Bayes\n",
              "0            0.642212  0.66841  0.69403       0.596339     0.582007\n",
              "1            0.642212  0.66841  0.69403       0.591574     0.582007\n",
              "2            0.634456  0.66960  0.70119       0.581975     0.587272"
            ]
          },
          "metadata": {},
          "execution_count": 30
        }
      ]
    },
    {
      "cell_type": "markdown",
      "metadata": {
        "id": "VtJpfLblfN2F"
      },
      "source": [
        "# Experiment 4: Autoencoder"
      ]
    },
    {
      "cell_type": "code",
      "metadata": {
        "id": "bCHdXg7V6Jl4"
      },
      "source": [
        "from keras.layers import Dense, Dropout\n",
        "from keras.models import Sequential, Model\n",
        "from keras import metrics, Input\n",
        "METRICS = [\n",
        "    metrics.RootMeanSquaredError(name='rms'),\n",
        "    metrics.MeanAbsoluteError(name='mae')\n",
        "]\n",
        "ENCODING_DIM = 500 #Desired Dimension\n",
        "BATCH_SIZE = 32\n",
        "EPOCHS = 50\n",
        "def make_and_train_autoencoder(X_train, metrics=METRICS):\n",
        "    \n",
        "    len_input_output = 7761\n",
        "    input_ = Input(shape=(len_input_output,))\n",
        "    encoded = Dense(units=ENCODING_DIM*2, activation=\"relu\")(input_)\n",
        "    bottleneck = Dense(units=ENCODING_DIM, activation=\"relu\")(encoded)\n",
        "    decoded = Dense(units=ENCODING_DIM*2, activation=\"relu\")(bottleneck)\n",
        "    output = Dense(units=len_input_output, activation=\"linear\")(decoded)\n",
        "    #Training is performed on the entire autoencoder\n",
        "    autoencoder = Model(inputs=input_, outputs=output)\n",
        "    autoencoder.compile(optimizer='adam', loss='mean_squared_error', metrics=[metrics])\n",
        "    autoencoder.fit(X_train, X_train,\n",
        "                    batch_size=BATCH_SIZE,\n",
        "                    epochs=EPOCHS)\n",
        "    #Use only the encoder part for dimensionality reduction\n",
        "    encoder = Model(inputs=input_, outputs=bottleneck)\n",
        "    return autoencoder, encoder"
      ],
      "execution_count": 51,
      "outputs": []
    },
    {
      "cell_type": "code",
      "metadata": {
        "colab": {
          "base_uri": "https://localhost:8080/"
        },
        "id": "d-iJTr4w6Qh1",
        "outputId": "73c55d7c-d243-40c6-b978-50cc83e3c065"
      },
      "source": [
        "autoencoder, encoder = make_and_train_autoencoder(x)"
      ],
      "execution_count": 52,
      "outputs": [
        {
          "output_type": "stream",
          "name": "stdout",
          "text": [
            "Epoch 1/50\n",
            "53/53 [==============================] - 9s 170ms/step - loss: 0.2153 - rms: 0.4640 - mae: 0.1685\n",
            "Epoch 2/50\n",
            "53/53 [==============================] - 8s 153ms/step - loss: 0.0895 - rms: 0.2991 - mae: 0.0978\n",
            "Epoch 3/50\n",
            "53/53 [==============================] - 10s 183ms/step - loss: 0.0643 - rms: 0.2535 - mae: 0.0917\n",
            "Epoch 4/50\n",
            "53/53 [==============================] - 9s 173ms/step - loss: 0.0597 - rms: 0.2444 - mae: 0.0918\n",
            "Epoch 5/50\n",
            "53/53 [==============================] - 8s 156ms/step - loss: 0.0555 - rms: 0.2355 - mae: 0.0866\n",
            "Epoch 6/50\n",
            "53/53 [==============================] - 8s 156ms/step - loss: 0.0522 - rms: 0.2285 - mae: 0.0825\n",
            "Epoch 7/50\n",
            "53/53 [==============================] - 9s 161ms/step - loss: 0.0498 - rms: 0.2232 - mae: 0.0790\n",
            "Epoch 8/50\n",
            "53/53 [==============================] - 9s 165ms/step - loss: 0.0479 - rms: 0.2189 - mae: 0.0788\n",
            "Epoch 9/50\n",
            "53/53 [==============================] - 8s 145ms/step - loss: 0.0457 - rms: 0.2139 - mae: 0.0771\n",
            "Epoch 10/50\n",
            "53/53 [==============================] - 8s 151ms/step - loss: 0.0444 - rms: 0.2106 - mae: 0.0765\n",
            "Epoch 11/50\n",
            "53/53 [==============================] - 8s 151ms/step - loss: 0.0431 - rms: 0.2076 - mae: 0.0760\n",
            "Epoch 12/50\n",
            "53/53 [==============================] - 8s 153ms/step - loss: 0.0415 - rms: 0.2037 - mae: 0.0737\n",
            "Epoch 13/50\n",
            "53/53 [==============================] - 8s 154ms/step - loss: 0.0407 - rms: 0.2018 - mae: 0.0735\n",
            "Epoch 14/50\n",
            "53/53 [==============================] - 9s 166ms/step - loss: 0.0395 - rms: 0.1987 - mae: 0.0737\n",
            "Epoch 15/50\n",
            "53/53 [==============================] - 8s 152ms/step - loss: 0.0383 - rms: 0.1957 - mae: 0.0713\n",
            "Epoch 16/50\n",
            "53/53 [==============================] - 8s 152ms/step - loss: 0.0375 - rms: 0.1936 - mae: 0.0717\n",
            "Epoch 17/50\n",
            "53/53 [==============================] - 8s 145ms/step - loss: 0.0363 - rms: 0.1906 - mae: 0.0700\n",
            "Epoch 18/50\n",
            "53/53 [==============================] - 8s 146ms/step - loss: 0.0356 - rms: 0.1886 - mae: 0.0699\n",
            "Epoch 19/50\n",
            "53/53 [==============================] - 8s 153ms/step - loss: 0.0349 - rms: 0.1867 - mae: 0.0688\n",
            "Epoch 20/50\n",
            "53/53 [==============================] - 8s 153ms/step - loss: 0.0339 - rms: 0.1842 - mae: 0.0673\n",
            "Epoch 21/50\n",
            "53/53 [==============================] - 8s 152ms/step - loss: 0.0333 - rms: 0.1824 - mae: 0.0676\n",
            "Epoch 22/50\n",
            "53/53 [==============================] - 9s 160ms/step - loss: 0.0324 - rms: 0.1799 - mae: 0.0660\n",
            "Epoch 23/50\n",
            "53/53 [==============================] - 8s 149ms/step - loss: 0.0319 - rms: 0.1786 - mae: 0.0660\n",
            "Epoch 24/50\n",
            "53/53 [==============================] - 8s 144ms/step - loss: 0.0311 - rms: 0.1762 - mae: 0.0651\n",
            "Epoch 25/50\n",
            "53/53 [==============================] - 8s 145ms/step - loss: 0.0303 - rms: 0.1740 - mae: 0.0642\n",
            "Epoch 26/50\n",
            "53/53 [==============================] - 8s 153ms/step - loss: 0.0305 - rms: 0.1746 - mae: 0.0646\n",
            "Epoch 27/50\n",
            "53/53 [==============================] - 8s 153ms/step - loss: 0.0313 - rms: 0.1770 - mae: 0.0669\n",
            "Epoch 28/50\n",
            "53/53 [==============================] - 8s 161ms/step - loss: 0.0299 - rms: 0.1729 - mae: 0.0646\n",
            "Epoch 29/50\n",
            "53/53 [==============================] - 10s 179ms/step - loss: 0.0285 - rms: 0.1688 - mae: 0.0623\n",
            "Epoch 30/50\n",
            "53/53 [==============================] - 9s 175ms/step - loss: 0.0278 - rms: 0.1667 - mae: 0.0612\n",
            "Epoch 31/50\n",
            "53/53 [==============================] - 8s 153ms/step - loss: 0.0271 - rms: 0.1646 - mae: 0.0603\n",
            "Epoch 32/50\n",
            "53/53 [==============================] - 8s 146ms/step - loss: 0.0263 - rms: 0.1623 - mae: 0.0587\n",
            "Epoch 33/50\n",
            "53/53 [==============================] - 8s 147ms/step - loss: 0.0262 - rms: 0.1619 - mae: 0.0590\n",
            "Epoch 34/50\n",
            "53/53 [==============================] - 9s 169ms/step - loss: 0.0259 - rms: 0.1608 - mae: 0.0593\n",
            "Epoch 35/50\n",
            "53/53 [==============================] - 8s 153ms/step - loss: 0.0251 - rms: 0.1584 - mae: 0.0578\n",
            "Epoch 36/50\n",
            "53/53 [==============================] - 9s 167ms/step - loss: 0.0246 - rms: 0.1570 - mae: 0.0573\n",
            "Epoch 37/50\n",
            "53/53 [==============================] - 9s 161ms/step - loss: 0.0244 - rms: 0.1561 - mae: 0.0567\n",
            "Epoch 38/50\n",
            "53/53 [==============================] - 8s 147ms/step - loss: 0.0243 - rms: 0.1557 - mae: 0.0563\n",
            "Epoch 39/50\n",
            "53/53 [==============================] - 9s 172ms/step - loss: 0.0241 - rms: 0.1553 - mae: 0.0565\n",
            "Epoch 40/50\n",
            "53/53 [==============================] - 11s 204ms/step - loss: 0.0232 - rms: 0.1522 - mae: 0.0557\n",
            "Epoch 41/50\n",
            "53/53 [==============================] - 8s 148ms/step - loss: 0.0231 - rms: 0.1519 - mae: 0.0568\n",
            "Epoch 42/50\n",
            "53/53 [==============================] - 8s 154ms/step - loss: 0.0228 - rms: 0.1511 - mae: 0.0554\n",
            "Epoch 43/50\n",
            "53/53 [==============================] - 9s 168ms/step - loss: 0.0224 - rms: 0.1497 - mae: 0.0543\n",
            "Epoch 44/50\n",
            "53/53 [==============================] - 9s 173ms/step - loss: 0.0222 - rms: 0.1489 - mae: 0.0550\n",
            "Epoch 45/50\n",
            "53/53 [==============================] - 8s 148ms/step - loss: 0.0221 - rms: 0.1485 - mae: 0.0556\n",
            "Epoch 46/50\n",
            "53/53 [==============================] - 8s 156ms/step - loss: 0.0213 - rms: 0.1460 - mae: 0.0538\n",
            "Epoch 47/50\n",
            "53/53 [==============================] - 9s 173ms/step - loss: 0.0208 - rms: 0.1443 - mae: 0.0528\n",
            "Epoch 48/50\n",
            "53/53 [==============================] - 9s 166ms/step - loss: 0.0204 - rms: 0.1427 - mae: 0.0519\n",
            "Epoch 49/50\n",
            "53/53 [==============================] - 10s 188ms/step - loss: 0.0201 - rms: 0.1419 - mae: 0.0515\n",
            "Epoch 50/50\n",
            "53/53 [==============================] - 8s 147ms/step - loss: 0.0208 - rms: 0.1442 - mae: 0.0520\n"
          ]
        }
      ]
    },
    {
      "cell_type": "code",
      "metadata": {
        "id": "Mja2HRfFEkfA"
      },
      "source": [
        "x_encoded_data = encoder(x).numpy()"
      ],
      "execution_count": 53,
      "outputs": []
    },
    {
      "cell_type": "code",
      "metadata": {
        "colab": {
          "base_uri": "https://localhost:8080/"
        },
        "id": "eVspL5BJF3-t",
        "outputId": "8da6016a-a470-48c1-f4c8-0f19e5952878"
      },
      "source": [
        "x_encoded_data.shape"
      ],
      "execution_count": 54,
      "outputs": [
        {
          "output_type": "execute_result",
          "data": {
            "text/plain": [
              "(1677, 500)"
            ]
          },
          "metadata": {},
          "execution_count": 54
        }
      ]
    },
    {
      "cell_type": "code",
      "metadata": {
        "colab": {
          "base_uri": "https://localhost:8080/",
          "height": 1000
        },
        "id": "5fD7DDdbGJJn",
        "outputId": "f4f5cecb-b3f0-41f3-83a9-6f02ad4f887b"
      },
      "source": [
        "# Spotcheck and compare algorithms with out applying feature scale.......\n",
        "n_neighbors=5\n",
        "\n",
        "# keeping all models in one list\n",
        "models=[]\n",
        "models.append(('LogisticRegression',LogisticRegression()))\n",
        "models.append(('knn',KNeighborsClassifier(n_neighbors=n_neighbors)))\n",
        "models.append(('SVC',SVC()))\n",
        "models.append((\"decision_tree\",DecisionTreeClassifier()))\n",
        "models.append(('Naive Bayes',GaussianNB()))\n",
        "\n",
        "# Evaluating Each model\n",
        "predictions=[]\n",
        "error='accuracy'\n",
        "experiment_4 = {}\n",
        "for name,model in models:\n",
        "    fold=KFold(n_splits=10)\n",
        "    result=cross_val_score(model,x_encoded_data,y,cv=fold,scoring=error)\n",
        "    predictions.append(result)\n",
        "    experiment_4[name] = result.mean()\n",
        "    \n",
        "# Visualizing the Model accuracy\n",
        "fig=plt.figure()\n",
        "fig.suptitle(\"Comparing Algorithms\")\n",
        "plt.boxplot(predictions)\n",
        "plt.show()"
      ],
      "execution_count": 55,
      "outputs": [
        {
          "output_type": "stream",
          "name": "stderr",
          "text": [
            "/usr/local/lib/python3.7/dist-packages/sklearn/linear_model/_logistic.py:940: ConvergenceWarning: lbfgs failed to converge (status=1):\n",
            "STOP: TOTAL NO. of ITERATIONS REACHED LIMIT.\n",
            "\n",
            "Increase the number of iterations (max_iter) or scale the data as shown in:\n",
            "    https://scikit-learn.org/stable/modules/preprocessing.html\n",
            "Please also refer to the documentation for alternative solver options:\n",
            "    https://scikit-learn.org/stable/modules/linear_model.html#logistic-regression\n",
            "  extra_warning_msg=_LOGISTIC_SOLVER_CONVERGENCE_MSG)\n",
            "/usr/local/lib/python3.7/dist-packages/sklearn/linear_model/_logistic.py:940: ConvergenceWarning: lbfgs failed to converge (status=1):\n",
            "STOP: TOTAL NO. of ITERATIONS REACHED LIMIT.\n",
            "\n",
            "Increase the number of iterations (max_iter) or scale the data as shown in:\n",
            "    https://scikit-learn.org/stable/modules/preprocessing.html\n",
            "Please also refer to the documentation for alternative solver options:\n",
            "    https://scikit-learn.org/stable/modules/linear_model.html#logistic-regression\n",
            "  extra_warning_msg=_LOGISTIC_SOLVER_CONVERGENCE_MSG)\n",
            "/usr/local/lib/python3.7/dist-packages/sklearn/linear_model/_logistic.py:940: ConvergenceWarning: lbfgs failed to converge (status=1):\n",
            "STOP: TOTAL NO. of ITERATIONS REACHED LIMIT.\n",
            "\n",
            "Increase the number of iterations (max_iter) or scale the data as shown in:\n",
            "    https://scikit-learn.org/stable/modules/preprocessing.html\n",
            "Please also refer to the documentation for alternative solver options:\n",
            "    https://scikit-learn.org/stable/modules/linear_model.html#logistic-regression\n",
            "  extra_warning_msg=_LOGISTIC_SOLVER_CONVERGENCE_MSG)\n",
            "/usr/local/lib/python3.7/dist-packages/sklearn/linear_model/_logistic.py:940: ConvergenceWarning: lbfgs failed to converge (status=1):\n",
            "STOP: TOTAL NO. of ITERATIONS REACHED LIMIT.\n",
            "\n",
            "Increase the number of iterations (max_iter) or scale the data as shown in:\n",
            "    https://scikit-learn.org/stable/modules/preprocessing.html\n",
            "Please also refer to the documentation for alternative solver options:\n",
            "    https://scikit-learn.org/stable/modules/linear_model.html#logistic-regression\n",
            "  extra_warning_msg=_LOGISTIC_SOLVER_CONVERGENCE_MSG)\n",
            "/usr/local/lib/python3.7/dist-packages/sklearn/linear_model/_logistic.py:940: ConvergenceWarning: lbfgs failed to converge (status=1):\n",
            "STOP: TOTAL NO. of ITERATIONS REACHED LIMIT.\n",
            "\n",
            "Increase the number of iterations (max_iter) or scale the data as shown in:\n",
            "    https://scikit-learn.org/stable/modules/preprocessing.html\n",
            "Please also refer to the documentation for alternative solver options:\n",
            "    https://scikit-learn.org/stable/modules/linear_model.html#logistic-regression\n",
            "  extra_warning_msg=_LOGISTIC_SOLVER_CONVERGENCE_MSG)\n",
            "/usr/local/lib/python3.7/dist-packages/sklearn/linear_model/_logistic.py:940: ConvergenceWarning: lbfgs failed to converge (status=1):\n",
            "STOP: TOTAL NO. of ITERATIONS REACHED LIMIT.\n",
            "\n",
            "Increase the number of iterations (max_iter) or scale the data as shown in:\n",
            "    https://scikit-learn.org/stable/modules/preprocessing.html\n",
            "Please also refer to the documentation for alternative solver options:\n",
            "    https://scikit-learn.org/stable/modules/linear_model.html#logistic-regression\n",
            "  extra_warning_msg=_LOGISTIC_SOLVER_CONVERGENCE_MSG)\n",
            "/usr/local/lib/python3.7/dist-packages/sklearn/linear_model/_logistic.py:940: ConvergenceWarning: lbfgs failed to converge (status=1):\n",
            "STOP: TOTAL NO. of ITERATIONS REACHED LIMIT.\n",
            "\n",
            "Increase the number of iterations (max_iter) or scale the data as shown in:\n",
            "    https://scikit-learn.org/stable/modules/preprocessing.html\n",
            "Please also refer to the documentation for alternative solver options:\n",
            "    https://scikit-learn.org/stable/modules/linear_model.html#logistic-regression\n",
            "  extra_warning_msg=_LOGISTIC_SOLVER_CONVERGENCE_MSG)\n",
            "/usr/local/lib/python3.7/dist-packages/sklearn/linear_model/_logistic.py:940: ConvergenceWarning: lbfgs failed to converge (status=1):\n",
            "STOP: TOTAL NO. of ITERATIONS REACHED LIMIT.\n",
            "\n",
            "Increase the number of iterations (max_iter) or scale the data as shown in:\n",
            "    https://scikit-learn.org/stable/modules/preprocessing.html\n",
            "Please also refer to the documentation for alternative solver options:\n",
            "    https://scikit-learn.org/stable/modules/linear_model.html#logistic-regression\n",
            "  extra_warning_msg=_LOGISTIC_SOLVER_CONVERGENCE_MSG)\n",
            "/usr/local/lib/python3.7/dist-packages/sklearn/linear_model/_logistic.py:940: ConvergenceWarning: lbfgs failed to converge (status=1):\n",
            "STOP: TOTAL NO. of ITERATIONS REACHED LIMIT.\n",
            "\n",
            "Increase the number of iterations (max_iter) or scale the data as shown in:\n",
            "    https://scikit-learn.org/stable/modules/preprocessing.html\n",
            "Please also refer to the documentation for alternative solver options:\n",
            "    https://scikit-learn.org/stable/modules/linear_model.html#logistic-regression\n",
            "  extra_warning_msg=_LOGISTIC_SOLVER_CONVERGENCE_MSG)\n",
            "/usr/local/lib/python3.7/dist-packages/sklearn/linear_model/_logistic.py:940: ConvergenceWarning: lbfgs failed to converge (status=1):\n",
            "STOP: TOTAL NO. of ITERATIONS REACHED LIMIT.\n",
            "\n",
            "Increase the number of iterations (max_iter) or scale the data as shown in:\n",
            "    https://scikit-learn.org/stable/modules/preprocessing.html\n",
            "Please also refer to the documentation for alternative solver options:\n",
            "    https://scikit-learn.org/stable/modules/linear_model.html#logistic-regression\n",
            "  extra_warning_msg=_LOGISTIC_SOLVER_CONVERGENCE_MSG)\n"
          ]
        },
        {
          "output_type": "display_data",
          "data": {
            "image/png": "[encoded data removed]",
            "text/plain": [
              "<Figure size 432x288 with 1 Axes>"
            ]
          },
          "metadata": {
            "needs_background": "light"
          }
        }
      ]
    },
    {
      "cell_type": "code",
      "metadata": {
        "colab": {
          "base_uri": "https://localhost:8080/",
          "height": 175
        },
        "id": "HVUKUzD_ww69",
        "outputId": "0e4eb8c5-0c66-466d-f672-5e0db60cfff8"
      },
      "source": [
        "pd.DataFrame([experiment_1, experiment_2, experiment_3, experiment_4])"
      ],
      "execution_count": 56,
      "outputs": [
        {
          "output_type": "execute_result",
          "data": {
            "text/html": [
              "<div>\n",
              "<style scoped>\n",
              "    .dataframe tbody tr th:only-of-type {\n",
              "        vertical-align: middle;\n",
              "    }\n",
              "\n",
              "    .dataframe tbody tr th {\n",
              "        vertical-align: top;\n",
              "    }\n",
              "\n",
              "    .dataframe thead th {\n",
              "        text-align: right;\n",
              "    }\n",
              "</style>\n",
              "<table border=\"1\" class=\"dataframe\">\n",
              "  <thead>\n",
              "    <tr style=\"text-align: right;\">\n",
              "      <th></th>\n",
              "      <th>LogisticRegression</th>\n",
              "      <th>knn</th>\n",
              "      <th>SVC</th>\n",
              "      <th>decision_tree</th>\n",
              "      <th>Naive Bayes</th>\n",
              "    </tr>\n",
              "  </thead>\n",
              "  <tbody>\n",
              "    <tr>\n",
              "      <th>0</th>\n",
              "      <td>0.642212</td>\n",
              "      <td>0.668410</td>\n",
              "      <td>0.694030</td>\n",
              "      <td>0.596339</td>\n",
              "      <td>0.582007</td>\n",
              "    </tr>\n",
              "    <tr>\n",
              "      <th>1</th>\n",
              "      <td>0.642212</td>\n",
              "      <td>0.668410</td>\n",
              "      <td>0.694030</td>\n",
              "      <td>0.591574</td>\n",
              "      <td>0.582007</td>\n",
              "    </tr>\n",
              "    <tr>\n",
              "      <th>2</th>\n",
              "      <td>0.634456</td>\n",
              "      <td>0.669600</td>\n",
              "      <td>0.701190</td>\n",
              "      <td>0.581975</td>\n",
              "      <td>0.587272</td>\n",
              "    </tr>\n",
              "    <tr>\n",
              "      <th>3</th>\n",
              "      <td>0.671429</td>\n",
              "      <td>0.654762</td>\n",
              "      <td>0.695862</td>\n",
              "      <td>0.581373</td>\n",
              "      <td>0.673820</td>\n",
              "    </tr>\n",
              "  </tbody>\n",
              "</table>\n",
              "</div>"
            ],
            "text/plain": [
              "   LogisticRegression       knn       SVC  decision_tree  Naive Bayes\n",
              "0            0.642212  0.668410  0.694030       0.596339     0.582007\n",
              "1            0.642212  0.668410  0.694030       0.591574     0.582007\n",
              "2            0.634456  0.669600  0.701190       0.581975     0.587272\n",
              "3            0.671429  0.654762  0.695862       0.581373     0.673820"
            ]
          },
          "metadata": {},
          "execution_count": 56
        }
      ]
    },
    {
      "cell_type": "code",
      "metadata": {
        "id": "7vh-znTi6RIc"
      },
      "source": [
        ""
      ],
      "execution_count": null,
      "outputs": []
    }
  ]
}