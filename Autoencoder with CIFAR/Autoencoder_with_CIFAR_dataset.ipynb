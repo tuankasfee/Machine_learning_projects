{
  "cells": [
    {
      "cell_type": "markdown",
      "source": [
        "[![Open In Colab](https://colab.research.google.com/assets/colab-badge.svg)](\n",
        "https://colab.research.google.com/github/pralab/secml/blob/HEAD/tutorials/01-Training.ipynb)"
      ],
      "metadata": {
        "id": "7pWAA6_CztWW"
      }
    },
    {
      "cell_type": "code",
      "execution_count": null,
      "metadata": {
        "id": "J8LZ4xEXgH1O",
        "colab": {
          "base_uri": "https://localhost:8080/"
        },
        "outputId": "31762e67-7541-49de-effc-0f3e5127083c"
      },
      "outputs": [
        {
          "output_type": "stream",
          "name": "stdout",
          "text": [
            "Found GPU at: /device:GPU:0\n"
          ]
        }
      ],
      "source": [
        "import numpy as np\n",
        "import pandas as pd\n",
        "import matplotlib.pyplot as plt\n",
        "\n",
        "import tensorflow.keras.backend as K\n",
        "import tensorflow\n",
        "tensorflow.device('/device:GPU:0')\n",
        "device_name = tensorflow.test.gpu_device_name()\n",
        "print('Found GPU at: {}'.format(device_name))\n",
        "\n",
        "from tensorflow.keras import layers\n",
        "from tensorflow import keras\n",
        "\n",
        "from sklearn.model_selection import train_test_split\n",
        "from sklearn.metrics import accuracy_score, f1_score, precision_score, recall_score, classification_report, confusion_matrix\n",
        "\n",
        "from tensorflow.keras.datasets import cifar10\n",
        "from tensorflow.keras.utils import to_categorical\n",
        "from tensorflow.keras.callbacks import TensorBoard\n",
        "\n",
        "from tensorflow.keras import Model\n",
        "from tensorflow.keras.models import Sequential\n",
        "from tensorflow.keras.layers import Input, Dense, Conv2D, Flatten, concatenate, LeakyReLU, Reshape, Lambda, BatchNormalization, Dropout\n",
        "from tensorflow.keras.layers import MaxPooling2D, UpSampling2D\n",
        "\n",
        "from tensorflow.keras.optimizers import SGD"
      ]
    },
    {
      "cell_type": "markdown",
      "source": [
        "# Data loading and preparation"
      ],
      "metadata": {
        "id": "YSDQLtKZkOsM"
      }
    },
    {
      "cell_type": "code",
      "execution_count": null,
      "metadata": {
        "id": "3hscaUNDJ1y_",
        "colab": {
          "base_uri": "https://localhost:8080/"
        },
        "outputId": "25ac6907-7219-45a8-b480-dbc48e91be3f"
      },
      "outputs": [
        {
          "output_type": "stream",
          "name": "stdout",
          "text": [
            "Downloading data from https://www.cs.toronto.edu/~kriz/cifar-10-python.tar.gz\n",
            "170500096/170498071 [==============================] - 3s 0us/step\n",
            "170508288/170498071 [==============================] - 3s 0us/step\n"
          ]
        }
      ],
      "source": [
        "(x_train, y_train), (x_test, y_test) = cifar10.load_data()"
      ]
    },
    {
      "cell_type": "code",
      "execution_count": null,
      "metadata": {
        "id": "hgpqEFAHKD65"
      },
      "outputs": [],
      "source": [
        "x_train = x_train[(y_train == 2) | (y_train ==7)]\n",
        "y_train = y_train[(y_train == 2) | (y_train ==7)]\n",
        "x_test = x_test[(y_test == 2) | (y_test ==7)]\n",
        "y_test = y_test[(y_test == 2) | (y_test ==7)]"
      ]
    },
    {
      "cell_type": "code",
      "execution_count": null,
      "metadata": {
        "id": "WpCZnypZbNTr"
      },
      "outputs": [],
      "source": [
        "x_train = x_train.astype('float32')\n",
        "x_test = x_test.astype('float32')\n",
        "\n",
        "x_train = x_train / 255.0\n",
        "x_test = x_test / 255.0\n",
        "\n",
        "y_train_cat = to_categorical(y_train)\n",
        "y_test_cat = to_categorical(y_test)"
      ]
    },
    {
      "cell_type": "code",
      "source": [
        "input_shape = x_train.shape[1:]\n",
        "number_layers = 128\n",
        "latent_dim = 128"
      ],
      "metadata": {
        "id": "8mn1UJ-mWpc2"
      },
      "execution_count": null,
      "outputs": []
    },
    {
      "cell_type": "code",
      "execution_count": null,
      "metadata": {
        "id": "YTvoZUE3gYyW"
      },
      "outputs": [],
      "source": [
        "x_train, x_val, y_train_cat, y_val_cat = train_test_split(x_train, y_train_cat, test_size=0.2, random_state=42)\n",
        "x_val, x_test, y_val_cat, y_test_cat = train_test_split(x_val, y_val_cat, test_size=0.5, random_state=42)"
      ]
    },
    {
      "cell_type": "code",
      "source": [
        "print(x_train.shape)\n",
        "print(x_val.shape)\n",
        "print(x_test.shape)"
      ],
      "metadata": {
        "colab": {
          "base_uri": "https://localhost:8080/"
        },
        "id": "0cR6cpyyrLQN",
        "outputId": "96518162-219f-4c2f-c9eb-a1476f99d2af"
      },
      "execution_count": null,
      "outputs": [
        {
          "output_type": "stream",
          "name": "stdout",
          "text": [
            "(40000, 32, 32, 3)\n",
            "(5000, 32, 32, 3)\n",
            "(5000, 32, 32, 3)\n"
          ]
        }
      ]
    },
    {
      "cell_type": "markdown",
      "source": [
        "# CNN for image classification"
      ],
      "metadata": {
        "id": "7t8oZzJSiCzS"
      }
    },
    {
      "cell_type": "code",
      "execution_count": null,
      "metadata": {
        "id": "LpMIXXDhBaqp"
      },
      "outputs": [],
      "source": [
        "def define_CNN_model():\n",
        "\n",
        "\tmodel = Sequential()\n",
        "\tmodel.add(Conv2D(number_layers, (3, 3), activation='relu', kernel_initializer='he_uniform', input_shape=input_shape))\n",
        "\tmodel.add(MaxPooling2D((2, 2)))\n",
        "\tmodel.add(BatchNormalization())\n",
        "\tmodel.add(Dropout(0.2))\n",
        " \n",
        "\tmodel.add(Conv2D(number_layers*2, (3, 3), activation='relu', kernel_initializer='he_uniform'))\n",
        "\tmodel.add(MaxPooling2D((2, 2)))\n",
        "\tmodel.add(BatchNormalization())\n",
        "\tmodel.add(Dropout(0.2))\n",
        " \n",
        "\tmodel.add(Conv2D(number_layers*4, (3, 3), activation='relu', kernel_initializer='he_uniform'))\n",
        "\tmodel.add(MaxPooling2D((2, 2)))\n",
        "\tmodel.add(BatchNormalization())\n",
        "\tmodel.add(Dropout(0.2))\n",
        " \n",
        "\tmodel.add(Flatten())\n",
        "\tmodel.add(Dense(256, activation='relu', kernel_initializer='he_uniform'))\n",
        "\tmodel.add(Dense(10, activation='softmax'))\n",
        " \n",
        "\t# compile model\n",
        "\topt = SGD(learning_rate=0.01, momentum=0.9)\n",
        "\tmodel.compile(optimizer=opt, loss='categorical_crossentropy', metrics=['accuracy'])\n",
        "\treturn model"
      ]
    },
    {
      "cell_type": "code",
      "execution_count": null,
      "metadata": {
        "id": "zYHmCGctBzCX",
        "colab": {
          "base_uri": "https://localhost:8080/"
        },
        "outputId": "97d5c705-0240-4dbb-9386-bafd1772cdd8"
      },
      "outputs": [
        {
          "output_type": "stream",
          "name": "stdout",
          "text": [
            "Epoch 1/30\n",
            "1250/1250 [==============================] - 27s 21ms/step - loss: 1.5026 - accuracy: 0.4890 - val_loss: 1.2557 - val_accuracy: 0.5496\n",
            "Epoch 2/30\n",
            "1250/1250 [==============================] - 25s 20ms/step - loss: 1.0780 - accuracy: 0.6254 - val_loss: 1.1138 - val_accuracy: 0.6218\n",
            "Epoch 3/30\n",
            "1250/1250 [==============================] - 24s 20ms/step - loss: 0.8961 - accuracy: 0.6887 - val_loss: 1.1516 - val_accuracy: 0.6316\n",
            "Epoch 4/30\n",
            "1250/1250 [==============================] - 25s 20ms/step - loss: 0.7722 - accuracy: 0.7302 - val_loss: 0.9070 - val_accuracy: 0.7048\n",
            "Epoch 5/30\n",
            "1250/1250 [==============================] - 25s 20ms/step - loss: 0.6612 - accuracy: 0.7694 - val_loss: 0.9160 - val_accuracy: 0.6976\n",
            "Epoch 6/30\n",
            "1250/1250 [==============================] - 25s 20ms/step - loss: 0.5722 - accuracy: 0.8022 - val_loss: 0.9906 - val_accuracy: 0.7028\n",
            "Epoch 7/30\n",
            "1250/1250 [==============================] - 25s 20ms/step - loss: 0.4862 - accuracy: 0.8300 - val_loss: 0.8285 - val_accuracy: 0.7400\n",
            "Epoch 8/30\n",
            "1250/1250 [==============================] - 25s 20ms/step - loss: 0.4264 - accuracy: 0.8492 - val_loss: 1.0152 - val_accuracy: 0.7148\n",
            "Epoch 9/30\n",
            "1250/1250 [==============================] - 25s 20ms/step - loss: 0.3691 - accuracy: 0.8704 - val_loss: 0.9266 - val_accuracy: 0.7512\n",
            "Epoch 10/30\n",
            "1250/1250 [==============================] - 25s 20ms/step - loss: 0.3259 - accuracy: 0.8869 - val_loss: 0.8557 - val_accuracy: 0.7574\n",
            "Epoch 11/30\n",
            "1250/1250 [==============================] - 25s 20ms/step - loss: 0.2831 - accuracy: 0.8992 - val_loss: 0.9423 - val_accuracy: 0.7458\n",
            "Epoch 12/30\n",
            "1250/1250 [==============================] - 25s 20ms/step - loss: 0.2551 - accuracy: 0.9117 - val_loss: 0.9829 - val_accuracy: 0.7402\n",
            "Epoch 13/30\n",
            "1250/1250 [==============================] - 25s 20ms/step - loss: 0.2198 - accuracy: 0.9228 - val_loss: 0.9425 - val_accuracy: 0.7630\n",
            "Epoch 14/30\n",
            "1250/1250 [==============================] - 25s 20ms/step - loss: 0.2034 - accuracy: 0.9291 - val_loss: 1.0129 - val_accuracy: 0.7628\n",
            "Epoch 15/30\n",
            "1250/1250 [==============================] - 25s 20ms/step - loss: 0.1823 - accuracy: 0.9364 - val_loss: 0.9835 - val_accuracy: 0.7712\n",
            "Epoch 16/30\n",
            "1250/1250 [==============================] - 25s 20ms/step - loss: 0.1790 - accuracy: 0.9373 - val_loss: 0.9987 - val_accuracy: 0.7638\n",
            "Epoch 17/30\n",
            "1250/1250 [==============================] - 25s 20ms/step - loss: 0.1520 - accuracy: 0.9471 - val_loss: 1.0907 - val_accuracy: 0.7610\n",
            "Epoch 18/30\n",
            "1250/1250 [==============================] - 25s 20ms/step - loss: 0.1463 - accuracy: 0.9485 - val_loss: 1.0032 - val_accuracy: 0.7614\n",
            "Epoch 19/30\n",
            "1250/1250 [==============================] - 24s 20ms/step - loss: 0.1278 - accuracy: 0.9560 - val_loss: 1.0305 - val_accuracy: 0.7672\n",
            "Epoch 20/30\n",
            "1250/1250 [==============================] - 24s 20ms/step - loss: 0.1144 - accuracy: 0.9607 - val_loss: 1.0730 - val_accuracy: 0.7724\n",
            "Epoch 21/30\n",
            "1250/1250 [==============================] - 25s 20ms/step - loss: 0.1123 - accuracy: 0.9610 - val_loss: 1.2033 - val_accuracy: 0.7608\n",
            "Epoch 22/30\n",
            "1250/1250 [==============================] - 24s 20ms/step - loss: 0.1009 - accuracy: 0.9652 - val_loss: 1.1226 - val_accuracy: 0.7662\n",
            "Epoch 23/30\n",
            "1250/1250 [==============================] - 25s 20ms/step - loss: 0.0954 - accuracy: 0.9681 - val_loss: 1.1322 - val_accuracy: 0.7708\n",
            "Epoch 24/30\n",
            "1250/1250 [==============================] - 25s 20ms/step - loss: 0.0954 - accuracy: 0.9682 - val_loss: 1.1656 - val_accuracy: 0.7702\n",
            "Epoch 25/30\n",
            "1250/1250 [==============================] - 25s 20ms/step - loss: 0.0882 - accuracy: 0.9702 - val_loss: 1.1173 - val_accuracy: 0.7532\n",
            "Epoch 26/30\n",
            "1250/1250 [==============================] - 25s 20ms/step - loss: 0.0790 - accuracy: 0.9732 - val_loss: 1.1481 - val_accuracy: 0.7748\n",
            "Epoch 27/30\n",
            "1250/1250 [==============================] - 24s 20ms/step - loss: 0.0796 - accuracy: 0.9738 - val_loss: 1.2141 - val_accuracy: 0.7818\n",
            "Epoch 28/30\n",
            "1250/1250 [==============================] - 24s 20ms/step - loss: 0.0750 - accuracy: 0.9744 - val_loss: 1.1093 - val_accuracy: 0.7758\n",
            "Epoch 29/30\n",
            "1250/1250 [==============================] - 25s 20ms/step - loss: 0.0750 - accuracy: 0.9736 - val_loss: 1.2337 - val_accuracy: 0.7806\n",
            "Epoch 30/30\n",
            "1250/1250 [==============================] - 25s 20ms/step - loss: 0.0726 - accuracy: 0.9753 - val_loss: 1.2495 - val_accuracy: 0.7758\n"
          ]
        }
      ],
      "source": [
        "model = define_CNN_model()\n",
        "\n",
        "history = model.fit(x_train, y_train_cat, epochs=30, shuffle=True, validation_data=(x_val, y_val_cat), batch_size=32, verbose=1)"
      ]
    },
    {
      "cell_type": "code",
      "source": [
        "def show_performance(history):\n",
        "  # summarize history for accuracy\n",
        "  plt.plot(history.history['accuracy'])\n",
        "  plt.plot(history.history['val_accuracy'])\n",
        "  plt.title('model accuracy')\n",
        "  plt.ylabel('accuracy')\n",
        "  plt.xlabel('epoch')\n",
        "  plt.legend(['train', 'test'], loc='upper left')\n",
        "  plt.show()\n",
        "  # summarize history for loss\n",
        "  plt.plot(history.history['loss'])\n",
        "  plt.plot(history.history['val_loss'])\n",
        "  plt.title('model loss')\n",
        "  plt.ylabel('loss')\n",
        "  plt.xlabel('epoch')\n",
        "  plt.legend(['train', 'test'], loc='upper left')\n",
        "  plt.show()"
      ],
      "metadata": {
        "id": "pVez1tIZ2Qvh"
      },
      "execution_count": null,
      "outputs": []
    },
    {
      "cell_type": "code",
      "source": [
        "show_performance(history)"
      ],
      "metadata": {
        "id": "nnvD5qG0QQtg",
        "outputId": "1394b359-88ff-4307-9f40-e89315a50c30",
        "colab": {
          "base_uri": "https://localhost:8080/",
          "height": 573
        }
      },
      "execution_count": null,
      "outputs": [
        {
          "output_type": "display_data",
          "data": {
            "image/png": "[encoded data removed]",
            "text/plain": [
              "<Figure size 432x288 with 1 Axes>"
            ]
          },
          "metadata": {
            "needs_background": "light"
          }
        },
        {
          "output_type": "display_data",
          "data": {
            "image/png": "[encoded data removed]",
            "text/plain": [
              "<Figure size 432x288 with 1 Axes>"
            ]
          },
          "metadata": {
            "needs_background": "light"
          }
        }
      ]
    },
    {
      "cell_type": "code",
      "execution_count": null,
      "metadata": {
        "colab": {
          "base_uri": "https://localhost:8080/"
        },
        "id": "U0anqSILDmOe",
        "outputId": "0d90f66e-6a22-4588-c1a8-85fbbe06887d"
      },
      "outputs": [
        {
          "output_type": "stream",
          "name": "stdout",
          "text": [
            "              precision    recall  f1-score   support\n",
            "\n",
            "           0       0.83      0.72      0.77       491\n",
            "           1       0.91      0.83      0.87       475\n",
            "           2       0.72      0.68      0.70       536\n",
            "           3       0.60      0.55      0.57       504\n",
            "           4       0.66      0.85      0.74       472\n",
            "           5       0.74      0.61      0.67       520\n",
            "           6       0.78      0.86      0.82       481\n",
            "           7       0.82      0.80      0.81       513\n",
            "           8       0.78      0.89      0.83       482\n",
            "           9       0.81      0.86      0.83       526\n",
            "\n",
            "   micro avg       0.76      0.76      0.76      5000\n",
            "   macro avg       0.76      0.76      0.76      5000\n",
            "weighted avg       0.76      0.76      0.76      5000\n",
            " samples avg       0.76      0.76      0.76      5000\n",
            "\n"
          ]
        }
      ],
      "source": [
        "y_pred = model.predict(x_test)\n",
        "\n",
        "y_pred = to_categorical(np.argmax(y_pred,axis=1))\n",
        "\n",
        "print(classification_report(y_test_cat, y_pred))"
      ]
    },
    {
      "cell_type": "markdown",
      "metadata": {
        "id": "o0etRIMD7nJ_"
      },
      "source": [
        "# Autoencoder 1"
      ]
    },
    {
      "cell_type": "code",
      "execution_count": null,
      "metadata": {
        "id": "osnvq9Yjb40x"
      },
      "outputs": [],
      "source": [
        "input_img = Input(shape=input_shape)\n",
        "\n",
        "x = Conv2D(number_layers, (3, 3), activation='relu', padding='same')(input_img)\n",
        "x = BatchNormalization()(x)\n",
        "x = MaxPooling2D((2, 2), padding='same')(x)\n",
        "\n",
        "x = Conv2D(number_layers*2, (3, 3), activation='relu', padding='same')(x)\n",
        "x = BatchNormalization()(x)\n",
        "x = MaxPooling2D((2, 2), padding='same')(x)\n",
        "\n",
        "x = Conv2D(number_layers*4, (3, 3), activation='relu', padding='same')(x)\n",
        "x = BatchNormalization()(x)\n",
        "x = MaxPooling2D((2, 2), padding='same')(x)\n",
        "\n",
        "x = Conv2D(number_layers*8, (3, 3), activation='relu', padding='same')(x)\n",
        "x = BatchNormalization()(x)\n",
        "\n",
        "encoded = MaxPooling2D((2, 2), padding='same', name='embedding')(x)\n",
        "\n",
        "# at this point the representation is (2, 2, number_layer*8)\n",
        "\n",
        "x = Conv2D(number_layers*8, (3, 3), activation='relu', padding='same')(encoded)\n",
        "x = UpSampling2D((2, 2))(x)\n",
        "x = BatchNormalization()(x)\n",
        "\n",
        "x = Conv2D(number_layers*4, (3, 3), activation='relu', padding='same')(x)\n",
        "x = UpSampling2D((2, 2))(x)\n",
        "x = BatchNormalization()(x)\n",
        "\n",
        "x = Conv2D(number_layers*2, (3, 3), activation='relu', padding='same')(x)\n",
        "x = UpSampling2D((2, 2))(x)\n",
        "x = BatchNormalization()(x)\n",
        "\n",
        "x = Conv2D(number_layers, (3, 3), activation='relu', padding='same')(x)\n",
        "x = UpSampling2D((2, 2))(x)\n",
        "x = BatchNormalization()(x)\n",
        "\n",
        "decoded = Conv2D(3, (3, 3), activation='sigmoid', padding='same')(x)\n",
        "\n",
        "autoencoder = Model(input_img, decoded)\n",
        "#autoencoder.compile(optimizer='adam', loss='binary_crossentropy')\n",
        "autoencoder.compile(optimizer='adam', loss='mse')"
      ]
    },
    {
      "cell_type": "code",
      "source": [
        "autoencoder.summary()"
      ],
      "metadata": {
        "colab": {
          "base_uri": "https://localhost:8080/"
        },
        "id": "8eevFGzIhBXD",
        "outputId": "91eb95df-282b-466a-881f-e12a515b9107"
      },
      "execution_count": null,
      "outputs": [
        {
          "output_type": "stream",
          "name": "stdout",
          "text": [
            "Model: \"model\"\n",
            "_________________________________________________________________\n",
            " Layer (type)                Output Shape              Param #   \n",
            "=================================================================\n",
            " input_1 (InputLayer)        [(None, 32, 32, 3)]       0         \n",
            "                                                                 \n",
            " conv2d (Conv2D)             (None, 32, 32, 128)       3584      \n",
            "                                                                 \n",
            " batch_normalization (BatchN  (None, 32, 32, 128)      512       \n",
            " ormalization)                                                   \n",
            "                                                                 \n",
            " max_pooling2d (MaxPooling2D  (None, 16, 16, 128)      0         \n",
            " )                                                               \n",
            "                                                                 \n",
            " conv2d_1 (Conv2D)           (None, 16, 16, 256)       295168    \n",
            "                                                                 \n",
            " batch_normalization_1 (Batc  (None, 16, 16, 256)      1024      \n",
            " hNormalization)                                                 \n",
            "                                                                 \n",
            " max_pooling2d_1 (MaxPooling  (None, 8, 8, 256)        0         \n",
            " 2D)                                                             \n",
            "                                                                 \n",
            " conv2d_2 (Conv2D)           (None, 8, 8, 512)         1180160   \n",
            "                                                                 \n",
            " batch_normalization_2 (Batc  (None, 8, 8, 512)        2048      \n",
            " hNormalization)                                                 \n",
            "                                                                 \n",
            " max_pooling2d_2 (MaxPooling  (None, 4, 4, 512)        0         \n",
            " 2D)                                                             \n",
            "                                                                 \n",
            " conv2d_3 (Conv2D)           (None, 4, 4, 1024)        4719616   \n",
            "                                                                 \n",
            " batch_normalization_3 (Batc  (None, 4, 4, 1024)       4096      \n",
            " hNormalization)                                                 \n",
            "                                                                 \n",
            " embedding (MaxPooling2D)    (None, 2, 2, 1024)        0         \n",
            "                                                                 \n",
            " conv2d_4 (Conv2D)           (None, 2, 2, 1024)        9438208   \n",
            "                                                                 \n",
            " up_sampling2d (UpSampling2D  (None, 4, 4, 1024)       0         \n",
            " )                                                               \n",
            "                                                                 \n",
            " batch_normalization_4 (Batc  (None, 4, 4, 1024)       4096      \n",
            " hNormalization)                                                 \n",
            "                                                                 \n",
            " conv2d_5 (Conv2D)           (None, 4, 4, 512)         4719104   \n",
            "                                                                 \n",
            " up_sampling2d_1 (UpSampling  (None, 8, 8, 512)        0         \n",
            " 2D)                                                             \n",
            "                                                                 \n",
            " batch_normalization_5 (Batc  (None, 8, 8, 512)        2048      \n",
            " hNormalization)                                                 \n",
            "                                                                 \n",
            " conv2d_6 (Conv2D)           (None, 8, 8, 256)         1179904   \n",
            "                                                                 \n",
            " up_sampling2d_2 (UpSampling  (None, 16, 16, 256)      0         \n",
            " 2D)                                                             \n",
            "                                                                 \n",
            " batch_normalization_6 (Batc  (None, 16, 16, 256)      1024      \n",
            " hNormalization)                                                 \n",
            "                                                                 \n",
            " conv2d_7 (Conv2D)           (None, 16, 16, 128)       295040    \n",
            "                                                                 \n",
            " up_sampling2d_3 (UpSampling  (None, 32, 32, 128)      0         \n",
            " 2D)                                                             \n",
            "                                                                 \n",
            " batch_normalization_7 (Batc  (None, 32, 32, 128)      512       \n",
            " hNormalization)                                                 \n",
            "                                                                 \n",
            " conv2d_8 (Conv2D)           (None, 32, 32, 3)         3459      \n",
            "                                                                 \n",
            "=================================================================\n",
            "Total params: 21,849,603\n",
            "Trainable params: 21,841,923\n",
            "Non-trainable params: 7,680\n",
            "_________________________________________________________________\n"
          ]
        }
      ]
    },
    {
      "cell_type": "code",
      "execution_count": null,
      "metadata": {
        "id": "g0Y2gxvBfkMi",
        "colab": {
          "base_uri": "https://localhost:8080/"
        },
        "outputId": "7e3c8c2f-d70f-428e-e506-00f2e104a025"
      },
      "outputs": [
        {
          "output_type": "stream",
          "name": "stdout",
          "text": [
            "Epoch 1/30\n",
            "313/313 [==============================] - 42s 112ms/step - loss: 0.0216 - val_loss: 0.0418\n",
            "Epoch 2/30\n",
            "313/313 [==============================] - 29s 91ms/step - loss: 0.0117 - val_loss: 0.0118\n",
            "Epoch 3/30\n",
            "313/313 [==============================] - 28s 91ms/step - loss: 0.0092 - val_loss: 0.0094\n",
            "Epoch 4/30\n",
            "313/313 [==============================] - 29s 92ms/step - loss: 0.0076 - val_loss: 0.0086\n",
            "Epoch 5/30\n",
            "313/313 [==============================] - 28s 91ms/step - loss: 0.0066 - val_loss: 0.0083\n",
            "Epoch 6/30\n",
            "313/313 [==============================] - 28s 91ms/step - loss: 0.0060 - val_loss: 0.0073\n",
            "Epoch 7/30\n",
            "313/313 [==============================] - 28s 91ms/step - loss: 0.0055 - val_loss: 0.0064\n",
            "Epoch 8/30\n",
            "313/313 [==============================] - 28s 91ms/step - loss: 0.0051 - val_loss: 0.0058\n",
            "Epoch 9/30\n",
            "313/313 [==============================] - 28s 91ms/step - loss: 0.0049 - val_loss: 0.0064\n",
            "Epoch 10/30\n",
            "313/313 [==============================] - 29s 92ms/step - loss: 0.0046 - val_loss: 0.0079\n",
            "Epoch 11/30\n",
            "313/313 [==============================] - 28s 91ms/step - loss: 0.0043 - val_loss: 0.0049\n",
            "Epoch 12/30\n",
            "313/313 [==============================] - 29s 92ms/step - loss: 0.0040 - val_loss: 0.0043\n",
            "Epoch 13/30\n",
            "313/313 [==============================] - 28s 91ms/step - loss: 0.0039 - val_loss: 0.0050\n",
            "Epoch 14/30\n",
            "313/313 [==============================] - 28s 91ms/step - loss: 0.0041 - val_loss: 0.0069\n",
            "Epoch 15/30\n",
            "313/313 [==============================] - 28s 91ms/step - loss: 0.0037 - val_loss: 0.0042\n",
            "Epoch 16/30\n",
            "313/313 [==============================] - 29s 92ms/step - loss: 0.0036 - val_loss: 0.0103\n",
            "Epoch 17/30\n",
            "313/313 [==============================] - 28s 91ms/step - loss: 0.0035 - val_loss: 0.0035\n",
            "Epoch 18/30\n",
            "313/313 [==============================] - 28s 91ms/step - loss: 0.0035 - val_loss: 0.0047\n",
            "Epoch 19/30\n",
            "313/313 [==============================] - 29s 92ms/step - loss: 0.0033 - val_loss: 0.0037\n",
            "Epoch 20/30\n",
            "313/313 [==============================] - 29s 92ms/step - loss: 0.0032 - val_loss: 0.0036\n",
            "Epoch 21/30\n",
            "313/313 [==============================] - 29s 91ms/step - loss: 0.0031 - val_loss: 0.0031\n",
            "Epoch 22/30\n",
            "313/313 [==============================] - 28s 91ms/step - loss: 0.0030 - val_loss: 0.0035\n",
            "Epoch 23/30\n",
            "313/313 [==============================] - 28s 91ms/step - loss: 0.0029 - val_loss: 0.0031\n",
            "Epoch 24/30\n",
            "313/313 [==============================] - 29s 91ms/step - loss: 0.0028 - val_loss: 0.0033\n",
            "Epoch 25/30\n",
            "313/313 [==============================] - 28s 91ms/step - loss: 0.0031 - val_loss: 0.0034\n",
            "Epoch 26/30\n",
            "313/313 [==============================] - 29s 92ms/step - loss: 0.0028 - val_loss: 0.0036\n",
            "Epoch 27/30\n",
            "313/313 [==============================] - 29s 92ms/step - loss: 0.0027 - val_loss: 0.0028\n",
            "Epoch 28/30\n",
            "313/313 [==============================] - 29s 91ms/step - loss: 0.0027 - val_loss: 0.0031\n",
            "Epoch 29/30\n",
            "313/313 [==============================] - 28s 91ms/step - loss: 0.0025 - val_loss: 0.0026\n",
            "Epoch 30/30\n",
            "313/313 [==============================] - 29s 92ms/step - loss: 0.0030 - val_loss: 0.0043\n"
          ]
        },
        {
          "output_type": "execute_result",
          "data": {
            "text/plain": [
              "<keras.callbacks.History at 0x7f451d7fcd50>"
            ]
          },
          "metadata": {},
          "execution_count": 8
        }
      ],
      "source": [
        "autoencoder.fit(x_train, x_train,\n",
        "                epochs=30,\n",
        "                batch_size=128,\n",
        "                shuffle=True,\n",
        "                validation_data=(x_val, x_val),\n",
        "                callbacks=[TensorBoard(log_dir='/tmp/autoencoder')])"
      ]
    },
    {
      "cell_type": "code",
      "source": [
        "last_layer = autoencoder.get_layer('embedding').output\n",
        "\n",
        "x = Flatten()(last_layer)\n",
        "x = Dense(512, activation = 'relu')(x)\n",
        "x = Dense(256, activation = 'relu')(x)\n",
        "x = Dense(10, activation='softmax')(x)\n",
        "\n",
        "autoencoder.trainable = False\n",
        "\n",
        "fine_tune_model = Model(inputs=autoencoder.input, outputs=x)\n",
        "\n",
        "opt = SGD(learning_rate=0.01, momentum=0.9)\n",
        "fine_tune_model.compile(optimizer=opt, loss='categorical_crossentropy', metrics=['accuracy'])"
      ],
      "metadata": {
        "id": "dJMUIdFfE4Kv"
      },
      "execution_count": null,
      "outputs": []
    },
    {
      "cell_type": "code",
      "source": [
        "fine_tune_model.summary()"
      ],
      "metadata": {
        "id": "jH_zxyQzlN6w",
        "colab": {
          "base_uri": "https://localhost:8080/"
        },
        "outputId": "1ef78b07-1ec4-47c5-ae8d-b5ff8a4f7081"
      },
      "execution_count": null,
      "outputs": [
        {
          "output_type": "stream",
          "name": "stdout",
          "text": [
            "Model: \"model_1\"\n",
            "_________________________________________________________________\n",
            " Layer (type)                Output Shape              Param #   \n",
            "=================================================================\n",
            " input_1 (InputLayer)        [(None, 32, 32, 3)]       0         \n",
            "                                                                 \n",
            " conv2d (Conv2D)             (None, 32, 32, 128)       3584      \n",
            "                                                                 \n",
            " batch_normalization (BatchN  (None, 32, 32, 128)      512       \n",
            " ormalization)                                                   \n",
            "                                                                 \n",
            " max_pooling2d (MaxPooling2D  (None, 16, 16, 128)      0         \n",
            " )                                                               \n",
            "                                                                 \n",
            " conv2d_1 (Conv2D)           (None, 16, 16, 256)       295168    \n",
            "                                                                 \n",
            " batch_normalization_1 (Batc  (None, 16, 16, 256)      1024      \n",
            " hNormalization)                                                 \n",
            "                                                                 \n",
            " max_pooling2d_1 (MaxPooling  (None, 8, 8, 256)        0         \n",
            " 2D)                                                             \n",
            "                                                                 \n",
            " conv2d_2 (Conv2D)           (None, 8, 8, 512)         1180160   \n",
            "                                                                 \n",
            " batch_normalization_2 (Batc  (None, 8, 8, 512)        2048      \n",
            " hNormalization)                                                 \n",
            "                                                                 \n",
            " max_pooling2d_2 (MaxPooling  (None, 4, 4, 512)        0         \n",
            " 2D)                                                             \n",
            "                                                                 \n",
            " conv2d_3 (Conv2D)           (None, 4, 4, 1024)        4719616   \n",
            "                                                                 \n",
            " batch_normalization_3 (Batc  (None, 4, 4, 1024)       4096      \n",
            " hNormalization)                                                 \n",
            "                                                                 \n",
            " embedding (MaxPooling2D)    (None, 2, 2, 1024)        0         \n",
            "                                                                 \n",
            " flatten (Flatten)           (None, 4096)              0         \n",
            "                                                                 \n",
            " dense (Dense)               (None, 512)               2097664   \n",
            "                                                                 \n",
            " dense_1 (Dense)             (None, 256)               131328    \n",
            "                                                                 \n",
            " dense_2 (Dense)             (None, 10)                2570      \n",
            "                                                                 \n",
            "=================================================================\n",
            "Total params: 8,437,770\n",
            "Trainable params: 2,231,562\n",
            "Non-trainable params: 6,206,208\n",
            "_________________________________________________________________\n"
          ]
        }
      ]
    },
    {
      "cell_type": "code",
      "source": [
        "fine_tune_model.fit(x_train, y_train_cat, epochs=20, validation_data=(x_val, y_val_cat), batch_size=32, verbose=1)"
      ],
      "metadata": {
        "colab": {
          "base_uri": "https://localhost:8080/"
        },
        "id": "0drBHlpzlok_",
        "outputId": "63b67069-3eb1-480e-d883-7764c97862ac"
      },
      "execution_count": null,
      "outputs": [
        {
          "output_type": "stream",
          "name": "stdout",
          "text": [
            "Epoch 1/20\n",
            "1250/1250 [==============================] - 10s 7ms/step - loss: 1.4617 - accuracy: 0.4749 - val_loss: 1.2129 - val_accuracy: 0.5750\n",
            "Epoch 2/20\n",
            "1250/1250 [==============================] - 9s 7ms/step - loss: 1.2042 - accuracy: 0.5710 - val_loss: 1.2661 - val_accuracy: 0.5588\n",
            "Epoch 3/20\n",
            "1250/1250 [==============================] - 8s 7ms/step - loss: 1.0947 - accuracy: 0.6143 - val_loss: 1.1706 - val_accuracy: 0.5926\n",
            "Epoch 4/20\n",
            "1250/1250 [==============================] - 9s 7ms/step - loss: 1.0299 - accuracy: 0.6336 - val_loss: 1.1979 - val_accuracy: 0.6010\n",
            "Epoch 5/20\n",
            "1250/1250 [==============================] - 9s 7ms/step - loss: 0.9647 - accuracy: 0.6608 - val_loss: 1.2417 - val_accuracy: 0.5800\n",
            "Epoch 6/20\n",
            "1250/1250 [==============================] - 9s 7ms/step - loss: 0.9063 - accuracy: 0.6787 - val_loss: 1.1751 - val_accuracy: 0.6240\n",
            "Epoch 7/20\n",
            "1250/1250 [==============================] - 8s 7ms/step - loss: 0.8552 - accuracy: 0.6974 - val_loss: 1.1994 - val_accuracy: 0.6148\n",
            "Epoch 8/20\n",
            "1250/1250 [==============================] - 8s 7ms/step - loss: 0.8178 - accuracy: 0.7105 - val_loss: 1.1987 - val_accuracy: 0.6110\n",
            "Epoch 9/20\n",
            "1250/1250 [==============================] - 9s 7ms/step - loss: 0.7655 - accuracy: 0.7278 - val_loss: 1.3013 - val_accuracy: 0.6050\n",
            "Epoch 10/20\n",
            "1250/1250 [==============================] - 8s 7ms/step - loss: 0.7277 - accuracy: 0.7422 - val_loss: 1.2863 - val_accuracy: 0.6260\n",
            "Epoch 11/20\n",
            "1250/1250 [==============================] - 9s 7ms/step - loss: 0.6878 - accuracy: 0.7537 - val_loss: 1.3592 - val_accuracy: 0.6260\n",
            "Epoch 12/20\n",
            "1250/1250 [==============================] - 8s 7ms/step - loss: 0.6530 - accuracy: 0.7674 - val_loss: 1.3705 - val_accuracy: 0.6070\n",
            "Epoch 13/20\n",
            "1250/1250 [==============================] - 8s 7ms/step - loss: 0.6226 - accuracy: 0.7802 - val_loss: 1.4278 - val_accuracy: 0.6180\n",
            "Epoch 14/20\n",
            "1250/1250 [==============================] - 8s 7ms/step - loss: 0.6029 - accuracy: 0.7872 - val_loss: 1.4517 - val_accuracy: 0.6158\n",
            "Epoch 15/20\n",
            "1250/1250 [==============================] - 9s 7ms/step - loss: 0.5720 - accuracy: 0.7965 - val_loss: 1.4746 - val_accuracy: 0.6114\n",
            "Epoch 16/20\n",
            "1250/1250 [==============================] - 8s 7ms/step - loss: 0.5451 - accuracy: 0.8083 - val_loss: 1.6262 - val_accuracy: 0.6132\n",
            "Epoch 17/20\n",
            "1250/1250 [==============================] - 8s 7ms/step - loss: 0.5320 - accuracy: 0.8143 - val_loss: 1.4845 - val_accuracy: 0.6314\n",
            "Epoch 18/20\n",
            "1250/1250 [==============================] - 9s 7ms/step - loss: 0.4797 - accuracy: 0.8301 - val_loss: 1.6771 - val_accuracy: 0.6292\n",
            "Epoch 19/20\n",
            "1250/1250 [==============================] - 8s 7ms/step - loss: 0.4783 - accuracy: 0.8348 - val_loss: 1.7179 - val_accuracy: 0.6200\n",
            "Epoch 20/20\n",
            "1250/1250 [==============================] - 9s 7ms/step - loss: 0.4616 - accuracy: 0.8388 - val_loss: 1.7089 - val_accuracy: 0.6224\n"
          ]
        },
        {
          "output_type": "execute_result",
          "data": {
            "text/plain": [
              "<keras.callbacks.History at 0x7f451d676c90>"
            ]
          },
          "metadata": {},
          "execution_count": 11
        }
      ]
    },
    {
      "cell_type": "code",
      "source": [
        "del test_model\n",
        "K.clear_session()"
      ],
      "metadata": {
        "id": "esYJY1YOH6K7"
      },
      "execution_count": null,
      "outputs": []
    },
    {
      "cell_type": "markdown",
      "source": [
        "# Autoencoder 2"
      ],
      "metadata": {
        "id": "p0C0njukGBse"
      }
    },
    {
      "cell_type": "markdown",
      "source": [
        "* Linear\n",
        "* (4,4)"
      ],
      "metadata": {
        "id": "VyrgeESyGM33"
      }
    },
    {
      "cell_type": "code",
      "source": [
        "input_img = Input(shape=input_shape)\n",
        "\n",
        "x = Conv2D(number_layers, (4, 4), activation='linear', padding='same')(input_img)\n",
        "x = BatchNormalization()(x)\n",
        "x = MaxPooling2D((2, 2), padding='same')(x)\n",
        "\n",
        "x = Conv2D(number_layers*2, (4, 4), activation='linear', padding='same')(x)\n",
        "x = BatchNormalization()(x)\n",
        "x = MaxPooling2D((2, 2), padding='same')(x)\n",
        "\n",
        "x = Conv2D(number_layers*4, (4, 4), activation='linear', padding='same')(x)\n",
        "x = BatchNormalization()(x)\n",
        "x = MaxPooling2D((2, 2), padding='same')(x)\n",
        "\n",
        "x = Conv2D(number_layers*8, (4, 4), activation='linear', padding='same')(x)\n",
        "x = BatchNormalization()(x)\n",
        "\n",
        "encoded = MaxPooling2D((2, 2), padding='same')(x)\n",
        "\n",
        "# at this point the representation is (2, 2, number_layer*8)\n",
        "\n",
        "x = Conv2D(number_layers*8, (4, 4), activation='linear', padding='same')(encoded)\n",
        "x = UpSampling2D((2, 2))(x)\n",
        "x = BatchNormalization()(x)\n",
        "\n",
        "x = Conv2D(number_layers*4, (4, 4), activation='linear', padding='same')(x)\n",
        "x = UpSampling2D((2, 2))(x)\n",
        "x = BatchNormalization()(x)\n",
        "\n",
        "x = Conv2D(number_layers*2, (4, 4), activation='linear', padding='same')(x)\n",
        "x = UpSampling2D((2, 2))(x)\n",
        "x = BatchNormalization()(x)\n",
        "\n",
        "x = Conv2D(number_layers, (4, 4), activation='linear', padding='same')(x)\n",
        "x = UpSampling2D((2, 2))(x)\n",
        "x = BatchNormalization()(x)\n",
        "\n",
        "decoded = Conv2D(3, (4, 4), activation='sigmoid', padding='same')(x)\n",
        "\n",
        "autoencoder = Model(input_img, decoded)\n",
        "autoencoder.compile(optimizer='adam', loss='binary_crossentropy')\n",
        "#autoencoder.compile(optimizer='adam', loss='mse')"
      ],
      "metadata": {
        "id": "SSkxZtzRGFAK"
      },
      "execution_count": null,
      "outputs": []
    },
    {
      "cell_type": "code",
      "source": [
        "autoencoder.fit(x_train, x_train,\n",
        "                epochs=30,\n",
        "                batch_size=128,\n",
        "                shuffle=True,\n",
        "                validation_data=(x_val, x_val),\n",
        "                callbacks=[TensorBoard(log_dir='/tmp/autoencoder')])"
      ],
      "metadata": {
        "id": "2SXg6ep0Ghic"
      },
      "execution_count": null,
      "outputs": []
    },
    {
      "cell_type": "code",
      "source": [
        "encoder = Model(input_img, encoded)\n",
        "last_layer = encoder.output\n",
        "\n",
        "x = Flatten()(last_layer)\n",
        "x = Dense(1024, activation = 'relu')(x)\n",
        "x = Dense(512, activation = 'relu')(x)\n",
        "x = Dense(256, activation = 'relu')(x)\n",
        "x = Dense(10, activation='softmax')(x)\n",
        "\n",
        "encoder.trainable = False\n",
        "\n",
        "fine_tune_model = Model(inputs=encoder.input, outputs=x)\n",
        "\n",
        "opt = SGD(learning_rate=0.01, momentum=0.9)\n",
        "fine_tune_model.compile(optimizer=opt, loss='categorical_crossentropy', metrics=['accuracy'])"
      ],
      "metadata": {
        "id": "H_lRKFWzLOir"
      },
      "execution_count": null,
      "outputs": []
    },
    {
      "cell_type": "code",
      "source": [
        "fine_tune_model.fit(x_train, y_train_cat, epochs=20, validation_data=(x_val, y_val_cat), batch_size=32, verbose=1)"
      ],
      "metadata": {
        "colab": {
          "base_uri": "https://localhost:8080/"
        },
        "id": "5oqhhys7LVlY",
        "outputId": "fe5798c8-8d00-4033-b0f4-4195ea7ff336"
      },
      "execution_count": null,
      "outputs": [
        {
          "output_type": "stream",
          "name": "stdout",
          "text": [
            "Epoch 1/20\n",
            "313/313 [==============================] - 15s 46ms/step - loss: 1.8623 - accuracy: 0.3294 - val_loss: 1.7071 - val_accuracy: 0.3783\n",
            "Epoch 2/20\n",
            "313/313 [==============================] - 9s 29ms/step - loss: 1.5985 - accuracy: 0.4296 - val_loss: 1.5891 - val_accuracy: 0.4331\n",
            "Epoch 3/20\n",
            "313/313 [==============================] - 14s 44ms/step - loss: 1.4975 - accuracy: 0.4670 - val_loss: 1.5730 - val_accuracy: 0.4272\n",
            "Epoch 4/20\n",
            "313/313 [==============================] - 9s 29ms/step - loss: 1.4206 - accuracy: 0.4876 - val_loss: 1.5464 - val_accuracy: 0.4579\n",
            "Epoch 5/20\n",
            "313/313 [==============================] - 14s 44ms/step - loss: 1.3581 - accuracy: 0.5133 - val_loss: 1.4600 - val_accuracy: 0.4767\n",
            "Epoch 6/20\n",
            "313/313 [==============================] - 14s 44ms/step - loss: 1.2798 - accuracy: 0.5367 - val_loss: 1.4468 - val_accuracy: 0.4895\n",
            "Epoch 7/20\n",
            "313/313 [==============================] - 9s 30ms/step - loss: 1.2262 - accuracy: 0.5545 - val_loss: 1.5452 - val_accuracy: 0.4677\n",
            "Epoch 8/20\n",
            "313/313 [==============================] - 9s 29ms/step - loss: 1.1708 - accuracy: 0.5734 - val_loss: 1.4619 - val_accuracy: 0.4872\n",
            "Epoch 9/20\n",
            "313/313 [==============================] - 9s 29ms/step - loss: 1.1007 - accuracy: 0.5991 - val_loss: 1.5965 - val_accuracy: 0.4779\n",
            "Epoch 10/20\n",
            "313/313 [==============================] - 14s 44ms/step - loss: 1.0644 - accuracy: 0.6084 - val_loss: 1.5067 - val_accuracy: 0.4960\n",
            "Epoch 11/20\n",
            "313/313 [==============================] - 14s 44ms/step - loss: 0.9668 - accuracy: 0.6477 - val_loss: 1.5485 - val_accuracy: 0.4908\n",
            "Epoch 12/20\n",
            "313/313 [==============================] - 9s 30ms/step - loss: 0.9207 - accuracy: 0.6725 - val_loss: 1.5593 - val_accuracy: 0.4860\n",
            "Epoch 13/20\n",
            "313/313 [==============================] - 14s 44ms/step - loss: 0.8493 - accuracy: 0.6854 - val_loss: 1.6346 - val_accuracy: 0.4904\n",
            "Epoch 14/20\n",
            "313/313 [==============================] - 14s 44ms/step - loss: 0.7928 - accuracy: 0.7070 - val_loss: 1.7720 - val_accuracy: 0.4894\n",
            "Epoch 15/20\n",
            "313/313 [==============================] - 14s 44ms/step - loss: 0.7609 - accuracy: 0.7193 - val_loss: 1.8075 - val_accuracy: 0.4817\n",
            "Epoch 16/20\n",
            "313/313 [==============================] - 14s 44ms/step - loss: 0.7130 - accuracy: 0.7384 - val_loss: 1.8997 - val_accuracy: 0.4751\n",
            "Epoch 17/20\n",
            "313/313 [==============================] - 14s 44ms/step - loss: 0.6372 - accuracy: 0.7641 - val_loss: 1.9184 - val_accuracy: 0.4927\n",
            "Epoch 18/20\n",
            "313/313 [==============================] - 9s 30ms/step - loss: 0.6094 - accuracy: 0.7748 - val_loss: 1.9790 - val_accuracy: 0.4735\n",
            "Epoch 19/20\n",
            "313/313 [==============================] - 14s 44ms/step - loss: 0.5748 - accuracy: 0.7877 - val_loss: 2.0395 - val_accuracy: 0.4775\n",
            "Epoch 20/20\n",
            "313/313 [==============================] - 14s 44ms/step - loss: 0.5110 - accuracy: 0.8126 - val_loss: 2.0984 - val_accuracy: 0.4854\n"
          ]
        },
        {
          "output_type": "execute_result",
          "data": {
            "text/plain": [
              "<keras.callbacks.History at 0x7fb73678b190>"
            ]
          },
          "metadata": {},
          "execution_count": 18
        }
      ]
    },
    {
      "cell_type": "code",
      "source": [
        "del test_model\n",
        "K.clear_session()"
      ],
      "metadata": {
        "id": "qQ0ms6dJO5Jf"
      },
      "execution_count": null,
      "outputs": []
    },
    {
      "cell_type": "markdown",
      "source": [
        "# Autoencoder with two outputs (Construction loss + Classification task)"
      ],
      "metadata": {
        "id": "aBzN2OqP5zB7"
      }
    },
    {
      "cell_type": "code",
      "source": [
        "input_img = Input(shape=input_shape)\n",
        "\n",
        "x = Conv2D(number_layers, (4, 4), activation='linear', padding='same')(input_img)\n",
        "x = BatchNormalization()(x)\n",
        "x = MaxPooling2D((2, 2), padding='same')(x)\n",
        "\n",
        "x = Conv2D(number_layers*2, (4, 4), activation='linear', padding='same')(x)\n",
        "x = BatchNormalization()(x)\n",
        "x = MaxPooling2D((2, 2), padding='same')(x)\n",
        "\n",
        "x = Conv2D(number_layers*4, (4, 4), activation='linear', padding='same')(x)\n",
        "x = BatchNormalization()(x)\n",
        "x = MaxPooling2D((2, 2), padding='same')(x)\n",
        "\n",
        "x = Conv2D(number_layers*8, (4, 4), activation='linear', padding='same')(x)\n",
        "x = BatchNormalization()(x)\n",
        "\n",
        "encoded = MaxPooling2D((2, 2), padding='same')(x)\n",
        "\n",
        "# at this point the representation is (2, 2, number_layer*8)\n",
        "\n",
        "x = Conv2D(number_layers*8, (4, 4), activation='linear', padding='same')(encoded)\n",
        "x = UpSampling2D((2, 2))(x)\n",
        "x = BatchNormalization()(x)\n",
        "\n",
        "x = Conv2D(number_layers*4, (4, 4), activation='linear', padding='same')(x)\n",
        "x = UpSampling2D((2, 2))(x)\n",
        "x = BatchNormalization()(x)\n",
        "\n",
        "x = Conv2D(number_layers*2, (4, 4), activation='linear', padding='same')(x)\n",
        "x = UpSampling2D((2, 2))(x)\n",
        "x = BatchNormalization()(x)\n",
        "\n",
        "x = Conv2D(number_layers, (4, 4), activation='linear', padding='same')(x)\n",
        "x = UpSampling2D((2, 2))(x)\n",
        "x = BatchNormalization()(x)\n",
        "\n",
        "decoded = Conv2D(3, (4, 4), activation='sigmoid', padding='same', name='decoded')(x)\n",
        "\n",
        "reg_dense = Flatten()(encoded)\n",
        "reg_dense = Dense(64, activation='relu')(reg_dense)\n",
        "reg_dense = Dense(16, activation='relu')(reg_dense) \n",
        "class_output = Dense(10, activation='softmax', name='class_output')(reg_dense)\n",
        "\n",
        "autoencoder = Model(inputs=input_img, outputs=[decoded,class_output])\n",
        "\n",
        "losses ={ 'decoded':keras.losses.MeanSquaredError(),\n",
        "    'class_output':keras.losses.CategoricalCrossentropy()}\n",
        "\n",
        "autoencoder.compile(optimizer='adam', loss=losses, metrics=\"accuracy\")"
      ],
      "metadata": {
        "id": "IRNhtDSp5_vm"
      },
      "execution_count": null,
      "outputs": []
    },
    {
      "cell_type": "code",
      "source": [
        "autoencoder.fit(x=x_train, y={'decoded': x_train, 'class_output': y_train_cat},\n",
        "                epochs=20,\n",
        "                batch_size=64,\n",
        "                shuffle=True,\n",
        "                validation_data=(x_val, {'decoded': x_val, 'class_output': y_val_cat}),\n",
        "                callbacks=[TensorBoard(log_dir='/tmp/autoencoder')])"
      ],
      "metadata": {
        "colab": {
          "base_uri": "https://localhost:8080/"
        },
        "id": "BJZl97Vg6zhX",
        "outputId": "29f6ce0f-f66e-42ba-8051-124c7247bc72"
      },
      "execution_count": null,
      "outputs": [
        {
          "output_type": "stream",
          "name": "stdout",
          "text": [
            "Epoch 1/20\n",
            "625/625 [==============================] - 205s 307ms/step - loss: 1.7939 - decoded_loss: 0.0322 - class_output_loss: 1.7617 - decoded_accuracy: 0.5490 - class_output_accuracy: 0.3693 - val_loss: 1.5223 - val_decoded_loss: 0.0392 - val_class_output_loss: 1.4831 - val_decoded_accuracy: 0.3781 - val_class_output_accuracy: 0.4740\n",
            "Epoch 2/20\n",
            "625/625 [==============================] - 192s 307ms/step - loss: 1.2532 - decoded_loss: 0.0216 - class_output_loss: 1.2316 - decoded_accuracy: 0.6408 - class_output_accuracy: 0.5639 - val_loss: 1.6265 - val_decoded_loss: 0.0397 - val_class_output_loss: 1.5869 - val_decoded_accuracy: 0.6197 - val_class_output_accuracy: 0.4804\n",
            "Epoch 3/20\n",
            "625/625 [==============================] - 195s 312ms/step - loss: 1.0024 - decoded_loss: 0.0187 - class_output_loss: 0.9838 - decoded_accuracy: 0.6658 - class_output_accuracy: 0.6529 - val_loss: 1.4761 - val_decoded_loss: 0.0217 - val_class_output_loss: 1.4544 - val_decoded_accuracy: 0.6675 - val_class_output_accuracy: 0.5348\n",
            "Epoch 4/20\n",
            "625/625 [==============================] - 192s 307ms/step - loss: 0.8557 - decoded_loss: 0.0174 - class_output_loss: 0.8384 - decoded_accuracy: 0.6773 - class_output_accuracy: 0.7071 - val_loss: 0.9841 - val_decoded_loss: 0.0176 - val_class_output_loss: 0.9666 - val_decoded_accuracy: 0.6723 - val_class_output_accuracy: 0.6656\n",
            "Epoch 5/20\n",
            "625/625 [==============================] - 192s 307ms/step - loss: 0.7069 - decoded_loss: 0.0166 - class_output_loss: 0.6903 - decoded_accuracy: 0.6850 - class_output_accuracy: 0.7607 - val_loss: 0.8841 - val_decoded_loss: 0.0178 - val_class_output_loss: 0.8663 - val_decoded_accuracy: 0.6734 - val_class_output_accuracy: 0.7172\n",
            "Epoch 6/20\n",
            "625/625 [==============================] - 195s 312ms/step - loss: 0.5801 - decoded_loss: 0.0162 - class_output_loss: 0.5640 - decoded_accuracy: 0.6867 - class_output_accuracy: 0.8044 - val_loss: 1.0252 - val_decoded_loss: 0.0221 - val_class_output_loss: 1.0031 - val_decoded_accuracy: 0.6821 - val_class_output_accuracy: 0.6914\n",
            "Epoch 7/20\n",
            "625/625 [==============================] - 195s 312ms/step - loss: 0.4585 - decoded_loss: 0.0159 - class_output_loss: 0.4425 - decoded_accuracy: 0.6880 - class_output_accuracy: 0.8462 - val_loss: 1.1626 - val_decoded_loss: 0.0170 - val_class_output_loss: 1.1456 - val_decoded_accuracy: 0.6539 - val_class_output_accuracy: 0.6620\n",
            "Epoch 8/20\n",
            "625/625 [==============================] - 195s 312ms/step - loss: 0.3359 - decoded_loss: 0.0156 - class_output_loss: 0.3203 - decoded_accuracy: 0.6928 - class_output_accuracy: 0.8901 - val_loss: 1.0946 - val_decoded_loss: 0.0190 - val_class_output_loss: 1.0756 - val_decoded_accuracy: 0.6643 - val_class_output_accuracy: 0.7204\n",
            "Epoch 9/20\n",
            "625/625 [==============================] - 195s 312ms/step - loss: 0.2314 - decoded_loss: 0.0153 - class_output_loss: 0.2161 - decoded_accuracy: 0.6903 - class_output_accuracy: 0.9262 - val_loss: 1.0880 - val_decoded_loss: 0.0172 - val_class_output_loss: 1.0707 - val_decoded_accuracy: 0.6522 - val_class_output_accuracy: 0.7316\n",
            "Epoch 10/20\n",
            "625/625 [==============================] - 192s 307ms/step - loss: 0.1744 - decoded_loss: 0.0151 - class_output_loss: 0.1593 - decoded_accuracy: 0.6931 - class_output_accuracy: 0.9456 - val_loss: 1.1407 - val_decoded_loss: 0.0171 - val_class_output_loss: 1.1236 - val_decoded_accuracy: 0.6474 - val_class_output_accuracy: 0.7432\n",
            "Epoch 11/20\n",
            "625/625 [==============================] - 195s 312ms/step - loss: 0.1336 - decoded_loss: 0.0148 - class_output_loss: 0.1189 - decoded_accuracy: 0.6919 - class_output_accuracy: 0.9607 - val_loss: 1.3778 - val_decoded_loss: 0.0195 - val_class_output_loss: 1.3583 - val_decoded_accuracy: 0.6196 - val_class_output_accuracy: 0.7192\n",
            "Epoch 12/20\n",
            "625/625 [==============================] - 195s 312ms/step - loss: 0.1396 - decoded_loss: 0.0146 - class_output_loss: 0.1250 - decoded_accuracy: 0.6946 - class_output_accuracy: 0.9581 - val_loss: 1.2130 - val_decoded_loss: 0.0158 - val_class_output_loss: 1.1972 - val_decoded_accuracy: 0.7035 - val_class_output_accuracy: 0.7442\n",
            "Epoch 13/20\n",
            "625/625 [==============================] - 195s 312ms/step - loss: 0.0879 - decoded_loss: 0.0143 - class_output_loss: 0.0736 - decoded_accuracy: 0.6971 - class_output_accuracy: 0.9759 - val_loss: 1.5285 - val_decoded_loss: 0.0175 - val_class_output_loss: 1.5110 - val_decoded_accuracy: 0.6147 - val_class_output_accuracy: 0.7140\n",
            "Epoch 14/20\n",
            "625/625 [==============================] - 195s 312ms/step - loss: 0.0895 - decoded_loss: 0.0143 - class_output_loss: 0.0752 - decoded_accuracy: 0.6986 - class_output_accuracy: 0.9744 - val_loss: 1.4216 - val_decoded_loss: 0.0210 - val_class_output_loss: 1.4006 - val_decoded_accuracy: 0.5201 - val_class_output_accuracy: 0.7300\n",
            "Epoch 15/20\n",
            "625/625 [==============================] - 195s 312ms/step - loss: 0.0903 - decoded_loss: 0.0140 - class_output_loss: 0.0763 - decoded_accuracy: 0.6976 - class_output_accuracy: 0.9753 - val_loss: 1.7560 - val_decoded_loss: 0.0211 - val_class_output_loss: 1.7349 - val_decoded_accuracy: 0.6927 - val_class_output_accuracy: 0.7100\n",
            "Epoch 16/20\n",
            "625/625 [==============================] - 195s 312ms/step - loss: 0.0828 - decoded_loss: 0.0139 - class_output_loss: 0.0690 - decoded_accuracy: 0.6981 - class_output_accuracy: 0.9771 - val_loss: 1.8123 - val_decoded_loss: 0.0179 - val_class_output_loss: 1.7944 - val_decoded_accuracy: 0.7032 - val_class_output_accuracy: 0.6892\n",
            "Epoch 17/20\n",
            "625/625 [==============================] - 195s 313ms/step - loss: 0.0675 - decoded_loss: 0.0138 - class_output_loss: 0.0537 - decoded_accuracy: 0.7010 - class_output_accuracy: 0.9817 - val_loss: 1.3487 - val_decoded_loss: 0.0145 - val_class_output_loss: 1.3343 - val_decoded_accuracy: 0.6770 - val_class_output_accuracy: 0.7684\n",
            "Epoch 18/20\n",
            "625/625 [==============================] - 192s 307ms/step - loss: 0.0749 - decoded_loss: 0.0137 - class_output_loss: 0.0612 - decoded_accuracy: 0.7000 - class_output_accuracy: 0.9798 - val_loss: 1.4855 - val_decoded_loss: 0.0165 - val_class_output_loss: 1.4691 - val_decoded_accuracy: 0.7072 - val_class_output_accuracy: 0.7510\n",
            "Epoch 19/20\n",
            "625/625 [==============================] - 195s 312ms/step - loss: 0.0630 - decoded_loss: 0.0134 - class_output_loss: 0.0496 - decoded_accuracy: 0.7051 - class_output_accuracy: 0.9839 - val_loss: 1.8794 - val_decoded_loss: 0.0178 - val_class_output_loss: 1.8617 - val_decoded_accuracy: 0.7082 - val_class_output_accuracy: 0.7136\n",
            "Epoch 20/20\n",
            "625/625 [==============================] - 195s 312ms/step - loss: 0.0560 - decoded_loss: 0.0134 - class_output_loss: 0.0425 - decoded_accuracy: 0.7018 - class_output_accuracy: 0.9861 - val_loss: 1.5953 - val_decoded_loss: 0.0143 - val_class_output_loss: 1.5810 - val_decoded_accuracy: 0.6825 - val_class_output_accuracy: 0.7516\n"
          ]
        },
        {
          "output_type": "execute_result",
          "data": {
            "text/plain": [
              "<keras.callbacks.History at 0x7f2fe20402d0>"
            ]
          },
          "metadata": {},
          "execution_count": 8
        }
      ]
    },
    {
      "cell_type": "markdown",
      "metadata": {
        "id": "8QDQ8KIDtOgz"
      },
      "source": [
        "# Variational Autoencoder"
      ]
    },
    {
      "cell_type": "code",
      "execution_count": null,
      "metadata": {
        "id": "iN3MO2-EuQx3"
      },
      "outputs": [],
      "source": [
        "class Sampling(layers.Layer):\n",
        "    \"\"\"Uses (z_mean, z_log_var) to sample z, the vector encoding a digit.\"\"\"\n",
        "\n",
        "    def call(self, inputs):\n",
        "        z_mean, z_log_var = inputs\n",
        "        batch = tensorflow.shape(z_mean)[0]\n",
        "        dim = tensorflow.shape(z_mean)[1]\n",
        "        epsilon = tensorflow.keras.backend.random_normal(shape=(batch, dim))\n",
        "        return z_mean + tensorflow.exp(0.5 * z_log_var) * epsilon"
      ]
    },
    {
      "cell_type": "code",
      "source": [
        "class VAE(Model):\n",
        "    def __init__(self, encoder, decoder, **kwargs):\n",
        "        super(VAE, self).__init__(**kwargs)\n",
        "        self.encoder = encoder\n",
        "        self.decoder = decoder\n",
        "        self.total_loss_tracker = keras.metrics.Mean(name=\"total_loss\")\n",
        "        self.reconstruction_loss_tracker = keras.metrics.Mean(\n",
        "            name=\"reconstruction_loss\"\n",
        "        )\n",
        "        self.kl_loss_tracker = keras.metrics.Mean(name=\"kl_loss\")\n",
        "\n",
        "    @property\n",
        "    def metrics(self):\n",
        "        return [\n",
        "            self.total_loss_tracker,\n",
        "            self.reconstruction_loss_tracker,\n",
        "            self.kl_loss_tracker,\n",
        "        ]\n",
        "\n",
        "    def train_step(self, data):\n",
        "        with tensorflow.GradientTape() as tape:\n",
        "            z_mean, z_log_var, z = self.encoder(data)\n",
        "            reconstruction = self.decoder(z)\n",
        "            reconstruction_loss = tensorflow.reduce_mean(\n",
        "                tensorflow.reduce_sum(\n",
        "                    keras.losses.mean_squared_error(data, reconstruction), axis=(1, 2)\n",
        "                )\n",
        "            )\n",
        "            kl_loss = -0.5 * (1 + z_log_var - tensorflow.square(z_mean) - tensorflow.exp(z_log_var))\n",
        "            kl_loss = tensorflow.reduce_mean(tensorflow.reduce_sum(kl_loss, axis=1))\n",
        "            total_loss = reconstruction_loss + kl_loss\n",
        "        grads = tape.gradient(total_loss, self.trainable_weights)\n",
        "        self.optimizer.apply_gradients(zip(grads, self.trainable_weights))\n",
        "        self.total_loss_tracker.update_state(total_loss)\n",
        "        self.reconstruction_loss_tracker.update_state(reconstruction_loss)\n",
        "        self.kl_loss_tracker.update_state(kl_loss)\n",
        "        return {\n",
        "            \"loss\": self.total_loss_tracker.result(),\n",
        "            \"reconstruction_loss\": self.reconstruction_loss_tracker.result(),\n",
        "            \"kl_loss\": self.kl_loss_tracker.result(),\n",
        "        }"
      ],
      "metadata": {
        "id": "OGML0VivXWVv"
      },
      "execution_count": null,
      "outputs": []
    },
    {
      "cell_type": "code",
      "execution_count": null,
      "metadata": {
        "id": "vf1o946AtN4w"
      },
      "outputs": [],
      "source": [
        "encoder_inputs = Input(shape=input_shape)\n",
        "\n",
        "x = Conv2D(number_layers, (4, 4), padding='same')(encoder_inputs)\n",
        "x = LeakyReLU(alpha=0.2)(x)\n",
        "x = BatchNormalization()(x)\n",
        "x = MaxPooling2D((2, 2), padding='same')(x)\n",
        "\n",
        "x = Conv2D(number_layers*2, (4, 4), padding='same')(x)\n",
        "x = LeakyReLU(alpha=0.2)(x)\n",
        "x = BatchNormalization()(x)\n",
        "x = MaxPooling2D((2, 2), padding='same')(x)\n",
        "\n",
        "x = Conv2D(number_layers*4, (4, 4), padding='same')(x)\n",
        "x = LeakyReLU(alpha=0.2)(x)\n",
        "x = BatchNormalization()(x)\n",
        "x = MaxPooling2D((2, 2), padding='same')(x)\n",
        "\n",
        "x = Conv2D(number_layers*8, (4, 4), padding='same')(x)\n",
        "x = LeakyReLU(alpha=0.2)(x)\n",
        "x = BatchNormalization()(x)\n",
        "x = MaxPooling2D((2, 2), padding='same')(x)\n",
        "\n",
        "x = Flatten()(x)\n",
        "x = Dense(256)(x)\n",
        "x = LeakyReLU(alpha=0.2)(x)\n",
        "\n",
        "z_mean = Dense(latent_dim, name=\"z_mean\")(x)\n",
        "z_log_var = Dense(latent_dim, name=\"z_log_var\")(x)\n",
        "z = Sampling(name=\"embedding\")([z_mean, z_log_var])\n",
        "\n",
        "encoder = Model(encoder_inputs, [z_mean, z_log_var, z], name=\"encoder\")"
      ]
    },
    {
      "cell_type": "code",
      "source": [
        "encoder.summary()"
      ],
      "metadata": {
        "id": "cLTwuD7VZV_q",
        "colab": {
          "base_uri": "https://localhost:8080/"
        },
        "outputId": "c6da6af9-005b-437d-8864-06152c4acad1"
      },
      "execution_count": null,
      "outputs": [
        {
          "output_type": "stream",
          "name": "stdout",
          "text": [
            "Model: \"encoder\"\n",
            "__________________________________________________________________________________________________\n",
            " Layer (type)                   Output Shape         Param #     Connected to                     \n",
            "==================================================================================================\n",
            " input_1 (InputLayer)           [(None, 32, 32, 3)]  0           []                               \n",
            "                                                                                                  \n",
            " conv2d_3 (Conv2D)              (None, 32, 32, 128)  6272        ['input_1[0][0]']                \n",
            "                                                                                                  \n",
            " leaky_re_lu (LeakyReLU)        (None, 32, 32, 128)  0           ['conv2d_3[0][0]']               \n",
            "                                                                                                  \n",
            " batch_normalization_3 (BatchNo  (None, 32, 32, 128)  512        ['leaky_re_lu[0][0]']            \n",
            " rmalization)                                                                                     \n",
            "                                                                                                  \n",
            " max_pooling2d_3 (MaxPooling2D)  (None, 16, 16, 128)  0          ['batch_normalization_3[0][0]']  \n",
            "                                                                                                  \n",
            " conv2d_4 (Conv2D)              (None, 16, 16, 256)  524544      ['max_pooling2d_3[0][0]']        \n",
            "                                                                                                  \n",
            " leaky_re_lu_1 (LeakyReLU)      (None, 16, 16, 256)  0           ['conv2d_4[0][0]']               \n",
            "                                                                                                  \n",
            " batch_normalization_4 (BatchNo  (None, 16, 16, 256)  1024       ['leaky_re_lu_1[0][0]']          \n",
            " rmalization)                                                                                     \n",
            "                                                                                                  \n",
            " max_pooling2d_4 (MaxPooling2D)  (None, 8, 8, 256)   0           ['batch_normalization_4[0][0]']  \n",
            "                                                                                                  \n",
            " conv2d_5 (Conv2D)              (None, 8, 8, 512)    2097664     ['max_pooling2d_4[0][0]']        \n",
            "                                                                                                  \n",
            " leaky_re_lu_2 (LeakyReLU)      (None, 8, 8, 512)    0           ['conv2d_5[0][0]']               \n",
            "                                                                                                  \n",
            " batch_normalization_5 (BatchNo  (None, 8, 8, 512)   2048        ['leaky_re_lu_2[0][0]']          \n",
            " rmalization)                                                                                     \n",
            "                                                                                                  \n",
            " max_pooling2d_5 (MaxPooling2D)  (None, 4, 4, 512)   0           ['batch_normalization_5[0][0]']  \n",
            "                                                                                                  \n",
            " conv2d_6 (Conv2D)              (None, 4, 4, 1024)   8389632     ['max_pooling2d_5[0][0]']        \n",
            "                                                                                                  \n",
            " leaky_re_lu_3 (LeakyReLU)      (None, 4, 4, 1024)   0           ['conv2d_6[0][0]']               \n",
            "                                                                                                  \n",
            " batch_normalization_6 (BatchNo  (None, 4, 4, 1024)  4096        ['leaky_re_lu_3[0][0]']          \n",
            " rmalization)                                                                                     \n",
            "                                                                                                  \n",
            " max_pooling2d_6 (MaxPooling2D)  (None, 2, 2, 1024)  0           ['batch_normalization_6[0][0]']  \n",
            "                                                                                                  \n",
            " flatten_1 (Flatten)            (None, 4096)         0           ['max_pooling2d_6[0][0]']        \n",
            "                                                                                                  \n",
            " dense_2 (Dense)                (None, 256)          1048832     ['flatten_1[0][0]']              \n",
            "                                                                                                  \n",
            " leaky_re_lu_4 (LeakyReLU)      (None, 256)          0           ['dense_2[0][0]']                \n",
            "                                                                                                  \n",
            " z_mean (Dense)                 (None, 128)          32896       ['leaky_re_lu_4[0][0]']          \n",
            "                                                                                                  \n",
            " z_log_var (Dense)              (None, 128)          32896       ['leaky_re_lu_4[0][0]']          \n",
            "                                                                                                  \n",
            " embedding (Sampling)           (None, 128)          0           ['z_mean[0][0]',                 \n",
            "                                                                  'z_log_var[0][0]']              \n",
            "                                                                                                  \n",
            "==================================================================================================\n",
            "Total params: 12,140,416\n",
            "Trainable params: 12,136,576\n",
            "Non-trainable params: 3,840\n",
            "__________________________________________________________________________________________________\n"
          ]
        }
      ]
    },
    {
      "cell_type": "code",
      "source": [
        "# at this point the representation is (2, 2, number_layer*8)\n",
        "latent_inputs = Input(shape=(latent_dim,))\n",
        "x = Dense(256, input_dim=latent_dim)(latent_inputs)\n",
        "x = Reshape((2, 2, 64))(x)\n",
        "\n",
        "x = Conv2D(number_layers*8, (4, 4), padding='same')(x)\n",
        "x = LeakyReLU(alpha=0.2)(x)\n",
        "x = UpSampling2D((2, 2))(x)\n",
        "x = BatchNormalization()(x)\n",
        "\n",
        "x = Conv2D(number_layers*4, (4, 4), padding='same')(x)\n",
        "x = LeakyReLU(alpha=0.2)(x)\n",
        "x = UpSampling2D((2, 2))(x)\n",
        "x = BatchNormalization()(x)\n",
        "\n",
        "x = Conv2D(number_layers*2, (4, 4), padding='same')(x)\n",
        "x = LeakyReLU(alpha=0.2)(x)\n",
        "x = UpSampling2D((2, 2))(x)\n",
        "x = BatchNormalization()(x)\n",
        "\n",
        "x = Conv2D(number_layers, (4, 4), padding='same')(x)\n",
        "x = LeakyReLU(alpha=0.2)(x)\n",
        "x = UpSampling2D((2, 2))(x)\n",
        "x = BatchNormalization()(x)\n",
        "\n",
        "decoder_outputs = Conv2D(3, (4, 4), activation='sigmoid', padding='same')(x)\n",
        "\n",
        "decoder = Model(latent_inputs, decoder_outputs, name=\"decoder\")"
      ],
      "metadata": {
        "id": "U-URCkVWX5yI"
      },
      "execution_count": null,
      "outputs": []
    },
    {
      "cell_type": "code",
      "source": [
        "decoder.summary()"
      ],
      "metadata": {
        "id": "hierAz7vZjFI",
        "colab": {
          "base_uri": "https://localhost:8080/"
        },
        "outputId": "6e238301-4e6c-4a19-b201-8db9c17042b9"
      },
      "execution_count": null,
      "outputs": [
        {
          "output_type": "stream",
          "name": "stdout",
          "text": [
            "Model: \"decoder\"\n",
            "_________________________________________________________________\n",
            " Layer (type)                Output Shape              Param #   \n",
            "=================================================================\n",
            " input_2 (InputLayer)        [(None, 128)]             0         \n",
            "                                                                 \n",
            " dense_3 (Dense)             (None, 256)               33024     \n",
            "                                                                 \n",
            " reshape (Reshape)           (None, 2, 2, 64)          0         \n",
            "                                                                 \n",
            " conv2d_7 (Conv2D)           (None, 2, 2, 1024)        1049600   \n",
            "                                                                 \n",
            " leaky_re_lu_5 (LeakyReLU)   (None, 2, 2, 1024)        0         \n",
            "                                                                 \n",
            " up_sampling2d (UpSampling2D  (None, 4, 4, 1024)       0         \n",
            " )                                                               \n",
            "                                                                 \n",
            " batch_normalization_7 (Batc  (None, 4, 4, 1024)       4096      \n",
            " hNormalization)                                                 \n",
            "                                                                 \n",
            " conv2d_8 (Conv2D)           (None, 4, 4, 512)         8389120   \n",
            "                                                                 \n",
            " leaky_re_lu_6 (LeakyReLU)   (None, 4, 4, 512)         0         \n",
            "                                                                 \n",
            " up_sampling2d_1 (UpSampling  (None, 8, 8, 512)        0         \n",
            " 2D)                                                             \n",
            "                                                                 \n",
            " batch_normalization_8 (Batc  (None, 8, 8, 512)        2048      \n",
            " hNormalization)                                                 \n",
            "                                                                 \n",
            " conv2d_9 (Conv2D)           (None, 8, 8, 256)         2097408   \n",
            "                                                                 \n",
            " leaky_re_lu_7 (LeakyReLU)   (None, 8, 8, 256)         0         \n",
            "                                                                 \n",
            " up_sampling2d_2 (UpSampling  (None, 16, 16, 256)      0         \n",
            " 2D)                                                             \n",
            "                                                                 \n",
            " batch_normalization_9 (Batc  (None, 16, 16, 256)      1024      \n",
            " hNormalization)                                                 \n",
            "                                                                 \n",
            " conv2d_10 (Conv2D)          (None, 16, 16, 128)       524416    \n",
            "                                                                 \n",
            " leaky_re_lu_8 (LeakyReLU)   (None, 16, 16, 128)       0         \n",
            "                                                                 \n",
            " up_sampling2d_3 (UpSampling  (None, 32, 32, 128)      0         \n",
            " 2D)                                                             \n",
            "                                                                 \n",
            " batch_normalization_10 (Bat  (None, 32, 32, 128)      512       \n",
            " chNormalization)                                                \n",
            "                                                                 \n",
            " conv2d_11 (Conv2D)          (None, 32, 32, 3)         6147      \n",
            "                                                                 \n",
            "=================================================================\n",
            "Total params: 12,107,395\n",
            "Trainable params: 12,103,555\n",
            "Non-trainable params: 3,840\n",
            "_________________________________________________________________\n"
          ]
        }
      ]
    },
    {
      "cell_type": "code",
      "source": [
        "vae = VAE(encoder, decoder)\n",
        "vae.compile(optimizer=keras.optimizers.Adam())"
      ],
      "metadata": {
        "id": "o_fDVDCJZLj9"
      },
      "execution_count": null,
      "outputs": []
    },
    {
      "cell_type": "code",
      "source": [
        "vae.fit(x_train, epochs=20, batch_size=128)"
      ],
      "metadata": {
        "id": "B5IjmGn_SIDB",
        "colab": {
          "base_uri": "https://localhost:8080/"
        },
        "outputId": "80963c63-a0d8-45b3-9a94-67bca3388936"
      },
      "execution_count": null,
      "outputs": [
        {
          "output_type": "stream",
          "name": "stdout",
          "text": [
            "Epoch 1/20\n",
            "313/313 [==============================] - 156s 471ms/step - loss: 97.2243 - reconstruction_loss: 59.8125 - kl_loss: 3.7775\n",
            "Epoch 2/20\n",
            "313/313 [==============================] - 145s 463ms/step - loss: 41.5787 - reconstruction_loss: 35.1219 - kl_loss: 5.1798\n",
            "Epoch 3/20\n",
            "313/313 [==============================] - 145s 462ms/step - loss: 38.1384 - reconstruction_loss: 31.8251 - kl_loss: 6.1315\n",
            "Epoch 4/20\n",
            "313/313 [==============================] - 145s 463ms/step - loss: 37.1521 - reconstruction_loss: 30.3987 - kl_loss: 6.6856\n",
            "Epoch 5/20\n",
            "313/313 [==============================] - 145s 463ms/step - loss: 37.0395 - reconstruction_loss: 30.1726 - kl_loss: 6.7876\n",
            "Epoch 6/20\n",
            "313/313 [==============================] - 145s 463ms/step - loss: 36.7158 - reconstruction_loss: 29.6838 - kl_loss: 6.9610\n",
            "Epoch 7/20\n",
            "313/313 [==============================] - 145s 463ms/step - loss: 36.3665 - reconstruction_loss: 28.8326 - kl_loss: 7.3207\n",
            "Epoch 8/20\n",
            "313/313 [==============================] - 145s 464ms/step - loss: 35.8600 - reconstruction_loss: 28.1886 - kl_loss: 7.6208\n",
            "Epoch 9/20\n",
            "313/313 [==============================] - 145s 463ms/step - loss: 35.6806 - reconstruction_loss: 27.7390 - kl_loss: 7.8232\n",
            "Epoch 10/20\n",
            "313/313 [==============================] - 145s 464ms/step - loss: 35.4181 - reconstruction_loss: 27.5278 - kl_loss: 7.8887\n",
            "Epoch 11/20\n",
            "110/313 [=========>....................] - ETA: 1:34 - loss: 35.7176 - reconstruction_loss: 27.5854 - kl_loss: 7.8778"
          ]
        }
      ]
    },
    {
      "cell_type": "code",
      "source": [
        "last_layer = vae.encoder.get_layer('embedding').output"
      ],
      "metadata": {
        "id": "QFUul6c11E0O"
      },
      "execution_count": null,
      "outputs": []
    },
    {
      "cell_type": "code",
      "source": [
        "x = Flatten()(last_layer)\n",
        "x = Dense(512, activation = 'relu')(x)\n",
        "x = Dense(256, activation = 'relu')(x)\n",
        "x = Dense(10, activation='softmax')(x)\n",
        "\n",
        "vae.encoder.trainable = False\n",
        "\n",
        "fine_tune_model = Model(inputs=vae.encoder.input, outputs=x)\n",
        "\n",
        "opt = SGD(learning_rate=0.01, momentum=0.9)\n",
        "fine_tune_model.compile(optimizer=opt, loss='categorical_crossentropy', metrics=['accuracy'])"
      ],
      "metadata": {
        "id": "jzZlbMDwAzra"
      },
      "execution_count": null,
      "outputs": []
    },
    {
      "cell_type": "code",
      "source": [
        "fine_tune_model.fit(x_train, y_train_cat, epochs=20, validation_data=(x_val, y_val_cat), batch_size=32, verbose=1)"
      ],
      "metadata": {
        "colab": {
          "base_uri": "https://localhost:8080/",
          "height": 170
        },
        "id": "eTCtK0Y2BNt2",
        "outputId": "4343fd05-4451-4af2-cb1d-941f175956a9"
      },
      "execution_count": null,
      "outputs": [
        {
          "output_type": "error",
          "ename": "NameError",
          "evalue": "ignored",
          "traceback": [
            "\u001b[0;31m---------------------------------------------------------------------------\u001b[0m",
            "\u001b[0;31mNameError\u001b[0m                                 Traceback (most recent call last)",
            "\u001b[0;32m<ipython-input-31-d28afbbf7baf>\u001b[0m in \u001b[0;36m<module>\u001b[0;34m()\u001b[0m\n\u001b[0;32m----> 1\u001b[0;31m \u001b[0mfine_tune_model\u001b[0m\u001b[0;34m.\u001b[0m\u001b[0mfit\u001b[0m\u001b[0;34m(\u001b[0m\u001b[0mx_train\u001b[0m\u001b[0;34m,\u001b[0m \u001b[0my_train_cat\u001b[0m\u001b[0;34m,\u001b[0m \u001b[0mepochs\u001b[0m\u001b[0;34m=\u001b[0m\u001b[0;36m20\u001b[0m\u001b[0;34m,\u001b[0m \u001b[0mvalidation_data\u001b[0m\u001b[0;34m=\u001b[0m\u001b[0;34m(\u001b[0m\u001b[0mx_val\u001b[0m\u001b[0;34m,\u001b[0m \u001b[0my_val_cat\u001b[0m\u001b[0;34m)\u001b[0m\u001b[0;34m,\u001b[0m \u001b[0mbatch_size\u001b[0m\u001b[0;34m=\u001b[0m\u001b[0;36m32\u001b[0m\u001b[0;34m,\u001b[0m \u001b[0mverbose\u001b[0m\u001b[0;34m=\u001b[0m\u001b[0;36m1\u001b[0m\u001b[0;34m)\u001b[0m\u001b[0;34m\u001b[0m\u001b[0;34m\u001b[0m\u001b[0m\n\u001b[0m",
            "\u001b[0;31mNameError\u001b[0m: name 'fine_tune_model' is not defined"
          ]
        }
      ]
    },
    {
      "cell_type": "markdown",
      "metadata": {
        "id": "NPLx7lIKOuAy"
      },
      "source": [
        "# TSNE"
      ]
    },
    {
      "cell_type": "code",
      "execution_count": null,
      "metadata": {
        "id": "GhIXq5fChrRV"
      },
      "outputs": [],
      "source": [
        "encoder = tensorflow.keras.Model(input_img, encoded)\n",
        "encoded_imgs = encoder.predict(x_test)"
      ]
    },
    {
      "cell_type": "code",
      "execution_count": null,
      "metadata": {
        "id": "At4bZe34jZyW"
      },
      "outputs": [],
      "source": [
        "flat_enc_img = encoded_imgs.reshape(encoded_imgs.shape[0],128)"
      ]
    },
    {
      "cell_type": "code",
      "execution_count": null,
      "metadata": {
        "id": "hdQss4qakZDI"
      },
      "outputs": [],
      "source": [
        "import numpy as np\n",
        "import pandas as pd\n",
        "\n",
        "from sklearn.decomposition import PCA\n",
        "from sklearn.manifold import TSNE\n",
        "%matplotlib inline\n",
        "import matplotlib.pyplot as plt\n",
        "from mpl_toolkits.mplot3d import Axes3D\n",
        "import seaborn as sns"
      ]
    },
    {
      "cell_type": "code",
      "execution_count": null,
      "metadata": {
        "colab": {
          "base_uri": "https://localhost:8080/"
        },
        "id": "ooL6s3qDkoXm",
        "outputId": "a06afe14-1f72-453d-fdb0-b16008dd39a4"
      },
      "outputs": [
        {
          "name": "stderr",
          "output_type": "stream",
          "text": [
            "/usr/local/lib/python3.7/dist-packages/sklearn/manifold/_t_sne.py:783: FutureWarning: The default initialization in TSNE will change from 'random' to 'pca' in 1.2.\n",
            "  FutureWarning,\n",
            "/usr/local/lib/python3.7/dist-packages/sklearn/manifold/_t_sne.py:793: FutureWarning: The default learning rate in TSNE will change from 200.0 to 'auto' in 1.2.\n",
            "  FutureWarning,\n"
          ]
        },
        {
          "name": "stdout",
          "output_type": "stream",
          "text": [
            "[t-SNE] Computing 121 nearest neighbors...\n",
            "[t-SNE] Indexed 1134 samples in 0.001s...\n",
            "[t-SNE] Computed neighbors for 1134 samples in 0.078s...\n",
            "[t-SNE] Computed conditional probabilities for sample 1000 / 1134\n",
            "[t-SNE] Computed conditional probabilities for sample 1134 / 1134\n",
            "[t-SNE] Mean sigma: 2.721731\n",
            "[t-SNE] KL divergence after 250 iterations with early exaggeration: 63.745209\n",
            "[t-SNE] KL divergence after 300 iterations: 1.119627\n"
          ]
        }
      ],
      "source": [
        "tsne = TSNE(n_components=2, verbose=1, perplexity=40, n_iter=300)\n",
        "tsne_results = tsne.fit_transform(flat_enc_img)"
      ]
    },
    {
      "cell_type": "code",
      "execution_count": null,
      "metadata": {
        "colab": {
          "base_uri": "https://localhost:8080/",
          "height": 624
        },
        "id": "i8Xz_mzMlJZ7",
        "outputId": "5589161e-46ac-4de1-cb81-60e677eaa26f"
      },
      "outputs": [
        {
          "data": {
            "text/plain": [
              "<matplotlib.axes._subplots.AxesSubplot at 0x7f9ace5c6290>"
            ]
          },
          "execution_count": 132,
          "metadata": {},
          "output_type": "execute_result"
        },
        {
          "data": {
            "image/png": "[encoded data removed]",
            "text/plain": [
              "<Figure size 1152x720 with 1 Axes>"
            ]
          },
          "metadata": {},
          "output_type": "display_data"
        }
      ],
      "source": [
        "df_subset = pd.DataFrame()\n",
        "df_subset['tsne-2d-one'] = tsne_results[:,0]\n",
        "df_subset['tsne-2d-two'] = tsne_results[:,1]\n",
        "df_subset['y'] = y_test\n",
        "\n",
        "plt.figure(figsize=(16,10))\n",
        "sns.scatterplot(\n",
        "    x=\"tsne-2d-one\", y=\"tsne-2d-two\",\n",
        "    hue=\"y\",\n",
        "    data=df_subset,\n",
        "    legend=\"full\",\n",
        "    alpha=0.3\n",
        ")"
      ]
    },
    {
      "cell_type": "code",
      "execution_count": null,
      "metadata": {
        "colab": {
          "base_uri": "https://localhost:8080/"
        },
        "id": "MiairFzQjv2f",
        "outputId": "7f2b1706-eeb6-41e9-d9a9-aa393149bcd0"
      },
      "outputs": [
        {
          "name": "stderr",
          "output_type": "stream",
          "text": [
            "/usr/local/lib/python3.7/dist-packages/sklearn/linear_model/_logistic.py:818: ConvergenceWarning: lbfgs failed to converge (status=1):\n",
            "STOP: TOTAL NO. of ITERATIONS REACHED LIMIT.\n",
            "\n",
            "Increase the number of iterations (max_iter) or scale the data as shown in:\n",
            "    https://scikit-learn.org/stable/modules/preprocessing.html\n",
            "Please also refer to the documentation for alternative solver options:\n",
            "    https://scikit-learn.org/stable/modules/linear_model.html#logistic-regression\n",
            "  extra_warning_msg=_LOGISTIC_SOLVER_CONVERGENCE_MSG,\n"
          ]
        },
        {
          "data": {
            "text/plain": [
              "1.0"
            ]
          },
          "execution_count": 37,
          "metadata": {},
          "output_type": "execute_result"
        }
      ],
      "source": [
        "from sklearn.linear_model import LogisticRegression\n",
        "from sklearn.metrics import accuracy_score\n",
        "\n",
        "clf = LogisticRegression(random_state=0).fit(flat_enc_img, y_test)\n"
      ]
    },
    {
      "cell_type": "code",
      "execution_count": null,
      "metadata": {
        "id": "teCnsW2PkWdN"
      },
      "outputs": [],
      "source": [
        ""
      ]
    },
    {
      "cell_type": "markdown",
      "metadata": {
        "id": "VqQPETKROxiu"
      },
      "source": [
        "# Multiple input "
      ]
    },
    {
      "cell_type": "markdown",
      "metadata": {
        "id": "Tp7Y4oqDvyAb"
      },
      "source": [
        "https://blog.paperspace.com/combining-multiple-features-outputs-keras/"
      ]
    },
    {
      "cell_type": "code",
      "execution_count": null,
      "metadata": {
        "id": "vBvXSNkTvyij"
      },
      "outputs": [],
      "source": [
        "latent_dim = 128\n",
        "\n",
        "# sample function for variational autoencoder\n",
        "def sample_z(args):\n",
        "    mu, log_var = args\n",
        "    batch = K.shape(mu)[0]\n",
        "    eps = K.random_normal(shape=(batch, latent_dim), mean=0., stddev=1.)\n",
        "    return mu + K.exp(log_var / 2) * eps"
      ]
    },
    {
      "cell_type": "code",
      "execution_count": null,
      "metadata": {
        "id": "T2bc6AEhOIMf"
      },
      "outputs": [],
      "source": [
        "input_img = tf.keras.Input(shape=(32, 32, 3))\n",
        "input_label = tf.keras.Input(shape=(10,))\n",
        "\n",
        "x = Conv2D(64, (3, 3), padding='same')(input_img)\n",
        "x = LeakyReLU(alpha=0.2)(x)\n",
        "x = MaxPooling2D((2, 2), padding='same')(x)\n",
        "x = Conv2D(32, (3, 3), padding='same')(x)\n",
        "x = LeakyReLU(alpha=0.2)(x)\n",
        "x = MaxPooling2D((2, 2), padding='same')(x)\n",
        "x = Conv2D(16, (3, 3), padding='same')(x)\n",
        "x = LeakyReLU(alpha=0.2)(x)\n",
        "# Flatten layer\n",
        "x = Flatten()(x)\n",
        "x = concatenate([x,input_label])\n",
        "# Sample layer\n",
        "mu = Dense(latent_dim)(x)\n",
        "log_var = Dense(latent_dim)(x)\n",
        "latent_repr = Lambda(sample_z)([mu, log_var])\n",
        "\n",
        "x = Dense(256, input_dim=latent_dim)(latent_repr)\n",
        "x = Reshape((4, 4, 16))(x)\n",
        "x = Conv2D(16, (3, 3), padding='same')(x)\n",
        "x = LeakyReLU(alpha=0.2)(x)\n",
        "x = UpSampling2D((2, 2))(x)\n",
        "x = Conv2D(32, (3, 3), padding='same')(x)\n",
        "x = LeakyReLU(alpha=0.2)(x)\n",
        "x = UpSampling2D((2, 2))(x)\n",
        "x = Conv2D(64, (3, 3), padding='same')(x)\n",
        "x = LeakyReLU(alpha=0.2)(x)\n",
        "x = UpSampling2D((2, 2))(x)\n",
        "decoded = Conv2D(3, (3, 3), activation='sigmoid', padding='same')(x)\n",
        "\n",
        "autoencoder = tf.keras.Model(inputs=[input_img,input_label], outputs=decoded)\n",
        "\n",
        "autoencoder.compile(optimizer='adam', loss='binary_crossentropy')"
      ]
    },
    {
      "cell_type": "code",
      "execution_count": null,
      "metadata": {
        "colab": {
          "base_uri": "https://localhost:8080/"
        },
        "id": "LPNa3zEtRUwa",
        "outputId": "799725b7-f23f-4682-eabf-c272b82ca6a5"
      },
      "outputs": [
        {
          "name": "stdout",
          "output_type": "stream",
          "text": [
            "Model: \"model_2\"\n",
            "__________________________________________________________________________________________________\n",
            " Layer (type)                   Output Shape         Param #     Connected to                     \n",
            "==================================================================================================\n",
            " input_3 (InputLayer)           [(None, 32, 32, 3)]  0           []                               \n",
            "                                                                                                  \n",
            " conv2d_7 (Conv2D)              (None, 32, 32, 64)   1792        ['input_3[0][0]']                \n",
            "                                                                                                  \n",
            " leaky_re_lu_6 (LeakyReLU)      (None, 32, 32, 64)   0           ['conv2d_7[0][0]']               \n",
            "                                                                                                  \n",
            " max_pooling2d_2 (MaxPooling2D)  (None, 16, 16, 64)  0           ['leaky_re_lu_6[0][0]']          \n",
            "                                                                                                  \n",
            " conv2d_8 (Conv2D)              (None, 16, 16, 32)   18464       ['max_pooling2d_2[0][0]']        \n",
            "                                                                                                  \n",
            " leaky_re_lu_7 (LeakyReLU)      (None, 16, 16, 32)   0           ['conv2d_8[0][0]']               \n",
            "                                                                                                  \n",
            " max_pooling2d_3 (MaxPooling2D)  (None, 8, 8, 32)    0           ['leaky_re_lu_7[0][0]']          \n",
            "                                                                                                  \n",
            " conv2d_9 (Conv2D)              (None, 8, 8, 16)     4624        ['max_pooling2d_3[0][0]']        \n",
            "                                                                                                  \n",
            " leaky_re_lu_8 (LeakyReLU)      (None, 8, 8, 16)     0           ['conv2d_9[0][0]']               \n",
            "                                                                                                  \n",
            " flatten_1 (Flatten)            (None, 1024)         0           ['leaky_re_lu_8[0][0]']          \n",
            "                                                                                                  \n",
            " input_4 (InputLayer)           [(None, 10)]         0           []                               \n",
            "                                                                                                  \n",
            " concatenate_1 (Concatenate)    (None, 1034)         0           ['flatten_1[0][0]',              \n",
            "                                                                  'input_4[0][0]']                \n",
            "                                                                                                  \n",
            " dense_3 (Dense)                (None, 128)          132480      ['concatenate_1[0][0]']          \n",
            "                                                                                                  \n",
            " dense_4 (Dense)                (None, 128)          132480      ['concatenate_1[0][0]']          \n",
            "                                                                                                  \n",
            " lambda_1 (Lambda)              (None, 128)          0           ['dense_3[0][0]',                \n",
            "                                                                  'dense_4[0][0]']                \n",
            "                                                                                                  \n",
            " dense_5 (Dense)                (None, 256)          33024       ['lambda_1[0][0]']               \n",
            "                                                                                                  \n",
            " reshape_1 (Reshape)            (None, 4, 4, 16)     0           ['dense_5[0][0]']                \n",
            "                                                                                                  \n",
            " conv2d_10 (Conv2D)             (None, 4, 4, 16)     2320        ['reshape_1[0][0]']              \n",
            "                                                                                                  \n",
            " leaky_re_lu_9 (LeakyReLU)      (None, 4, 4, 16)     0           ['conv2d_10[0][0]']              \n",
            "                                                                                                  \n",
            " up_sampling2d_3 (UpSampling2D)  (None, 8, 8, 16)    0           ['leaky_re_lu_9[0][0]']          \n",
            "                                                                                                  \n",
            " conv2d_11 (Conv2D)             (None, 8, 8, 32)     4640        ['up_sampling2d_3[0][0]']        \n",
            "                                                                                                  \n",
            " leaky_re_lu_10 (LeakyReLU)     (None, 8, 8, 32)     0           ['conv2d_11[0][0]']              \n",
            "                                                                                                  \n",
            " up_sampling2d_4 (UpSampling2D)  (None, 16, 16, 32)  0           ['leaky_re_lu_10[0][0]']         \n",
            "                                                                                                  \n",
            " conv2d_12 (Conv2D)             (None, 16, 16, 64)   18496       ['up_sampling2d_4[0][0]']        \n",
            "                                                                                                  \n",
            " leaky_re_lu_11 (LeakyReLU)     (None, 16, 16, 64)   0           ['conv2d_12[0][0]']              \n",
            "                                                                                                  \n",
            " up_sampling2d_5 (UpSampling2D)  (None, 32, 32, 64)  0           ['leaky_re_lu_11[0][0]']         \n",
            "                                                                                                  \n",
            " conv2d_13 (Conv2D)             (None, 32, 32, 3)    1731        ['up_sampling2d_5[0][0]']        \n",
            "                                                                                                  \n",
            "==================================================================================================\n",
            "Total params: 350,051\n",
            "Trainable params: 350,051\n",
            "Non-trainable params: 0\n",
            "__________________________________________________________________________________________________\n"
          ]
        }
      ],
      "source": [
        "autoencoder.summary()"
      ]
    },
    {
      "cell_type": "code",
      "execution_count": null,
      "metadata": {
        "colab": {
          "background_save": true,
          "base_uri": "https://localhost:8080/"
        },
        "id": "8AcH7tGFOMvO",
        "outputId": "ddfb984e-02ee-4390-ed06-3ff52e2a7b15"
      },
      "outputs": [
        {
          "name": "stdout",
          "output_type": "stream",
          "text": [
            "Epoch 1/30\n",
            "625/625 [==============================] - 258s 410ms/step - loss: 0.5957 - val_loss: 0.5774\n",
            "Epoch 2/30\n",
            "625/625 [==============================] - 257s 411ms/step - loss: 0.5772 - val_loss: 0.5730\n",
            "Epoch 3/30\n",
            "625/625 [==============================] - 260s 415ms/step - loss: 0.5734 - val_loss: 0.5696\n",
            "Epoch 4/30\n",
            "625/625 [==============================] - 257s 412ms/step - loss: 0.5710 - val_loss: 0.5675\n",
            "Epoch 5/30\n",
            "625/625 [==============================] - 271s 434ms/step - loss: 0.5698 - val_loss: 0.5667\n",
            "Epoch 6/30\n",
            "625/625 [==============================] - 297s 475ms/step - loss: 0.5683 - val_loss: 0.5658\n",
            "Epoch 7/30\n",
            "625/625 [==============================] - 283s 453ms/step - loss: 0.5673 - val_loss: 0.5646\n",
            "Epoch 8/30\n",
            "625/625 [==============================] - 296s 474ms/step - loss: 0.5665 - val_loss: 0.5634\n",
            "Epoch 9/30\n",
            "625/625 [==============================] - 262s 419ms/step - loss: 0.5658 - val_loss: 0.5631\n",
            "Epoch 10/30\n",
            "625/625 [==============================] - 260s 416ms/step - loss: 0.5652 - val_loss: 0.5623\n",
            "Epoch 11/30\n",
            "625/625 [==============================] - 257s 411ms/step - loss: 0.5647 - val_loss: 0.5627\n",
            "Epoch 12/30\n",
            "625/625 [==============================] - 257s 412ms/step - loss: 0.5643 - val_loss: 0.5615\n",
            "Epoch 13/30\n",
            "625/625 [==============================] - 259s 414ms/step - loss: 0.5639 - val_loss: 0.5611\n",
            "Epoch 14/30\n",
            "625/625 [==============================] - 259s 414ms/step - loss: 0.5635 - val_loss: 0.5608\n",
            "Epoch 15/30\n",
            "625/625 [==============================] - 254s 406ms/step - loss: 0.5632 - val_loss: 0.5603\n",
            "Epoch 16/30\n",
            "625/625 [==============================] - 252s 404ms/step - loss: 0.5629 - val_loss: 0.5604\n",
            "Epoch 17/30\n",
            "625/625 [==============================] - 252s 404ms/step - loss: 0.5626 - val_loss: 0.5597\n",
            "Epoch 18/30\n",
            "625/625 [==============================] - 253s 404ms/step - loss: 0.5624 - val_loss: 0.5598\n",
            "Epoch 19/30\n",
            "625/625 [==============================] - 253s 404ms/step - loss: 0.5622 - val_loss: 0.5601\n",
            "Epoch 20/30\n",
            "625/625 [==============================] - 252s 403ms/step - loss: 0.5620 - val_loss: 0.5597\n",
            "Epoch 21/30\n",
            "625/625 [==============================] - 255s 408ms/step - loss: 0.5618 - val_loss: 0.5591\n",
            "Epoch 22/30\n",
            "625/625 [==============================] - 252s 404ms/step - loss: 0.5617 - val_loss: 0.5592\n",
            "Epoch 23/30\n",
            "625/625 [==============================] - 253s 405ms/step - loss: 0.5615 - val_loss: 0.5588\n",
            "Epoch 24/30\n",
            "625/625 [==============================] - 253s 405ms/step - loss: 0.5614 - val_loss: 0.5587\n",
            "Epoch 25/30\n",
            "625/625 [==============================] - 255s 408ms/step - loss: 0.5613 - val_loss: 0.5586\n",
            "Epoch 26/30\n",
            "625/625 [==============================] - 255s 407ms/step - loss: 0.5612 - val_loss: 0.5587\n",
            "Epoch 27/30\n",
            "625/625 [==============================] - 254s 406ms/step - loss: 0.5611 - val_loss: 0.5589\n",
            "Epoch 28/30\n",
            "446/625 [====================>.........] - ETA: 1:09 - loss: 0.5608"
          ]
        }
      ],
      "source": [
        "autoencoder.fit(x=[x_train, y_train_cat], y=x_train,\n",
        "                epochs=30,\n",
        "                batch_size=64,\n",
        "                shuffle=True,\n",
        "                validation_data=([x_val, y_val_cat], x_val),\n",
        "                callbacks=[TensorBoard(log_dir='/tmp/autoencoder')])"
      ]
    },
    {
      "cell_type": "code",
      "execution_count": null,
      "metadata": {
        "id": "_A3l3r1KO68z"
      },
      "outputs": [],
      "source": [
        "encoder = tf.keras.Model(inputs=[input_img,input_label], outputs= mu)\n",
        "\n",
        "encoded_x_train = encoder.predict([x_train,y_train_cat])\n",
        "\n",
        "encoded_x_test = encoder.predict([x_test,y_test_cat])\n",
        "\n",
        "y_new = y_test_cat - y_test_cat\n",
        "encoded_x_test_0 = encoder.predict([x_test,y_new])"
      ]
    },
    {
      "cell_type": "code",
      "execution_count": null,
      "metadata": {
        "id": "nuKcCRaU3Ihj"
      },
      "outputs": [],
      "source": [
        "y_train = np.argmax(y_train_cat, axis=1, out=None)\n",
        "y_test = np.argmax(y_test_cat, axis=1, out=None)\n",
        "y_new_test = np.argmax(y_new, axis=1, out=None)"
      ]
    },
    {
      "cell_type": "code",
      "source": [
        ""
      ],
      "metadata": {
        "id": "X_6Cjv51TPOA"
      },
      "execution_count": null,
      "outputs": []
    }
  ],
  "metadata": {
    "colab": {
      "collapsed_sections": [
        "7t8oZzJSiCzS",
        "o0etRIMD7nJ_",
        "p0C0njukGBse",
        "8QDQ8KIDtOgz",
        "NPLx7lIKOuAy",
        "VqQPETKROxiu"
      ],
      "name": "Autoencoder with CIFAR dataset.ipynb",
      "provenance": []
    },
    "kernelspec": {
      "display_name": "Python 3",
      "name": "python3"
    },
    "language_info": {
      "name": "python"
    },
    "accelerator": "GPU"
  },
  "nbformat": 4,
  "nbformat_minor": 0
}