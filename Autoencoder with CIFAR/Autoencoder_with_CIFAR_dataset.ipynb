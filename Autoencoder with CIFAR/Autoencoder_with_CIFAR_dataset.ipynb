{
  "cells": [
    {
      "cell_type": "markdown",
      "source": [
        "[![Open In Colab](https://colab.research.google.com/assets/colab-badge.svg)](\n",
        "https://colab.research.google.com/github/pralab/secml/blob/HEAD/tutorials/01-Training.ipynb)"
      ],
      "metadata": {
        "id": "7pWAA6_CztWW"
      }
    },
    {
      "cell_type": "code",
      "execution_count": null,
      "metadata": {
        "id": "J8LZ4xEXgH1O"
      },
      "outputs": [],
      "source": [
        "import numpy as np\n",
        "import pandas as pd\n",
        "import matplotlib.pyplot as plt\n",
        "\n",
        "import tensorflow.keras.backend as K\n",
        "from tensorflow.keras import layers\n",
        "from tensorflow import keras\n",
        "\n",
        "from sklearn.model_selection import train_test_split\n",
        "from sklearn.metrics import accuracy_score, f1_score, precision_score, recall_score, classification_report, confusion_matrix\n",
        "\n",
        "from tensorflow.keras.datasets import cifar10\n",
        "from tensorflow.keras.utils import to_categorical\n",
        "from tensorflow.keras.callbacks import TensorBoard\n",
        "\n",
        "from tensorflow.keras import Model\n",
        "from tensorflow.keras.models import Sequential\n",
        "from tensorflow.keras.layers import Input, Dense, Conv2D, Flatten, concatenate, LeakyReLU, Reshape, Lambda, BatchNormalization, Dropout, MaxPooling2D, UpSampling2D\n",
        "from tensorflow.keras.optimizers import SGD\n",
        "from tensorflow.keras.callbacks import EarlyStopping"
      ]
    },
    {
      "cell_type": "markdown",
      "source": [
        "# Data loading and preparation"
      ],
      "metadata": {
        "id": "YSDQLtKZkOsM"
      }
    },
    {
      "cell_type": "code",
      "execution_count": null,
      "metadata": {
        "id": "3hscaUNDJ1y_",
        "colab": {
          "base_uri": "https://localhost:8080/"
        },
        "outputId": "9071a308-c778-438d-a799-06ea9a1327dd"
      },
      "outputs": [
        {
          "output_type": "stream",
          "name": "stdout",
          "text": [
            "Downloading data from https://www.cs.toronto.edu/~kriz/cifar-10-python.tar.gz\n",
            "170500096/170498071 [==============================] - 2s 0us/step\n",
            "170508288/170498071 [==============================] - 2s 0us/step\n"
          ]
        }
      ],
      "source": [
        "(x_train, y_train), (x_test, y_test) = cifar10.load_data()\n",
        "\n",
        "X = np.concatenate([x_train,x_test])\n",
        "y = np.concatenate([y_train, y_test])"
      ]
    },
    {
      "cell_type": "code",
      "execution_count": null,
      "metadata": {
        "id": "WpCZnypZbNTr"
      },
      "outputs": [],
      "source": [
        "X = X.astype('float32')\n",
        "\n",
        "X = X / 255.0"
      ]
    },
    {
      "cell_type": "code",
      "source": [
        "input_shape = X.shape[1:]\n",
        "number_layers = 128\n",
        "latent_dim = 128"
      ],
      "metadata": {
        "id": "8mn1UJ-mWpc2"
      },
      "execution_count": null,
      "outputs": []
    },
    {
      "cell_type": "code",
      "execution_count": null,
      "metadata": {
        "id": "YTvoZUE3gYyW"
      },
      "outputs": [],
      "source": [
        "x_train, x_val, y_train, y_val = train_test_split(X, y, test_size=0.2, random_state=42)\n",
        "x_val, x_test, y_val, y_test = train_test_split(x_val, y_val, test_size=0.5, random_state=42)"
      ]
    },
    {
      "cell_type": "code",
      "source": [
        "print(x_train.shape)\n",
        "print(x_val.shape)\n",
        "print(x_test.shape)"
      ],
      "metadata": {
        "colab": {
          "base_uri": "https://localhost:8080/"
        },
        "id": "0cR6cpyyrLQN",
        "outputId": "95e915a0-4960-42c5-e861-3129eaa345b1"
      },
      "execution_count": null,
      "outputs": [
        {
          "output_type": "stream",
          "name": "stdout",
          "text": [
            "(48000, 32, 32, 3)\n",
            "(6000, 32, 32, 3)\n",
            "(6000, 32, 32, 3)\n"
          ]
        }
      ]
    },
    {
      "cell_type": "code",
      "source": [
        "def show_performance(history):\n",
        "  # summarize history for accuracy\n",
        "  plt.plot(history.history['accuracy'])\n",
        "  plt.plot(history.history['val_accuracy'])\n",
        "  plt.title('model accuracy')\n",
        "  plt.ylabel('accuracy')\n",
        "  plt.xlabel('epoch')\n",
        "  plt.legend(['train', 'test'], loc='upper left')\n",
        "  plt.show()\n",
        "  # summarize history for loss\n",
        "  plt.plot(history.history['loss'])\n",
        "  plt.plot(history.history['val_loss'])\n",
        "  plt.title('model loss')\n",
        "  plt.ylabel('loss')\n",
        "  plt.xlabel('epoch')\n",
        "  plt.legend(['train', 'test'], loc='upper left')\n",
        "  plt.show()"
      ],
      "metadata": {
        "id": "pVez1tIZ2Qvh"
      },
      "execution_count": null,
      "outputs": []
    },
    {
      "cell_type": "markdown",
      "source": [
        "# CNN for image classification"
      ],
      "metadata": {
        "id": "7t8oZzJSiCzS"
      }
    },
    {
      "cell_type": "code",
      "execution_count": null,
      "metadata": {
        "id": "LpMIXXDhBaqp"
      },
      "outputs": [],
      "source": [
        "def define_CNN_model():\n",
        "\n",
        "\tmodel = Sequential()\n",
        "\tmodel.add(Conv2D(number_layers, (3, 3), activation='relu', kernel_initializer='he_uniform', input_shape=input_shape))\n",
        "\tmodel.add(MaxPooling2D((2, 2)))\n",
        "\tmodel.add(BatchNormalization())\n",
        "\tmodel.add(Dropout(0.2))\n",
        " \n",
        "\tmodel.add(Conv2D(number_layers*2, (3, 3), activation='relu', kernel_initializer='he_uniform'))\n",
        "\tmodel.add(MaxPooling2D((2, 2)))\n",
        "\tmodel.add(BatchNormalization())\n",
        "\tmodel.add(Dropout(0.2))\n",
        " \n",
        "\tmodel.add(Conv2D(number_layers*4, (3, 3), activation='relu', kernel_initializer='he_uniform'))\n",
        "\tmodel.add(MaxPooling2D((2, 2)))\n",
        "\tmodel.add(BatchNormalization())\n",
        "\tmodel.add(Dropout(0.2))\n",
        " \n",
        "\tmodel.add(Flatten())\n",
        "\tmodel.add(Dense(256, activation='relu', kernel_initializer='he_uniform'))\n",
        "\tmodel.add(Dense(10, activation='softmax'))\n",
        " \n",
        "\t# compile model\n",
        "\topt = SGD(learning_rate=0.01, momentum=0.9)\n",
        "\n",
        "\tmodel.compile(optimizer=opt, loss='sparse_categorical_crossentropy', metrics=['accuracy'])\n",
        "\treturn model"
      ]
    },
    {
      "cell_type": "code",
      "execution_count": null,
      "metadata": {
        "id": "zYHmCGctBzCX",
        "colab": {
          "base_uri": "https://localhost:8080/"
        },
        "outputId": "5bf806b9-a6f1-4aaf-99f1-11e419e777af"
      },
      "outputs": [
        {
          "output_type": "stream",
          "name": "stdout",
          "text": [
            "Epoch 1/20\n",
            "1500/1500 [==============================] - 23s 8ms/step - loss: 1.4385 - accuracy: 0.5056 - val_loss: 2.2301 - val_accuracy: 0.3853\n",
            "Epoch 2/20\n",
            "1500/1500 [==============================] - 11s 8ms/step - loss: 1.0194 - accuracy: 0.6442 - val_loss: 1.0167 - val_accuracy: 0.6532\n",
            "Epoch 3/20\n",
            "1500/1500 [==============================] - 11s 8ms/step - loss: 0.8413 - accuracy: 0.7090 - val_loss: 1.3780 - val_accuracy: 0.5860\n",
            "Epoch 4/20\n",
            "1500/1500 [==============================] - 12s 8ms/step - loss: 0.7275 - accuracy: 0.7475 - val_loss: 1.0314 - val_accuracy: 0.6598\n",
            "Epoch 5/20\n",
            "1500/1500 [==============================] - 12s 8ms/step - loss: 0.6283 - accuracy: 0.7824 - val_loss: 0.7908 - val_accuracy: 0.7390\n",
            "Epoch 6/20\n",
            "1500/1500 [==============================] - 12s 8ms/step - loss: 0.5442 - accuracy: 0.8100 - val_loss: 0.8888 - val_accuracy: 0.7173\n",
            "Epoch 7/20\n",
            "1500/1500 [==============================] - 12s 8ms/step - loss: 0.4718 - accuracy: 0.8351 - val_loss: 0.8490 - val_accuracy: 0.7235\n",
            "Epoch 8/20\n",
            "1500/1500 [==============================] - 12s 8ms/step - loss: 0.4128 - accuracy: 0.8532 - val_loss: 1.0397 - val_accuracy: 0.7168\n",
            "Epoch 9/20\n",
            "1500/1500 [==============================] - 12s 8ms/step - loss: 0.3625 - accuracy: 0.8730 - val_loss: 0.9016 - val_accuracy: 0.7308\n",
            "Epoch 10/20\n",
            "1500/1500 [==============================] - 12s 8ms/step - loss: 0.3260 - accuracy: 0.8851 - val_loss: 0.7628 - val_accuracy: 0.7663\n",
            "Epoch 11/20\n",
            "1500/1500 [==============================] - 12s 8ms/step - loss: 0.2757 - accuracy: 0.9031 - val_loss: 0.8617 - val_accuracy: 0.7685\n",
            "Epoch 12/20\n",
            "1500/1500 [==============================] - 12s 8ms/step - loss: 0.2468 - accuracy: 0.9132 - val_loss: 0.9136 - val_accuracy: 0.7647\n",
            "Epoch 13/20\n",
            "1500/1500 [==============================] - 12s 8ms/step - loss: 0.2188 - accuracy: 0.9246 - val_loss: 0.9089 - val_accuracy: 0.7668\n",
            "Epoch 14/20\n",
            "1500/1500 [==============================] - 12s 8ms/step - loss: 0.1977 - accuracy: 0.9312 - val_loss: 0.9798 - val_accuracy: 0.7610\n",
            "Epoch 15/20\n",
            "1500/1500 [==============================] - 12s 8ms/step - loss: 0.1786 - accuracy: 0.9385 - val_loss: 1.0238 - val_accuracy: 0.7592\n",
            "Epoch 16/20\n",
            "1500/1500 [==============================] - 12s 8ms/step - loss: 0.1671 - accuracy: 0.9412 - val_loss: 1.0142 - val_accuracy: 0.7628\n",
            "Epoch 16: early stopping\n"
          ]
        }
      ],
      "source": [
        "model = define_CNN_model()\n",
        "es = EarlyStopping(monitor='val_accuracy', mode='max', verbose=1, patience=5)\n",
        "history = model.fit(x_train, y_train, epochs=20, shuffle=True, validation_data=(x_val, y_val), batch_size=32, callbacks=[es], verbose=1)"
      ]
    },
    {
      "cell_type": "code",
      "source": [
        "show_performance(history)"
      ],
      "metadata": {
        "id": "nnvD5qG0QQtg",
        "outputId": "78409580-c825-4765-93f8-7465a5a25da8",
        "colab": {
          "base_uri": "https://localhost:8080/",
          "height": 573
        }
      },
      "execution_count": null,
      "outputs": [
        {
          "output_type": "display_data",
          "data": {
            "image/png": "[encoded data removed]",
            "text/plain": [
              "<Figure size 432x288 with 1 Axes>"
            ]
          },
          "metadata": {
            "needs_background": "light"
          }
        },
        {
          "output_type": "display_data",
          "data": {
            "image/png": "[encoded data removed]",
            "text/plain": [
              "<Figure size 432x288 with 1 Axes>"
            ]
          },
          "metadata": {
            "needs_background": "light"
          }
        }
      ]
    },
    {
      "cell_type": "code",
      "execution_count": null,
      "metadata": {
        "colab": {
          "base_uri": "https://localhost:8080/"
        },
        "id": "U0anqSILDmOe",
        "outputId": "23211b2f-d080-47c3-ec9f-100395fd2b73"
      },
      "outputs": [
        {
          "output_type": "stream",
          "name": "stdout",
          "text": [
            "              precision    recall  f1-score   support\n",
            "\n",
            "           0       0.87      0.69      0.77       583\n",
            "           1       0.96      0.67      0.79       581\n",
            "           2       0.76      0.60      0.67       611\n",
            "           3       0.62      0.58      0.60       673\n",
            "           4       0.71      0.78      0.74       606\n",
            "           5       0.59      0.81      0.68       616\n",
            "           6       0.82      0.83      0.82       563\n",
            "           7       0.87      0.77      0.81       628\n",
            "           8       0.79      0.89      0.84       566\n",
            "           9       0.71      0.91      0.80       573\n",
            "\n",
            "    accuracy                           0.75      6000\n",
            "   macro avg       0.77      0.75      0.75      6000\n",
            "weighted avg       0.77      0.75      0.75      6000\n",
            "\n"
          ]
        }
      ],
      "source": [
        "y_pred = model.predict(x_test).argmax(axis=1)\n",
        "\n",
        "print(classification_report(y_test, y_pred))"
      ]
    },
    {
      "cell_type": "markdown",
      "metadata": {
        "id": "o0etRIMD7nJ_"
      },
      "source": [
        "# Autoencoder 1"
      ]
    },
    {
      "cell_type": "code",
      "execution_count": null,
      "metadata": {
        "id": "osnvq9Yjb40x"
      },
      "outputs": [],
      "source": [
        "input_img = Input(shape=input_shape)\n",
        "\n",
        "x = Conv2D(number_layers, (3, 3), activation='relu', padding='same')(input_img)\n",
        "x = BatchNormalization()(x)\n",
        "x = MaxPooling2D((2, 2), padding='same')(x)\n",
        "\n",
        "x = Conv2D(number_layers*2, (3, 3), activation='relu', padding='same')(x)\n",
        "x = BatchNormalization()(x)\n",
        "x = MaxPooling2D((2, 2), padding='same')(x)\n",
        "\n",
        "x = Conv2D(number_layers*4, (3, 3), activation='relu', padding='same')(x)\n",
        "x = BatchNormalization()(x)\n",
        "x = MaxPooling2D((2, 2), padding='same')(x)\n",
        "\n",
        "x = Conv2D(number_layers*8, (3, 3), activation='relu', padding='same')(x)\n",
        "x = BatchNormalization()(x)\n",
        "\n",
        "encoded = MaxPooling2D((2, 2), padding='same', name='embedding')(x)\n",
        "\n",
        "# at this point the representation is (2, 2, number_layer*8)\n",
        "\n",
        "x = Conv2D(number_layers*8, (3, 3), activation='relu', padding='same')(encoded)\n",
        "x = UpSampling2D((2, 2))(x)\n",
        "x = BatchNormalization()(x)\n",
        "\n",
        "x = Conv2D(number_layers*4, (3, 3), activation='relu', padding='same')(x)\n",
        "x = UpSampling2D((2, 2))(x)\n",
        "x = BatchNormalization()(x)\n",
        "\n",
        "x = Conv2D(number_layers*2, (3, 3), activation='relu', padding='same')(x)\n",
        "x = UpSampling2D((2, 2))(x)\n",
        "x = BatchNormalization()(x)\n",
        "\n",
        "x = Conv2D(number_layers, (3, 3), activation='relu', padding='same')(x)\n",
        "x = UpSampling2D((2, 2))(x)\n",
        "x = BatchNormalization()(x)\n",
        "\n",
        "decoded = Conv2D(3, (3, 3), activation='sigmoid', padding='same')(x)\n",
        "\n",
        "autoencoder = Model(input_img, decoded)\n",
        "#autoencoder.compile(optimizer='adam', loss='binary_crossentropy')\n",
        "autoencoder.compile(optimizer='adam', loss='mse')"
      ]
    },
    {
      "cell_type": "code",
      "source": [
        "autoencoder.summary()"
      ],
      "metadata": {
        "colab": {
          "base_uri": "https://localhost:8080/"
        },
        "id": "8eevFGzIhBXD",
        "outputId": "e51fb851-ee67-497a-a8cb-06c74861615a"
      },
      "execution_count": null,
      "outputs": [
        {
          "output_type": "stream",
          "name": "stdout",
          "text": [
            "Model: \"model\"\n",
            "_________________________________________________________________\n",
            " Layer (type)                Output Shape              Param #   \n",
            "=================================================================\n",
            " input_1 (InputLayer)        [(None, 32, 32, 3)]       0         \n",
            "                                                                 \n",
            " conv2d_3 (Conv2D)           (None, 32, 32, 128)       3584      \n",
            "                                                                 \n",
            " batch_normalization_3 (Batc  (None, 32, 32, 128)      512       \n",
            " hNormalization)                                                 \n",
            "                                                                 \n",
            " max_pooling2d_3 (MaxPooling  (None, 16, 16, 128)      0         \n",
            " 2D)                                                             \n",
            "                                                                 \n",
            " conv2d_4 (Conv2D)           (None, 16, 16, 256)       295168    \n",
            "                                                                 \n",
            " batch_normalization_4 (Batc  (None, 16, 16, 256)      1024      \n",
            " hNormalization)                                                 \n",
            "                                                                 \n",
            " max_pooling2d_4 (MaxPooling  (None, 8, 8, 256)        0         \n",
            " 2D)                                                             \n",
            "                                                                 \n",
            " conv2d_5 (Conv2D)           (None, 8, 8, 512)         1180160   \n",
            "                                                                 \n",
            " batch_normalization_5 (Batc  (None, 8, 8, 512)        2048      \n",
            " hNormalization)                                                 \n",
            "                                                                 \n",
            " max_pooling2d_5 (MaxPooling  (None, 4, 4, 512)        0         \n",
            " 2D)                                                             \n",
            "                                                                 \n",
            " conv2d_6 (Conv2D)           (None, 4, 4, 1024)        4719616   \n",
            "                                                                 \n",
            " batch_normalization_6 (Batc  (None, 4, 4, 1024)       4096      \n",
            " hNormalization)                                                 \n",
            "                                                                 \n",
            " embedding (MaxPooling2D)    (None, 2, 2, 1024)        0         \n",
            "                                                                 \n",
            " conv2d_7 (Conv2D)           (None, 2, 2, 1024)        9438208   \n",
            "                                                                 \n",
            " up_sampling2d (UpSampling2D  (None, 4, 4, 1024)       0         \n",
            " )                                                               \n",
            "                                                                 \n",
            " batch_normalization_7 (Batc  (None, 4, 4, 1024)       4096      \n",
            " hNormalization)                                                 \n",
            "                                                                 \n",
            " conv2d_8 (Conv2D)           (None, 4, 4, 512)         4719104   \n",
            "                                                                 \n",
            " up_sampling2d_1 (UpSampling  (None, 8, 8, 512)        0         \n",
            " 2D)                                                             \n",
            "                                                                 \n",
            " batch_normalization_8 (Batc  (None, 8, 8, 512)        2048      \n",
            " hNormalization)                                                 \n",
            "                                                                 \n",
            " conv2d_9 (Conv2D)           (None, 8, 8, 256)         1179904   \n",
            "                                                                 \n",
            " up_sampling2d_2 (UpSampling  (None, 16, 16, 256)      0         \n",
            " 2D)                                                             \n",
            "                                                                 \n",
            " batch_normalization_9 (Batc  (None, 16, 16, 256)      1024      \n",
            " hNormalization)                                                 \n",
            "                                                                 \n",
            " conv2d_10 (Conv2D)          (None, 16, 16, 128)       295040    \n",
            "                                                                 \n",
            " up_sampling2d_3 (UpSampling  (None, 32, 32, 128)      0         \n",
            " 2D)                                                             \n",
            "                                                                 \n",
            " batch_normalization_10 (Bat  (None, 32, 32, 128)      512       \n",
            " chNormalization)                                                \n",
            "                                                                 \n",
            " conv2d_11 (Conv2D)          (None, 32, 32, 3)         3459      \n",
            "                                                                 \n",
            "=================================================================\n",
            "Total params: 21,849,603\n",
            "Trainable params: 21,841,923\n",
            "Non-trainable params: 7,680\n",
            "_________________________________________________________________\n"
          ]
        }
      ]
    },
    {
      "cell_type": "code",
      "execution_count": null,
      "metadata": {
        "id": "g0Y2gxvBfkMi",
        "colab": {
          "base_uri": "https://localhost:8080/"
        },
        "outputId": "cccbe22f-9415-4dc1-d5c7-beb4a04f9128"
      },
      "outputs": [
        {
          "output_type": "stream",
          "name": "stdout",
          "text": [
            "Epoch 1/100\n",
            "375/375 [==============================] - 43s 99ms/step - loss: 0.0213 - val_loss: 0.0357\n",
            "Epoch 2/100\n",
            "375/375 [==============================] - 33s 89ms/step - loss: 0.0110 - val_loss: 0.0101\n",
            "Epoch 3/100\n",
            "375/375 [==============================] - 34s 90ms/step - loss: 0.0086 - val_loss: 0.0093\n",
            "Epoch 4/100\n",
            "375/375 [==============================] - 34s 91ms/step - loss: 0.0071 - val_loss: 0.0075\n",
            "Epoch 5/100\n",
            "375/375 [==============================] - 34s 91ms/step - loss: 0.0062 - val_loss: 0.0073\n",
            "Epoch 6/100\n",
            "375/375 [==============================] - 34s 92ms/step - loss: 0.0055 - val_loss: 0.0061\n",
            "Epoch 7/100\n",
            "375/375 [==============================] - 34s 92ms/step - loss: 0.0051 - val_loss: 0.0064\n",
            "Epoch 8/100\n",
            "375/375 [==============================] - 34s 92ms/step - loss: 0.0047 - val_loss: 0.0064\n",
            "Epoch 9/100\n",
            "375/375 [==============================] - 35s 92ms/step - loss: 0.0044 - val_loss: 0.0044\n",
            "Epoch 10/100\n",
            "375/375 [==============================] - 35s 93ms/step - loss: 0.0041 - val_loss: 0.0045\n",
            "Epoch 11/100\n",
            "375/375 [==============================] - 34s 92ms/step - loss: 0.0041 - val_loss: 0.0057\n",
            "Epoch 12/100\n",
            "375/375 [==============================] - 34s 92ms/step - loss: 0.0038 - val_loss: 0.0040\n",
            "Epoch 13/100\n",
            "375/375 [==============================] - 35s 92ms/step - loss: 0.0036 - val_loss: 0.0040\n",
            "Epoch 14/100\n",
            "375/375 [==============================] - 34s 92ms/step - loss: 0.0034 - val_loss: 0.0040\n",
            "Epoch 15/100\n",
            "375/375 [==============================] - 35s 92ms/step - loss: 0.0033 - val_loss: 0.0037\n",
            "Epoch 16/100\n",
            "375/375 [==============================] - 35s 92ms/step - loss: 0.0032 - val_loss: 0.0035\n",
            "Epoch 17/100\n",
            "375/375 [==============================] - 35s 92ms/step - loss: 0.0047 - val_loss: 0.0927\n",
            "Epoch 18/100\n",
            "375/375 [==============================] - 35s 92ms/step - loss: 0.0048 - val_loss: 0.0041\n",
            "Epoch 19/100\n",
            "375/375 [==============================] - 35s 93ms/step - loss: 0.0036 - val_loss: 0.0042\n",
            "Epoch 20/100\n",
            "375/375 [==============================] - 35s 92ms/step - loss: 0.0033 - val_loss: 0.0033\n",
            "Epoch 21/100\n",
            "375/375 [==============================] - 35s 92ms/step - loss: 0.0032 - val_loss: 0.0034\n",
            "Epoch 22/100\n",
            "375/375 [==============================] - 35s 92ms/step - loss: 0.0031 - val_loss: 0.0032\n",
            "Epoch 23/100\n",
            "375/375 [==============================] - 34s 92ms/step - loss: 0.0032 - val_loss: 0.0039\n",
            "Epoch 24/100\n",
            "375/375 [==============================] - 35s 92ms/step - loss: 0.0030 - val_loss: 0.0031\n",
            "Epoch 25/100\n",
            "375/375 [==============================] - 34s 92ms/step - loss: 0.0029 - val_loss: 0.0029\n",
            "Epoch 26/100\n",
            "375/375 [==============================] - 34s 92ms/step - loss: 0.0028 - val_loss: 0.0029\n",
            "Epoch 27/100\n",
            "375/375 [==============================] - 34s 92ms/step - loss: 0.0027 - val_loss: 0.0031\n",
            "Epoch 28/100\n",
            "375/375 [==============================] - 34s 92ms/step - loss: 0.0027 - val_loss: 0.0030\n",
            "Epoch 29/100\n",
            "375/375 [==============================] - 35s 92ms/step - loss: 0.0026 - val_loss: 0.0027\n",
            "Epoch 30/100\n",
            "375/375 [==============================] - 35s 92ms/step - loss: 0.0025 - val_loss: 0.0028\n",
            "Epoch 31/100\n",
            "375/375 [==============================] - 35s 92ms/step - loss: 0.0026 - val_loss: 0.0027\n",
            "Epoch 32/100\n",
            "375/375 [==============================] - 35s 92ms/step - loss: 0.0026 - val_loss: 0.0027\n",
            "Epoch 33/100\n",
            "375/375 [==============================] - 34s 92ms/step - loss: 0.0025 - val_loss: 0.0027\n",
            "Epoch 34/100\n",
            "375/375 [==============================] - 34s 92ms/step - loss: 0.0024 - val_loss: 0.0027\n",
            "Epoch 35/100\n",
            "375/375 [==============================] - 34s 92ms/step - loss: 0.0034 - val_loss: 0.0059\n",
            "Epoch 36/100\n",
            "375/375 [==============================] - 34s 92ms/step - loss: 0.0027 - val_loss: 0.0025\n",
            "Epoch 37/100\n",
            "375/375 [==============================] - 35s 92ms/step - loss: 0.0025 - val_loss: 0.0028\n",
            "Epoch 38/100\n",
            "375/375 [==============================] - 34s 92ms/step - loss: 0.0023 - val_loss: 0.0023\n",
            "Epoch 39/100\n",
            "375/375 [==============================] - 34s 92ms/step - loss: 0.0023 - val_loss: 0.0024\n",
            "Epoch 40/100\n",
            "375/375 [==============================] - 34s 92ms/step - loss: 0.0022 - val_loss: 0.0024\n",
            "Epoch 41/100\n",
            "375/375 [==============================] - 35s 92ms/step - loss: 0.0022 - val_loss: 0.0023\n",
            "Epoch 42/100\n",
            "375/375 [==============================] - 34s 92ms/step - loss: 0.0021 - val_loss: 0.0021\n",
            "Epoch 43/100\n",
            "375/375 [==============================] - 34s 92ms/step - loss: 0.0021 - val_loss: 0.0025\n",
            "Epoch 44/100\n",
            "375/375 [==============================] - 34s 92ms/step - loss: 0.0021 - val_loss: 0.0022\n",
            "Epoch 45/100\n",
            "375/375 [==============================] - 34s 92ms/step - loss: 0.0022 - val_loss: 0.0030\n",
            "Epoch 46/100\n",
            "375/375 [==============================] - 34s 92ms/step - loss: 0.0021 - val_loss: 0.0022\n",
            "Epoch 47/100\n",
            "375/375 [==============================] - 34s 92ms/step - loss: 0.0020 - val_loss: 0.0023\n",
            "Epoch 48/100\n",
            "375/375 [==============================] - 34s 92ms/step - loss: 0.0020 - val_loss: 0.0021\n",
            "Epoch 49/100\n",
            "375/375 [==============================] - 35s 92ms/step - loss: 0.0020 - val_loss: 0.0021\n",
            "Epoch 50/100\n",
            "375/375 [==============================] - 35s 92ms/step - loss: 0.0019 - val_loss: 0.0020\n",
            "Epoch 51/100\n",
            "375/375 [==============================] - 34s 92ms/step - loss: 0.0019 - val_loss: 0.0020\n",
            "Epoch 52/100\n",
            "375/375 [==============================] - 34s 92ms/step - loss: 0.0023 - val_loss: 0.0023\n",
            "Epoch 53/100\n",
            "375/375 [==============================] - 34s 92ms/step - loss: 0.0020 - val_loss: 0.0020\n",
            "Epoch 54/100\n",
            "375/375 [==============================] - 34s 92ms/step - loss: 0.0019 - val_loss: 0.0021\n",
            "Epoch 55/100\n",
            "375/375 [==============================] - 35s 92ms/step - loss: 0.0019 - val_loss: 0.0022\n",
            "Epoch 56/100\n",
            "375/375 [==============================] - 36s 95ms/step - loss: 0.0018 - val_loss: 0.0019\n",
            "Epoch 57/100\n",
            "375/375 [==============================] - 34s 92ms/step - loss: 0.0022 - val_loss: 0.0021\n",
            "Epoch 58/100\n",
            "375/375 [==============================] - 34s 92ms/step - loss: 0.0018 - val_loss: 0.0025\n",
            "Epoch 59/100\n",
            "375/375 [==============================] - 35s 92ms/step - loss: 0.0018 - val_loss: 0.0019\n",
            "Epoch 60/100\n",
            "375/375 [==============================] - 35s 92ms/step - loss: 0.0017 - val_loss: 0.0020\n",
            "Epoch 61/100\n",
            "375/375 [==============================] - 34s 92ms/step - loss: 0.0017 - val_loss: 0.0018\n",
            "Epoch 62/100\n",
            "375/375 [==============================] - 34s 92ms/step - loss: 0.0017 - val_loss: 0.0019\n",
            "Epoch 63/100\n",
            "375/375 [==============================] - 34s 92ms/step - loss: 0.0017 - val_loss: 0.0018\n",
            "Epoch 64/100\n",
            "375/375 [==============================] - 34s 92ms/step - loss: 0.0017 - val_loss: 0.0018\n",
            "Epoch 65/100\n",
            "375/375 [==============================] - 34s 92ms/step - loss: 0.0022 - val_loss: 0.0073\n",
            "Epoch 66/100\n",
            "375/375 [==============================] - 34s 92ms/step - loss: 0.0022 - val_loss: 0.0106\n",
            "Epoch 67/100\n",
            "375/375 [==============================] - 34s 92ms/step - loss: 0.0018 - val_loss: 0.0018\n",
            "Epoch 68/100\n",
            "375/375 [==============================] - 35s 92ms/step - loss: 0.0017 - val_loss: 0.0020\n",
            "Epoch 69/100\n",
            "375/375 [==============================] - 35s 92ms/step - loss: 0.0017 - val_loss: 0.0018\n",
            "Epoch 70/100\n",
            "375/375 [==============================] - 35s 92ms/step - loss: 0.0017 - val_loss: 0.0022\n",
            "Epoch 71/100\n",
            "375/375 [==============================] - 35s 92ms/step - loss: 0.0016 - val_loss: 0.0018\n",
            "Epoch 72/100\n",
            "375/375 [==============================] - 35s 92ms/step - loss: 0.0016 - val_loss: 0.0017\n",
            "Epoch 73/100\n",
            "375/375 [==============================] - 35s 92ms/step - loss: 0.0018 - val_loss: 0.0026\n",
            "Epoch 74/100\n",
            "375/375 [==============================] - 34s 92ms/step - loss: 0.0017 - val_loss: 0.0018\n",
            "Epoch 75/100\n",
            "375/375 [==============================] - 34s 92ms/step - loss: 0.0016 - val_loss: 0.0017\n",
            "Epoch 76/100\n",
            "375/375 [==============================] - 35s 92ms/step - loss: 0.0016 - val_loss: 0.0017\n",
            "Epoch 77/100\n",
            "375/375 [==============================] - 35s 92ms/step - loss: 0.0016 - val_loss: 0.0017\n",
            "Epoch 78/100\n",
            "375/375 [==============================] - 35s 92ms/step - loss: 0.0016 - val_loss: 0.0017\n",
            "Epoch 79/100\n",
            "375/375 [==============================] - 35s 92ms/step - loss: 0.0015 - val_loss: 0.0016\n",
            "Epoch 80/100\n",
            "375/375 [==============================] - 34s 92ms/step - loss: 0.0015 - val_loss: 0.0021\n",
            "Epoch 81/100\n",
            "375/375 [==============================] - 35s 92ms/step - loss: 0.0015 - val_loss: 0.0016\n",
            "Epoch 82/100\n",
            "375/375 [==============================] - 34s 92ms/step - loss: 0.0015 - val_loss: 0.0018\n",
            "Epoch 83/100\n",
            "375/375 [==============================] - 35s 92ms/step - loss: 0.0015 - val_loss: 0.0017\n",
            "Epoch 84/100\n",
            "375/375 [==============================] - 35s 92ms/step - loss: 0.0015 - val_loss: 0.0016\n",
            "Epoch 85/100\n",
            "375/375 [==============================] - 35s 92ms/step - loss: 0.0015 - val_loss: 0.0016\n",
            "Epoch 86/100\n",
            "375/375 [==============================] - 35s 92ms/step - loss: 0.0014 - val_loss: 0.0016\n",
            "Epoch 87/100\n",
            "375/375 [==============================] - 35s 92ms/step - loss: 0.0014 - val_loss: 0.0016\n",
            "Epoch 88/100\n",
            "375/375 [==============================] - 35s 92ms/step - loss: 0.0015 - val_loss: 0.0016\n",
            "Epoch 89/100\n",
            "375/375 [==============================] - 35s 92ms/step - loss: 0.0014 - val_loss: 0.0019\n",
            "Epoch 90/100\n",
            "375/375 [==============================] - 35s 92ms/step - loss: 0.0016 - val_loss: 0.0016\n",
            "Epoch 91/100\n",
            "375/375 [==============================] - 35s 92ms/step - loss: 0.0014 - val_loss: 0.0015\n",
            "Epoch 92/100\n",
            "375/375 [==============================] - 35s 92ms/step - loss: 0.0014 - val_loss: 0.0015\n",
            "Epoch 93/100\n",
            "375/375 [==============================] - 35s 92ms/step - loss: 0.0015 - val_loss: 0.0017\n",
            "Epoch 94/100\n",
            "375/375 [==============================] - 35s 92ms/step - loss: 0.0014 - val_loss: 0.0015\n",
            "Epoch 95/100\n",
            "375/375 [==============================] - 35s 92ms/step - loss: 0.0014 - val_loss: 0.0015\n",
            "Epoch 96/100\n",
            "375/375 [==============================] - 35s 92ms/step - loss: 0.0014 - val_loss: 0.0015\n",
            "Epoch 97/100\n",
            "375/375 [==============================] - 35s 92ms/step - loss: 0.0013 - val_loss: 0.0015\n",
            "Epoch 98/100\n",
            "375/375 [==============================] - 35s 92ms/step - loss: 0.0013 - val_loss: 0.0015\n",
            "Epoch 99/100\n",
            "375/375 [==============================] - 35s 92ms/step - loss: 0.0013 - val_loss: 0.0015\n",
            "Epoch 100/100\n",
            "375/375 [==============================] - 35s 92ms/step - loss: 0.0013 - val_loss: 0.0016\n"
          ]
        },
        {
          "output_type": "execute_result",
          "data": {
            "text/plain": [
              "<keras.callbacks.History at 0x7f22366f3b90>"
            ]
          },
          "metadata": {},
          "execution_count": 29
        }
      ],
      "source": [
        "es = EarlyStopping(monitor='val_loss', mode='min', verbose=1, patience=10)\n",
        "autoencoder.fit(x_train, x_train,\n",
        "                epochs=100,\n",
        "                batch_size=128,\n",
        "                shuffle=True,\n",
        "                validation_data=(x_val, x_val),\n",
        "                callbacks=[TensorBoard(log_dir='/tmp/autoencoder'),es])"
      ]
    },
    {
      "cell_type": "code",
      "source": [
        "last_layer = autoencoder.get_layer('embedding').output\n",
        "\n",
        "x = Flatten()(last_layer)\n",
        "x = Dense(512, activation = 'relu')(x)\n",
        "x = Dense(256, activation = 'relu')(x)\n",
        "x = Dense(10, activation='softmax')(x)\n",
        "\n",
        "autoencoder.trainable = False\n",
        "\n",
        "fine_tune_model = Model(inputs=autoencoder.input, outputs=x)\n",
        "\n",
        "opt = SGD(learning_rate=0.01, momentum=0.9)\n",
        "fine_tune_model.compile(optimizer=opt, loss='sparse_categorical_crossentropy', metrics=['accuracy'])"
      ],
      "metadata": {
        "id": "dJMUIdFfE4Kv"
      },
      "execution_count": null,
      "outputs": []
    },
    {
      "cell_type": "code",
      "source": [
        "fine_tune_model.summary()"
      ],
      "metadata": {
        "id": "jH_zxyQzlN6w",
        "colab": {
          "base_uri": "https://localhost:8080/"
        },
        "outputId": "ce53dc2e-6cba-4570-8c79-1464339f7934"
      },
      "execution_count": null,
      "outputs": [
        {
          "output_type": "stream",
          "name": "stdout",
          "text": [
            "Model: \"model_1\"\n",
            "_________________________________________________________________\n",
            " Layer (type)                Output Shape              Param #   \n",
            "=================================================================\n",
            " input_1 (InputLayer)        [(None, 32, 32, 3)]       0         \n",
            "                                                                 \n",
            " conv2d_3 (Conv2D)           (None, 32, 32, 128)       3584      \n",
            "                                                                 \n",
            " batch_normalization_3 (Batc  (None, 32, 32, 128)      512       \n",
            " hNormalization)                                                 \n",
            "                                                                 \n",
            " max_pooling2d_3 (MaxPooling  (None, 16, 16, 128)      0         \n",
            " 2D)                                                             \n",
            "                                                                 \n",
            " conv2d_4 (Conv2D)           (None, 16, 16, 256)       295168    \n",
            "                                                                 \n",
            " batch_normalization_4 (Batc  (None, 16, 16, 256)      1024      \n",
            " hNormalization)                                                 \n",
            "                                                                 \n",
            " max_pooling2d_4 (MaxPooling  (None, 8, 8, 256)        0         \n",
            " 2D)                                                             \n",
            "                                                                 \n",
            " conv2d_5 (Conv2D)           (None, 8, 8, 512)         1180160   \n",
            "                                                                 \n",
            " batch_normalization_5 (Batc  (None, 8, 8, 512)        2048      \n",
            " hNormalization)                                                 \n",
            "                                                                 \n",
            " max_pooling2d_5 (MaxPooling  (None, 4, 4, 512)        0         \n",
            " 2D)                                                             \n",
            "                                                                 \n",
            " conv2d_6 (Conv2D)           (None, 4, 4, 1024)        4719616   \n",
            "                                                                 \n",
            " batch_normalization_6 (Batc  (None, 4, 4, 1024)       4096      \n",
            " hNormalization)                                                 \n",
            "                                                                 \n",
            " embedding (MaxPooling2D)    (None, 2, 2, 1024)        0         \n",
            "                                                                 \n",
            " flatten_1 (Flatten)         (None, 4096)              0         \n",
            "                                                                 \n",
            " dense_2 (Dense)             (None, 512)               2097664   \n",
            "                                                                 \n",
            " dense_3 (Dense)             (None, 256)               131328    \n",
            "                                                                 \n",
            " dense_4 (Dense)             (None, 10)                2570      \n",
            "                                                                 \n",
            "=================================================================\n",
            "Total params: 8,437,770\n",
            "Trainable params: 2,231,562\n",
            "Non-trainable params: 6,206,208\n",
            "_________________________________________________________________\n"
          ]
        }
      ]
    },
    {
      "cell_type": "code",
      "source": [
        "es = EarlyStopping(monitor='val_accuracy', mode='max', verbose=1, patience=10)\n",
        "history = fine_tune_model.fit(x_train, y_train, epochs=100, validation_data=(x_val, y_val), batch_size=32, callbacks=[es],verbose=1)"
      ],
      "metadata": {
        "colab": {
          "base_uri": "https://localhost:8080/"
        },
        "id": "0drBHlpzlok_",
        "outputId": "90733714-baf2-496b-a042-3863c306e0cf"
      },
      "execution_count": null,
      "outputs": [
        {
          "output_type": "stream",
          "name": "stdout",
          "text": [
            "Epoch 1/100\n",
            "1500/1500 [==============================] - 12s 7ms/step - loss: 1.2756 - accuracy: 0.5448 - val_loss: 1.0881 - val_accuracy: 0.6167\n",
            "Epoch 2/100\n",
            "1500/1500 [==============================] - 9s 6ms/step - loss: 0.9460 - accuracy: 0.6641 - val_loss: 1.0186 - val_accuracy: 0.6452\n",
            "Epoch 3/100\n",
            "1500/1500 [==============================] - 10s 7ms/step - loss: 0.7683 - accuracy: 0.7292 - val_loss: 1.0170 - val_accuracy: 0.6593\n",
            "Epoch 4/100\n",
            "1500/1500 [==============================] - 10s 7ms/step - loss: 0.6219 - accuracy: 0.7807 - val_loss: 1.1060 - val_accuracy: 0.6482\n",
            "Epoch 5/100\n",
            "1500/1500 [==============================] - 10s 6ms/step - loss: 0.4874 - accuracy: 0.8255 - val_loss: 1.1929 - val_accuracy: 0.6487\n",
            "Epoch 6/100\n",
            "1500/1500 [==============================] - 10s 7ms/step - loss: 0.3743 - accuracy: 0.8650 - val_loss: 1.3307 - val_accuracy: 0.6535\n",
            "Epoch 7/100\n",
            "1500/1500 [==============================] - 10s 7ms/step - loss: 0.3294 - accuracy: 0.8857 - val_loss: 1.4027 - val_accuracy: 0.6485\n",
            "Epoch 8/100\n",
            "1500/1500 [==============================] - 10s 7ms/step - loss: 0.3191 - accuracy: 0.8945 - val_loss: 1.5231 - val_accuracy: 0.6428\n",
            "Epoch 9/100\n",
            "1500/1500 [==============================] - 10s 6ms/step - loss: 0.3178 - accuracy: 0.9044 - val_loss: 1.6631 - val_accuracy: 0.6397\n",
            "Epoch 10/100\n",
            "1500/1500 [==============================] - 10s 7ms/step - loss: 0.3775 - accuracy: 0.9019 - val_loss: 1.6946 - val_accuracy: 0.6300\n",
            "Epoch 11/100\n",
            "1500/1500 [==============================] - 10s 7ms/step - loss: 0.2968 - accuracy: 0.9113 - val_loss: 1.7829 - val_accuracy: 0.6393\n",
            "Epoch 12/100\n",
            "1500/1500 [==============================] - 10s 6ms/step - loss: 0.1949 - accuracy: 0.9367 - val_loss: 2.0324 - val_accuracy: 0.6467\n",
            "Epoch 13/100\n",
            "1500/1500 [==============================] - 10s 6ms/step - loss: 0.2628 - accuracy: 0.9294 - val_loss: 1.9006 - val_accuracy: 0.6377\n",
            "Epoch 13: early stopping\n"
          ]
        }
      ]
    },
    {
      "cell_type": "code",
      "source": [
        "show_performance(history)"
      ],
      "metadata": {
        "colab": {
          "base_uri": "https://localhost:8080/"
        },
        "id": "l_yOAhMsHMGT",
        "outputId": "eefd88f9-3185-4d07-ba42-42544b49eca5"
      },
      "execution_count": null,
      "outputs": [
        {
          "output_type": "display_data",
          "data": {
            "image/png": "[encoded data removed]",
            "text/plain": [
              "<Figure size 432x288 with 1 Axes>"
            ]
          },
          "metadata": {
            "needs_background": "light"
          }
        },
        {
          "output_type": "display_data",
          "data": {
            "image/png": "[encoded data removed]",
            "text/plain": [
              "<Figure size 432x288 with 1 Axes>"
            ]
          },
          "metadata": {
            "needs_background": "light"
          }
        }
      ]
    },
    {
      "cell_type": "markdown",
      "source": [
        "# Autoencoder 2"
      ],
      "metadata": {
        "id": "p0C0njukGBse"
      }
    },
    {
      "cell_type": "markdown",
      "source": [
        "* Linear\n",
        "* (4,4)"
      ],
      "metadata": {
        "id": "VyrgeESyGM33"
      }
    },
    {
      "cell_type": "code",
      "source": [
        "input_img = Input(shape=input_shape)\n",
        "\n",
        "x = Conv2D(number_layers, (4, 4), activation='linear', padding='same')(input_img)\n",
        "x = BatchNormalization()(x)\n",
        "x = MaxPooling2D((2, 2), padding='same')(x)\n",
        "\n",
        "x = Conv2D(number_layers*2, (4, 4), activation='linear', padding='same')(x)\n",
        "x = BatchNormalization()(x)\n",
        "x = MaxPooling2D((2, 2), padding='same')(x)\n",
        "\n",
        "x = Conv2D(number_layers*4, (4, 4), activation='linear', padding='same')(x)\n",
        "x = BatchNormalization()(x)\n",
        "x = MaxPooling2D((2, 2), padding='same')(x)\n",
        "\n",
        "x = Conv2D(number_layers*8, (4, 4), activation='linear', padding='same')(x)\n",
        "x = BatchNormalization()(x)\n",
        "\n",
        "encoded = MaxPooling2D((2, 2), padding='same')(x)\n",
        "\n",
        "# at this point the representation is (2, 2, number_layer*8)\n",
        "\n",
        "x = Conv2D(number_layers*8, (4, 4), activation='linear', padding='same')(encoded)\n",
        "x = UpSampling2D((2, 2))(x)\n",
        "x = BatchNormalization()(x)\n",
        "\n",
        "x = Conv2D(number_layers*4, (4, 4), activation='linear', padding='same')(x)\n",
        "x = UpSampling2D((2, 2))(x)\n",
        "x = BatchNormalization()(x)\n",
        "\n",
        "x = Conv2D(number_layers*2, (4, 4), activation='linear', padding='same')(x)\n",
        "x = UpSampling2D((2, 2))(x)\n",
        "x = BatchNormalization()(x)\n",
        "\n",
        "x = Conv2D(number_layers, (4, 4), activation='linear', padding='same')(x)\n",
        "x = UpSampling2D((2, 2))(x)\n",
        "x = BatchNormalization()(x)\n",
        "\n",
        "decoded = Conv2D(3, (4, 4), activation='sigmoid', padding='same')(x)\n",
        "\n",
        "autoencoder = Model(input_img, decoded)\n",
        "autoencoder.compile(optimizer='adam', loss='binary_crossentropy')\n",
        "#autoencoder.compile(optimizer='adam', loss='mse')"
      ],
      "metadata": {
        "id": "SSkxZtzRGFAK"
      },
      "execution_count": null,
      "outputs": []
    },
    {
      "cell_type": "code",
      "source": [
        "es = EarlyStopping(monitor='val_loss', mode='min', verbose=1, patience=10)\n",
        "autoencoder.fit(x_train, x_train,\n",
        "                epochs=100,\n",
        "                batch_size=128,\n",
        "                shuffle=True,\n",
        "                validation_data=(x_val, x_val),\n",
        "                callbacks=[TensorBoard(log_dir='/tmp/autoencoder'),es])"
      ],
      "metadata": {
        "id": "2SXg6ep0Ghic",
        "colab": {
          "base_uri": "https://localhost:8080/"
        },
        "outputId": "3600e1c6-6767-4ac6-b59c-979d8c98de48"
      },
      "execution_count": null,
      "outputs": [
        {
          "output_type": "stream",
          "name": "stdout",
          "text": [
            "Epoch 1/100\n",
            "375/375 [==============================] - 98s 245ms/step - loss: 0.6360 - val_loss: 0.6535\n",
            "Epoch 2/100\n",
            "375/375 [==============================] - 94s 250ms/step - loss: 0.5941 - val_loss: 0.5891\n",
            "Epoch 3/100\n",
            "375/375 [==============================] - 95s 253ms/step - loss: 0.5830 - val_loss: 0.5893\n",
            "Epoch 4/100\n",
            "375/375 [==============================] - 95s 253ms/step - loss: 0.5774 - val_loss: 0.5760\n",
            "Epoch 5/100\n",
            "375/375 [==============================] - 95s 253ms/step - loss: 0.5733 - val_loss: 0.5723\n",
            "Epoch 6/100\n",
            "375/375 [==============================] - 95s 253ms/step - loss: 0.5707 - val_loss: 0.5700\n",
            "Epoch 7/100\n",
            "375/375 [==============================] - 95s 253ms/step - loss: 0.5683 - val_loss: 0.5683\n",
            "Epoch 8/100\n",
            "375/375 [==============================] - 95s 253ms/step - loss: 0.5662 - val_loss: 0.5655\n",
            "Epoch 9/100\n",
            "375/375 [==============================] - 95s 253ms/step - loss: 0.5646 - val_loss: 0.5651\n",
            "Epoch 10/100\n",
            "375/375 [==============================] - 97s 258ms/step - loss: 0.5633 - val_loss: 0.5629\n",
            "Epoch 11/100\n",
            "375/375 [==============================] - 95s 253ms/step - loss: 0.5624 - val_loss: 0.5619\n",
            "Epoch 12/100\n",
            "375/375 [==============================] - 95s 253ms/step - loss: 0.5615 - val_loss: 0.5612\n",
            "Epoch 13/100\n",
            "375/375 [==============================] - 95s 253ms/step - loss: 0.5605 - val_loss: 0.5606\n",
            "Epoch 14/100\n",
            "375/375 [==============================] - 95s 253ms/step - loss: 0.5600 - val_loss: 0.5622\n",
            "Epoch 15/100\n",
            "375/375 [==============================] - 95s 253ms/step - loss: 0.5594 - val_loss: 0.5591\n",
            "Epoch 16/100\n",
            "375/375 [==============================] - 95s 253ms/step - loss: 0.5588 - val_loss: 0.5589\n",
            "Epoch 17/100\n",
            "375/375 [==============================] - 95s 253ms/step - loss: 0.5584 - val_loss: 0.5601\n",
            "Epoch 18/100\n",
            "375/375 [==============================] - 95s 253ms/step - loss: 0.5580 - val_loss: 0.5595\n",
            "Epoch 19/100\n",
            "375/375 [==============================] - 95s 253ms/step - loss: 0.5577 - val_loss: 0.5578\n",
            "Epoch 20/100\n",
            "375/375 [==============================] - 95s 253ms/step - loss: 0.5572 - val_loss: 0.5571\n",
            "Epoch 21/100\n",
            "375/375 [==============================] - 95s 253ms/step - loss: 0.5568 - val_loss: 0.5571\n",
            "Epoch 22/100\n",
            "375/375 [==============================] - 95s 253ms/step - loss: 0.5564 - val_loss: 0.5566\n",
            "Epoch 23/100\n",
            "375/375 [==============================] - 95s 253ms/step - loss: 0.5562 - val_loss: 0.5564\n",
            "Epoch 24/100\n",
            "375/375 [==============================] - 95s 253ms/step - loss: 0.5557 - val_loss: 0.5560\n",
            "Epoch 25/100\n",
            "375/375 [==============================] - 95s 253ms/step - loss: 0.5555 - val_loss: 0.5555\n",
            "Epoch 26/100\n",
            "375/375 [==============================] - 95s 253ms/step - loss: 0.5553 - val_loss: 0.5553\n",
            "Epoch 27/100\n",
            "375/375 [==============================] - 95s 253ms/step - loss: 0.5550 - val_loss: 0.5557\n",
            "Epoch 28/100\n",
            "375/375 [==============================] - 95s 253ms/step - loss: 0.5548 - val_loss: 0.5601\n",
            "Epoch 29/100\n",
            "375/375 [==============================] - 95s 253ms/step - loss: 0.5546 - val_loss: 0.5556\n",
            "Epoch 30/100\n",
            "375/375 [==============================] - 95s 253ms/step - loss: 0.5544 - val_loss: 0.5541\n",
            "Epoch 31/100\n",
            "375/375 [==============================] - 95s 253ms/step - loss: 0.5542 - val_loss: 0.5543\n",
            "Epoch 32/100\n",
            "375/375 [==============================] - 95s 253ms/step - loss: 0.5541 - val_loss: 0.5541\n",
            "Epoch 33/100\n",
            "375/375 [==============================] - 97s 257ms/step - loss: 0.5538 - val_loss: 0.5542\n",
            "Epoch 34/100\n",
            "375/375 [==============================] - 95s 253ms/step - loss: 0.5536 - val_loss: 0.5539\n",
            "Epoch 35/100\n",
            "375/375 [==============================] - 95s 253ms/step - loss: 0.5534 - val_loss: 0.5537\n",
            "Epoch 36/100\n",
            "375/375 [==============================] - 95s 253ms/step - loss: 0.5534 - val_loss: 0.5545\n",
            "Epoch 37/100\n",
            "375/375 [==============================] - 95s 253ms/step - loss: 0.5531 - val_loss: 0.5530\n",
            "Epoch 38/100\n",
            "375/375 [==============================] - 97s 258ms/step - loss: 0.5531 - val_loss: 0.5529\n",
            "Epoch 39/100\n",
            "375/375 [==============================] - 95s 253ms/step - loss: 0.5529 - val_loss: 0.5530\n",
            "Epoch 40/100\n",
            "375/375 [==============================] - 96s 257ms/step - loss: 0.5528 - val_loss: 0.5529\n",
            "Epoch 41/100\n",
            "375/375 [==============================] - 95s 253ms/step - loss: 0.5527 - val_loss: 0.5530\n",
            "Epoch 42/100\n",
            "375/375 [==============================] - 95s 253ms/step - loss: 0.5526 - val_loss: 0.5531\n",
            "Epoch 43/100\n",
            "375/375 [==============================] - 95s 253ms/step - loss: 0.5525 - val_loss: 0.5525\n",
            "Epoch 44/100\n",
            "375/375 [==============================] - 95s 253ms/step - loss: 0.5524 - val_loss: 0.5523\n",
            "Epoch 45/100\n",
            "375/375 [==============================] - 95s 253ms/step - loss: 0.5522 - val_loss: 0.5525\n",
            "Epoch 46/100\n",
            "375/375 [==============================] - 97s 257ms/step - loss: 0.5522 - val_loss: 0.5521\n",
            "Epoch 47/100\n",
            "375/375 [==============================] - 95s 253ms/step - loss: 0.5521 - val_loss: 0.5521\n",
            "Epoch 48/100\n",
            "375/375 [==============================] - 95s 253ms/step - loss: 0.5520 - val_loss: 0.5520\n",
            "Epoch 49/100\n",
            "375/375 [==============================] - 95s 253ms/step - loss: 0.5519 - val_loss: 0.5521\n",
            "Epoch 50/100\n",
            "375/375 [==============================] - 95s 253ms/step - loss: 0.5519 - val_loss: 0.5522\n",
            "Epoch 51/100\n",
            "375/375 [==============================] - 95s 253ms/step - loss: 0.5518 - val_loss: 0.5519\n",
            "Epoch 52/100\n",
            "375/375 [==============================] - 95s 253ms/step - loss: 0.5518 - val_loss: 0.5518\n",
            "Epoch 53/100\n",
            "375/375 [==============================] - 95s 253ms/step - loss: 0.5516 - val_loss: 0.5518\n",
            "Epoch 54/100\n",
            "375/375 [==============================] - 95s 253ms/step - loss: 0.5516 - val_loss: 0.5518\n",
            "Epoch 55/100\n",
            "375/375 [==============================] - 95s 253ms/step - loss: 0.5516 - val_loss: 0.5519\n",
            "Epoch 56/100\n",
            "375/375 [==============================] - 95s 253ms/step - loss: 0.5515 - val_loss: 0.5518\n",
            "Epoch 57/100\n",
            "375/375 [==============================] - 95s 253ms/step - loss: 0.5514 - val_loss: 0.5516\n",
            "Epoch 58/100\n",
            "375/375 [==============================] - 95s 253ms/step - loss: 0.5514 - val_loss: 0.5515\n",
            "Epoch 59/100\n",
            "375/375 [==============================] - 95s 253ms/step - loss: 0.5513 - val_loss: 0.5513\n",
            "Epoch 60/100\n",
            "375/375 [==============================] - 95s 253ms/step - loss: 0.5512 - val_loss: 0.5515\n",
            "Epoch 61/100\n",
            "375/375 [==============================] - 97s 257ms/step - loss: 0.5512 - val_loss: 0.5513\n",
            "Epoch 62/100\n",
            "375/375 [==============================] - 95s 253ms/step - loss: 0.5512 - val_loss: 0.5518\n",
            "Epoch 63/100\n",
            "375/375 [==============================] - 95s 253ms/step - loss: 0.5511 - val_loss: 0.5513\n",
            "Epoch 64/100\n",
            "375/375 [==============================] - 95s 253ms/step - loss: 0.5510 - val_loss: 0.5512\n",
            "Epoch 65/100\n",
            "375/375 [==============================] - 95s 253ms/step - loss: 0.5510 - val_loss: 0.5515\n",
            "Epoch 66/100\n",
            "375/375 [==============================] - 95s 253ms/step - loss: 0.5509 - val_loss: 0.5512\n",
            "Epoch 67/100\n",
            "375/375 [==============================] - 95s 253ms/step - loss: 0.5509 - val_loss: 0.5514\n",
            "Epoch 68/100\n",
            "375/375 [==============================] - 95s 253ms/step - loss: 0.5509 - val_loss: 0.5511\n",
            "Epoch 69/100\n",
            "375/375 [==============================] - 95s 253ms/step - loss: 0.5509 - val_loss: 0.5515\n",
            "Epoch 70/100\n",
            "375/375 [==============================] - 95s 253ms/step - loss: 0.5508 - val_loss: 0.5513\n",
            "Epoch 71/100\n",
            "375/375 [==============================] - 95s 253ms/step - loss: 0.5508 - val_loss: 0.5510\n",
            "Epoch 72/100\n",
            "375/375 [==============================] - 95s 253ms/step - loss: 0.5508 - val_loss: 0.5511\n",
            "Epoch 73/100\n",
            "375/375 [==============================] - 95s 253ms/step - loss: 0.5507 - val_loss: 0.5510\n",
            "Epoch 74/100\n",
            "375/375 [==============================] - 95s 253ms/step - loss: 0.5507 - val_loss: 0.5510\n",
            "Epoch 75/100\n",
            "375/375 [==============================] - 95s 253ms/step - loss: 0.5507 - val_loss: 0.5512\n",
            "Epoch 76/100\n",
            "375/375 [==============================] - 95s 253ms/step - loss: 0.5506 - val_loss: 0.5509\n",
            "Epoch 77/100\n",
            "375/375 [==============================] - 95s 253ms/step - loss: 0.5506 - val_loss: 0.5509\n",
            "Epoch 78/100\n",
            "375/375 [==============================] - 95s 253ms/step - loss: 0.5505 - val_loss: 0.5508\n",
            "Epoch 79/100\n",
            "375/375 [==============================] - 95s 253ms/step - loss: 0.5505 - val_loss: 0.5511\n",
            "Epoch 80/100\n",
            "375/375 [==============================] - 95s 253ms/step - loss: 0.5506 - val_loss: 0.5510\n",
            "Epoch 81/100\n",
            "375/375 [==============================] - 95s 253ms/step - loss: 0.5505 - val_loss: 0.5508\n",
            "Epoch 82/100\n",
            "375/375 [==============================] - 95s 253ms/step - loss: 0.5505 - val_loss: 0.5509\n",
            "Epoch 83/100\n",
            "375/375 [==============================] - 95s 253ms/step - loss: 0.5504 - val_loss: 0.5510\n",
            "Epoch 84/100\n",
            "375/375 [==============================] - 95s 253ms/step - loss: 0.5504 - val_loss: 0.5511\n",
            "Epoch 85/100\n",
            "375/375 [==============================] - 95s 253ms/step - loss: 0.5504 - val_loss: 0.5507\n",
            "Epoch 86/100\n",
            "375/375 [==============================] - 95s 253ms/step - loss: 0.5503 - val_loss: 0.5507\n",
            "Epoch 87/100\n",
            "375/375 [==============================] - 95s 253ms/step - loss: 0.5503 - val_loss: 0.5506\n",
            "Epoch 88/100\n",
            "375/375 [==============================] - 95s 253ms/step - loss: 0.5503 - val_loss: 0.5506\n",
            "Epoch 89/100\n",
            "375/375 [==============================] - 95s 253ms/step - loss: 0.5503 - val_loss: 0.5507\n",
            "Epoch 90/100\n",
            "375/375 [==============================] - 95s 253ms/step - loss: 0.5502 - val_loss: 0.5506\n",
            "Epoch 91/100\n",
            "375/375 [==============================] - 95s 253ms/step - loss: 0.5502 - val_loss: 0.5506\n",
            "Epoch 92/100\n",
            "375/375 [==============================] - 95s 253ms/step - loss: 0.5502 - val_loss: 0.5506\n",
            "Epoch 93/100\n",
            "375/375 [==============================] - 95s 253ms/step - loss: 0.5502 - val_loss: 0.5506\n",
            "Epoch 94/100\n",
            "375/375 [==============================] - 95s 253ms/step - loss: 0.5501 - val_loss: 0.5506\n",
            "Epoch 95/100\n",
            "375/375 [==============================] - 95s 253ms/step - loss: 0.5501 - val_loss: 0.5505\n",
            "Epoch 96/100\n",
            "375/375 [==============================] - 95s 253ms/step - loss: 0.5501 - val_loss: 0.5506\n",
            "Epoch 97/100\n",
            "375/375 [==============================] - 95s 253ms/step - loss: 0.5501 - val_loss: 0.5506\n",
            "Epoch 98/100\n",
            "375/375 [==============================] - 95s 253ms/step - loss: 0.5501 - val_loss: 0.5505\n",
            "Epoch 99/100\n",
            "375/375 [==============================] - 95s 253ms/step - loss: 0.5501 - val_loss: 0.5506\n",
            "Epoch 100/100\n",
            "375/375 [==============================] - 95s 253ms/step - loss: 0.5500 - val_loss: 0.5505\n"
          ]
        },
        {
          "output_type": "execute_result",
          "data": {
            "text/plain": [
              "<keras.callbacks.History at 0x7f22208fd390>"
            ]
          },
          "metadata": {},
          "execution_count": 37
        }
      ]
    },
    {
      "cell_type": "code",
      "source": [
        "encoder = Model(input_img, encoded)\n",
        "last_layer = encoder.output\n",
        "\n",
        "x = Flatten()(last_layer)\n",
        "x = Dense(1024, activation = 'relu')(x)\n",
        "x = Dense(512, activation = 'relu')(x)\n",
        "x = Dense(256, activation = 'relu')(x)\n",
        "x = Dense(10, activation='softmax')(x)\n",
        "\n",
        "encoder.trainable = False\n",
        "\n",
        "fine_tune_model = Model(inputs=encoder.input, outputs=x)\n",
        "\n",
        "opt = SGD(learning_rate=0.01, momentum=0.9)\n",
        "fine_tune_model.compile(optimizer=opt, loss='sparse_categorical_crossentropy', metrics=['accuracy'])"
      ],
      "metadata": {
        "id": "H_lRKFWzLOir"
      },
      "execution_count": null,
      "outputs": []
    },
    {
      "cell_type": "code",
      "source": [
        "fine_tune_model.fit(x_train, y_train, epochs=20, validation_data=(x_val, y_val), batch_size=32, verbose=1)"
      ],
      "metadata": {
        "colab": {
          "base_uri": "https://localhost:8080/"
        },
        "id": "5oqhhys7LVlY",
        "outputId": "6b89802d-bb77-4e89-dbe1-16ce6df18ef3"
      },
      "execution_count": null,
      "outputs": [
        {
          "output_type": "stream",
          "name": "stdout",
          "text": [
            "Epoch 1/20\n",
            "1500/1500 [==============================] - 21s 13ms/step - loss: 1.3895 - accuracy: 0.5025 - val_loss: 1.2059 - val_accuracy: 0.5788\n",
            "Epoch 2/20\n",
            "1500/1500 [==============================] - 20s 13ms/step - loss: 0.9627 - accuracy: 0.6584 - val_loss: 1.1364 - val_accuracy: 0.5950\n",
            "Epoch 3/20\n",
            "1500/1500 [==============================] - 20s 13ms/step - loss: 0.6865 - accuracy: 0.7564 - val_loss: 1.2112 - val_accuracy: 0.6005\n",
            "Epoch 4/20\n",
            "1500/1500 [==============================] - 20s 13ms/step - loss: 0.4683 - accuracy: 0.8341 - val_loss: 1.3595 - val_accuracy: 0.5962\n",
            "Epoch 5/20\n",
            "1500/1500 [==============================] - 20s 13ms/step - loss: 0.3202 - accuracy: 0.8866 - val_loss: 1.5373 - val_accuracy: 0.6050\n",
            "Epoch 6/20\n",
            "1500/1500 [==============================] - 20s 13ms/step - loss: 0.2241 - accuracy: 0.9213 - val_loss: 1.7783 - val_accuracy: 0.5877\n",
            "Epoch 7/20\n",
            "1500/1500 [==============================] - 20s 13ms/step - loss: 0.1788 - accuracy: 0.9369 - val_loss: 1.9062 - val_accuracy: 0.6020\n",
            "Epoch 8/20\n",
            "1500/1500 [==============================] - 20s 14ms/step - loss: 0.1427 - accuracy: 0.9501 - val_loss: 2.0574 - val_accuracy: 0.6083\n",
            "Epoch 9/20\n",
            "1500/1500 [==============================] - 20s 14ms/step - loss: 0.1138 - accuracy: 0.9616 - val_loss: 2.1989 - val_accuracy: 0.6077\n",
            "Epoch 10/20\n",
            "1500/1500 [==============================] - 20s 14ms/step - loss: 0.0887 - accuracy: 0.9704 - val_loss: 2.4673 - val_accuracy: 0.5963\n",
            "Epoch 11/20\n",
            "1500/1500 [==============================] - 21s 14ms/step - loss: 0.0788 - accuracy: 0.9745 - val_loss: 2.3746 - val_accuracy: 0.6093\n",
            "Epoch 12/20\n",
            "1500/1500 [==============================] - 21s 14ms/step - loss: 0.0612 - accuracy: 0.9798 - val_loss: 2.5913 - val_accuracy: 0.5878\n",
            "Epoch 13/20\n",
            "1500/1500 [==============================] - 20s 14ms/step - loss: 0.0552 - accuracy: 0.9820 - val_loss: 2.5240 - val_accuracy: 0.6080\n",
            "Epoch 14/20\n",
            "1500/1500 [==============================] - 20s 14ms/step - loss: 0.0440 - accuracy: 0.9855 - val_loss: 2.7459 - val_accuracy: 0.6025\n",
            "Epoch 15/20\n",
            "1500/1500 [==============================] - 20s 14ms/step - loss: 0.0464 - accuracy: 0.9838 - val_loss: 2.8150 - val_accuracy: 0.5935\n",
            "Epoch 16/20\n",
            "1500/1500 [==============================] - 20s 14ms/step - loss: 0.0451 - accuracy: 0.9853 - val_loss: 2.7975 - val_accuracy: 0.6037\n",
            "Epoch 17/20\n",
            "1500/1500 [==============================] - 20s 14ms/step - loss: 0.0417 - accuracy: 0.9862 - val_loss: 2.7784 - val_accuracy: 0.5992\n",
            "Epoch 18/20\n",
            "1500/1500 [==============================] - 21s 14ms/step - loss: 0.0368 - accuracy: 0.9877 - val_loss: 2.9454 - val_accuracy: 0.6063\n",
            "Epoch 19/20\n",
            "1500/1500 [==============================] - 20s 14ms/step - loss: 0.0295 - accuracy: 0.9900 - val_loss: 2.9723 - val_accuracy: 0.6087\n",
            "Epoch 20/20\n",
            "1500/1500 [==============================] - 20s 14ms/step - loss: 0.0240 - accuracy: 0.9920 - val_loss: 3.0525 - val_accuracy: 0.6133\n"
          ]
        },
        {
          "output_type": "execute_result",
          "data": {
            "text/plain": [
              "<keras.callbacks.History at 0x7f2220694950>"
            ]
          },
          "metadata": {},
          "execution_count": 40
        }
      ]
    },
    {
      "cell_type": "code",
      "source": [
        "show_performance(history)"
      ],
      "metadata": {
        "colab": {
          "base_uri": "https://localhost:8080/",
          "height": 573
        },
        "id": "10UQabE1xx3B",
        "outputId": "4c5d7804-2691-44de-dec3-83d0ba56cddb"
      },
      "execution_count": null,
      "outputs": [
        {
          "output_type": "display_data",
          "data": {
            "image/png": "[encoded data removed]",
            "text/plain": [
              "<Figure size 432x288 with 1 Axes>"
            ]
          },
          "metadata": {
            "needs_background": "light"
          }
        },
        {
          "output_type": "display_data",
          "data": {
            "image/png": "[encoded data removed]",
            "text/plain": [
              "<Figure size 432x288 with 1 Axes>"
            ]
          },
          "metadata": {
            "needs_background": "light"
          }
        }
      ]
    },
    {
      "cell_type": "markdown",
      "source": [
        "# Autoencoder with two outputs (Construction loss + Classification task)"
      ],
      "metadata": {
        "id": "aBzN2OqP5zB7"
      }
    },
    {
      "cell_type": "code",
      "source": [
        "input_img = Input(shape=input_shape)\n",
        "\n",
        "x = Conv2D(number_layers, (4, 4), activation='linear', padding='same')(input_img)\n",
        "x = BatchNormalization()(x)\n",
        "x = MaxPooling2D((2, 2), padding='same')(x)\n",
        "\n",
        "x = Conv2D(number_layers*2, (4, 4), activation='linear', padding='same')(x)\n",
        "x = BatchNormalization()(x)\n",
        "x = MaxPooling2D((2, 2), padding='same')(x)\n",
        "\n",
        "x = Conv2D(number_layers*4, (4, 4), activation='linear', padding='same')(x)\n",
        "x = BatchNormalization()(x)\n",
        "x = MaxPooling2D((2, 2), padding='same')(x)\n",
        "\n",
        "x = Conv2D(number_layers*8, (4, 4), activation='linear', padding='same')(x)\n",
        "x = BatchNormalization()(x)\n",
        "\n",
        "encoded = MaxPooling2D((2, 2), padding='same')(x)\n",
        "\n",
        "# at this point the representation is (2, 2, number_layer*8)\n",
        "\n",
        "x = Conv2D(number_layers*8, (4, 4), activation='linear', padding='same')(encoded)\n",
        "x = UpSampling2D((2, 2))(x)\n",
        "x = BatchNormalization()(x)\n",
        "\n",
        "x = Conv2D(number_layers*4, (4, 4), activation='linear', padding='same')(x)\n",
        "x = UpSampling2D((2, 2))(x)\n",
        "x = BatchNormalization()(x)\n",
        "\n",
        "x = Conv2D(number_layers*2, (4, 4), activation='linear', padding='same')(x)\n",
        "x = UpSampling2D((2, 2))(x)\n",
        "x = BatchNormalization()(x)\n",
        "\n",
        "x = Conv2D(number_layers, (4, 4), activation='linear', padding='same')(x)\n",
        "x = UpSampling2D((2, 2))(x)\n",
        "x = BatchNormalization()(x)\n",
        "\n",
        "decoded = Conv2D(3, (4, 4), activation='sigmoid', padding='same', name='decoded')(x)\n",
        "\n",
        "reg_dense = Flatten()(encoded)\n",
        "reg_dense = Dense(64, activation='relu')(reg_dense)\n",
        "reg_dense = Dense(16, activation='relu')(reg_dense) \n",
        "class_output = Dense(10, activation='softmax', name='class_output')(reg_dense)\n",
        "\n",
        "autoencoder = Model(inputs=input_img, outputs=[decoded,class_output])\n",
        "\n",
        "losses ={ 'decoded':keras.losses.MeanSquaredError(),\n",
        "    'class_output':keras.losses.SparseCategoricalCrossentropy()}\n",
        "\n",
        "autoencoder.compile(optimizer='adam', loss=losses, metrics=\"accuracy\")"
      ],
      "metadata": {
        "id": "IRNhtDSp5_vm"
      },
      "execution_count": null,
      "outputs": []
    },
    {
      "cell_type": "code",
      "source": [
        "es = EarlyStopping(monitor='val_class_output_accuracy', mode='max', verbose=1, patience=10)\n",
        "autoencoder.fit(x=x_train, y={'decoded': x_train, 'class_output': y_train},\n",
        "                epochs=100,\n",
        "                batch_size=64,\n",
        "                shuffle=True,\n",
        "                validation_data=(x_val, {'decoded': x_val, 'class_output': y_val}),\n",
        "                callbacks=[TensorBoard(log_dir='/tmp/autoencoder'),es])"
      ],
      "metadata": {
        "id": "BJZl97Vg6zhX"
      },
      "execution_count": null,
      "outputs": []
    },
    {
      "cell_type": "code",
      "source": [
        "encoder = Model(input_img, encoded)\n",
        "last_layer = encoder.output\n",
        "\n",
        "x = Flatten()(last_layer)\n",
        "x = Dense(1024, activation = 'relu')(x)\n",
        "x = Dense(512, activation = 'relu')(x)\n",
        "x = Dense(256, activation = 'relu')(x)\n",
        "x = Dense(10, activation='softmax')(x)\n",
        "\n",
        "encoder.trainable = False\n",
        "\n",
        "fine_tune_model = Model(inputs=encoder.input, outputs=x)\n",
        "\n",
        "opt = SGD(learning_rate=0.01, momentum=0.9)\n",
        "fine_tune_model.compile(optimizer=opt, loss='sparse_categorical_crossentropy', metrics=['accuracy'])"
      ],
      "metadata": {
        "id": "vOJLMhSl05KJ"
      },
      "execution_count": null,
      "outputs": []
    },
    {
      "cell_type": "code",
      "source": [
        "fine_tune_model.summary()"
      ],
      "metadata": {
        "colab": {
          "base_uri": "https://localhost:8080/"
        },
        "id": "1rdpM3WnMl-s",
        "outputId": "8bdd1ed2-b72d-49cb-c1d4-4328e76f6191"
      },
      "execution_count": null,
      "outputs": [
        {
          "output_type": "stream",
          "name": "stdout",
          "text": [
            "Model: \"model_2\"\n",
            "_________________________________________________________________\n",
            " Layer (type)                Output Shape              Param #   \n",
            "=================================================================\n",
            " input_1 (InputLayer)        [(None, 32, 32, 3)]       0         \n",
            "                                                                 \n",
            " conv2d (Conv2D)             (None, 32, 32, 128)       6272      \n",
            "                                                                 \n",
            " batch_normalization (BatchN  (None, 32, 32, 128)      512       \n",
            " ormalization)                                                   \n",
            "                                                                 \n",
            " max_pooling2d (MaxPooling2D  (None, 16, 16, 128)      0         \n",
            " )                                                               \n",
            "                                                                 \n",
            " conv2d_1 (Conv2D)           (None, 16, 16, 256)       524544    \n",
            "                                                                 \n",
            " batch_normalization_1 (Batc  (None, 16, 16, 256)      1024      \n",
            " hNormalization)                                                 \n",
            "                                                                 \n",
            " max_pooling2d_1 (MaxPooling  (None, 8, 8, 256)        0         \n",
            " 2D)                                                             \n",
            "                                                                 \n",
            " conv2d_2 (Conv2D)           (None, 8, 8, 512)         2097664   \n",
            "                                                                 \n",
            " batch_normalization_2 (Batc  (None, 8, 8, 512)        2048      \n",
            " hNormalization)                                                 \n",
            "                                                                 \n",
            " max_pooling2d_2 (MaxPooling  (None, 4, 4, 512)        0         \n",
            " 2D)                                                             \n",
            "                                                                 \n",
            " conv2d_3 (Conv2D)           (None, 4, 4, 1024)        8389632   \n",
            "                                                                 \n",
            " batch_normalization_3 (Batc  (None, 4, 4, 1024)       4096      \n",
            " hNormalization)                                                 \n",
            "                                                                 \n",
            " max_pooling2d_3 (MaxPooling  (None, 2, 2, 1024)       0         \n",
            " 2D)                                                             \n",
            "                                                                 \n",
            " flatten_1 (Flatten)         (None, 4096)              0         \n",
            "                                                                 \n",
            " dense_2 (Dense)             (None, 1024)              4195328   \n",
            "                                                                 \n",
            " dense_3 (Dense)             (None, 512)               524800    \n",
            "                                                                 \n",
            " dense_4 (Dense)             (None, 256)               131328    \n",
            "                                                                 \n",
            " dense_5 (Dense)             (None, 10)                2570      \n",
            "                                                                 \n",
            "=================================================================\n",
            "Total params: 15,879,818\n",
            "Trainable params: 4,854,026\n",
            "Non-trainable params: 11,025,792\n",
            "_________________________________________________________________\n"
          ]
        }
      ]
    },
    {
      "cell_type": "code",
      "source": [
        "fine_tune_model.fit(x_train, y_train, epochs=20, validation_data=(x_val, y_val), batch_size=32, verbose=1)"
      ],
      "metadata": {
        "id": "qZP6KMnuMstd"
      },
      "execution_count": null,
      "outputs": []
    },
    {
      "cell_type": "code",
      "source": [
        "y_pred = fine_tune_model.predict(x_test).argmax(axis=1)\n",
        "\n",
        "print(classification_report(y_test, y_pred))"
      ],
      "metadata": {
        "id": "Plvm502ONeJW"
      },
      "execution_count": null,
      "outputs": []
    },
    {
      "cell_type": "markdown",
      "metadata": {
        "id": "8QDQ8KIDtOgz"
      },
      "source": [
        "# Variational Autoencoder"
      ]
    },
    {
      "cell_type": "code",
      "execution_count": null,
      "metadata": {
        "id": "iN3MO2-EuQx3"
      },
      "outputs": [],
      "source": [
        "class Sampling(layers.Layer):\n",
        "    \"\"\"Uses (z_mean, z_log_var) to sample z, the vector encoding a digit.\"\"\"\n",
        "\n",
        "    def call(self, inputs):\n",
        "        z_mean, z_log_var = inputs\n",
        "        batch = tensorflow.shape(z_mean)[0]\n",
        "        dim = tensorflow.shape(z_mean)[1]\n",
        "        epsilon = tensorflow.keras.backend.random_normal(shape=(batch, dim))\n",
        "        return z_mean + tensorflow.exp(0.5 * z_log_var) * epsilon"
      ]
    },
    {
      "cell_type": "code",
      "source": [
        "class VAE(Model):\n",
        "    def __init__(self, encoder, decoder, **kwargs):\n",
        "        super(VAE, self).__init__(**kwargs)\n",
        "        self.encoder = encoder\n",
        "        self.decoder = decoder\n",
        "        self.total_loss_tracker = keras.metrics.Mean(name=\"total_loss\")\n",
        "        self.reconstruction_loss_tracker = keras.metrics.Mean(\n",
        "            name=\"reconstruction_loss\"\n",
        "        )\n",
        "        self.kl_loss_tracker = keras.metrics.Mean(name=\"kl_loss\")\n",
        "\n",
        "    @property\n",
        "    def metrics(self):\n",
        "        return [\n",
        "            self.total_loss_tracker,\n",
        "            self.reconstruction_loss_tracker,\n",
        "            self.kl_loss_tracker,\n",
        "        ]\n",
        "\n",
        "    def train_step(self, data):\n",
        "        with tensorflow.GradientTape() as tape:\n",
        "            z_mean, z_log_var, z = self.encoder(data)\n",
        "            reconstruction = self.decoder(z)\n",
        "            reconstruction_loss = tensorflow.reduce_mean(\n",
        "                tensorflow.reduce_sum(\n",
        "                    keras.losses.mean_squared_error(data, reconstruction), axis=(1, 2)\n",
        "                )\n",
        "            )\n",
        "            kl_loss = -0.5 * (1 + z_log_var - tensorflow.square(z_mean) - tensorflow.exp(z_log_var))\n",
        "            kl_loss = tensorflow.reduce_mean(tensorflow.reduce_sum(kl_loss, axis=1))\n",
        "            total_loss = reconstruction_loss + kl_loss\n",
        "        grads = tape.gradient(total_loss, self.trainable_weights)\n",
        "        self.optimizer.apply_gradients(zip(grads, self.trainable_weights))\n",
        "        self.total_loss_tracker.update_state(total_loss)\n",
        "        self.reconstruction_loss_tracker.update_state(reconstruction_loss)\n",
        "        self.kl_loss_tracker.update_state(kl_loss)\n",
        "        return {\n",
        "            \"loss\": self.total_loss_tracker.result(),\n",
        "            \"reconstruction_loss\": self.reconstruction_loss_tracker.result(),\n",
        "            \"kl_loss\": self.kl_loss_tracker.result(),\n",
        "        }"
      ],
      "metadata": {
        "id": "OGML0VivXWVv"
      },
      "execution_count": null,
      "outputs": []
    },
    {
      "cell_type": "code",
      "execution_count": null,
      "metadata": {
        "id": "vf1o946AtN4w"
      },
      "outputs": [],
      "source": [
        "encoder_inputs = Input(shape=input_shape)\n",
        "\n",
        "x = Conv2D(number_layers, (4, 4), padding='same')(encoder_inputs)\n",
        "x = LeakyReLU(alpha=0.2)(x)\n",
        "x = BatchNormalization()(x)\n",
        "x = MaxPooling2D((2, 2), padding='same')(x)\n",
        "\n",
        "x = Conv2D(number_layers*2, (4, 4), padding='same')(x)\n",
        "x = LeakyReLU(alpha=0.2)(x)\n",
        "x = BatchNormalization()(x)\n",
        "x = MaxPooling2D((2, 2), padding='same')(x)\n",
        "\n",
        "x = Conv2D(number_layers*4, (4, 4), padding='same')(x)\n",
        "x = LeakyReLU(alpha=0.2)(x)\n",
        "x = BatchNormalization()(x)\n",
        "x = MaxPooling2D((2, 2), padding='same')(x)\n",
        "\n",
        "x = Conv2D(number_layers*8, (4, 4), padding='same')(x)\n",
        "x = LeakyReLU(alpha=0.2)(x)\n",
        "x = BatchNormalization()(x)\n",
        "x = MaxPooling2D((2, 2), padding='same')(x)\n",
        "\n",
        "x = Flatten()(x)\n",
        "x = Dense(256)(x)\n",
        "x = LeakyReLU(alpha=0.2)(x)\n",
        "\n",
        "z_mean = Dense(latent_dim, name=\"z_mean\")(x)\n",
        "z_log_var = Dense(latent_dim, name=\"z_log_var\")(x)\n",
        "z = Sampling(name=\"embedding\")([z_mean, z_log_var])\n",
        "\n",
        "encoder = Model(encoder_inputs, [z_mean, z_log_var, z], name=\"encoder\")"
      ]
    },
    {
      "cell_type": "code",
      "source": [
        "encoder.summary()"
      ],
      "metadata": {
        "id": "cLTwuD7VZV_q",
        "colab": {
          "base_uri": "https://localhost:8080/"
        },
        "outputId": "c6da6af9-005b-437d-8864-06152c4acad1"
      },
      "execution_count": null,
      "outputs": [
        {
          "output_type": "stream",
          "name": "stdout",
          "text": [
            "Model: \"encoder\"\n",
            "__________________________________________________________________________________________________\n",
            " Layer (type)                   Output Shape         Param #     Connected to                     \n",
            "==================================================================================================\n",
            " input_1 (InputLayer)           [(None, 32, 32, 3)]  0           []                               \n",
            "                                                                                                  \n",
            " conv2d_3 (Conv2D)              (None, 32, 32, 128)  6272        ['input_1[0][0]']                \n",
            "                                                                                                  \n",
            " leaky_re_lu (LeakyReLU)        (None, 32, 32, 128)  0           ['conv2d_3[0][0]']               \n",
            "                                                                                                  \n",
            " batch_normalization_3 (BatchNo  (None, 32, 32, 128)  512        ['leaky_re_lu[0][0]']            \n",
            " rmalization)                                                                                     \n",
            "                                                                                                  \n",
            " max_pooling2d_3 (MaxPooling2D)  (None, 16, 16, 128)  0          ['batch_normalization_3[0][0]']  \n",
            "                                                                                                  \n",
            " conv2d_4 (Conv2D)              (None, 16, 16, 256)  524544      ['max_pooling2d_3[0][0]']        \n",
            "                                                                                                  \n",
            " leaky_re_lu_1 (LeakyReLU)      (None, 16, 16, 256)  0           ['conv2d_4[0][0]']               \n",
            "                                                                                                  \n",
            " batch_normalization_4 (BatchNo  (None, 16, 16, 256)  1024       ['leaky_re_lu_1[0][0]']          \n",
            " rmalization)                                                                                     \n",
            "                                                                                                  \n",
            " max_pooling2d_4 (MaxPooling2D)  (None, 8, 8, 256)   0           ['batch_normalization_4[0][0]']  \n",
            "                                                                                                  \n",
            " conv2d_5 (Conv2D)              (None, 8, 8, 512)    2097664     ['max_pooling2d_4[0][0]']        \n",
            "                                                                                                  \n",
            " leaky_re_lu_2 (LeakyReLU)      (None, 8, 8, 512)    0           ['conv2d_5[0][0]']               \n",
            "                                                                                                  \n",
            " batch_normalization_5 (BatchNo  (None, 8, 8, 512)   2048        ['leaky_re_lu_2[0][0]']          \n",
            " rmalization)                                                                                     \n",
            "                                                                                                  \n",
            " max_pooling2d_5 (MaxPooling2D)  (None, 4, 4, 512)   0           ['batch_normalization_5[0][0]']  \n",
            "                                                                                                  \n",
            " conv2d_6 (Conv2D)              (None, 4, 4, 1024)   8389632     ['max_pooling2d_5[0][0]']        \n",
            "                                                                                                  \n",
            " leaky_re_lu_3 (LeakyReLU)      (None, 4, 4, 1024)   0           ['conv2d_6[0][0]']               \n",
            "                                                                                                  \n",
            " batch_normalization_6 (BatchNo  (None, 4, 4, 1024)  4096        ['leaky_re_lu_3[0][0]']          \n",
            " rmalization)                                                                                     \n",
            "                                                                                                  \n",
            " max_pooling2d_6 (MaxPooling2D)  (None, 2, 2, 1024)  0           ['batch_normalization_6[0][0]']  \n",
            "                                                                                                  \n",
            " flatten_1 (Flatten)            (None, 4096)         0           ['max_pooling2d_6[0][0]']        \n",
            "                                                                                                  \n",
            " dense_2 (Dense)                (None, 256)          1048832     ['flatten_1[0][0]']              \n",
            "                                                                                                  \n",
            " leaky_re_lu_4 (LeakyReLU)      (None, 256)          0           ['dense_2[0][0]']                \n",
            "                                                                                                  \n",
            " z_mean (Dense)                 (None, 128)          32896       ['leaky_re_lu_4[0][0]']          \n",
            "                                                                                                  \n",
            " z_log_var (Dense)              (None, 128)          32896       ['leaky_re_lu_4[0][0]']          \n",
            "                                                                                                  \n",
            " embedding (Sampling)           (None, 128)          0           ['z_mean[0][0]',                 \n",
            "                                                                  'z_log_var[0][0]']              \n",
            "                                                                                                  \n",
            "==================================================================================================\n",
            "Total params: 12,140,416\n",
            "Trainable params: 12,136,576\n",
            "Non-trainable params: 3,840\n",
            "__________________________________________________________________________________________________\n"
          ]
        }
      ]
    },
    {
      "cell_type": "code",
      "source": [
        "# at this point the representation is (2, 2, number_layer*8)\n",
        "latent_inputs = Input(shape=(latent_dim,))\n",
        "x = Dense(256, input_dim=latent_dim)(latent_inputs)\n",
        "x = Reshape((2, 2, 64))(x)\n",
        "\n",
        "x = Conv2D(number_layers*8, (4, 4), padding='same')(x)\n",
        "x = LeakyReLU(alpha=0.2)(x)\n",
        "x = UpSampling2D((2, 2))(x)\n",
        "x = BatchNormalization()(x)\n",
        "\n",
        "x = Conv2D(number_layers*4, (4, 4), padding='same')(x)\n",
        "x = LeakyReLU(alpha=0.2)(x)\n",
        "x = UpSampling2D((2, 2))(x)\n",
        "x = BatchNormalization()(x)\n",
        "\n",
        "x = Conv2D(number_layers*2, (4, 4), padding='same')(x)\n",
        "x = LeakyReLU(alpha=0.2)(x)\n",
        "x = UpSampling2D((2, 2))(x)\n",
        "x = BatchNormalization()(x)\n",
        "\n",
        "x = Conv2D(number_layers, (4, 4), padding='same')(x)\n",
        "x = LeakyReLU(alpha=0.2)(x)\n",
        "x = UpSampling2D((2, 2))(x)\n",
        "x = BatchNormalization()(x)\n",
        "\n",
        "decoder_outputs = Conv2D(3, (4, 4), activation='sigmoid', padding='same')(x)\n",
        "\n",
        "decoder = Model(latent_inputs, decoder_outputs, name=\"decoder\")"
      ],
      "metadata": {
        "id": "U-URCkVWX5yI"
      },
      "execution_count": null,
      "outputs": []
    },
    {
      "cell_type": "code",
      "source": [
        "decoder.summary()"
      ],
      "metadata": {
        "id": "hierAz7vZjFI",
        "colab": {
          "base_uri": "https://localhost:8080/"
        },
        "outputId": "6e238301-4e6c-4a19-b201-8db9c17042b9"
      },
      "execution_count": null,
      "outputs": [
        {
          "output_type": "stream",
          "name": "stdout",
          "text": [
            "Model: \"decoder\"\n",
            "_________________________________________________________________\n",
            " Layer (type)                Output Shape              Param #   \n",
            "=================================================================\n",
            " input_2 (InputLayer)        [(None, 128)]             0         \n",
            "                                                                 \n",
            " dense_3 (Dense)             (None, 256)               33024     \n",
            "                                                                 \n",
            " reshape (Reshape)           (None, 2, 2, 64)          0         \n",
            "                                                                 \n",
            " conv2d_7 (Conv2D)           (None, 2, 2, 1024)        1049600   \n",
            "                                                                 \n",
            " leaky_re_lu_5 (LeakyReLU)   (None, 2, 2, 1024)        0         \n",
            "                                                                 \n",
            " up_sampling2d (UpSampling2D  (None, 4, 4, 1024)       0         \n",
            " )                                                               \n",
            "                                                                 \n",
            " batch_normalization_7 (Batc  (None, 4, 4, 1024)       4096      \n",
            " hNormalization)                                                 \n",
            "                                                                 \n",
            " conv2d_8 (Conv2D)           (None, 4, 4, 512)         8389120   \n",
            "                                                                 \n",
            " leaky_re_lu_6 (LeakyReLU)   (None, 4, 4, 512)         0         \n",
            "                                                                 \n",
            " up_sampling2d_1 (UpSampling  (None, 8, 8, 512)        0         \n",
            " 2D)                                                             \n",
            "                                                                 \n",
            " batch_normalization_8 (Batc  (None, 8, 8, 512)        2048      \n",
            " hNormalization)                                                 \n",
            "                                                                 \n",
            " conv2d_9 (Conv2D)           (None, 8, 8, 256)         2097408   \n",
            "                                                                 \n",
            " leaky_re_lu_7 (LeakyReLU)   (None, 8, 8, 256)         0         \n",
            "                                                                 \n",
            " up_sampling2d_2 (UpSampling  (None, 16, 16, 256)      0         \n",
            " 2D)                                                             \n",
            "                                                                 \n",
            " batch_normalization_9 (Batc  (None, 16, 16, 256)      1024      \n",
            " hNormalization)                                                 \n",
            "                                                                 \n",
            " conv2d_10 (Conv2D)          (None, 16, 16, 128)       524416    \n",
            "                                                                 \n",
            " leaky_re_lu_8 (LeakyReLU)   (None, 16, 16, 128)       0         \n",
            "                                                                 \n",
            " up_sampling2d_3 (UpSampling  (None, 32, 32, 128)      0         \n",
            " 2D)                                                             \n",
            "                                                                 \n",
            " batch_normalization_10 (Bat  (None, 32, 32, 128)      512       \n",
            " chNormalization)                                                \n",
            "                                                                 \n",
            " conv2d_11 (Conv2D)          (None, 32, 32, 3)         6147      \n",
            "                                                                 \n",
            "=================================================================\n",
            "Total params: 12,107,395\n",
            "Trainable params: 12,103,555\n",
            "Non-trainable params: 3,840\n",
            "_________________________________________________________________\n"
          ]
        }
      ]
    },
    {
      "cell_type": "code",
      "source": [
        "vae = VAE(encoder, decoder)\n",
        "vae.compile(optimizer=keras.optimizers.Adam())"
      ],
      "metadata": {
        "id": "o_fDVDCJZLj9"
      },
      "execution_count": null,
      "outputs": []
    },
    {
      "cell_type": "code",
      "source": [
        "vae.fit(x_train, epochs=20, batch_size=128)"
      ],
      "metadata": {
        "id": "B5IjmGn_SIDB",
        "colab": {
          "base_uri": "https://localhost:8080/"
        },
        "outputId": "80963c63-a0d8-45b3-9a94-67bca3388936"
      },
      "execution_count": null,
      "outputs": [
        {
          "output_type": "stream",
          "name": "stdout",
          "text": [
            "Epoch 1/20\n",
            "313/313 [==============================] - 156s 471ms/step - loss: 97.2243 - reconstruction_loss: 59.8125 - kl_loss: 3.7775\n",
            "Epoch 2/20\n",
            "313/313 [==============================] - 145s 463ms/step - loss: 41.5787 - reconstruction_loss: 35.1219 - kl_loss: 5.1798\n",
            "Epoch 3/20\n",
            "313/313 [==============================] - 145s 462ms/step - loss: 38.1384 - reconstruction_loss: 31.8251 - kl_loss: 6.1315\n",
            "Epoch 4/20\n",
            "313/313 [==============================] - 145s 463ms/step - loss: 37.1521 - reconstruction_loss: 30.3987 - kl_loss: 6.6856\n",
            "Epoch 5/20\n",
            "313/313 [==============================] - 145s 463ms/step - loss: 37.0395 - reconstruction_loss: 30.1726 - kl_loss: 6.7876\n",
            "Epoch 6/20\n",
            "313/313 [==============================] - 145s 463ms/step - loss: 36.7158 - reconstruction_loss: 29.6838 - kl_loss: 6.9610\n",
            "Epoch 7/20\n",
            "313/313 [==============================] - 145s 463ms/step - loss: 36.3665 - reconstruction_loss: 28.8326 - kl_loss: 7.3207\n",
            "Epoch 8/20\n",
            "313/313 [==============================] - 145s 464ms/step - loss: 35.8600 - reconstruction_loss: 28.1886 - kl_loss: 7.6208\n",
            "Epoch 9/20\n",
            "313/313 [==============================] - 145s 463ms/step - loss: 35.6806 - reconstruction_loss: 27.7390 - kl_loss: 7.8232\n",
            "Epoch 10/20\n",
            "313/313 [==============================] - 145s 464ms/step - loss: 35.4181 - reconstruction_loss: 27.5278 - kl_loss: 7.8887\n",
            "Epoch 11/20\n",
            "110/313 [=========>....................] - ETA: 1:34 - loss: 35.7176 - reconstruction_loss: 27.5854 - kl_loss: 7.8778"
          ]
        }
      ]
    },
    {
      "cell_type": "code",
      "source": [
        "last_layer = vae.encoder.get_layer('embedding').output"
      ],
      "metadata": {
        "id": "QFUul6c11E0O"
      },
      "execution_count": null,
      "outputs": []
    },
    {
      "cell_type": "code",
      "source": [
        "x = Flatten()(last_layer)\n",
        "x = Dense(512, activation = 'relu')(x)\n",
        "x = Dense(256, activation = 'relu')(x)\n",
        "x = Dense(10, activation='softmax')(x)\n",
        "\n",
        "vae.encoder.trainable = False\n",
        "\n",
        "fine_tune_model = Model(inputs=vae.encoder.input, outputs=x)\n",
        "\n",
        "opt = SGD(learning_rate=0.01, momentum=0.9)\n",
        "fine_tune_model.compile(optimizer=opt, loss='categorical_crossentropy', metrics=['accuracy'])"
      ],
      "metadata": {
        "id": "jzZlbMDwAzra"
      },
      "execution_count": null,
      "outputs": []
    },
    {
      "cell_type": "code",
      "source": [
        "fine_tune_model.fit(x_train, y_train, epochs=20, validation_data=(x_val, y_val), batch_size=32, verbose=1)"
      ],
      "metadata": {
        "id": "eTCtK0Y2BNt2"
      },
      "execution_count": null,
      "outputs": []
    }
  ],
  "metadata": {
    "colab": {
      "collapsed_sections": [
        "7t8oZzJSiCzS",
        "o0etRIMD7nJ_",
        "p0C0njukGBse",
        "8QDQ8KIDtOgz"
      ],
      "name": "Autoencoder with CIFAR dataset.ipynb",
      "provenance": []
    },
    "kernelspec": {
      "display_name": "Python 3",
      "name": "python3"
    },
    "language_info": {
      "name": "python"
    },
    "accelerator": "GPU"
  },
  "nbformat": 4,
  "nbformat_minor": 0
}